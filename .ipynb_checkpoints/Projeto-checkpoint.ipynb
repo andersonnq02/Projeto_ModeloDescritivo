{
 "cells": [
  {
   "cell_type": "code",
   "execution_count": 970,
   "metadata": {},
   "outputs": [],
   "source": [
    "#Importe os pacotes\n",
    "import pandas as pd\n",
    "import numpy as np\n",
    "import matplotlib.pyplot as plt\n",
    "import seaborn as sns\n",
    "from sklearn.model_selection import ShuffleSplit, GridSearchCV\n",
    "from sklearn.ensemble import RandomForestClassifier, RandomForestRegressor\n",
    "from sklearn.preprocessing import StandardScaler, OneHotEncoder, MinMaxScaler\n",
    "from sklearn.pipeline import Pipeline\n",
    "from sklearn.compose import ColumnTransformer\n",
    "from sklearn.inspection import permutation_importance\n",
    "from sklearn.metrics import silhouette_samples, silhouette_score, homogeneity_score, completeness_score, v_measure_score, adjusted_rand_score, adjusted_mutual_info_score, fowlkes_mallows_score\n",
    "from scipy.spatial import distance_matrix \n",
    "\n",
    "import matplotlib.cm as cm\n",
    "import plotly.express as px\n",
    "\n",
    "from sklearn.preprocessing import MinMaxScaler\n",
    "from sklearn.decomposition import PCA\n",
    "from sklearn.manifold import TSNE\n",
    "\n",
    "#Clusters\n",
    "from sklearn_extra.cluster import KMedoids\n",
    "from sklearn.cluster import KMeans\n",
    "from sklearn.cluster import AgglomerativeClustering\n",
    "from sklearn.cluster import DBSCAN \n",
    "\n",
    "\n"
   ]
  },
  {
   "cell_type": "code",
   "execution_count": 971,
   "metadata": {},
   "outputs": [],
   "source": [
    "dados = pd.read_csv(\"/home/anderson/Área de Trabalho/Repositorio_GitHub/Mineracao Dados-Prescritivo/Projeto-Absenteeism/Absenteeism_at_work_AAA/Absenteeism_at_work.csv\",sep=';', index_col=\"ID\")"
   ]
  },
  {
   "cell_type": "code",
   "execution_count": 972,
   "metadata": {},
   "outputs": [
    {
     "data": {
      "text/html": [
       "<div>\n",
       "<style scoped>\n",
       "    .dataframe tbody tr th:only-of-type {\n",
       "        vertical-align: middle;\n",
       "    }\n",
       "\n",
       "    .dataframe tbody tr th {\n",
       "        vertical-align: top;\n",
       "    }\n",
       "\n",
       "    .dataframe thead th {\n",
       "        text-align: right;\n",
       "    }\n",
       "</style>\n",
       "<table border=\"1\" class=\"dataframe\">\n",
       "  <thead>\n",
       "    <tr style=\"text-align: right;\">\n",
       "      <th></th>\n",
       "      <th>Reason for absence</th>\n",
       "      <th>Month of absence</th>\n",
       "      <th>Day of the week</th>\n",
       "      <th>Seasons</th>\n",
       "      <th>Transportation expense</th>\n",
       "      <th>Distance from Residence to Work</th>\n",
       "      <th>Service time</th>\n",
       "      <th>Age</th>\n",
       "      <th>Work load Average/day</th>\n",
       "      <th>Hit target</th>\n",
       "      <th>Disciplinary failure</th>\n",
       "      <th>Education</th>\n",
       "      <th>Son</th>\n",
       "      <th>Social drinker</th>\n",
       "      <th>Social smoker</th>\n",
       "      <th>Pet</th>\n",
       "      <th>Weight</th>\n",
       "      <th>Height</th>\n",
       "      <th>Body mass index</th>\n",
       "      <th>Absenteeism time in hours</th>\n",
       "    </tr>\n",
       "    <tr>\n",
       "      <th>ID</th>\n",
       "      <th></th>\n",
       "      <th></th>\n",
       "      <th></th>\n",
       "      <th></th>\n",
       "      <th></th>\n",
       "      <th></th>\n",
       "      <th></th>\n",
       "      <th></th>\n",
       "      <th></th>\n",
       "      <th></th>\n",
       "      <th></th>\n",
       "      <th></th>\n",
       "      <th></th>\n",
       "      <th></th>\n",
       "      <th></th>\n",
       "      <th></th>\n",
       "      <th></th>\n",
       "      <th></th>\n",
       "      <th></th>\n",
       "      <th></th>\n",
       "    </tr>\n",
       "  </thead>\n",
       "  <tbody>\n",
       "    <tr>\n",
       "      <th>11</th>\n",
       "      <td>26</td>\n",
       "      <td>7</td>\n",
       "      <td>3</td>\n",
       "      <td>1</td>\n",
       "      <td>289</td>\n",
       "      <td>36</td>\n",
       "      <td>13</td>\n",
       "      <td>33</td>\n",
       "      <td>239.554</td>\n",
       "      <td>97</td>\n",
       "      <td>0</td>\n",
       "      <td>1</td>\n",
       "      <td>2</td>\n",
       "      <td>1</td>\n",
       "      <td>0</td>\n",
       "      <td>1</td>\n",
       "      <td>90</td>\n",
       "      <td>172</td>\n",
       "      <td>30</td>\n",
       "      <td>4</td>\n",
       "    </tr>\n",
       "    <tr>\n",
       "      <th>36</th>\n",
       "      <td>0</td>\n",
       "      <td>7</td>\n",
       "      <td>3</td>\n",
       "      <td>1</td>\n",
       "      <td>118</td>\n",
       "      <td>13</td>\n",
       "      <td>18</td>\n",
       "      <td>50</td>\n",
       "      <td>239.554</td>\n",
       "      <td>97</td>\n",
       "      <td>1</td>\n",
       "      <td>1</td>\n",
       "      <td>1</td>\n",
       "      <td>1</td>\n",
       "      <td>0</td>\n",
       "      <td>0</td>\n",
       "      <td>98</td>\n",
       "      <td>178</td>\n",
       "      <td>31</td>\n",
       "      <td>0</td>\n",
       "    </tr>\n",
       "    <tr>\n",
       "      <th>3</th>\n",
       "      <td>23</td>\n",
       "      <td>7</td>\n",
       "      <td>4</td>\n",
       "      <td>1</td>\n",
       "      <td>179</td>\n",
       "      <td>51</td>\n",
       "      <td>18</td>\n",
       "      <td>38</td>\n",
       "      <td>239.554</td>\n",
       "      <td>97</td>\n",
       "      <td>0</td>\n",
       "      <td>1</td>\n",
       "      <td>0</td>\n",
       "      <td>1</td>\n",
       "      <td>0</td>\n",
       "      <td>0</td>\n",
       "      <td>89</td>\n",
       "      <td>170</td>\n",
       "      <td>31</td>\n",
       "      <td>2</td>\n",
       "    </tr>\n",
       "    <tr>\n",
       "      <th>7</th>\n",
       "      <td>7</td>\n",
       "      <td>7</td>\n",
       "      <td>5</td>\n",
       "      <td>1</td>\n",
       "      <td>279</td>\n",
       "      <td>5</td>\n",
       "      <td>14</td>\n",
       "      <td>39</td>\n",
       "      <td>239.554</td>\n",
       "      <td>97</td>\n",
       "      <td>0</td>\n",
       "      <td>1</td>\n",
       "      <td>2</td>\n",
       "      <td>1</td>\n",
       "      <td>1</td>\n",
       "      <td>0</td>\n",
       "      <td>68</td>\n",
       "      <td>168</td>\n",
       "      <td>24</td>\n",
       "      <td>4</td>\n",
       "    </tr>\n",
       "    <tr>\n",
       "      <th>11</th>\n",
       "      <td>23</td>\n",
       "      <td>7</td>\n",
       "      <td>5</td>\n",
       "      <td>1</td>\n",
       "      <td>289</td>\n",
       "      <td>36</td>\n",
       "      <td>13</td>\n",
       "      <td>33</td>\n",
       "      <td>239.554</td>\n",
       "      <td>97</td>\n",
       "      <td>0</td>\n",
       "      <td>1</td>\n",
       "      <td>2</td>\n",
       "      <td>1</td>\n",
       "      <td>0</td>\n",
       "      <td>1</td>\n",
       "      <td>90</td>\n",
       "      <td>172</td>\n",
       "      <td>30</td>\n",
       "      <td>2</td>\n",
       "    </tr>\n",
       "  </tbody>\n",
       "</table>\n",
       "</div>"
      ],
      "text/plain": [
       "    Reason for absence  Month of absence  Day of the week  Seasons  \\\n",
       "ID                                                                   \n",
       "11                  26                 7                3        1   \n",
       "36                   0                 7                3        1   \n",
       "3                   23                 7                4        1   \n",
       "7                    7                 7                5        1   \n",
       "11                  23                 7                5        1   \n",
       "\n",
       "    Transportation expense  Distance from Residence to Work  Service time  \\\n",
       "ID                                                                          \n",
       "11                     289                               36            13   \n",
       "36                     118                               13            18   \n",
       "3                      179                               51            18   \n",
       "7                      279                                5            14   \n",
       "11                     289                               36            13   \n",
       "\n",
       "    Age  Work load Average/day   Hit target  Disciplinary failure  Education  \\\n",
       "ID                                                                             \n",
       "11   33                 239.554          97                     0          1   \n",
       "36   50                 239.554          97                     1          1   \n",
       "3    38                 239.554          97                     0          1   \n",
       "7    39                 239.554          97                     0          1   \n",
       "11   33                 239.554          97                     0          1   \n",
       "\n",
       "    Son  Social drinker  Social smoker  Pet  Weight  Height  Body mass index  \\\n",
       "ID                                                                             \n",
       "11    2               1              0    1      90     172               30   \n",
       "36    1               1              0    0      98     178               31   \n",
       "3     0               1              0    0      89     170               31   \n",
       "7     2               1              1    0      68     168               24   \n",
       "11    2               1              0    1      90     172               30   \n",
       "\n",
       "    Absenteeism time in hours  \n",
       "ID                             \n",
       "11                          4  \n",
       "36                          0  \n",
       "3                           2  \n",
       "7                           4  \n",
       "11                          2  "
      ]
     },
     "execution_count": 972,
     "metadata": {},
     "output_type": "execute_result"
    }
   ],
   "source": [
    "dados.head()"
   ]
  },
  {
   "cell_type": "code",
   "execution_count": 973,
   "metadata": {},
   "outputs": [
    {
     "name": "stdout",
     "output_type": "stream",
     "text": [
      "<class 'pandas.core.frame.DataFrame'>\n",
      "Int64Index: 740 entries, 11 to 35\n",
      "Data columns (total 20 columns):\n",
      " #   Column                           Non-Null Count  Dtype  \n",
      "---  ------                           --------------  -----  \n",
      " 0   Reason for absence               740 non-null    int64  \n",
      " 1   Month of absence                 740 non-null    int64  \n",
      " 2   Day of the week                  740 non-null    int64  \n",
      " 3   Seasons                          740 non-null    int64  \n",
      " 4   Transportation expense           740 non-null    int64  \n",
      " 5   Distance from Residence to Work  740 non-null    int64  \n",
      " 6   Service time                     740 non-null    int64  \n",
      " 7   Age                              740 non-null    int64  \n",
      " 8   Work load Average/day            740 non-null    float64\n",
      " 9   Hit target                       740 non-null    int64  \n",
      " 10  Disciplinary failure             740 non-null    int64  \n",
      " 11  Education                        740 non-null    int64  \n",
      " 12  Son                              740 non-null    int64  \n",
      " 13  Social drinker                   740 non-null    int64  \n",
      " 14  Social smoker                    740 non-null    int64  \n",
      " 15  Pet                              740 non-null    int64  \n",
      " 16  Weight                           740 non-null    int64  \n",
      " 17  Height                           740 non-null    int64  \n",
      " 18  Body mass index                  740 non-null    int64  \n",
      " 19  Absenteeism time in hours        740 non-null    int64  \n",
      "dtypes: float64(1), int64(19)\n",
      "memory usage: 121.4 KB\n"
     ]
    }
   ],
   "source": [
    "dados.info()"
   ]
  },
  {
   "cell_type": "code",
   "execution_count": 974,
   "metadata": {},
   "outputs": [
    {
     "data": {
      "text/html": [
       "<div>\n",
       "<style scoped>\n",
       "    .dataframe tbody tr th:only-of-type {\n",
       "        vertical-align: middle;\n",
       "    }\n",
       "\n",
       "    .dataframe tbody tr th {\n",
       "        vertical-align: top;\n",
       "    }\n",
       "\n",
       "    .dataframe thead th {\n",
       "        text-align: right;\n",
       "    }\n",
       "</style>\n",
       "<table border=\"1\" class=\"dataframe\">\n",
       "  <thead>\n",
       "    <tr style=\"text-align: right;\">\n",
       "      <th></th>\n",
       "      <th>Reason for absence</th>\n",
       "      <th>Month of absence</th>\n",
       "      <th>Day of the week</th>\n",
       "      <th>Seasons</th>\n",
       "      <th>Transportation expense</th>\n",
       "      <th>Distance from Residence to Work</th>\n",
       "      <th>Service time</th>\n",
       "      <th>Age</th>\n",
       "      <th>Work load Average/day</th>\n",
       "      <th>Hit target</th>\n",
       "      <th>Disciplinary failure</th>\n",
       "      <th>Education</th>\n",
       "      <th>Son</th>\n",
       "      <th>Social drinker</th>\n",
       "      <th>Social smoker</th>\n",
       "      <th>Pet</th>\n",
       "      <th>Weight</th>\n",
       "      <th>Height</th>\n",
       "      <th>Body mass index</th>\n",
       "      <th>Absenteeism time in hours</th>\n",
       "    </tr>\n",
       "  </thead>\n",
       "  <tbody>\n",
       "    <tr>\n",
       "      <th>count</th>\n",
       "      <td>740.000000</td>\n",
       "      <td>740.000000</td>\n",
       "      <td>740.000000</td>\n",
       "      <td>740.000000</td>\n",
       "      <td>740.000000</td>\n",
       "      <td>740.000000</td>\n",
       "      <td>740.000000</td>\n",
       "      <td>740.000000</td>\n",
       "      <td>740.000000</td>\n",
       "      <td>740.000000</td>\n",
       "      <td>740.000000</td>\n",
       "      <td>740.000000</td>\n",
       "      <td>740.000000</td>\n",
       "      <td>740.000000</td>\n",
       "      <td>740.000000</td>\n",
       "      <td>740.000000</td>\n",
       "      <td>740.000000</td>\n",
       "      <td>740.000000</td>\n",
       "      <td>740.000000</td>\n",
       "      <td>740.000000</td>\n",
       "    </tr>\n",
       "    <tr>\n",
       "      <th>mean</th>\n",
       "      <td>19.216216</td>\n",
       "      <td>6.324324</td>\n",
       "      <td>3.914865</td>\n",
       "      <td>2.544595</td>\n",
       "      <td>221.329730</td>\n",
       "      <td>29.631081</td>\n",
       "      <td>12.554054</td>\n",
       "      <td>36.450000</td>\n",
       "      <td>271.490235</td>\n",
       "      <td>94.587838</td>\n",
       "      <td>0.054054</td>\n",
       "      <td>1.291892</td>\n",
       "      <td>1.018919</td>\n",
       "      <td>0.567568</td>\n",
       "      <td>0.072973</td>\n",
       "      <td>0.745946</td>\n",
       "      <td>79.035135</td>\n",
       "      <td>172.114865</td>\n",
       "      <td>26.677027</td>\n",
       "      <td>6.924324</td>\n",
       "    </tr>\n",
       "    <tr>\n",
       "      <th>std</th>\n",
       "      <td>8.433406</td>\n",
       "      <td>3.436287</td>\n",
       "      <td>1.421675</td>\n",
       "      <td>1.111831</td>\n",
       "      <td>66.952223</td>\n",
       "      <td>14.836788</td>\n",
       "      <td>4.384873</td>\n",
       "      <td>6.478772</td>\n",
       "      <td>39.058116</td>\n",
       "      <td>3.779313</td>\n",
       "      <td>0.226277</td>\n",
       "      <td>0.673238</td>\n",
       "      <td>1.098489</td>\n",
       "      <td>0.495749</td>\n",
       "      <td>0.260268</td>\n",
       "      <td>1.318258</td>\n",
       "      <td>12.883211</td>\n",
       "      <td>6.034995</td>\n",
       "      <td>4.285452</td>\n",
       "      <td>13.330998</td>\n",
       "    </tr>\n",
       "    <tr>\n",
       "      <th>min</th>\n",
       "      <td>0.000000</td>\n",
       "      <td>0.000000</td>\n",
       "      <td>2.000000</td>\n",
       "      <td>1.000000</td>\n",
       "      <td>118.000000</td>\n",
       "      <td>5.000000</td>\n",
       "      <td>1.000000</td>\n",
       "      <td>27.000000</td>\n",
       "      <td>205.917000</td>\n",
       "      <td>81.000000</td>\n",
       "      <td>0.000000</td>\n",
       "      <td>1.000000</td>\n",
       "      <td>0.000000</td>\n",
       "      <td>0.000000</td>\n",
       "      <td>0.000000</td>\n",
       "      <td>0.000000</td>\n",
       "      <td>56.000000</td>\n",
       "      <td>163.000000</td>\n",
       "      <td>19.000000</td>\n",
       "      <td>0.000000</td>\n",
       "    </tr>\n",
       "    <tr>\n",
       "      <th>25%</th>\n",
       "      <td>13.000000</td>\n",
       "      <td>3.000000</td>\n",
       "      <td>3.000000</td>\n",
       "      <td>2.000000</td>\n",
       "      <td>179.000000</td>\n",
       "      <td>16.000000</td>\n",
       "      <td>9.000000</td>\n",
       "      <td>31.000000</td>\n",
       "      <td>244.387000</td>\n",
       "      <td>93.000000</td>\n",
       "      <td>0.000000</td>\n",
       "      <td>1.000000</td>\n",
       "      <td>0.000000</td>\n",
       "      <td>0.000000</td>\n",
       "      <td>0.000000</td>\n",
       "      <td>0.000000</td>\n",
       "      <td>69.000000</td>\n",
       "      <td>169.000000</td>\n",
       "      <td>24.000000</td>\n",
       "      <td>2.000000</td>\n",
       "    </tr>\n",
       "    <tr>\n",
       "      <th>50%</th>\n",
       "      <td>23.000000</td>\n",
       "      <td>6.000000</td>\n",
       "      <td>4.000000</td>\n",
       "      <td>3.000000</td>\n",
       "      <td>225.000000</td>\n",
       "      <td>26.000000</td>\n",
       "      <td>13.000000</td>\n",
       "      <td>37.000000</td>\n",
       "      <td>264.249000</td>\n",
       "      <td>95.000000</td>\n",
       "      <td>0.000000</td>\n",
       "      <td>1.000000</td>\n",
       "      <td>1.000000</td>\n",
       "      <td>1.000000</td>\n",
       "      <td>0.000000</td>\n",
       "      <td>0.000000</td>\n",
       "      <td>83.000000</td>\n",
       "      <td>170.000000</td>\n",
       "      <td>25.000000</td>\n",
       "      <td>3.000000</td>\n",
       "    </tr>\n",
       "    <tr>\n",
       "      <th>75%</th>\n",
       "      <td>26.000000</td>\n",
       "      <td>9.000000</td>\n",
       "      <td>5.000000</td>\n",
       "      <td>4.000000</td>\n",
       "      <td>260.000000</td>\n",
       "      <td>50.000000</td>\n",
       "      <td>16.000000</td>\n",
       "      <td>40.000000</td>\n",
       "      <td>294.217000</td>\n",
       "      <td>97.000000</td>\n",
       "      <td>0.000000</td>\n",
       "      <td>1.000000</td>\n",
       "      <td>2.000000</td>\n",
       "      <td>1.000000</td>\n",
       "      <td>0.000000</td>\n",
       "      <td>1.000000</td>\n",
       "      <td>89.000000</td>\n",
       "      <td>172.000000</td>\n",
       "      <td>31.000000</td>\n",
       "      <td>8.000000</td>\n",
       "    </tr>\n",
       "    <tr>\n",
       "      <th>max</th>\n",
       "      <td>28.000000</td>\n",
       "      <td>12.000000</td>\n",
       "      <td>6.000000</td>\n",
       "      <td>4.000000</td>\n",
       "      <td>388.000000</td>\n",
       "      <td>52.000000</td>\n",
       "      <td>29.000000</td>\n",
       "      <td>58.000000</td>\n",
       "      <td>378.884000</td>\n",
       "      <td>100.000000</td>\n",
       "      <td>1.000000</td>\n",
       "      <td>4.000000</td>\n",
       "      <td>4.000000</td>\n",
       "      <td>1.000000</td>\n",
       "      <td>1.000000</td>\n",
       "      <td>8.000000</td>\n",
       "      <td>108.000000</td>\n",
       "      <td>196.000000</td>\n",
       "      <td>38.000000</td>\n",
       "      <td>120.000000</td>\n",
       "    </tr>\n",
       "  </tbody>\n",
       "</table>\n",
       "</div>"
      ],
      "text/plain": [
       "       Reason for absence  Month of absence  Day of the week     Seasons  \\\n",
       "count          740.000000        740.000000       740.000000  740.000000   \n",
       "mean            19.216216          6.324324         3.914865    2.544595   \n",
       "std              8.433406          3.436287         1.421675    1.111831   \n",
       "min              0.000000          0.000000         2.000000    1.000000   \n",
       "25%             13.000000          3.000000         3.000000    2.000000   \n",
       "50%             23.000000          6.000000         4.000000    3.000000   \n",
       "75%             26.000000          9.000000         5.000000    4.000000   \n",
       "max             28.000000         12.000000         6.000000    4.000000   \n",
       "\n",
       "       Transportation expense  Distance from Residence to Work  Service time  \\\n",
       "count              740.000000                       740.000000    740.000000   \n",
       "mean               221.329730                        29.631081     12.554054   \n",
       "std                 66.952223                        14.836788      4.384873   \n",
       "min                118.000000                         5.000000      1.000000   \n",
       "25%                179.000000                        16.000000      9.000000   \n",
       "50%                225.000000                        26.000000     13.000000   \n",
       "75%                260.000000                        50.000000     16.000000   \n",
       "max                388.000000                        52.000000     29.000000   \n",
       "\n",
       "              Age  Work load Average/day   Hit target  Disciplinary failure  \\\n",
       "count  740.000000              740.000000  740.000000            740.000000   \n",
       "mean    36.450000              271.490235   94.587838              0.054054   \n",
       "std      6.478772               39.058116    3.779313              0.226277   \n",
       "min     27.000000              205.917000   81.000000              0.000000   \n",
       "25%     31.000000              244.387000   93.000000              0.000000   \n",
       "50%     37.000000              264.249000   95.000000              0.000000   \n",
       "75%     40.000000              294.217000   97.000000              0.000000   \n",
       "max     58.000000              378.884000  100.000000              1.000000   \n",
       "\n",
       "        Education         Son  Social drinker  Social smoker         Pet  \\\n",
       "count  740.000000  740.000000      740.000000     740.000000  740.000000   \n",
       "mean     1.291892    1.018919        0.567568       0.072973    0.745946   \n",
       "std      0.673238    1.098489        0.495749       0.260268    1.318258   \n",
       "min      1.000000    0.000000        0.000000       0.000000    0.000000   \n",
       "25%      1.000000    0.000000        0.000000       0.000000    0.000000   \n",
       "50%      1.000000    1.000000        1.000000       0.000000    0.000000   \n",
       "75%      1.000000    2.000000        1.000000       0.000000    1.000000   \n",
       "max      4.000000    4.000000        1.000000       1.000000    8.000000   \n",
       "\n",
       "           Weight      Height  Body mass index  Absenteeism time in hours  \n",
       "count  740.000000  740.000000       740.000000                 740.000000  \n",
       "mean    79.035135  172.114865        26.677027                   6.924324  \n",
       "std     12.883211    6.034995         4.285452                  13.330998  \n",
       "min     56.000000  163.000000        19.000000                   0.000000  \n",
       "25%     69.000000  169.000000        24.000000                   2.000000  \n",
       "50%     83.000000  170.000000        25.000000                   3.000000  \n",
       "75%     89.000000  172.000000        31.000000                   8.000000  \n",
       "max    108.000000  196.000000        38.000000                 120.000000  "
      ]
     },
     "execution_count": 974,
     "metadata": {},
     "output_type": "execute_result"
    }
   ],
   "source": [
    "dados.describe()"
   ]
  },
  {
   "cell_type": "code",
   "execution_count": 975,
   "metadata": {},
   "outputs": [],
   "source": [
    "# Separar colunas categóricas\n",
    "categorical_atts = ['Reason for absence','Month of absence','Day of the week',\n",
    "                     'Seasons','Disciplinary failure', 'Education', 'Social drinker',\n",
    "                     'Social smoker', 'Pet', 'Son']\n",
    "\n",
    "#Separar colunas numéricas\n",
    "numerical_atts = dados.drop(columns=categorical_atts).columns.to_list()"
   ]
  },
  {
   "cell_type": "code",
   "execution_count": 976,
   "metadata": {},
   "outputs": [
    {
     "data": {
      "text/plain": [
       "Reason for absence      28\n",
       "Month of absence        13\n",
       "Day of the week          5\n",
       "Seasons                  4\n",
       "Disciplinary failure     2\n",
       "Education                4\n",
       "Social drinker           2\n",
       "Social smoker            2\n",
       "Pet                      6\n",
       "Son                      5\n",
       "dtype: int64"
      ]
     },
     "execution_count": 976,
     "metadata": {},
     "output_type": "execute_result"
    }
   ],
   "source": [
    "# Número de valores únicos para os atributos categóricos\n",
    "dados[categorical_atts].nunique()\n"
   ]
  },
  {
   "cell_type": "code",
   "execution_count": 977,
   "metadata": {},
   "outputs": [
    {
     "name": "stderr",
     "output_type": "stream",
     "text": [
      "/home/anderson/anaconda3/lib/python3.7/site-packages/seaborn/categorical.py:3695: UserWarning:\n",
      "\n",
      "The `size` parameter has been renamed to `height`; please update your code.\n",
      "\n"
     ]
    },
    {
     "data": {
      "image/png": "[encoded data removed]",
      "text/plain": [
       "<Figure size 1152x288 with 1 Axes>"
      ]
     },
     "metadata": {},
     "output_type": "display_data"
    }
   ],
   "source": [
    "#Distribuição de plotagem da coluna \"Motivo da ausência\". Este atributo, diferente dos demais, compoe\n",
    "#uma lista de subitems relacionados a falta médica, que cada CID compoe o motivo da ausência.\n",
    "sns.set_style(\"whitegrid\");\n",
    "sns.catplot(data=dados, x='Reason for absence', kind= 'count',size=4, aspect=4, palette='muted');"
   ]
  },
  {
   "cell_type": "code",
   "execution_count": 978,
   "metadata": {},
   "outputs": [
    {
     "data": {
      "image/png": "[encoded data removed]",
      "text/plain": [
       "<Figure size 1440x1440 with 10 Axes>"
      ]
     },
     "metadata": {},
     "output_type": "display_data"
    }
   ],
   "source": [
    "#Plotar a distribuição dos atributos numéricos\n",
    "#Esse tipo de plotagem é interessante para conhecer melhor a característica dos atributos,\n",
    "#com objetivo de identificar os picos e frequências dos dados de forma visual.\n",
    "num_df = dados[numerical_atts]\n",
    "plt.figure(figsize=(20,20))\n",
    "for i in range(1, 11):\n",
    "    plt.subplot(4, 3, i)\n",
    "    sns.distplot(num_df[num_df.columns[i-1]],bins=14)"
   ]
  },
  {
   "cell_type": "code",
   "execution_count": 979,
   "metadata": {},
   "outputs": [
    {
     "data": {
      "image/png": "[encoded data removed]",
      "text/plain": [
       "<Figure size 720x432 with 2 Axes>"
      ]
     },
     "metadata": {},
     "output_type": "display_data"
    }
   ],
   "source": [
    "#Matriz de correção dos dados numéricos. Importante para enxergar a similaridade entre os atributos.\n",
    "#Este tem como objetivo de facilitar na redução de dimensionalidade, pois no futuro, pode ocasionar impacto\n",
    "#no processamento, caso aumente de forma exponencial os dados.\n",
    "\n",
    "num_corr = num_df.corr()\n",
    "plt.figure(figsize=(10,6))\n",
    "sns.heatmap(num_corr, annot=True, fmt=\".3f\",vmin=-1, vmax=1, linewidths=.5, cmap = sns.color_palette(\"RdBu\", 100))\n",
    "plt.yticks(rotation=0)\n",
    "plt.show()\n",
    "\n",
    "#Diante análise pode perceber que há algumas colunas como \"Weight\" e \"Body mass index\", há uma alta similaridade\n",
    "#podendo assim se tornar uma única coluna os representando."
   ]
  },
  {
   "cell_type": "code",
   "execution_count": 980,
   "metadata": {},
   "outputs": [
    {
     "data": {
      "image/png": "[encoded data removed]",
      "text/plain": [
       "<Figure size 576x576 with 1 Axes>"
      ]
     },
     "metadata": {},
     "output_type": "display_data"
    }
   ],
   "source": [
    "# exibir no boxlots, para visualização de outliers\n",
    "plt.figure(figsize=(8,8))\n",
    "sns.boxplot(x=\"variable\", y=\"value\", data=pd.melt(num_df))\n",
    "plt.xticks(rotation=90)\n",
    "plt.show()"
   ]
  },
  {
   "cell_type": "code",
   "execution_count": 981,
   "metadata": {},
   "outputs": [],
   "source": [
    "# Identificar os outliers e depois removê-los, pois pode afetar no processamento de clusterização.\n",
    "# Identificando pseudos padrões. Pois o sistema vai ser treinado com instâncias normais, e caso entre algum outro valor\n",
    "# incomum vai ser fácil identificar o valor fora dos grupos de clusters.\n",
    "for num_att in numerical_atts:\n",
    "    # pegando o percentil entre 75% e 25% da variável dos valores das colunas\n",
    "    Q3, Q1 = np.percentile(dados[num_att], [75,25])\n",
    "    MEAN = dados[num_att].mean()\n",
    "    \n",
    "    # Calculando a amplitude interquartil\n",
    "    IQR = Q3 - Q1\n",
    "    \n",
    "    # Cálculo da extream superior e da extream inferior\n",
    "    minimum = Q1 - (IQR*1.5)\n",
    "    maximum = Q3 + (IQR*1.5)\n",
    "    \n",
    "    # Substituindo todos os valores autlier's para média.\n",
    "    data_clean=dados.drop(dados.loc[dados[num_att]< minimum,num_att].index) \n",
    "    data_clean=dados.drop(dados.loc[dados[num_att]> maximum,num_att].index)"
   ]
  },
  {
   "cell_type": "code",
   "execution_count": 982,
   "metadata": {},
   "outputs": [
    {
     "data": {
      "text/plain": [
       "150"
      ]
     },
     "execution_count": 982,
     "metadata": {},
     "output_type": "execute_result"
    }
   ],
   "source": [
    "# redução de 150 valores da amostra de: 740.\n",
    "\n",
    "len(data_clean)"
   ]
  },
  {
   "cell_type": "code",
   "execution_count": 983,
   "metadata": {},
   "outputs": [],
   "source": [
    "#Normalização dos dados para identificar colunas importantes\n",
    "\n",
    "numeric_transformer = MinMaxScaler()\n",
    "\n",
    "# Excluir a variável principal(target), que determina o resultado. Pois a idéia é utilizar\n",
    "# aprendizagem não supervisionada.\n",
    "numerical_atts = [x for x in numerical_atts if x not in ['Absenteeism time in hours']]\n",
    "preprocessor = ColumnTransformer(\n",
    "    transformers=[\n",
    "        ('num', numeric_transformer, numerical_atts),\n",
    "        ('cat', 'passthrough', categorical_atts)\n",
    "    ], remainder='passthrough')\n",
    "data_pp = preprocessor.fit_transform(data_clean)\n"
   ]
  },
  {
   "cell_type": "code",
   "execution_count": 984,
   "metadata": {},
   "outputs": [
    {
     "name": "stdout",
     "output_type": "stream",
     "text": [
      "Os melhores parâmetros são {'n_estimators': 1000} Com uma pontuação de 0.7133\n"
     ]
    }
   ],
   "source": [
    "#Selecionando as colunas\n",
    "\n",
    "# Detectar variáveis importantes)\n",
    "y_original = data_pp[:,-1].reshape(-1, 1)\n",
    "y = np.round(MinMaxScaler((0,2)).fit_transform(y_original)).ravel()\n",
    "X = np.delete(data_pp,-1,1) \n",
    "\n",
    "# validação cruzada com 10 divisões\n",
    "cross_val = ShuffleSplit(n_splits=10, random_state = 42)\n",
    "\n",
    "# definir modelo\n",
    "rf = RandomForestClassifier(random_state = 0,max_features=None,n_jobs=-1)\n",
    "\n",
    "# parameters \n",
    "parameters = {  \n",
    "                \"n_estimators\":[1000],\n",
    "                #'max_depth': list(range(1,11)),\n",
    "                #\"criterion\": [\"gini\",\"entropy\"],\n",
    "                #\"criterion\": [\"mse\",\"mae\"],\n",
    "                #\"class_weight\": [None, \"balanced\"],\n",
    "                #\"max_features\":[\"auto\", None, \"log2\"],\n",
    "                }\n",
    "\n",
    "# Pesquisar no grid por parâmetros\n",
    "grid = GridSearchCV(estimator=rf, param_grid=parameters, cv=cross_val, n_jobs=-1)#multithreading; todos os núcleos são usados\n",
    "grid.fit(X,y)\n",
    "\n",
    "# Imprimir as melhores pontuações\n",
    "print(\"Os melhores parâmetros são %s Com uma pontuação de %0.4f\"\n",
    "      % (grid.best_params_, grid.best_score_))"
   ]
  },
  {
   "cell_type": "code",
   "execution_count": 985,
   "metadata": {},
   "outputs": [
    {
     "data": {
      "image/png": "[encoded data removed]",
      "text/plain": [
       "<Figure size 720x720 with 1 Axes>"
      ]
     },
     "metadata": {},
     "output_type": "display_data"
    }
   ],
   "source": [
    "# Gráfico de pizza\n",
    "atts = numerical_atts+categorical_atts\n",
    "plt.figure(figsize=(10,10))\n",
    "plt.pie(grid.best_estimator_.feature_importances_, labels=atts, shadow=True, startangle=90);"
   ]
  },
  {
   "cell_type": "code",
   "execution_count": 986,
   "metadata": {},
   "outputs": [
    {
     "data": {
      "image/png": "[encoded data removed]",
      "text/plain": [
       "<Figure size 432x288 with 1 Axes>"
      ]
     },
     "metadata": {},
     "output_type": "display_data"
    },
    {
     "name": "stdout",
     "output_type": "stream",
     "text": [
      "Reason for absence 0.305 +/- 0.021\n",
      "Day of the week 0.049 +/- 0.013\n",
      "Work load Average/day  0.035 +/- 0.009\n",
      "Body mass index 0.033 +/- 0.007\n",
      "Hit target 0.021 +/- 0.006\n",
      "Seasons  0.009 +/- 0.004\n",
      "Month of absence 0.007 +/- 0.002\n",
      "Transportation expense 0.007 +/- 0.000\n",
      "Age      0.003 +/- 0.003\n",
      "Disciplinary failure 0.000 +/- 0.000\n",
      "Pet      0.000 +/- 0.000\n",
      "Education 0.000 +/- 0.000\n",
      "Height   0.000 +/- 0.000\n",
      "Weight   0.000 +/- 0.000\n",
      "Social drinker 0.000 +/- 0.000\n",
      "Social smoker 0.000 +/- 0.000\n",
      "Service time 0.000 +/- 0.000\n",
      "Distance from Residence to Work 0.000 +/- 0.000\n",
      "Son      0.000 +/- 0.000\n"
     ]
    }
   ],
   "source": [
    "#importância da permutação com classificador de RF\n",
    "atts_arr = np.array(atts)\n",
    "result = permutation_importance(grid, X, y, n_repeats=10,\n",
    "                                random_state=42, n_jobs=-1)\n",
    "sorted_idx = result.importances_mean.argsort()\n",
    "\n",
    "fig, ax = plt.subplots()\n",
    "ax.boxplot(result.importances[sorted_idx].T,\n",
    "           vert=False, labels=atts_arr[sorted_idx])\n",
    "ax.set_title(\"Importância de permutação (train set)\")\n",
    "fig.tight_layout()\n",
    "plt.show()\n",
    "\n",
    "for i in result.importances_mean.argsort()[::-1]:\n",
    "     print(f\"{atts_arr[i]:<8} \"\n",
    "           f\"{result.importances_mean[i]:.3f}\"\n",
    "           f\" +/- {result.importances_std[i]:.3f}\")"
   ]
  },
  {
   "cell_type": "code",
   "execution_count": 987,
   "metadata": {},
   "outputs": [],
   "source": [
    "# Selecionando os atributos mais relevantes.\n",
    "selected_atts = ['Reason for absence', 'Day of the week', 'Work load Average/day ','Body mass index','Hit target', \n",
    "                     'Seasons', 'Month of absence', 'Transportation expense', 'Age']\n",
    "\n",
    "selected_atts_idx=np.where(np.isin(atts,selected_atts))[0]\n",
    "X_selected = X[:,selected_atts_idx]\n",
    "\n",
    "\n",
    "# Definindo dataset para trabalhar no meu modelo, considerando as variáveis mais relevantes.\n",
    "# class = Tempo de ausência em horas.\n",
    "\n",
    "#Objetivo é encontrar clusteres referente aos grupos de horas faltantes pelos funcionários."
   ]
  },
  {
   "cell_type": "code",
   "execution_count": 988,
   "metadata": {},
   "outputs": [
    {
     "data": {
      "text/html": [
       "<div>\n",
       "<style scoped>\n",
       "    .dataframe tbody tr th:only-of-type {\n",
       "        vertical-align: middle;\n",
       "    }\n",
       "\n",
       "    .dataframe tbody tr th {\n",
       "        vertical-align: top;\n",
       "    }\n",
       "\n",
       "    .dataframe thead th {\n",
       "        text-align: right;\n",
       "    }\n",
       "</style>\n",
       "<table border=\"1\" class=\"dataframe\">\n",
       "  <thead>\n",
       "    <tr style=\"text-align: right;\">\n",
       "      <th></th>\n",
       "      <th>motivo_ausencia</th>\n",
       "      <th>dia_da_semana</th>\n",
       "      <th>carga_trabalho_media_dia</th>\n",
       "      <th>indice_massa_corporea</th>\n",
       "      <th>atingindo_alvo</th>\n",
       "      <th>estacoes_ano</th>\n",
       "      <th>mes_ausencia</th>\n",
       "      <th>despesas_transporte</th>\n",
       "      <th>ano</th>\n",
       "    </tr>\n",
       "  </thead>\n",
       "  <tbody>\n",
       "    <tr>\n",
       "      <th>0</th>\n",
       "      <td>0.596296</td>\n",
       "      <td>0.461538</td>\n",
       "      <td>0.194471</td>\n",
       "      <td>0.842105</td>\n",
       "      <td>0.176471</td>\n",
       "      <td>7.0</td>\n",
       "      <td>7.0</td>\n",
       "      <td>5.0</td>\n",
       "      <td>1.0</td>\n",
       "    </tr>\n",
       "    <tr>\n",
       "      <th>1</th>\n",
       "      <td>0.433333</td>\n",
       "      <td>0.384615</td>\n",
       "      <td>0.194471</td>\n",
       "      <td>0.842105</td>\n",
       "      <td>0.470588</td>\n",
       "      <td>22.0</td>\n",
       "      <td>7.0</td>\n",
       "      <td>2.0</td>\n",
       "      <td>1.0</td>\n",
       "    </tr>\n",
       "    <tr>\n",
       "      <th>2</th>\n",
       "      <td>0.262963</td>\n",
       "      <td>0.230769</td>\n",
       "      <td>0.194471</td>\n",
       "      <td>0.842105</td>\n",
       "      <td>0.235294</td>\n",
       "      <td>11.0</td>\n",
       "      <td>7.0</td>\n",
       "      <td>5.0</td>\n",
       "      <td>1.0</td>\n",
       "    </tr>\n",
       "    <tr>\n",
       "      <th>3</th>\n",
       "      <td>0.481481</td>\n",
       "      <td>0.769231</td>\n",
       "      <td>0.000000</td>\n",
       "      <td>0.578947</td>\n",
       "      <td>0.647059</td>\n",
       "      <td>23.0</td>\n",
       "      <td>8.0</td>\n",
       "      <td>4.0</td>\n",
       "      <td>1.0</td>\n",
       "    </tr>\n",
       "    <tr>\n",
       "      <th>4</th>\n",
       "      <td>0.144444</td>\n",
       "      <td>0.076923</td>\n",
       "      <td>0.000000</td>\n",
       "      <td>0.578947</td>\n",
       "      <td>0.058824</td>\n",
       "      <td>28.0</td>\n",
       "      <td>8.0</td>\n",
       "      <td>4.0</td>\n",
       "      <td>1.0</td>\n",
       "    </tr>\n",
       "  </tbody>\n",
       "</table>\n",
       "</div>"
      ],
      "text/plain": [
       "   motivo_ausencia  dia_da_semana  carga_trabalho_media_dia  \\\n",
       "0         0.596296       0.461538                  0.194471   \n",
       "1         0.433333       0.384615                  0.194471   \n",
       "2         0.262963       0.230769                  0.194471   \n",
       "3         0.481481       0.769231                  0.000000   \n",
       "4         0.144444       0.076923                  0.000000   \n",
       "\n",
       "   indice_massa_corporea  atingindo_alvo  estacoes_ano  mes_ausencia  \\\n",
       "0               0.842105        0.176471           7.0           7.0   \n",
       "1               0.842105        0.470588          22.0           7.0   \n",
       "2               0.842105        0.235294          11.0           7.0   \n",
       "3               0.578947        0.647059          23.0           8.0   \n",
       "4               0.578947        0.058824          28.0           8.0   \n",
       "\n",
       "   despesas_transporte  ano  \n",
       "0                  5.0  1.0  \n",
       "1                  2.0  1.0  \n",
       "2                  5.0  1.0  \n",
       "3                  4.0  1.0  \n",
       "4                  4.0  1.0  "
      ]
     },
     "execution_count": 988,
     "metadata": {},
     "output_type": "execute_result"
    }
   ],
   "source": [
    "#Capturando as features\n",
    "dados_new = pd.DataFrame(X_selected)\n",
    "\n",
    "dados_new.rename(columns={0:'motivo_ausencia'\n",
    "                          , 1:'dia_da_semana'\n",
    "                          , 2:'carga_trabalho_media_dia'\n",
    "                          , 3:'indice_massa_corporea'\n",
    "                          , 4:'atingindo_alvo'\n",
    "                          , 5:'estacoes_ano'\n",
    "                          , 6:'mes_ausencia'\n",
    "                          , 7:'despesas_transporte'\n",
    "                          , 8:'ano'}, inplace=True);\n",
    "dados_new.head()\n",
    "\n"
   ]
  },
  {
   "cell_type": "code",
   "execution_count": 989,
   "metadata": {},
   "outputs": [
    {
     "data": {
      "text/html": [
       "<div>\n",
       "<style scoped>\n",
       "    .dataframe tbody tr th:only-of-type {\n",
       "        vertical-align: middle;\n",
       "    }\n",
       "\n",
       "    .dataframe tbody tr th {\n",
       "        vertical-align: top;\n",
       "    }\n",
       "\n",
       "    .dataframe thead th {\n",
       "        text-align: right;\n",
       "    }\n",
       "</style>\n",
       "<table border=\"1\" class=\"dataframe\">\n",
       "  <thead>\n",
       "    <tr style=\"text-align: right;\">\n",
       "      <th></th>\n",
       "      <th>motivo_ausencia</th>\n",
       "      <th>dia_da_semana</th>\n",
       "      <th>carga_trabalho_media_dia</th>\n",
       "      <th>indice_massa_corporea</th>\n",
       "      <th>atingindo_alvo</th>\n",
       "      <th>estacoes_ano</th>\n",
       "      <th>mes_ausencia</th>\n",
       "      <th>despesas_transporte</th>\n",
       "      <th>ano</th>\n",
       "    </tr>\n",
       "  </thead>\n",
       "  <tbody>\n",
       "    <tr>\n",
       "      <th>0</th>\n",
       "      <td>0.596296</td>\n",
       "      <td>0.461538</td>\n",
       "      <td>0.194471</td>\n",
       "      <td>0.842105</td>\n",
       "      <td>0.176471</td>\n",
       "      <td>0.250000</td>\n",
       "      <td>0.583333</td>\n",
       "      <td>0.75</td>\n",
       "      <td>0.000000</td>\n",
       "    </tr>\n",
       "    <tr>\n",
       "      <th>1</th>\n",
       "      <td>0.433333</td>\n",
       "      <td>0.384615</td>\n",
       "      <td>0.194471</td>\n",
       "      <td>0.842105</td>\n",
       "      <td>0.470588</td>\n",
       "      <td>0.785714</td>\n",
       "      <td>0.583333</td>\n",
       "      <td>0.00</td>\n",
       "      <td>0.000000</td>\n",
       "    </tr>\n",
       "    <tr>\n",
       "      <th>2</th>\n",
       "      <td>0.262963</td>\n",
       "      <td>0.230769</td>\n",
       "      <td>0.194471</td>\n",
       "      <td>0.842105</td>\n",
       "      <td>0.235294</td>\n",
       "      <td>0.392857</td>\n",
       "      <td>0.583333</td>\n",
       "      <td>0.75</td>\n",
       "      <td>0.000000</td>\n",
       "    </tr>\n",
       "    <tr>\n",
       "      <th>3</th>\n",
       "      <td>0.481481</td>\n",
       "      <td>0.769231</td>\n",
       "      <td>0.000000</td>\n",
       "      <td>0.578947</td>\n",
       "      <td>0.647059</td>\n",
       "      <td>0.821429</td>\n",
       "      <td>0.666667</td>\n",
       "      <td>0.50</td>\n",
       "      <td>0.000000</td>\n",
       "    </tr>\n",
       "    <tr>\n",
       "      <th>4</th>\n",
       "      <td>0.144444</td>\n",
       "      <td>0.076923</td>\n",
       "      <td>0.000000</td>\n",
       "      <td>0.578947</td>\n",
       "      <td>0.058824</td>\n",
       "      <td>1.000000</td>\n",
       "      <td>0.666667</td>\n",
       "      <td>0.50</td>\n",
       "      <td>0.000000</td>\n",
       "    </tr>\n",
       "    <tr>\n",
       "      <th>...</th>\n",
       "      <td>...</td>\n",
       "      <td>...</td>\n",
       "      <td>...</td>\n",
       "      <td>...</td>\n",
       "      <td>...</td>\n",
       "      <td>...</td>\n",
       "      <td>...</td>\n",
       "      <td>...</td>\n",
       "      <td>...</td>\n",
       "    </tr>\n",
       "    <tr>\n",
       "      <th>145</th>\n",
       "      <td>0.262963</td>\n",
       "      <td>0.230769</td>\n",
       "      <td>0.339296</td>\n",
       "      <td>0.631579</td>\n",
       "      <td>0.235294</td>\n",
       "      <td>0.785714</td>\n",
       "      <td>0.583333</td>\n",
       "      <td>0.25</td>\n",
       "      <td>0.000000</td>\n",
       "    </tr>\n",
       "    <tr>\n",
       "      <th>146</th>\n",
       "      <td>0.433333</td>\n",
       "      <td>0.384615</td>\n",
       "      <td>0.339296</td>\n",
       "      <td>0.631579</td>\n",
       "      <td>0.470588</td>\n",
       "      <td>0.392857</td>\n",
       "      <td>0.583333</td>\n",
       "      <td>0.25</td>\n",
       "      <td>0.000000</td>\n",
       "    </tr>\n",
       "    <tr>\n",
       "      <th>147</th>\n",
       "      <td>0.000000</td>\n",
       "      <td>0.500000</td>\n",
       "      <td>0.377540</td>\n",
       "      <td>0.736842</td>\n",
       "      <td>0.764706</td>\n",
       "      <td>0.000000</td>\n",
       "      <td>0.000000</td>\n",
       "      <td>0.25</td>\n",
       "      <td>0.000000</td>\n",
       "    </tr>\n",
       "    <tr>\n",
       "      <th>148</th>\n",
       "      <td>0.418519</td>\n",
       "      <td>0.461538</td>\n",
       "      <td>0.377540</td>\n",
       "      <td>0.736842</td>\n",
       "      <td>0.823529</td>\n",
       "      <td>0.000000</td>\n",
       "      <td>0.000000</td>\n",
       "      <td>0.50</td>\n",
       "      <td>0.333333</td>\n",
       "    </tr>\n",
       "    <tr>\n",
       "      <th>149</th>\n",
       "      <td>0.225926</td>\n",
       "      <td>1.000000</td>\n",
       "      <td>0.377540</td>\n",
       "      <td>0.736842</td>\n",
       "      <td>0.235294</td>\n",
       "      <td>0.000000</td>\n",
       "      <td>0.000000</td>\n",
       "      <td>1.00</td>\n",
       "      <td>0.666667</td>\n",
       "    </tr>\n",
       "  </tbody>\n",
       "</table>\n",
       "<p>150 rows × 9 columns</p>\n",
       "</div>"
      ],
      "text/plain": [
       "     motivo_ausencia  dia_da_semana  carga_trabalho_media_dia  \\\n",
       "0           0.596296       0.461538                  0.194471   \n",
       "1           0.433333       0.384615                  0.194471   \n",
       "2           0.262963       0.230769                  0.194471   \n",
       "3           0.481481       0.769231                  0.000000   \n",
       "4           0.144444       0.076923                  0.000000   \n",
       "..               ...            ...                       ...   \n",
       "145         0.262963       0.230769                  0.339296   \n",
       "146         0.433333       0.384615                  0.339296   \n",
       "147         0.000000       0.500000                  0.377540   \n",
       "148         0.418519       0.461538                  0.377540   \n",
       "149         0.225926       1.000000                  0.377540   \n",
       "\n",
       "     indice_massa_corporea  atingindo_alvo  estacoes_ano  mes_ausencia  \\\n",
       "0                 0.842105        0.176471      0.250000      0.583333   \n",
       "1                 0.842105        0.470588      0.785714      0.583333   \n",
       "2                 0.842105        0.235294      0.392857      0.583333   \n",
       "3                 0.578947        0.647059      0.821429      0.666667   \n",
       "4                 0.578947        0.058824      1.000000      0.666667   \n",
       "..                     ...             ...           ...           ...   \n",
       "145               0.631579        0.235294      0.785714      0.583333   \n",
       "146               0.631579        0.470588      0.392857      0.583333   \n",
       "147               0.736842        0.764706      0.000000      0.000000   \n",
       "148               0.736842        0.823529      0.000000      0.000000   \n",
       "149               0.736842        0.235294      0.000000      0.000000   \n",
       "\n",
       "     despesas_transporte       ano  \n",
       "0                   0.75  0.000000  \n",
       "1                   0.00  0.000000  \n",
       "2                   0.75  0.000000  \n",
       "3                   0.50  0.000000  \n",
       "4                   0.50  0.000000  \n",
       "..                   ...       ...  \n",
       "145                 0.25  0.000000  \n",
       "146                 0.25  0.000000  \n",
       "147                 0.25  0.000000  \n",
       "148                 0.50  0.333333  \n",
       "149                 1.00  0.666667  \n",
       "\n",
       "[150 rows x 9 columns]"
      ]
     },
     "execution_count": 989,
     "metadata": {},
     "output_type": "execute_result"
    }
   ],
   "source": [
    "#Normalização dos dados do novo dataset.\n",
    "scaler = MinMaxScaler()\n",
    "scaler.fit(X_selected)\n",
    "dados_normalizados = scaler.transform(X_selected)\n",
    "\n",
    "dados_normalizados_df = pd.DataFrame(dados_normalizados)\n",
    "dados_normalizados_df.columns = dados_new.columns\n",
    "dados_normalizados_df.describe()\n",
    "\n",
    "dados_normalizados_df"
   ]
  },
  {
   "cell_type": "code",
   "execution_count": 990,
   "metadata": {},
   "outputs": [],
   "source": [
    "################################################################################################################\n",
    "################################### APLICANDO ALGORITMOS DE CLUSTERS ###########################################\n",
    "################################################################################################################"
   ]
  },
  {
   "cell_type": "code",
   "execution_count": 991,
   "metadata": {},
   "outputs": [],
   "source": [
    "#================================================== KMEANS ====================================================="
   ]
  },
  {
   "cell_type": "code",
   "execution_count": 992,
   "metadata": {},
   "outputs": [
    {
     "data": {
      "image/png": "[encoded data removed]",
      "text/plain": [
       "<Figure size 864x576 with 1 Axes>"
      ]
     },
     "metadata": {},
     "output_type": "display_data"
    }
   ],
   "source": [
    "#Executando o K-means com um range de 10 clusters para análise com método elbow\n",
    "clusters = []\n",
    "\n",
    "for i in range(1, 11):\n",
    "    km = KMeans(n_clusters=i).fit(X_selected)\n",
    "    clusters.append(km.inertia_)\n",
    "    \n",
    "fig, ax = plt.subplots(figsize=(12, 8))\n",
    "sns.lineplot(x=list(range(1, 11)), y=clusters, ax=ax)\n",
    "ax.set_title('Searching for Elbow')\n",
    "ax.set_xlabel('Clusters')\n",
    "ax.set_ylabel('Inertia')\n",
    "\n",
    "# Annotate arrow\n",
    "ax.annotate('Possible Elbow Point', xy=(4, clusters[3]), xytext=(4, clusters[3]+1000), xycoords='data',          \n",
    "             arrowprops=dict(arrowstyle='->', connectionstyle='arc3', color='blue', lw=2))\n",
    "\n",
    "ax.annotate('Possible Elbow Point', xy=(3,clusters[2] ), xytext=(3, clusters[2]+1000), xycoords='data',          \n",
    "             arrowprops=dict(arrowstyle='->', connectionstyle='arc3', color='blue', lw=2))\n",
    "\n",
    "ax.annotate('Possible Elbow Point', xy=(2,clusters[1] ), xytext=(2, clusters[1]+1000), xycoords='data',          \n",
    "             arrowprops=dict(arrowstyle='->', connectionstyle='arc3', color='blue', lw=2))\n",
    "\n",
    "plt.show()"
   ]
  },
  {
   "cell_type": "code",
   "execution_count": 993,
   "metadata": {},
   "outputs": [
    {
     "data": {
      "application/vnd.plotly.v1+json": {
       "config": {
        "plotlyServerURL": "https://plot.ly"
       },
       "data": [
        {
         "hovertemplate": "color=g<br>x=%{x}<br>y=%{y}<br>z=%{z}<extra></extra>",
         "legendgroup": "g",
         "marker": {
          "color": "#636efa",
          "symbol": "circle"
         },
         "mode": "markers",
         "name": "g",
         "scene": "scene",
         "showlegend": true,
         "type": "scatter3d",
         "x": [
          28.30108642578125,
          26.29762077331543,
          5.728934288024902,
          -26.327735900878906,
          -113.40421295166016,
          40.81440734863281,
          106.77649688720703,
          -96.20701599121094,
          78.37213134765625,
          99.11095428466797,
          55.45760726928711,
          10.259550094604492,
          1.07832932472229,
          10.608201026916504,
          -103.80780029296875,
          11.391904830932617,
          -74.07640838623047,
          -0.4531852602958679,
          -38.44204330444336,
          -40.91567611694336,
          -41.78425598144531,
          -17.94430923461914,
          -8.155787467956543,
          -13.997639656066895,
          -32.649505615234375,
          -40.0865478515625,
          -48.55593490600586,
          11.686193466186523,
          14.619705200195312,
          -20.973346710205078,
          -40.19692611694336,
          -14.993268966674805,
          101.69952392578125,
          55.16452407836914,
          13.237298011779785,
          29.928075790405273,
          -59.73965072631836,
          28.610366821289062,
          -21.316509246826172,
          -43.03049850463867,
          -28.006072998046875,
          -29.29384422302246,
          -51.19636917114258,
          -51.052040100097656,
          -16.610363006591797,
          -15.534259796142578,
          -33.82715606689453,
          107.01024627685547,
          -42.53006362915039,
          125.0731430053711,
          3.0444579124450684,
          59.57521438598633,
          54.41204833984375,
          -105.51504516601562,
          -4.7748308181762695,
          26.932554244995117,
          -84.8836669921875,
          -68.91437530517578,
          10.017970085144043,
          -89.5202865600586,
          8.823824882507324,
          -14.398103713989258
         ],
         "y": [
          -29.335941314697266,
          -46.43716812133789,
          -61.27741241455078,
          102.18022918701172,
          -6.468031883239746,
          78.68073272705078,
          -24.010103225708008,
          21.411666870117188,
          -23.37006378173828,
          -32.5443115234375,
          -1.1811611652374268,
          49.92769241333008,
          -7.184613227844238,
          109.03203582763672,
          106.73690795898438,
          83.64488220214844,
          -125.27983856201172,
          -62.25715255737305,
          -13.213740348815918,
          95.6641616821289,
          117.56416320800781,
          105.63690185546875,
          57.14522171020508,
          39.05543518066406,
          69.55807495117188,
          41.7813835144043,
          79.26622009277344,
          81.1339340209961,
          45.86741638183594,
          71.80307006835938,
          -100.20623779296875,
          -108.08892059326172,
          15.41886043548584,
          -149.22537231445312,
          89.33545684814453,
          -14.662388801574707,
          130.75039672851562,
          -25.072525024414062,
          -21.445436477661133,
          2.949150800704956,
          -71.90929412841797,
          -107.25515747070312,
          -25.66864013671875,
          -69.02371215820312,
          20.77647590637207,
          -5.767638683319092,
          46.00465774536133,
          3.056763172149658,
          75.09690856933594,
          32.961490631103516,
          -141.28150939941406,
          21.030988693237305,
          1.5292048454284668,
          122.4852523803711,
          -29.10240936279297,
          -6.781584739685059,
          131.8226318359375,
          106.84310150146484,
          -41.2825813293457,
          119.9304428100586,
          117.12848663330078,
          74.33403015136719
         ],
         "z": [
          139.7051544189453,
          101.4423828125,
          117.693115234375,
          27.116313934326172,
          49.24877166748047,
          111.3680648803711,
          87.48560333251953,
          23.827926635742188,
          81.76483154296875,
          64.19390106201172,
          133.9805450439453,
          157.01251220703125,
          120.75043487548828,
          100.29840850830078,
          48.92349624633789,
          94.57202911376953,
          -80.5418930053711,
          94.0846939086914,
          114.57267761230469,
          76.70952606201172,
          56.434852600097656,
          63.74533462524414,
          61.805335998535156,
          35.36777877807617,
          57.66705322265625,
          46.85639190673828,
          35.39881896972656,
          24.780305862426758,
          28.21385955810547,
          29.814125061035156,
          80.64258575439453,
          82.3208999633789,
          73.35597229003906,
          -71.5427474975586,
          128.42897033691406,
          36.25991439819336,
          -1.6793709993362427,
          70.19519805908203,
          96.73627471923828,
          60.941184997558594,
          105.37286376953125,
          111.84712219238281,
          81.8615493774414,
          86.0837173461914,
          61.41954803466797,
          -151.1620330810547,
          74.165771484375,
          37.357666015625,
          122.59669494628906,
          38.043914794921875,
          -9.579055786132812,
          90.54266357421875,
          64.97332763671875,
          29.542829513549805,
          52.877933502197266,
          126.49319458007812,
          50.4751091003418,
          4.758296489715576,
          75.63468170166016,
          94.78876495361328,
          -102.22391510009766,
          129.1007843017578
         ]
        },
        {
         "hovertemplate": "color=b<br>x=%{x}<br>y=%{y}<br>z=%{z}<extra></extra>",
         "legendgroup": "b",
         "marker": {
          "color": "#EF553B",
          "symbol": "circle"
         },
         "mode": "markers",
         "name": "b",
         "scene": "scene",
         "showlegend": true,
         "type": "scatter3d",
         "x": [
          18.294273376464844,
          4.381782054901123,
          -48.64336013793945,
          70.91040802001953,
          -37.861572265625,
          61.56956100463867,
          -65.09832763671875,
          5.623311519622803,
          -38.39058303833008,
          -70.7130126953125,
          -73.10366821289062,
          -71.93489074707031,
          -129.9761199951172,
          -90.97917938232422,
          9.25240421295166,
          111.94042205810547,
          123.41390228271484,
          95.84404754638672,
          94.26802062988281,
          128.97775268554688,
          67.27718353271484,
          52.45640563964844,
          41.97906494140625,
          28.957834243774414,
          82.03409576416016,
          -95.5858154296875,
          51.906585693359375,
          -21.401409149169922,
          -84.9556655883789,
          -9.91364860534668,
          0.46612122654914856,
          5.138884544372559,
          -29.544748306274414,
          -125.42972564697266,
          -104.95231628417969,
          -52.966983795166016,
          -50.95798110961914,
          -79.42424774169922,
          148.85203552246094,
          17.58637237548828,
          -87.15564727783203,
          -105.11154174804688,
          -71.521240234375,
          -108.98308563232422,
          76.88330078125,
          -115.86746215820312,
          15.673311233520508,
          80.17227935791016,
          29.326496124267578,
          44.60950469970703,
          -1.625281810760498,
          7.399081230163574,
          57.884193420410156,
          -16.564910888671875,
          -26.64740753173828,
          -25.52436637878418,
          27.571491241455078,
          -36.04738998413086,
          -96.2090072631836,
          -55.9591178894043,
          -91.31482696533203,
          83.12360382080078,
          51.9532356262207,
          118.17196655273438,
          54.63101577758789,
          105.11182403564453,
          78.37376403808594,
          -27.23348617553711,
          65.52946472167969,
          76.15531158447266,
          -2.804884910583496,
          -31.46645164489746,
          58.80546569824219,
          29.57501220703125,
          57.39065170288086,
          10.665125846862793,
          39.583892822265625,
          24.39071273803711,
          19.948266983032227,
          44.34986114501953,
          11.916367530822754,
          15.34061336517334,
          104.56343078613281,
          -63.56775665283203,
          84.55433654785156,
          -17.96150016784668,
          -113.54634094238281,
          27.968379974365234
         ],
         "y": [
          2.866222620010376,
          46.2184944152832,
          -66.05235290527344,
          85.13898468017578,
          -18.35761260986328,
          92.49848937988281,
          -74.08952331542969,
          46.50096893310547,
          55.41550064086914,
          93.31732940673828,
          66.21369171142578,
          20.59477996826172,
          -38.551998138427734,
          46.038475036621094,
          -136.60890197753906,
          -41.590328216552734,
          -21.6508846282959,
          -19.931631088256836,
          -62.754146575927734,
          -27.37866973876953,
          -80.29693603515625,
          -53.02906036376953,
          -70.4402847290039,
          -42.58951950073242,
          -106.51311492919922,
          -14.15266227722168,
          -18.06233024597168,
          -68.48265075683594,
          -39.64781951904297,
          27.251632690429688,
          -97.1900863647461,
          12.656926155090332,
          76.67964935302734,
          -11.450857162475586,
          -18.8223934173584,
          43.96458053588867,
          20.97907257080078,
          34.94021987915039,
          29.38515853881836,
          -117.70535278320312,
          -4.547524452209473,
          20.837507247924805,
          -22.7823543548584,
          -57.5239372253418,
          -72.60895538330078,
          41.78904342651367,
          31.4012508392334,
          -101.36802673339844,
          -91.33829498291016,
          -89.45818328857422,
          -42.9495735168457,
          -87.11530303955078,
          37.322628021240234,
          -92.24745178222656,
          4.528745651245117,
          -39.92411422729492,
          22.202695846557617,
          15.204238891601562,
          82.29426574707031,
          41.654266357421875,
          -14.619759559631348,
          112.52616882324219,
          -31.037792205810547,
          50.36984634399414,
          -88.37557220458984,
          -55.80735778808594,
          -32.58287048339844,
          -69.30982208251953,
          -79.40715789794922,
          -88.63074493408203,
          123.20941925048828,
          -97.45651245117188,
          -93.25309753417969,
          -79.3879623413086,
          -39.965030670166016,
          -13.645501136779785,
          -117.7402572631836,
          -47.73162078857422,
          -67.68379211425781,
          -57.81345748901367,
          -61.66008758544922,
          93.76695251464844,
          68.43672180175781,
          68.59616088867188,
          60.833431243896484,
          -64.44007110595703,
          -77.73400115966797,
          31.145828247070312
         ],
         "z": [
          -39.826656341552734,
          -33.876991271972656,
          -87.8196029663086,
          -58.56929397583008,
          -17.265701293945312,
          -39.00954818725586,
          -58.05626678466797,
          -68.57613372802734,
          -16.007524490356445,
          -71.52239990234375,
          -73.06127166748047,
          -53.916343688964844,
          -74.5615005493164,
          -55.26541519165039,
          141.69509887695312,
          -30.62385368347168,
          -19.554325103759766,
          -21.96593475341797,
          -7.805119514465332,
          -50.22336196899414,
          22.479522705078125,
          -105.84088134765625,
          45.484046936035156,
          -76.03746032714844,
          22.054569244384766,
          -17.16590118408203,
          -125.68080139160156,
          -59.17657470703125,
          20.01532745361328,
          -33.78425979614258,
          -48.99787139892578,
          -64.55409240722656,
          -27.96103286743164,
          -108.86188507080078,
          -71.75180053710938,
          -97.470703125,
          -90.14086151123047,
          -79.02296447753906,
          -57.251953125,
          94.33084869384766,
          -104.72406005859375,
          -66.283935546875,
          -112.97374725341797,
          -87.36990356445312,
          -99.18119812011719,
          75.12604522705078,
          -117.0553970336914,
          -21.429935455322266,
          11.622870445251465,
          -80.32598876953125,
          -29.9702205657959,
          -93.66180419921875,
          -24.213417053222656,
          -74.32865905761719,
          -41.989227294921875,
          -93.71894073486328,
          -58.995182037353516,
          -11.98563003540039,
          -81.09839630126953,
          -60.842193603515625,
          -135.8855743408203,
          -30.331941604614258,
          -63.928184509277344,
          -2.266155958175659,
          -123.64339447021484,
          -70.57806396484375,
          -42.097042083740234,
          -5.8304548263549805,
          -68.9145736694336,
          -130.74107360839844,
          -22.072265625,
          17.62006187438965,
          41.91120529174805,
          -9.886897087097168,
          47.073734283447266,
          -11.697397232055664,
          35.377342224121094,
          -111.95408630371094,
          -89.41258239746094,
          -9.710448265075684,
          -4.134561061859131,
          -52.714683532714844,
          -36.02167892456055,
          -141.43917846679688,
          -7.967667102813721,
          -91.4361343383789,
          -30.836645126342773,
          -22.7294921875
         ]
        }
       ],
       "layout": {
        "legend": {
         "title": {
          "text": "color"
         },
         "tracegroupgap": 0
        },
        "margin": {
         "t": 60
        },
        "scene": {
         "domain": {
          "x": [
           0,
           1
          ],
          "y": [
           0,
           1
          ]
         },
         "xaxis": {
          "title": {
           "text": "x"
          }
         },
         "yaxis": {
          "title": {
           "text": "y"
          }
         },
         "zaxis": {
          "title": {
           "text": "z"
          }
         }
        },
        "template": {
         "data": {
          "bar": [
           {
            "error_x": {
             "color": "#2a3f5f"
            },
            "error_y": {
             "color": "#2a3f5f"
            },
            "marker": {
             "line": {
              "color": "#E5ECF6",
              "width": 0.5
             }
            },
            "type": "bar"
           }
          ],
          "barpolar": [
           {
            "marker": {
             "line": {
              "color": "#E5ECF6",
              "width": 0.5
             }
            },
            "type": "barpolar"
           }
          ],
          "carpet": [
           {
            "aaxis": {
             "endlinecolor": "#2a3f5f",
             "gridcolor": "white",
             "linecolor": "white",
             "minorgridcolor": "white",
             "startlinecolor": "#2a3f5f"
            },
            "baxis": {
             "endlinecolor": "#2a3f5f",
             "gridcolor": "white",
             "linecolor": "white",
             "minorgridcolor": "white",
             "startlinecolor": "#2a3f5f"
            },
            "type": "carpet"
           }
          ],
          "choropleth": [
           {
            "colorbar": {
             "outlinewidth": 0,
             "ticks": ""
            },
            "type": "choropleth"
           }
          ],
          "contour": [
           {
            "colorbar": {
             "outlinewidth": 0,
             "ticks": ""
            },
            "colorscale": [
             [
              0,
              "#0d0887"
             ],
             [
              0.1111111111111111,
              "#46039f"
             ],
             [
              0.2222222222222222,
              "#7201a8"
             ],
             [
              0.3333333333333333,
              "#9c179e"
             ],
             [
              0.4444444444444444,
              "#bd3786"
             ],
             [
              0.5555555555555556,
              "#d8576b"
             ],
             [
              0.6666666666666666,
              "#ed7953"
             ],
             [
              0.7777777777777778,
              "#fb9f3a"
             ],
             [
              0.8888888888888888,
              "#fdca26"
             ],
             [
              1,
              "#f0f921"
             ]
            ],
            "type": "contour"
           }
          ],
          "contourcarpet": [
           {
            "colorbar": {
             "outlinewidth": 0,
             "ticks": ""
            },
            "type": "contourcarpet"
           }
          ],
          "heatmap": [
           {
            "colorbar": {
             "outlinewidth": 0,
             "ticks": ""
            },
            "colorscale": [
             [
              0,
              "#0d0887"
             ],
             [
              0.1111111111111111,
              "#46039f"
             ],
             [
              0.2222222222222222,
              "#7201a8"
             ],
             [
              0.3333333333333333,
              "#9c179e"
             ],
             [
              0.4444444444444444,
              "#bd3786"
             ],
             [
              0.5555555555555556,
              "#d8576b"
             ],
             [
              0.6666666666666666,
              "#ed7953"
             ],
             [
              0.7777777777777778,
              "#fb9f3a"
             ],
             [
              0.8888888888888888,
              "#fdca26"
             ],
             [
              1,
              "#f0f921"
             ]
            ],
            "type": "heatmap"
           }
          ],
          "heatmapgl": [
           {
            "colorbar": {
             "outlinewidth": 0,
             "ticks": ""
            },
            "colorscale": [
             [
              0,
              "#0d0887"
             ],
             [
              0.1111111111111111,
              "#46039f"
             ],
             [
              0.2222222222222222,
              "#7201a8"
             ],
             [
              0.3333333333333333,
              "#9c179e"
             ],
             [
              0.4444444444444444,
              "#bd3786"
             ],
             [
              0.5555555555555556,
              "#d8576b"
             ],
             [
              0.6666666666666666,
              "#ed7953"
             ],
             [
              0.7777777777777778,
              "#fb9f3a"
             ],
             [
              0.8888888888888888,
              "#fdca26"
             ],
             [
              1,
              "#f0f921"
             ]
            ],
            "type": "heatmapgl"
           }
          ],
          "histogram": [
           {
            "marker": {
             "colorbar": {
              "outlinewidth": 0,
              "ticks": ""
             }
            },
            "type": "histogram"
           }
          ],
          "histogram2d": [
           {
            "colorbar": {
             "outlinewidth": 0,
             "ticks": ""
            },
            "colorscale": [
             [
              0,
              "#0d0887"
             ],
             [
              0.1111111111111111,
              "#46039f"
             ],
             [
              0.2222222222222222,
              "#7201a8"
             ],
             [
              0.3333333333333333,
              "#9c179e"
             ],
             [
              0.4444444444444444,
              "#bd3786"
             ],
             [
              0.5555555555555556,
              "#d8576b"
             ],
             [
              0.6666666666666666,
              "#ed7953"
             ],
             [
              0.7777777777777778,
              "#fb9f3a"
             ],
             [
              0.8888888888888888,
              "#fdca26"
             ],
             [
              1,
              "#f0f921"
             ]
            ],
            "type": "histogram2d"
           }
          ],
          "histogram2dcontour": [
           {
            "colorbar": {
             "outlinewidth": 0,
             "ticks": ""
            },
            "colorscale": [
             [
              0,
              "#0d0887"
             ],
             [
              0.1111111111111111,
              "#46039f"
             ],
             [
              0.2222222222222222,
              "#7201a8"
             ],
             [
              0.3333333333333333,
              "#9c179e"
             ],
             [
              0.4444444444444444,
              "#bd3786"
             ],
             [
              0.5555555555555556,
              "#d8576b"
             ],
             [
              0.6666666666666666,
              "#ed7953"
             ],
             [
              0.7777777777777778,
              "#fb9f3a"
             ],
             [
              0.8888888888888888,
              "#fdca26"
             ],
             [
              1,
              "#f0f921"
             ]
            ],
            "type": "histogram2dcontour"
           }
          ],
          "mesh3d": [
           {
            "colorbar": {
             "outlinewidth": 0,
             "ticks": ""
            },
            "type": "mesh3d"
           }
          ],
          "parcoords": [
           {
            "line": {
             "colorbar": {
              "outlinewidth": 0,
              "ticks": ""
             }
            },
            "type": "parcoords"
           }
          ],
          "pie": [
           {
            "automargin": true,
            "type": "pie"
           }
          ],
          "scatter": [
           {
            "marker": {
             "colorbar": {
              "outlinewidth": 0,
              "ticks": ""
             }
            },
            "type": "scatter"
           }
          ],
          "scatter3d": [
           {
            "line": {
             "colorbar": {
              "outlinewidth": 0,
              "ticks": ""
             }
            },
            "marker": {
             "colorbar": {
              "outlinewidth": 0,
              "ticks": ""
             }
            },
            "type": "scatter3d"
           }
          ],
          "scattercarpet": [
           {
            "marker": {
             "colorbar": {
              "outlinewidth": 0,
              "ticks": ""
             }
            },
            "type": "scattercarpet"
           }
          ],
          "scattergeo": [
           {
            "marker": {
             "colorbar": {
              "outlinewidth": 0,
              "ticks": ""
             }
            },
            "type": "scattergeo"
           }
          ],
          "scattergl": [
           {
            "marker": {
             "colorbar": {
              "outlinewidth": 0,
              "ticks": ""
             }
            },
            "type": "scattergl"
           }
          ],
          "scattermapbox": [
           {
            "marker": {
             "colorbar": {
              "outlinewidth": 0,
              "ticks": ""
             }
            },
            "type": "scattermapbox"
           }
          ],
          "scatterpolar": [
           {
            "marker": {
             "colorbar": {
              "outlinewidth": 0,
              "ticks": ""
             }
            },
            "type": "scatterpolar"
           }
          ],
          "scatterpolargl": [
           {
            "marker": {
             "colorbar": {
              "outlinewidth": 0,
              "ticks": ""
             }
            },
            "type": "scatterpolargl"
           }
          ],
          "scatterternary": [
           {
            "marker": {
             "colorbar": {
              "outlinewidth": 0,
              "ticks": ""
             }
            },
            "type": "scatterternary"
           }
          ],
          "surface": [
           {
            "colorbar": {
             "outlinewidth": 0,
             "ticks": ""
            },
            "colorscale": [
             [
              0,
              "#0d0887"
             ],
             [
              0.1111111111111111,
              "#46039f"
             ],
             [
              0.2222222222222222,
              "#7201a8"
             ],
             [
              0.3333333333333333,
              "#9c179e"
             ],
             [
              0.4444444444444444,
              "#bd3786"
             ],
             [
              0.5555555555555556,
              "#d8576b"
             ],
             [
              0.6666666666666666,
              "#ed7953"
             ],
             [
              0.7777777777777778,
              "#fb9f3a"
             ],
             [
              0.8888888888888888,
              "#fdca26"
             ],
             [
              1,
              "#f0f921"
             ]
            ],
            "type": "surface"
           }
          ],
          "table": [
           {
            "cells": {
             "fill": {
              "color": "#EBF0F8"
             },
             "line": {
              "color": "white"
             }
            },
            "header": {
             "fill": {
              "color": "#C8D4E3"
             },
             "line": {
              "color": "white"
             }
            },
            "type": "table"
           }
          ]
         },
         "layout": {
          "annotationdefaults": {
           "arrowcolor": "#2a3f5f",
           "arrowhead": 0,
           "arrowwidth": 1
          },
          "coloraxis": {
           "colorbar": {
            "outlinewidth": 0,
            "ticks": ""
           }
          },
          "colorscale": {
           "diverging": [
            [
             0,
             "#8e0152"
            ],
            [
             0.1,
             "#c51b7d"
            ],
            [
             0.2,
             "#de77ae"
            ],
            [
             0.3,
             "#f1b6da"
            ],
            [
             0.4,
             "#fde0ef"
            ],
            [
             0.5,
             "#f7f7f7"
            ],
            [
             0.6,
             "#e6f5d0"
            ],
            [
             0.7,
             "#b8e186"
            ],
            [
             0.8,
             "#7fbc41"
            ],
            [
             0.9,
             "#4d9221"
            ],
            [
             1,
             "#276419"
            ]
           ],
           "sequential": [
            [
             0,
             "#0d0887"
            ],
            [
             0.1111111111111111,
             "#46039f"
            ],
            [
             0.2222222222222222,
             "#7201a8"
            ],
            [
             0.3333333333333333,
             "#9c179e"
            ],
            [
             0.4444444444444444,
             "#bd3786"
            ],
            [
             0.5555555555555556,
             "#d8576b"
            ],
            [
             0.6666666666666666,
             "#ed7953"
            ],
            [
             0.7777777777777778,
             "#fb9f3a"
            ],
            [
             0.8888888888888888,
             "#fdca26"
            ],
            [
             1,
             "#f0f921"
            ]
           ],
           "sequentialminus": [
            [
             0,
             "#0d0887"
            ],
            [
             0.1111111111111111,
             "#46039f"
            ],
            [
             0.2222222222222222,
             "#7201a8"
            ],
            [
             0.3333333333333333,
             "#9c179e"
            ],
            [
             0.4444444444444444,
             "#bd3786"
            ],
            [
             0.5555555555555556,
             "#d8576b"
            ],
            [
             0.6666666666666666,
             "#ed7953"
            ],
            [
             0.7777777777777778,
             "#fb9f3a"
            ],
            [
             0.8888888888888888,
             "#fdca26"
            ],
            [
             1,
             "#f0f921"
            ]
           ]
          },
          "colorway": [
           "#636efa",
           "#EF553B",
           "#00cc96",
           "#ab63fa",
           "#FFA15A",
           "#19d3f3",
           "#FF6692",
           "#B6E880",
           "#FF97FF",
           "#FECB52"
          ],
          "font": {
           "color": "#2a3f5f"
          },
          "geo": {
           "bgcolor": "white",
           "lakecolor": "white",
           "landcolor": "#E5ECF6",
           "showlakes": true,
           "showland": true,
           "subunitcolor": "white"
          },
          "hoverlabel": {
           "align": "left"
          },
          "hovermode": "closest",
          "mapbox": {
           "style": "light"
          },
          "paper_bgcolor": "white",
          "plot_bgcolor": "#E5ECF6",
          "polar": {
           "angularaxis": {
            "gridcolor": "white",
            "linecolor": "white",
            "ticks": ""
           },
           "bgcolor": "#E5ECF6",
           "radialaxis": {
            "gridcolor": "white",
            "linecolor": "white",
            "ticks": ""
           }
          },
          "scene": {
           "xaxis": {
            "backgroundcolor": "#E5ECF6",
            "gridcolor": "white",
            "gridwidth": 2,
            "linecolor": "white",
            "showbackground": true,
            "ticks": "",
            "zerolinecolor": "white"
           },
           "yaxis": {
            "backgroundcolor": "#E5ECF6",
            "gridcolor": "white",
            "gridwidth": 2,
            "linecolor": "white",
            "showbackground": true,
            "ticks": "",
            "zerolinecolor": "white"
           },
           "zaxis": {
            "backgroundcolor": "#E5ECF6",
            "gridcolor": "white",
            "gridwidth": 2,
            "linecolor": "white",
            "showbackground": true,
            "ticks": "",
            "zerolinecolor": "white"
           }
          },
          "shapedefaults": {
           "line": {
            "color": "#2a3f5f"
           }
          },
          "ternary": {
           "aaxis": {
            "gridcolor": "white",
            "linecolor": "white",
            "ticks": ""
           },
           "baxis": {
            "gridcolor": "white",
            "linecolor": "white",
            "ticks": ""
           },
           "bgcolor": "#E5ECF6",
           "caxis": {
            "gridcolor": "white",
            "linecolor": "white",
            "ticks": ""
           }
          },
          "title": {
           "x": 0.05
          },
          "xaxis": {
           "automargin": true,
           "gridcolor": "white",
           "linecolor": "white",
           "ticks": "",
           "title": {
            "standoff": 15
           },
           "zerolinecolor": "white",
           "zerolinewidth": 2
          },
          "yaxis": {
           "automargin": true,
           "gridcolor": "white",
           "linecolor": "white",
           "ticks": "",
           "title": {
            "standoff": 15
           },
           "zerolinecolor": "white",
           "zerolinewidth": 2
          }
         }
        }
       }
      },
      "text/html": [
       "<div>\n",
       "        \n",
       "        \n",
       "            <div id=\"cd50cac1-2e4c-421d-a097-0f763718a704\" class=\"plotly-graph-div\" style=\"height:525px; width:100%;\"></div>\n",
       "            <script type=\"text/javascript\">\n",
       "                require([\"plotly\"], function(Plotly) {\n",
       "                    window.PLOTLYENV=window.PLOTLYENV || {};\n",
       "                    \n",
       "                if (document.getElementById(\"cd50cac1-2e4c-421d-a097-0f763718a704\")) {\n",
       "                    Plotly.newPlot(\n",
       "                        'cd50cac1-2e4c-421d-a097-0f763718a704',\n",
       "                        [{\"hovertemplate\": \"color=g<br>x=%{x}<br>y=%{y}<br>z=%{z}<extra></extra>\", \"legendgroup\": \"g\", \"marker\": {\"color\": \"#636efa\", \"symbol\": \"circle\"}, \"mode\": \"markers\", \"name\": \"g\", \"scene\": \"scene\", \"showlegend\": true, \"type\": \"scatter3d\", \"x\": [28.30108642578125, 26.29762077331543, 5.728934288024902, -26.327735900878906, -113.40421295166016, 40.81440734863281, 106.77649688720703, -96.20701599121094, 78.37213134765625, 99.11095428466797, 55.45760726928711, 10.259550094604492, 1.07832932472229, 10.608201026916504, -103.80780029296875, 11.391904830932617, -74.07640838623047, -0.4531852602958679, -38.44204330444336, -40.91567611694336, -41.78425598144531, -17.94430923461914, -8.155787467956543, -13.997639656066895, -32.649505615234375, -40.0865478515625, -48.55593490600586, 11.686193466186523, 14.619705200195312, -20.973346710205078, -40.19692611694336, -14.993268966674805, 101.69952392578125, 55.16452407836914, 13.237298011779785, 29.928075790405273, -59.73965072631836, 28.610366821289062, -21.316509246826172, -43.03049850463867, -28.006072998046875, -29.29384422302246, -51.19636917114258, -51.052040100097656, -16.610363006591797, -15.534259796142578, -33.82715606689453, 107.01024627685547, -42.53006362915039, 125.0731430053711, 3.0444579124450684, 59.57521438598633, 54.41204833984375, -105.51504516601562, -4.7748308181762695, 26.932554244995117, -84.8836669921875, -68.91437530517578, 10.017970085144043, -89.5202865600586, 8.823824882507324, -14.398103713989258], \"y\": [-29.335941314697266, -46.43716812133789, -61.27741241455078, 102.18022918701172, -6.468031883239746, 78.68073272705078, -24.010103225708008, 21.411666870117188, -23.37006378173828, -32.5443115234375, -1.1811611652374268, 49.92769241333008, -7.184613227844238, 109.03203582763672, 106.73690795898438, 83.64488220214844, -125.27983856201172, -62.25715255737305, -13.213740348815918, 95.6641616821289, 117.56416320800781, 105.63690185546875, 57.14522171020508, 39.05543518066406, 69.55807495117188, 41.7813835144043, 79.26622009277344, 81.1339340209961, 45.86741638183594, 71.80307006835938, -100.20623779296875, -108.08892059326172, 15.41886043548584, -149.22537231445312, 89.33545684814453, -14.662388801574707, 130.75039672851562, -25.072525024414062, -21.445436477661133, 2.949150800704956, -71.90929412841797, -107.25515747070312, -25.66864013671875, -69.02371215820312, 20.77647590637207, -5.767638683319092, 46.00465774536133, 3.056763172149658, 75.09690856933594, 32.961490631103516, -141.28150939941406, 21.030988693237305, 1.5292048454284668, 122.4852523803711, -29.10240936279297, -6.781584739685059, 131.8226318359375, 106.84310150146484, -41.2825813293457, 119.9304428100586, 117.12848663330078, 74.33403015136719], \"z\": [139.7051544189453, 101.4423828125, 117.693115234375, 27.116313934326172, 49.24877166748047, 111.3680648803711, 87.48560333251953, 23.827926635742188, 81.76483154296875, 64.19390106201172, 133.9805450439453, 157.01251220703125, 120.75043487548828, 100.29840850830078, 48.92349624633789, 94.57202911376953, -80.5418930053711, 94.0846939086914, 114.57267761230469, 76.70952606201172, 56.434852600097656, 63.74533462524414, 61.805335998535156, 35.36777877807617, 57.66705322265625, 46.85639190673828, 35.39881896972656, 24.780305862426758, 28.21385955810547, 29.814125061035156, 80.64258575439453, 82.3208999633789, 73.35597229003906, -71.5427474975586, 128.42897033691406, 36.25991439819336, -1.6793709993362427, 70.19519805908203, 96.73627471923828, 60.941184997558594, 105.37286376953125, 111.84712219238281, 81.8615493774414, 86.0837173461914, 61.41954803466797, -151.1620330810547, 74.165771484375, 37.357666015625, 122.59669494628906, 38.043914794921875, -9.579055786132812, 90.54266357421875, 64.97332763671875, 29.542829513549805, 52.877933502197266, 126.49319458007812, 50.4751091003418, 4.758296489715576, 75.63468170166016, 94.78876495361328, -102.22391510009766, 129.1007843017578]}, {\"hovertemplate\": \"color=b<br>x=%{x}<br>y=%{y}<br>z=%{z}<extra></extra>\", \"legendgroup\": \"b\", \"marker\": {\"color\": \"#EF553B\", \"symbol\": \"circle\"}, \"mode\": \"markers\", \"name\": \"b\", \"scene\": \"scene\", \"showlegend\": true, \"type\": \"scatter3d\", \"x\": [18.294273376464844, 4.381782054901123, -48.64336013793945, 70.91040802001953, -37.861572265625, 61.56956100463867, -65.09832763671875, 5.623311519622803, -38.39058303833008, -70.7130126953125, -73.10366821289062, -71.93489074707031, -129.9761199951172, -90.97917938232422, 9.25240421295166, 111.94042205810547, 123.41390228271484, 95.84404754638672, 94.26802062988281, 128.97775268554688, 67.27718353271484, 52.45640563964844, 41.97906494140625, 28.957834243774414, 82.03409576416016, -95.5858154296875, 51.906585693359375, -21.401409149169922, -84.9556655883789, -9.91364860534668, 0.46612122654914856, 5.138884544372559, -29.544748306274414, -125.42972564697266, -104.95231628417969, -52.966983795166016, -50.95798110961914, -79.42424774169922, 148.85203552246094, 17.58637237548828, -87.15564727783203, -105.11154174804688, -71.521240234375, -108.98308563232422, 76.88330078125, -115.86746215820312, 15.673311233520508, 80.17227935791016, 29.326496124267578, 44.60950469970703, -1.625281810760498, 7.399081230163574, 57.884193420410156, -16.564910888671875, -26.64740753173828, -25.52436637878418, 27.571491241455078, -36.04738998413086, -96.2090072631836, -55.9591178894043, -91.31482696533203, 83.12360382080078, 51.9532356262207, 118.17196655273438, 54.63101577758789, 105.11182403564453, 78.37376403808594, -27.23348617553711, 65.52946472167969, 76.15531158447266, -2.804884910583496, -31.46645164489746, 58.80546569824219, 29.57501220703125, 57.39065170288086, 10.665125846862793, 39.583892822265625, 24.39071273803711, 19.948266983032227, 44.34986114501953, 11.916367530822754, 15.34061336517334, 104.56343078613281, -63.56775665283203, 84.55433654785156, -17.96150016784668, -113.54634094238281, 27.968379974365234], \"y\": [2.866222620010376, 46.2184944152832, -66.05235290527344, 85.13898468017578, -18.35761260986328, 92.49848937988281, -74.08952331542969, 46.50096893310547, 55.41550064086914, 93.31732940673828, 66.21369171142578, 20.59477996826172, -38.551998138427734, 46.038475036621094, -136.60890197753906, -41.590328216552734, -21.6508846282959, -19.931631088256836, -62.754146575927734, -27.37866973876953, -80.29693603515625, -53.02906036376953, -70.4402847290039, -42.58951950073242, -106.51311492919922, -14.15266227722168, -18.06233024597168, -68.48265075683594, -39.64781951904297, 27.251632690429688, -97.1900863647461, 12.656926155090332, 76.67964935302734, -11.450857162475586, -18.8223934173584, 43.96458053588867, 20.97907257080078, 34.94021987915039, 29.38515853881836, -117.70535278320312, -4.547524452209473, 20.837507247924805, -22.7823543548584, -57.5239372253418, -72.60895538330078, 41.78904342651367, 31.4012508392334, -101.36802673339844, -91.33829498291016, -89.45818328857422, -42.9495735168457, -87.11530303955078, 37.322628021240234, -92.24745178222656, 4.528745651245117, -39.92411422729492, 22.202695846557617, 15.204238891601562, 82.29426574707031, 41.654266357421875, -14.619759559631348, 112.52616882324219, -31.037792205810547, 50.36984634399414, -88.37557220458984, -55.80735778808594, -32.58287048339844, -69.30982208251953, -79.40715789794922, -88.63074493408203, 123.20941925048828, -97.45651245117188, -93.25309753417969, -79.3879623413086, -39.965030670166016, -13.645501136779785, -117.7402572631836, -47.73162078857422, -67.68379211425781, -57.81345748901367, -61.66008758544922, 93.76695251464844, 68.43672180175781, 68.59616088867188, 60.833431243896484, -64.44007110595703, -77.73400115966797, 31.145828247070312], \"z\": [-39.826656341552734, -33.876991271972656, -87.8196029663086, -58.56929397583008, -17.265701293945312, -39.00954818725586, -58.05626678466797, -68.57613372802734, -16.007524490356445, -71.52239990234375, -73.06127166748047, -53.916343688964844, -74.5615005493164, -55.26541519165039, 141.69509887695312, -30.62385368347168, -19.554325103759766, -21.96593475341797, -7.805119514465332, -50.22336196899414, 22.479522705078125, -105.84088134765625, 45.484046936035156, -76.03746032714844, 22.054569244384766, -17.16590118408203, -125.68080139160156, -59.17657470703125, 20.01532745361328, -33.78425979614258, -48.99787139892578, -64.55409240722656, -27.96103286743164, -108.86188507080078, -71.75180053710938, -97.470703125, -90.14086151123047, -79.02296447753906, -57.251953125, 94.33084869384766, -104.72406005859375, -66.283935546875, -112.97374725341797, -87.36990356445312, -99.18119812011719, 75.12604522705078, -117.0553970336914, -21.429935455322266, 11.622870445251465, -80.32598876953125, -29.9702205657959, -93.66180419921875, -24.213417053222656, -74.32865905761719, -41.989227294921875, -93.71894073486328, -58.995182037353516, -11.98563003540039, -81.09839630126953, -60.842193603515625, -135.8855743408203, -30.331941604614258, -63.928184509277344, -2.266155958175659, -123.64339447021484, -70.57806396484375, -42.097042083740234, -5.8304548263549805, -68.9145736694336, -130.74107360839844, -22.072265625, 17.62006187438965, 41.91120529174805, -9.886897087097168, 47.073734283447266, -11.697397232055664, 35.377342224121094, -111.95408630371094, -89.41258239746094, -9.710448265075684, -4.134561061859131, -52.714683532714844, -36.02167892456055, -141.43917846679688, -7.967667102813721, -91.4361343383789, -30.836645126342773, -22.7294921875]}],\n",
       "                        {\"legend\": {\"title\": {\"text\": \"color\"}, \"tracegroupgap\": 0}, \"margin\": {\"t\": 60}, \"scene\": {\"domain\": {\"x\": [0.0, 1.0], \"y\": [0.0, 1.0]}, \"xaxis\": {\"title\": {\"text\": \"x\"}}, \"yaxis\": {\"title\": {\"text\": \"y\"}}, \"zaxis\": {\"title\": {\"text\": \"z\"}}}, \"template\": {\"data\": {\"bar\": [{\"error_x\": {\"color\": \"#2a3f5f\"}, \"error_y\": {\"color\": \"#2a3f5f\"}, \"marker\": {\"line\": {\"color\": \"#E5ECF6\", \"width\": 0.5}}, \"type\": \"bar\"}], \"barpolar\": [{\"marker\": {\"line\": {\"color\": \"#E5ECF6\", \"width\": 0.5}}, \"type\": \"barpolar\"}], \"carpet\": [{\"aaxis\": {\"endlinecolor\": \"#2a3f5f\", \"gridcolor\": \"white\", \"linecolor\": \"white\", \"minorgridcolor\": \"white\", \"startlinecolor\": \"#2a3f5f\"}, \"baxis\": {\"endlinecolor\": \"#2a3f5f\", \"gridcolor\": \"white\", \"linecolor\": \"white\", \"minorgridcolor\": \"white\", \"startlinecolor\": \"#2a3f5f\"}, \"type\": \"carpet\"}], \"choropleth\": [{\"colorbar\": {\"outlinewidth\": 0, \"ticks\": \"\"}, \"type\": \"choropleth\"}], \"contour\": [{\"colorbar\": {\"outlinewidth\": 0, \"ticks\": \"\"}, \"colorscale\": [[0.0, \"#0d0887\"], [0.1111111111111111, \"#46039f\"], [0.2222222222222222, \"#7201a8\"], [0.3333333333333333, \"#9c179e\"], [0.4444444444444444, \"#bd3786\"], [0.5555555555555556, \"#d8576b\"], [0.6666666666666666, \"#ed7953\"], [0.7777777777777778, \"#fb9f3a\"], [0.8888888888888888, \"#fdca26\"], [1.0, \"#f0f921\"]], \"type\": \"contour\"}], \"contourcarpet\": [{\"colorbar\": {\"outlinewidth\": 0, \"ticks\": \"\"}, \"type\": \"contourcarpet\"}], \"heatmap\": [{\"colorbar\": {\"outlinewidth\": 0, \"ticks\": \"\"}, \"colorscale\": [[0.0, \"#0d0887\"], [0.1111111111111111, \"#46039f\"], [0.2222222222222222, \"#7201a8\"], [0.3333333333333333, \"#9c179e\"], [0.4444444444444444, \"#bd3786\"], [0.5555555555555556, \"#d8576b\"], [0.6666666666666666, \"#ed7953\"], [0.7777777777777778, \"#fb9f3a\"], [0.8888888888888888, \"#fdca26\"], [1.0, \"#f0f921\"]], \"type\": \"heatmap\"}], \"heatmapgl\": [{\"colorbar\": {\"outlinewidth\": 0, \"ticks\": \"\"}, \"colorscale\": [[0.0, \"#0d0887\"], [0.1111111111111111, \"#46039f\"], [0.2222222222222222, \"#7201a8\"], [0.3333333333333333, \"#9c179e\"], [0.4444444444444444, \"#bd3786\"], [0.5555555555555556, \"#d8576b\"], [0.6666666666666666, \"#ed7953\"], [0.7777777777777778, \"#fb9f3a\"], [0.8888888888888888, \"#fdca26\"], [1.0, \"#f0f921\"]], \"type\": \"heatmapgl\"}], \"histogram\": [{\"marker\": {\"colorbar\": {\"outlinewidth\": 0, \"ticks\": \"\"}}, \"type\": \"histogram\"}], \"histogram2d\": [{\"colorbar\": {\"outlinewidth\": 0, \"ticks\": \"\"}, \"colorscale\": [[0.0, \"#0d0887\"], [0.1111111111111111, \"#46039f\"], [0.2222222222222222, \"#7201a8\"], [0.3333333333333333, \"#9c179e\"], [0.4444444444444444, \"#bd3786\"], [0.5555555555555556, \"#d8576b\"], [0.6666666666666666, \"#ed7953\"], [0.7777777777777778, \"#fb9f3a\"], [0.8888888888888888, \"#fdca26\"], [1.0, \"#f0f921\"]], \"type\": \"histogram2d\"}], \"histogram2dcontour\": [{\"colorbar\": {\"outlinewidth\": 0, \"ticks\": \"\"}, \"colorscale\": [[0.0, \"#0d0887\"], [0.1111111111111111, \"#46039f\"], [0.2222222222222222, \"#7201a8\"], [0.3333333333333333, \"#9c179e\"], [0.4444444444444444, \"#bd3786\"], [0.5555555555555556, \"#d8576b\"], [0.6666666666666666, \"#ed7953\"], [0.7777777777777778, \"#fb9f3a\"], [0.8888888888888888, \"#fdca26\"], [1.0, \"#f0f921\"]], \"type\": \"histogram2dcontour\"}], \"mesh3d\": [{\"colorbar\": {\"outlinewidth\": 0, \"ticks\": \"\"}, \"type\": \"mesh3d\"}], \"parcoords\": [{\"line\": {\"colorbar\": {\"outlinewidth\": 0, \"ticks\": \"\"}}, \"type\": \"parcoords\"}], \"pie\": [{\"automargin\": true, \"type\": \"pie\"}], \"scatter\": [{\"marker\": {\"colorbar\": {\"outlinewidth\": 0, \"ticks\": \"\"}}, \"type\": \"scatter\"}], \"scatter3d\": [{\"line\": {\"colorbar\": {\"outlinewidth\": 0, \"ticks\": \"\"}}, \"marker\": {\"colorbar\": {\"outlinewidth\": 0, \"ticks\": \"\"}}, \"type\": \"scatter3d\"}], \"scattercarpet\": [{\"marker\": {\"colorbar\": {\"outlinewidth\": 0, \"ticks\": \"\"}}, \"type\": \"scattercarpet\"}], \"scattergeo\": [{\"marker\": {\"colorbar\": {\"outlinewidth\": 0, \"ticks\": \"\"}}, \"type\": \"scattergeo\"}], \"scattergl\": [{\"marker\": {\"colorbar\": {\"outlinewidth\": 0, \"ticks\": \"\"}}, \"type\": \"scattergl\"}], \"scattermapbox\": [{\"marker\": {\"colorbar\": {\"outlinewidth\": 0, \"ticks\": \"\"}}, \"type\": \"scattermapbox\"}], \"scatterpolar\": [{\"marker\": {\"colorbar\": {\"outlinewidth\": 0, \"ticks\": \"\"}}, \"type\": \"scatterpolar\"}], \"scatterpolargl\": [{\"marker\": {\"colorbar\": {\"outlinewidth\": 0, \"ticks\": \"\"}}, \"type\": \"scatterpolargl\"}], \"scatterternary\": [{\"marker\": {\"colorbar\": {\"outlinewidth\": 0, \"ticks\": \"\"}}, \"type\": \"scatterternary\"}], \"surface\": [{\"colorbar\": {\"outlinewidth\": 0, \"ticks\": \"\"}, \"colorscale\": [[0.0, \"#0d0887\"], [0.1111111111111111, \"#46039f\"], [0.2222222222222222, \"#7201a8\"], [0.3333333333333333, \"#9c179e\"], [0.4444444444444444, \"#bd3786\"], [0.5555555555555556, \"#d8576b\"], [0.6666666666666666, \"#ed7953\"], [0.7777777777777778, \"#fb9f3a\"], [0.8888888888888888, \"#fdca26\"], [1.0, \"#f0f921\"]], \"type\": \"surface\"}], \"table\": [{\"cells\": {\"fill\": {\"color\": \"#EBF0F8\"}, \"line\": {\"color\": \"white\"}}, \"header\": {\"fill\": {\"color\": \"#C8D4E3\"}, \"line\": {\"color\": \"white\"}}, \"type\": \"table\"}]}, \"layout\": {\"annotationdefaults\": {\"arrowcolor\": \"#2a3f5f\", \"arrowhead\": 0, \"arrowwidth\": 1}, \"coloraxis\": {\"colorbar\": {\"outlinewidth\": 0, \"ticks\": \"\"}}, \"colorscale\": {\"diverging\": [[0, \"#8e0152\"], [0.1, \"#c51b7d\"], [0.2, \"#de77ae\"], [0.3, \"#f1b6da\"], [0.4, \"#fde0ef\"], [0.5, \"#f7f7f7\"], [0.6, \"#e6f5d0\"], [0.7, \"#b8e186\"], [0.8, \"#7fbc41\"], [0.9, \"#4d9221\"], [1, \"#276419\"]], \"sequential\": [[0.0, \"#0d0887\"], [0.1111111111111111, \"#46039f\"], [0.2222222222222222, \"#7201a8\"], [0.3333333333333333, \"#9c179e\"], [0.4444444444444444, \"#bd3786\"], [0.5555555555555556, \"#d8576b\"], [0.6666666666666666, \"#ed7953\"], [0.7777777777777778, \"#fb9f3a\"], [0.8888888888888888, \"#fdca26\"], [1.0, \"#f0f921\"]], \"sequentialminus\": [[0.0, \"#0d0887\"], [0.1111111111111111, \"#46039f\"], [0.2222222222222222, \"#7201a8\"], [0.3333333333333333, \"#9c179e\"], [0.4444444444444444, \"#bd3786\"], [0.5555555555555556, \"#d8576b\"], [0.6666666666666666, \"#ed7953\"], [0.7777777777777778, \"#fb9f3a\"], [0.8888888888888888, \"#fdca26\"], [1.0, \"#f0f921\"]]}, \"colorway\": [\"#636efa\", \"#EF553B\", \"#00cc96\", \"#ab63fa\", \"#FFA15A\", \"#19d3f3\", \"#FF6692\", \"#B6E880\", \"#FF97FF\", \"#FECB52\"], \"font\": {\"color\": \"#2a3f5f\"}, \"geo\": {\"bgcolor\": \"white\", \"lakecolor\": \"white\", \"landcolor\": \"#E5ECF6\", \"showlakes\": true, \"showland\": true, \"subunitcolor\": \"white\"}, \"hoverlabel\": {\"align\": \"left\"}, \"hovermode\": \"closest\", \"mapbox\": {\"style\": \"light\"}, \"paper_bgcolor\": \"white\", \"plot_bgcolor\": \"#E5ECF6\", \"polar\": {\"angularaxis\": {\"gridcolor\": \"white\", \"linecolor\": \"white\", \"ticks\": \"\"}, \"bgcolor\": \"#E5ECF6\", \"radialaxis\": {\"gridcolor\": \"white\", \"linecolor\": \"white\", \"ticks\": \"\"}}, \"scene\": {\"xaxis\": {\"backgroundcolor\": \"#E5ECF6\", \"gridcolor\": \"white\", \"gridwidth\": 2, \"linecolor\": \"white\", \"showbackground\": true, \"ticks\": \"\", \"zerolinecolor\": \"white\"}, \"yaxis\": {\"backgroundcolor\": \"#E5ECF6\", \"gridcolor\": \"white\", \"gridwidth\": 2, \"linecolor\": \"white\", \"showbackground\": true, \"ticks\": \"\", \"zerolinecolor\": \"white\"}, \"zaxis\": {\"backgroundcolor\": \"#E5ECF6\", \"gridcolor\": \"white\", \"gridwidth\": 2, \"linecolor\": \"white\", \"showbackground\": true, \"ticks\": \"\", \"zerolinecolor\": \"white\"}}, \"shapedefaults\": {\"line\": {\"color\": \"#2a3f5f\"}}, \"ternary\": {\"aaxis\": {\"gridcolor\": \"white\", \"linecolor\": \"white\", \"ticks\": \"\"}, \"baxis\": {\"gridcolor\": \"white\", \"linecolor\": \"white\", \"ticks\": \"\"}, \"bgcolor\": \"#E5ECF6\", \"caxis\": {\"gridcolor\": \"white\", \"linecolor\": \"white\", \"ticks\": \"\"}}, \"title\": {\"x\": 0.05}, \"xaxis\": {\"automargin\": true, \"gridcolor\": \"white\", \"linecolor\": \"white\", \"ticks\": \"\", \"title\": {\"standoff\": 15}, \"zerolinecolor\": \"white\", \"zerolinewidth\": 2}, \"yaxis\": {\"automargin\": true, \"gridcolor\": \"white\", \"linecolor\": \"white\", \"ticks\": \"\", \"title\": {\"standoff\": 15}, \"zerolinecolor\": \"white\", \"zerolinewidth\": 2}}}},\n",
       "                        {\"responsive\": true}\n",
       "                    ).then(function(){\n",
       "                            \n",
       "var gd = document.getElementById('cd50cac1-2e4c-421d-a097-0f763718a704');\n",
       "var x = new MutationObserver(function (mutations, observer) {{\n",
       "        var display = window.getComputedStyle(gd).display;\n",
       "        if (!display || display === 'none') {{\n",
       "            console.log([gd, 'removed!']);\n",
       "            Plotly.purge(gd);\n",
       "            observer.disconnect();\n",
       "        }}\n",
       "}});\n",
       "\n",
       "// Listen for the removal of the full notebook cells\n",
       "var notebookContainer = gd.closest('#notebook-container');\n",
       "if (notebookContainer) {{\n",
       "    x.observe(notebookContainer, {childList: true});\n",
       "}}\n",
       "\n",
       "// Listen for the clearing of the current output cell\n",
       "var outputEl = gd.closest('.output');\n",
       "if (outputEl) {{\n",
       "    x.observe(outputEl, {childList: true});\n",
       "}}\n",
       "\n",
       "                        })\n",
       "                };\n",
       "                });\n",
       "            </script>\n",
       "        </div>"
      ]
     },
     "metadata": {},
     "output_type": "display_data"
    }
   ],
   "source": [
    "# 2 clusters\n",
    "km2 = KMeans(n_clusters=2).fit(X)\n",
    "\n",
    "X_embedded  = TSNE(n_components=3, perplexity=10, random_state=24).fit_transform( X )\n",
    "colors = np.array([x for x in 'bgrcmykbgrcmykbgrcmykbgrcmyk'])\n",
    "\n",
    "fig = px.scatter_3d(x=X_embedded [:,0],y=X_embedded [:,1],z=X_embedded [:,2],color=colors[km2.labels_])\n",
    "fig.show()"
   ]
  },
  {
   "cell_type": "code",
   "execution_count": 994,
   "metadata": {},
   "outputs": [
    {
     "data": {
      "application/vnd.plotly.v1+json": {
       "config": {
        "plotlyServerURL": "https://plot.ly"
       },
       "data": [
        {
         "hovertemplate": "color=b<br>x=%{x}<br>y=%{y}<br>z=%{z}<extra></extra>",
         "legendgroup": "b",
         "marker": {
          "color": "#636efa",
          "symbol": "circle"
         },
         "mode": "markers",
         "name": "b",
         "scene": "scene",
         "showlegend": true,
         "type": "scatter3d",
         "x": [
          28.30108642578125,
          26.29762077331543,
          5.728934288024902,
          -113.40421295166016,
          106.77649688720703,
          -96.20701599121094,
          78.37213134765625,
          99.11095428466797,
          55.45760726928711,
          1.07832932472229,
          -74.07640838623047,
          -0.4531852602958679,
          -40.19692611694336,
          -14.993268966674805,
          101.69952392578125,
          55.16452407836914,
          29.928075790405273,
          28.610366821289062,
          -21.316509246826172,
          -28.006072998046875,
          -29.29384422302246,
          -51.052040100097656,
          -15.534259796142578,
          107.01024627685547,
          125.0731430053711,
          3.0444579124450684,
          59.57521438598633,
          57.39065170288086,
          54.41204833984375,
          -4.7748308181762695,
          26.932554244995117,
          10.017970085144043
         ],
         "y": [
          -29.335941314697266,
          -46.43716812133789,
          -61.27741241455078,
          -6.468031883239746,
          -24.010103225708008,
          21.411666870117188,
          -23.37006378173828,
          -32.5443115234375,
          -1.1811611652374268,
          -7.184613227844238,
          -125.27983856201172,
          -62.25715255737305,
          -100.20623779296875,
          -108.08892059326172,
          15.41886043548584,
          -149.22537231445312,
          -14.662388801574707,
          -25.072525024414062,
          -21.445436477661133,
          -71.90929412841797,
          -107.25515747070312,
          -69.02371215820312,
          -5.767638683319092,
          3.056763172149658,
          32.961490631103516,
          -141.28150939941406,
          21.030988693237305,
          -39.965030670166016,
          1.5292048454284668,
          -29.10240936279297,
          -6.781584739685059,
          -41.2825813293457
         ],
         "z": [
          139.7051544189453,
          101.4423828125,
          117.693115234375,
          49.24877166748047,
          87.48560333251953,
          23.827926635742188,
          81.76483154296875,
          64.19390106201172,
          133.9805450439453,
          120.75043487548828,
          -80.5418930053711,
          94.0846939086914,
          80.64258575439453,
          82.3208999633789,
          73.35597229003906,
          -71.5427474975586,
          36.25991439819336,
          70.19519805908203,
          96.73627471923828,
          105.37286376953125,
          111.84712219238281,
          86.0837173461914,
          -151.1620330810547,
          37.357666015625,
          38.043914794921875,
          -9.579055786132812,
          90.54266357421875,
          47.073734283447266,
          64.97332763671875,
          52.877933502197266,
          126.49319458007812,
          75.63468170166016
         ]
        },
        {
         "hovertemplate": "color=g<br>x=%{x}<br>y=%{y}<br>z=%{z}<extra></extra>",
         "legendgroup": "g",
         "marker": {
          "color": "#EF553B",
          "symbol": "circle"
         },
         "mode": "markers",
         "name": "g",
         "scene": "scene",
         "showlegend": true,
         "type": "scatter3d",
         "x": [
          18.294273376464844,
          4.381782054901123,
          -48.64336013793945,
          70.91040802001953,
          -37.861572265625,
          61.56956100463867,
          -65.09832763671875,
          5.623311519622803,
          -38.39058303833008,
          -70.7130126953125,
          -73.10366821289062,
          -71.93489074707031,
          -129.9761199951172,
          -90.97917938232422,
          9.25240421295166,
          111.94042205810547,
          123.41390228271484,
          95.84404754638672,
          94.26802062988281,
          128.97775268554688,
          67.27718353271484,
          52.45640563964844,
          41.97906494140625,
          28.957834243774414,
          82.03409576416016,
          -95.5858154296875,
          51.906585693359375,
          -21.401409149169922,
          -84.9556655883789,
          -9.91364860534668,
          0.46612122654914856,
          5.138884544372559,
          -29.544748306274414,
          -125.42972564697266,
          -104.95231628417969,
          -52.966983795166016,
          -50.95798110961914,
          -79.42424774169922,
          148.85203552246094,
          17.58637237548828,
          -87.15564727783203,
          -105.11154174804688,
          -71.521240234375,
          -108.98308563232422,
          76.88330078125,
          -115.86746215820312,
          15.673311233520508,
          80.17227935791016,
          29.326496124267578,
          44.60950469970703,
          -1.625281810760498,
          7.399081230163574,
          57.884193420410156,
          -16.564910888671875,
          -26.64740753173828,
          -25.52436637878418,
          27.571491241455078,
          -36.04738998413086,
          -96.2090072631836,
          -55.9591178894043,
          -91.31482696533203,
          83.12360382080078,
          51.9532356262207,
          118.17196655273438,
          54.63101577758789,
          105.11182403564453,
          78.37376403808594,
          -27.23348617553711,
          65.52946472167969,
          76.15531158447266,
          -2.804884910583496,
          -31.46645164489746,
          58.80546569824219,
          29.57501220703125,
          10.665125846862793,
          39.583892822265625,
          24.39071273803711,
          19.948266983032227,
          44.34986114501953,
          11.916367530822754,
          15.34061336517334,
          104.56343078613281,
          -63.56775665283203,
          84.55433654785156,
          -17.96150016784668,
          -113.54634094238281,
          27.968379974365234
         ],
         "y": [
          2.866222620010376,
          46.2184944152832,
          -66.05235290527344,
          85.13898468017578,
          -18.35761260986328,
          92.49848937988281,
          -74.08952331542969,
          46.50096893310547,
          55.41550064086914,
          93.31732940673828,
          66.21369171142578,
          20.59477996826172,
          -38.551998138427734,
          46.038475036621094,
          -136.60890197753906,
          -41.590328216552734,
          -21.6508846282959,
          -19.931631088256836,
          -62.754146575927734,
          -27.37866973876953,
          -80.29693603515625,
          -53.02906036376953,
          -70.4402847290039,
          -42.58951950073242,
          -106.51311492919922,
          -14.15266227722168,
          -18.06233024597168,
          -68.48265075683594,
          -39.64781951904297,
          27.251632690429688,
          -97.1900863647461,
          12.656926155090332,
          76.67964935302734,
          -11.450857162475586,
          -18.8223934173584,
          43.96458053588867,
          20.97907257080078,
          34.94021987915039,
          29.38515853881836,
          -117.70535278320312,
          -4.547524452209473,
          20.837507247924805,
          -22.7823543548584,
          -57.5239372253418,
          -72.60895538330078,
          41.78904342651367,
          31.4012508392334,
          -101.36802673339844,
          -91.33829498291016,
          -89.45818328857422,
          -42.9495735168457,
          -87.11530303955078,
          37.322628021240234,
          -92.24745178222656,
          4.528745651245117,
          -39.92411422729492,
          22.202695846557617,
          15.204238891601562,
          82.29426574707031,
          41.654266357421875,
          -14.619759559631348,
          112.52616882324219,
          -31.037792205810547,
          50.36984634399414,
          -88.37557220458984,
          -55.80735778808594,
          -32.58287048339844,
          -69.30982208251953,
          -79.40715789794922,
          -88.63074493408203,
          123.20941925048828,
          -97.45651245117188,
          -93.25309753417969,
          -79.3879623413086,
          -13.645501136779785,
          -117.7402572631836,
          -47.73162078857422,
          -67.68379211425781,
          -57.81345748901367,
          -61.66008758544922,
          93.76695251464844,
          68.43672180175781,
          68.59616088867188,
          60.833431243896484,
          -64.44007110595703,
          -77.73400115966797,
          31.145828247070312
         ],
         "z": [
          -39.826656341552734,
          -33.876991271972656,
          -87.8196029663086,
          -58.56929397583008,
          -17.265701293945312,
          -39.00954818725586,
          -58.05626678466797,
          -68.57613372802734,
          -16.007524490356445,
          -71.52239990234375,
          -73.06127166748047,
          -53.916343688964844,
          -74.5615005493164,
          -55.26541519165039,
          141.69509887695312,
          -30.62385368347168,
          -19.554325103759766,
          -21.96593475341797,
          -7.805119514465332,
          -50.22336196899414,
          22.479522705078125,
          -105.84088134765625,
          45.484046936035156,
          -76.03746032714844,
          22.054569244384766,
          -17.16590118408203,
          -125.68080139160156,
          -59.17657470703125,
          20.01532745361328,
          -33.78425979614258,
          -48.99787139892578,
          -64.55409240722656,
          -27.96103286743164,
          -108.86188507080078,
          -71.75180053710938,
          -97.470703125,
          -90.14086151123047,
          -79.02296447753906,
          -57.251953125,
          94.33084869384766,
          -104.72406005859375,
          -66.283935546875,
          -112.97374725341797,
          -87.36990356445312,
          -99.18119812011719,
          75.12604522705078,
          -117.0553970336914,
          -21.429935455322266,
          11.622870445251465,
          -80.32598876953125,
          -29.9702205657959,
          -93.66180419921875,
          -24.213417053222656,
          -74.32865905761719,
          -41.989227294921875,
          -93.71894073486328,
          -58.995182037353516,
          -11.98563003540039,
          -81.09839630126953,
          -60.842193603515625,
          -135.8855743408203,
          -30.331941604614258,
          -63.928184509277344,
          -2.266155958175659,
          -123.64339447021484,
          -70.57806396484375,
          -42.097042083740234,
          -5.8304548263549805,
          -68.9145736694336,
          -130.74107360839844,
          -22.072265625,
          17.62006187438965,
          41.91120529174805,
          -9.886897087097168,
          -11.697397232055664,
          35.377342224121094,
          -111.95408630371094,
          -89.41258239746094,
          -9.710448265075684,
          -4.134561061859131,
          -52.714683532714844,
          -36.02167892456055,
          -141.43917846679688,
          -7.967667102813721,
          -91.4361343383789,
          -30.836645126342773,
          -22.7294921875
         ]
        },
        {
         "hovertemplate": "color=r<br>x=%{x}<br>y=%{y}<br>z=%{z}<extra></extra>",
         "legendgroup": "r",
         "marker": {
          "color": "#00cc96",
          "symbol": "circle"
         },
         "mode": "markers",
         "name": "r",
         "scene": "scene",
         "showlegend": true,
         "type": "scatter3d",
         "x": [
          -26.327735900878906,
          40.81440734863281,
          10.259550094604492,
          10.608201026916504,
          -103.80780029296875,
          11.391904830932617,
          -38.44204330444336,
          -40.91567611694336,
          -41.78425598144531,
          -17.94430923461914,
          -8.155787467956543,
          -13.997639656066895,
          -32.649505615234375,
          -40.0865478515625,
          -48.55593490600586,
          11.686193466186523,
          14.619705200195312,
          -20.973346710205078,
          13.237298011779785,
          -59.73965072631836,
          -43.03049850463867,
          -51.19636917114258,
          -16.610363006591797,
          -33.82715606689453,
          -42.53006362915039,
          -105.51504516601562,
          -84.8836669921875,
          -68.91437530517578,
          -89.5202865600586,
          8.823824882507324,
          -14.398103713989258
         ],
         "y": [
          102.18022918701172,
          78.68073272705078,
          49.92769241333008,
          109.03203582763672,
          106.73690795898438,
          83.64488220214844,
          -13.213740348815918,
          95.6641616821289,
          117.56416320800781,
          105.63690185546875,
          57.14522171020508,
          39.05543518066406,
          69.55807495117188,
          41.7813835144043,
          79.26622009277344,
          81.1339340209961,
          45.86741638183594,
          71.80307006835938,
          89.33545684814453,
          130.75039672851562,
          2.949150800704956,
          -25.66864013671875,
          20.77647590637207,
          46.00465774536133,
          75.09690856933594,
          122.4852523803711,
          131.8226318359375,
          106.84310150146484,
          119.9304428100586,
          117.12848663330078,
          74.33403015136719
         ],
         "z": [
          27.116313934326172,
          111.3680648803711,
          157.01251220703125,
          100.29840850830078,
          48.92349624633789,
          94.57202911376953,
          114.57267761230469,
          76.70952606201172,
          56.434852600097656,
          63.74533462524414,
          61.805335998535156,
          35.36777877807617,
          57.66705322265625,
          46.85639190673828,
          35.39881896972656,
          24.780305862426758,
          28.21385955810547,
          29.814125061035156,
          128.42897033691406,
          -1.6793709993362427,
          60.941184997558594,
          81.8615493774414,
          61.41954803466797,
          74.165771484375,
          122.59669494628906,
          29.542829513549805,
          50.4751091003418,
          4.758296489715576,
          94.78876495361328,
          -102.22391510009766,
          129.1007843017578
         ]
        }
       ],
       "layout": {
        "legend": {
         "title": {
          "text": "color"
         },
         "tracegroupgap": 0
        },
        "margin": {
         "t": 60
        },
        "scene": {
         "domain": {
          "x": [
           0,
           1
          ],
          "y": [
           0,
           1
          ]
         },
         "xaxis": {
          "title": {
           "text": "x"
          }
         },
         "yaxis": {
          "title": {
           "text": "y"
          }
         },
         "zaxis": {
          "title": {
           "text": "z"
          }
         }
        },
        "template": {
         "data": {
          "bar": [
           {
            "error_x": {
             "color": "#2a3f5f"
            },
            "error_y": {
             "color": "#2a3f5f"
            },
            "marker": {
             "line": {
              "color": "#E5ECF6",
              "width": 0.5
             }
            },
            "type": "bar"
           }
          ],
          "barpolar": [
           {
            "marker": {
             "line": {
              "color": "#E5ECF6",
              "width": 0.5
             }
            },
            "type": "barpolar"
           }
          ],
          "carpet": [
           {
            "aaxis": {
             "endlinecolor": "#2a3f5f",
             "gridcolor": "white",
             "linecolor": "white",
             "minorgridcolor": "white",
             "startlinecolor": "#2a3f5f"
            },
            "baxis": {
             "endlinecolor": "#2a3f5f",
             "gridcolor": "white",
             "linecolor": "white",
             "minorgridcolor": "white",
             "startlinecolor": "#2a3f5f"
            },
            "type": "carpet"
           }
          ],
          "choropleth": [
           {
            "colorbar": {
             "outlinewidth": 0,
             "ticks": ""
            },
            "type": "choropleth"
           }
          ],
          "contour": [
           {
            "colorbar": {
             "outlinewidth": 0,
             "ticks": ""
            },
            "colorscale": [
             [
              0,
              "#0d0887"
             ],
             [
              0.1111111111111111,
              "#46039f"
             ],
             [
              0.2222222222222222,
              "#7201a8"
             ],
             [
              0.3333333333333333,
              "#9c179e"
             ],
             [
              0.4444444444444444,
              "#bd3786"
             ],
             [
              0.5555555555555556,
              "#d8576b"
             ],
             [
              0.6666666666666666,
              "#ed7953"
             ],
             [
              0.7777777777777778,
              "#fb9f3a"
             ],
             [
              0.8888888888888888,
              "#fdca26"
             ],
             [
              1,
              "#f0f921"
             ]
            ],
            "type": "contour"
           }
          ],
          "contourcarpet": [
           {
            "colorbar": {
             "outlinewidth": 0,
             "ticks": ""
            },
            "type": "contourcarpet"
           }
          ],
          "heatmap": [
           {
            "colorbar": {
             "outlinewidth": 0,
             "ticks": ""
            },
            "colorscale": [
             [
              0,
              "#0d0887"
             ],
             [
              0.1111111111111111,
              "#46039f"
             ],
             [
              0.2222222222222222,
              "#7201a8"
             ],
             [
              0.3333333333333333,
              "#9c179e"
             ],
             [
              0.4444444444444444,
              "#bd3786"
             ],
             [
              0.5555555555555556,
              "#d8576b"
             ],
             [
              0.6666666666666666,
              "#ed7953"
             ],
             [
              0.7777777777777778,
              "#fb9f3a"
             ],
             [
              0.8888888888888888,
              "#fdca26"
             ],
             [
              1,
              "#f0f921"
             ]
            ],
            "type": "heatmap"
           }
          ],
          "heatmapgl": [
           {
            "colorbar": {
             "outlinewidth": 0,
             "ticks": ""
            },
            "colorscale": [
             [
              0,
              "#0d0887"
             ],
             [
              0.1111111111111111,
              "#46039f"
             ],
             [
              0.2222222222222222,
              "#7201a8"
             ],
             [
              0.3333333333333333,
              "#9c179e"
             ],
             [
              0.4444444444444444,
              "#bd3786"
             ],
             [
              0.5555555555555556,
              "#d8576b"
             ],
             [
              0.6666666666666666,
              "#ed7953"
             ],
             [
              0.7777777777777778,
              "#fb9f3a"
             ],
             [
              0.8888888888888888,
              "#fdca26"
             ],
             [
              1,
              "#f0f921"
             ]
            ],
            "type": "heatmapgl"
           }
          ],
          "histogram": [
           {
            "marker": {
             "colorbar": {
              "outlinewidth": 0,
              "ticks": ""
             }
            },
            "type": "histogram"
           }
          ],
          "histogram2d": [
           {
            "colorbar": {
             "outlinewidth": 0,
             "ticks": ""
            },
            "colorscale": [
             [
              0,
              "#0d0887"
             ],
             [
              0.1111111111111111,
              "#46039f"
             ],
             [
              0.2222222222222222,
              "#7201a8"
             ],
             [
              0.3333333333333333,
              "#9c179e"
             ],
             [
              0.4444444444444444,
              "#bd3786"
             ],
             [
              0.5555555555555556,
              "#d8576b"
             ],
             [
              0.6666666666666666,
              "#ed7953"
             ],
             [
              0.7777777777777778,
              "#fb9f3a"
             ],
             [
              0.8888888888888888,
              "#fdca26"
             ],
             [
              1,
              "#f0f921"
             ]
            ],
            "type": "histogram2d"
           }
          ],
          "histogram2dcontour": [
           {
            "colorbar": {
             "outlinewidth": 0,
             "ticks": ""
            },
            "colorscale": [
             [
              0,
              "#0d0887"
             ],
             [
              0.1111111111111111,
              "#46039f"
             ],
             [
              0.2222222222222222,
              "#7201a8"
             ],
             [
              0.3333333333333333,
              "#9c179e"
             ],
             [
              0.4444444444444444,
              "#bd3786"
             ],
             [
              0.5555555555555556,
              "#d8576b"
             ],
             [
              0.6666666666666666,
              "#ed7953"
             ],
             [
              0.7777777777777778,
              "#fb9f3a"
             ],
             [
              0.8888888888888888,
              "#fdca26"
             ],
             [
              1,
              "#f0f921"
             ]
            ],
            "type": "histogram2dcontour"
           }
          ],
          "mesh3d": [
           {
            "colorbar": {
             "outlinewidth": 0,
             "ticks": ""
            },
            "type": "mesh3d"
           }
          ],
          "parcoords": [
           {
            "line": {
             "colorbar": {
              "outlinewidth": 0,
              "ticks": ""
             }
            },
            "type": "parcoords"
           }
          ],
          "pie": [
           {
            "automargin": true,
            "type": "pie"
           }
          ],
          "scatter": [
           {
            "marker": {
             "colorbar": {
              "outlinewidth": 0,
              "ticks": ""
             }
            },
            "type": "scatter"
           }
          ],
          "scatter3d": [
           {
            "line": {
             "colorbar": {
              "outlinewidth": 0,
              "ticks": ""
             }
            },
            "marker": {
             "colorbar": {
              "outlinewidth": 0,
              "ticks": ""
             }
            },
            "type": "scatter3d"
           }
          ],
          "scattercarpet": [
           {
            "marker": {
             "colorbar": {
              "outlinewidth": 0,
              "ticks": ""
             }
            },
            "type": "scattercarpet"
           }
          ],
          "scattergeo": [
           {
            "marker": {
             "colorbar": {
              "outlinewidth": 0,
              "ticks": ""
             }
            },
            "type": "scattergeo"
           }
          ],
          "scattergl": [
           {
            "marker": {
             "colorbar": {
              "outlinewidth": 0,
              "ticks": ""
             }
            },
            "type": "scattergl"
           }
          ],
          "scattermapbox": [
           {
            "marker": {
             "colorbar": {
              "outlinewidth": 0,
              "ticks": ""
             }
            },
            "type": "scattermapbox"
           }
          ],
          "scatterpolar": [
           {
            "marker": {
             "colorbar": {
              "outlinewidth": 0,
              "ticks": ""
             }
            },
            "type": "scatterpolar"
           }
          ],
          "scatterpolargl": [
           {
            "marker": {
             "colorbar": {
              "outlinewidth": 0,
              "ticks": ""
             }
            },
            "type": "scatterpolargl"
           }
          ],
          "scatterternary": [
           {
            "marker": {
             "colorbar": {
              "outlinewidth": 0,
              "ticks": ""
             }
            },
            "type": "scatterternary"
           }
          ],
          "surface": [
           {
            "colorbar": {
             "outlinewidth": 0,
             "ticks": ""
            },
            "colorscale": [
             [
              0,
              "#0d0887"
             ],
             [
              0.1111111111111111,
              "#46039f"
             ],
             [
              0.2222222222222222,
              "#7201a8"
             ],
             [
              0.3333333333333333,
              "#9c179e"
             ],
             [
              0.4444444444444444,
              "#bd3786"
             ],
             [
              0.5555555555555556,
              "#d8576b"
             ],
             [
              0.6666666666666666,
              "#ed7953"
             ],
             [
              0.7777777777777778,
              "#fb9f3a"
             ],
             [
              0.8888888888888888,
              "#fdca26"
             ],
             [
              1,
              "#f0f921"
             ]
            ],
            "type": "surface"
           }
          ],
          "table": [
           {
            "cells": {
             "fill": {
              "color": "#EBF0F8"
             },
             "line": {
              "color": "white"
             }
            },
            "header": {
             "fill": {
              "color": "#C8D4E3"
             },
             "line": {
              "color": "white"
             }
            },
            "type": "table"
           }
          ]
         },
         "layout": {
          "annotationdefaults": {
           "arrowcolor": "#2a3f5f",
           "arrowhead": 0,
           "arrowwidth": 1
          },
          "coloraxis": {
           "colorbar": {
            "outlinewidth": 0,
            "ticks": ""
           }
          },
          "colorscale": {
           "diverging": [
            [
             0,
             "#8e0152"
            ],
            [
             0.1,
             "#c51b7d"
            ],
            [
             0.2,
             "#de77ae"
            ],
            [
             0.3,
             "#f1b6da"
            ],
            [
             0.4,
             "#fde0ef"
            ],
            [
             0.5,
             "#f7f7f7"
            ],
            [
             0.6,
             "#e6f5d0"
            ],
            [
             0.7,
             "#b8e186"
            ],
            [
             0.8,
             "#7fbc41"
            ],
            [
             0.9,
             "#4d9221"
            ],
            [
             1,
             "#276419"
            ]
           ],
           "sequential": [
            [
             0,
             "#0d0887"
            ],
            [
             0.1111111111111111,
             "#46039f"
            ],
            [
             0.2222222222222222,
             "#7201a8"
            ],
            [
             0.3333333333333333,
             "#9c179e"
            ],
            [
             0.4444444444444444,
             "#bd3786"
            ],
            [
             0.5555555555555556,
             "#d8576b"
            ],
            [
             0.6666666666666666,
             "#ed7953"
            ],
            [
             0.7777777777777778,
             "#fb9f3a"
            ],
            [
             0.8888888888888888,
             "#fdca26"
            ],
            [
             1,
             "#f0f921"
            ]
           ],
           "sequentialminus": [
            [
             0,
             "#0d0887"
            ],
            [
             0.1111111111111111,
             "#46039f"
            ],
            [
             0.2222222222222222,
             "#7201a8"
            ],
            [
             0.3333333333333333,
             "#9c179e"
            ],
            [
             0.4444444444444444,
             "#bd3786"
            ],
            [
             0.5555555555555556,
             "#d8576b"
            ],
            [
             0.6666666666666666,
             "#ed7953"
            ],
            [
             0.7777777777777778,
             "#fb9f3a"
            ],
            [
             0.8888888888888888,
             "#fdca26"
            ],
            [
             1,
             "#f0f921"
            ]
           ]
          },
          "colorway": [
           "#636efa",
           "#EF553B",
           "#00cc96",
           "#ab63fa",
           "#FFA15A",
           "#19d3f3",
           "#FF6692",
           "#B6E880",
           "#FF97FF",
           "#FECB52"
          ],
          "font": {
           "color": "#2a3f5f"
          },
          "geo": {
           "bgcolor": "white",
           "lakecolor": "white",
           "landcolor": "#E5ECF6",
           "showlakes": true,
           "showland": true,
           "subunitcolor": "white"
          },
          "hoverlabel": {
           "align": "left"
          },
          "hovermode": "closest",
          "mapbox": {
           "style": "light"
          },
          "paper_bgcolor": "white",
          "plot_bgcolor": "#E5ECF6",
          "polar": {
           "angularaxis": {
            "gridcolor": "white",
            "linecolor": "white",
            "ticks": ""
           },
           "bgcolor": "#E5ECF6",
           "radialaxis": {
            "gridcolor": "white",
            "linecolor": "white",
            "ticks": ""
           }
          },
          "scene": {
           "xaxis": {
            "backgroundcolor": "#E5ECF6",
            "gridcolor": "white",
            "gridwidth": 2,
            "linecolor": "white",
            "showbackground": true,
            "ticks": "",
            "zerolinecolor": "white"
           },
           "yaxis": {
            "backgroundcolor": "#E5ECF6",
            "gridcolor": "white",
            "gridwidth": 2,
            "linecolor": "white",
            "showbackground": true,
            "ticks": "",
            "zerolinecolor": "white"
           },
           "zaxis": {
            "backgroundcolor": "#E5ECF6",
            "gridcolor": "white",
            "gridwidth": 2,
            "linecolor": "white",
            "showbackground": true,
            "ticks": "",
            "zerolinecolor": "white"
           }
          },
          "shapedefaults": {
           "line": {
            "color": "#2a3f5f"
           }
          },
          "ternary": {
           "aaxis": {
            "gridcolor": "white",
            "linecolor": "white",
            "ticks": ""
           },
           "baxis": {
            "gridcolor": "white",
            "linecolor": "white",
            "ticks": ""
           },
           "bgcolor": "#E5ECF6",
           "caxis": {
            "gridcolor": "white",
            "linecolor": "white",
            "ticks": ""
           }
          },
          "title": {
           "x": 0.05
          },
          "xaxis": {
           "automargin": true,
           "gridcolor": "white",
           "linecolor": "white",
           "ticks": "",
           "title": {
            "standoff": 15
           },
           "zerolinecolor": "white",
           "zerolinewidth": 2
          },
          "yaxis": {
           "automargin": true,
           "gridcolor": "white",
           "linecolor": "white",
           "ticks": "",
           "title": {
            "standoff": 15
           },
           "zerolinecolor": "white",
           "zerolinewidth": 2
          }
         }
        }
       }
      },
      "text/html": [
       "<div>\n",
       "        \n",
       "        \n",
       "            <div id=\"7d6d9f00-067e-4b1b-8d43-552b24ff9698\" class=\"plotly-graph-div\" style=\"height:525px; width:100%;\"></div>\n",
       "            <script type=\"text/javascript\">\n",
       "                require([\"plotly\"], function(Plotly) {\n",
       "                    window.PLOTLYENV=window.PLOTLYENV || {};\n",
       "                    \n",
       "                if (document.getElementById(\"7d6d9f00-067e-4b1b-8d43-552b24ff9698\")) {\n",
       "                    Plotly.newPlot(\n",
       "                        '7d6d9f00-067e-4b1b-8d43-552b24ff9698',\n",
       "                        [{\"hovertemplate\": \"color=b<br>x=%{x}<br>y=%{y}<br>z=%{z}<extra></extra>\", \"legendgroup\": \"b\", \"marker\": {\"color\": \"#636efa\", \"symbol\": \"circle\"}, \"mode\": \"markers\", \"name\": \"b\", \"scene\": \"scene\", \"showlegend\": true, \"type\": \"scatter3d\", \"x\": [28.30108642578125, 26.29762077331543, 5.728934288024902, -113.40421295166016, 106.77649688720703, -96.20701599121094, 78.37213134765625, 99.11095428466797, 55.45760726928711, 1.07832932472229, -74.07640838623047, -0.4531852602958679, -40.19692611694336, -14.993268966674805, 101.69952392578125, 55.16452407836914, 29.928075790405273, 28.610366821289062, -21.316509246826172, -28.006072998046875, -29.29384422302246, -51.052040100097656, -15.534259796142578, 107.01024627685547, 125.0731430053711, 3.0444579124450684, 59.57521438598633, 57.39065170288086, 54.41204833984375, -4.7748308181762695, 26.932554244995117, 10.017970085144043], \"y\": [-29.335941314697266, -46.43716812133789, -61.27741241455078, -6.468031883239746, -24.010103225708008, 21.411666870117188, -23.37006378173828, -32.5443115234375, -1.1811611652374268, -7.184613227844238, -125.27983856201172, -62.25715255737305, -100.20623779296875, -108.08892059326172, 15.41886043548584, -149.22537231445312, -14.662388801574707, -25.072525024414062, -21.445436477661133, -71.90929412841797, -107.25515747070312, -69.02371215820312, -5.767638683319092, 3.056763172149658, 32.961490631103516, -141.28150939941406, 21.030988693237305, -39.965030670166016, 1.5292048454284668, -29.10240936279297, -6.781584739685059, -41.2825813293457], \"z\": [139.7051544189453, 101.4423828125, 117.693115234375, 49.24877166748047, 87.48560333251953, 23.827926635742188, 81.76483154296875, 64.19390106201172, 133.9805450439453, 120.75043487548828, -80.5418930053711, 94.0846939086914, 80.64258575439453, 82.3208999633789, 73.35597229003906, -71.5427474975586, 36.25991439819336, 70.19519805908203, 96.73627471923828, 105.37286376953125, 111.84712219238281, 86.0837173461914, -151.1620330810547, 37.357666015625, 38.043914794921875, -9.579055786132812, 90.54266357421875, 47.073734283447266, 64.97332763671875, 52.877933502197266, 126.49319458007812, 75.63468170166016]}, {\"hovertemplate\": \"color=g<br>x=%{x}<br>y=%{y}<br>z=%{z}<extra></extra>\", \"legendgroup\": \"g\", \"marker\": {\"color\": \"#EF553B\", \"symbol\": \"circle\"}, \"mode\": \"markers\", \"name\": \"g\", \"scene\": \"scene\", \"showlegend\": true, \"type\": \"scatter3d\", \"x\": [18.294273376464844, 4.381782054901123, -48.64336013793945, 70.91040802001953, -37.861572265625, 61.56956100463867, -65.09832763671875, 5.623311519622803, -38.39058303833008, -70.7130126953125, -73.10366821289062, -71.93489074707031, -129.9761199951172, -90.97917938232422, 9.25240421295166, 111.94042205810547, 123.41390228271484, 95.84404754638672, 94.26802062988281, 128.97775268554688, 67.27718353271484, 52.45640563964844, 41.97906494140625, 28.957834243774414, 82.03409576416016, -95.5858154296875, 51.906585693359375, -21.401409149169922, -84.9556655883789, -9.91364860534668, 0.46612122654914856, 5.138884544372559, -29.544748306274414, -125.42972564697266, -104.95231628417969, -52.966983795166016, -50.95798110961914, -79.42424774169922, 148.85203552246094, 17.58637237548828, -87.15564727783203, -105.11154174804688, -71.521240234375, -108.98308563232422, 76.88330078125, -115.86746215820312, 15.673311233520508, 80.17227935791016, 29.326496124267578, 44.60950469970703, -1.625281810760498, 7.399081230163574, 57.884193420410156, -16.564910888671875, -26.64740753173828, -25.52436637878418, 27.571491241455078, -36.04738998413086, -96.2090072631836, -55.9591178894043, -91.31482696533203, 83.12360382080078, 51.9532356262207, 118.17196655273438, 54.63101577758789, 105.11182403564453, 78.37376403808594, -27.23348617553711, 65.52946472167969, 76.15531158447266, -2.804884910583496, -31.46645164489746, 58.80546569824219, 29.57501220703125, 10.665125846862793, 39.583892822265625, 24.39071273803711, 19.948266983032227, 44.34986114501953, 11.916367530822754, 15.34061336517334, 104.56343078613281, -63.56775665283203, 84.55433654785156, -17.96150016784668, -113.54634094238281, 27.968379974365234], \"y\": [2.866222620010376, 46.2184944152832, -66.05235290527344, 85.13898468017578, -18.35761260986328, 92.49848937988281, -74.08952331542969, 46.50096893310547, 55.41550064086914, 93.31732940673828, 66.21369171142578, 20.59477996826172, -38.551998138427734, 46.038475036621094, -136.60890197753906, -41.590328216552734, -21.6508846282959, -19.931631088256836, -62.754146575927734, -27.37866973876953, -80.29693603515625, -53.02906036376953, -70.4402847290039, -42.58951950073242, -106.51311492919922, -14.15266227722168, -18.06233024597168, -68.48265075683594, -39.64781951904297, 27.251632690429688, -97.1900863647461, 12.656926155090332, 76.67964935302734, -11.450857162475586, -18.8223934173584, 43.96458053588867, 20.97907257080078, 34.94021987915039, 29.38515853881836, -117.70535278320312, -4.547524452209473, 20.837507247924805, -22.7823543548584, -57.5239372253418, -72.60895538330078, 41.78904342651367, 31.4012508392334, -101.36802673339844, -91.33829498291016, -89.45818328857422, -42.9495735168457, -87.11530303955078, 37.322628021240234, -92.24745178222656, 4.528745651245117, -39.92411422729492, 22.202695846557617, 15.204238891601562, 82.29426574707031, 41.654266357421875, -14.619759559631348, 112.52616882324219, -31.037792205810547, 50.36984634399414, -88.37557220458984, -55.80735778808594, -32.58287048339844, -69.30982208251953, -79.40715789794922, -88.63074493408203, 123.20941925048828, -97.45651245117188, -93.25309753417969, -79.3879623413086, -13.645501136779785, -117.7402572631836, -47.73162078857422, -67.68379211425781, -57.81345748901367, -61.66008758544922, 93.76695251464844, 68.43672180175781, 68.59616088867188, 60.833431243896484, -64.44007110595703, -77.73400115966797, 31.145828247070312], \"z\": [-39.826656341552734, -33.876991271972656, -87.8196029663086, -58.56929397583008, -17.265701293945312, -39.00954818725586, -58.05626678466797, -68.57613372802734, -16.007524490356445, -71.52239990234375, -73.06127166748047, -53.916343688964844, -74.5615005493164, -55.26541519165039, 141.69509887695312, -30.62385368347168, -19.554325103759766, -21.96593475341797, -7.805119514465332, -50.22336196899414, 22.479522705078125, -105.84088134765625, 45.484046936035156, -76.03746032714844, 22.054569244384766, -17.16590118408203, -125.68080139160156, -59.17657470703125, 20.01532745361328, -33.78425979614258, -48.99787139892578, -64.55409240722656, -27.96103286743164, -108.86188507080078, -71.75180053710938, -97.470703125, -90.14086151123047, -79.02296447753906, -57.251953125, 94.33084869384766, -104.72406005859375, -66.283935546875, -112.97374725341797, -87.36990356445312, -99.18119812011719, 75.12604522705078, -117.0553970336914, -21.429935455322266, 11.622870445251465, -80.32598876953125, -29.9702205657959, -93.66180419921875, -24.213417053222656, -74.32865905761719, -41.989227294921875, -93.71894073486328, -58.995182037353516, -11.98563003540039, -81.09839630126953, -60.842193603515625, -135.8855743408203, -30.331941604614258, -63.928184509277344, -2.266155958175659, -123.64339447021484, -70.57806396484375, -42.097042083740234, -5.8304548263549805, -68.9145736694336, -130.74107360839844, -22.072265625, 17.62006187438965, 41.91120529174805, -9.886897087097168, -11.697397232055664, 35.377342224121094, -111.95408630371094, -89.41258239746094, -9.710448265075684, -4.134561061859131, -52.714683532714844, -36.02167892456055, -141.43917846679688, -7.967667102813721, -91.4361343383789, -30.836645126342773, -22.7294921875]}, {\"hovertemplate\": \"color=r<br>x=%{x}<br>y=%{y}<br>z=%{z}<extra></extra>\", \"legendgroup\": \"r\", \"marker\": {\"color\": \"#00cc96\", \"symbol\": \"circle\"}, \"mode\": \"markers\", \"name\": \"r\", \"scene\": \"scene\", \"showlegend\": true, \"type\": \"scatter3d\", \"x\": [-26.327735900878906, 40.81440734863281, 10.259550094604492, 10.608201026916504, -103.80780029296875, 11.391904830932617, -38.44204330444336, -40.91567611694336, -41.78425598144531, -17.94430923461914, -8.155787467956543, -13.997639656066895, -32.649505615234375, -40.0865478515625, -48.55593490600586, 11.686193466186523, 14.619705200195312, -20.973346710205078, 13.237298011779785, -59.73965072631836, -43.03049850463867, -51.19636917114258, -16.610363006591797, -33.82715606689453, -42.53006362915039, -105.51504516601562, -84.8836669921875, -68.91437530517578, -89.5202865600586, 8.823824882507324, -14.398103713989258], \"y\": [102.18022918701172, 78.68073272705078, 49.92769241333008, 109.03203582763672, 106.73690795898438, 83.64488220214844, -13.213740348815918, 95.6641616821289, 117.56416320800781, 105.63690185546875, 57.14522171020508, 39.05543518066406, 69.55807495117188, 41.7813835144043, 79.26622009277344, 81.1339340209961, 45.86741638183594, 71.80307006835938, 89.33545684814453, 130.75039672851562, 2.949150800704956, -25.66864013671875, 20.77647590637207, 46.00465774536133, 75.09690856933594, 122.4852523803711, 131.8226318359375, 106.84310150146484, 119.9304428100586, 117.12848663330078, 74.33403015136719], \"z\": [27.116313934326172, 111.3680648803711, 157.01251220703125, 100.29840850830078, 48.92349624633789, 94.57202911376953, 114.57267761230469, 76.70952606201172, 56.434852600097656, 63.74533462524414, 61.805335998535156, 35.36777877807617, 57.66705322265625, 46.85639190673828, 35.39881896972656, 24.780305862426758, 28.21385955810547, 29.814125061035156, 128.42897033691406, -1.6793709993362427, 60.941184997558594, 81.8615493774414, 61.41954803466797, 74.165771484375, 122.59669494628906, 29.542829513549805, 50.4751091003418, 4.758296489715576, 94.78876495361328, -102.22391510009766, 129.1007843017578]}],\n",
       "                        {\"legend\": {\"title\": {\"text\": \"color\"}, \"tracegroupgap\": 0}, \"margin\": {\"t\": 60}, \"scene\": {\"domain\": {\"x\": [0.0, 1.0], \"y\": [0.0, 1.0]}, \"xaxis\": {\"title\": {\"text\": \"x\"}}, \"yaxis\": {\"title\": {\"text\": \"y\"}}, \"zaxis\": {\"title\": {\"text\": \"z\"}}}, \"template\": {\"data\": {\"bar\": [{\"error_x\": {\"color\": \"#2a3f5f\"}, \"error_y\": {\"color\": \"#2a3f5f\"}, \"marker\": {\"line\": {\"color\": \"#E5ECF6\", \"width\": 0.5}}, \"type\": \"bar\"}], \"barpolar\": [{\"marker\": {\"line\": {\"color\": \"#E5ECF6\", \"width\": 0.5}}, \"type\": \"barpolar\"}], \"carpet\": [{\"aaxis\": {\"endlinecolor\": \"#2a3f5f\", \"gridcolor\": \"white\", \"linecolor\": \"white\", \"minorgridcolor\": \"white\", \"startlinecolor\": \"#2a3f5f\"}, \"baxis\": {\"endlinecolor\": \"#2a3f5f\", \"gridcolor\": \"white\", \"linecolor\": \"white\", \"minorgridcolor\": \"white\", \"startlinecolor\": \"#2a3f5f\"}, \"type\": \"carpet\"}], \"choropleth\": [{\"colorbar\": {\"outlinewidth\": 0, \"ticks\": \"\"}, \"type\": \"choropleth\"}], \"contour\": [{\"colorbar\": {\"outlinewidth\": 0, \"ticks\": \"\"}, \"colorscale\": [[0.0, \"#0d0887\"], [0.1111111111111111, \"#46039f\"], [0.2222222222222222, \"#7201a8\"], [0.3333333333333333, \"#9c179e\"], [0.4444444444444444, \"#bd3786\"], [0.5555555555555556, \"#d8576b\"], [0.6666666666666666, \"#ed7953\"], [0.7777777777777778, \"#fb9f3a\"], [0.8888888888888888, \"#fdca26\"], [1.0, \"#f0f921\"]], \"type\": \"contour\"}], \"contourcarpet\": [{\"colorbar\": {\"outlinewidth\": 0, \"ticks\": \"\"}, \"type\": \"contourcarpet\"}], \"heatmap\": [{\"colorbar\": {\"outlinewidth\": 0, \"ticks\": \"\"}, \"colorscale\": [[0.0, \"#0d0887\"], [0.1111111111111111, \"#46039f\"], [0.2222222222222222, \"#7201a8\"], [0.3333333333333333, \"#9c179e\"], [0.4444444444444444, \"#bd3786\"], [0.5555555555555556, \"#d8576b\"], [0.6666666666666666, \"#ed7953\"], [0.7777777777777778, \"#fb9f3a\"], [0.8888888888888888, \"#fdca26\"], [1.0, \"#f0f921\"]], \"type\": \"heatmap\"}], \"heatmapgl\": [{\"colorbar\": {\"outlinewidth\": 0, \"ticks\": \"\"}, \"colorscale\": [[0.0, \"#0d0887\"], [0.1111111111111111, \"#46039f\"], [0.2222222222222222, \"#7201a8\"], [0.3333333333333333, \"#9c179e\"], [0.4444444444444444, \"#bd3786\"], [0.5555555555555556, \"#d8576b\"], [0.6666666666666666, \"#ed7953\"], [0.7777777777777778, \"#fb9f3a\"], [0.8888888888888888, \"#fdca26\"], [1.0, \"#f0f921\"]], \"type\": \"heatmapgl\"}], \"histogram\": [{\"marker\": {\"colorbar\": {\"outlinewidth\": 0, \"ticks\": \"\"}}, \"type\": \"histogram\"}], \"histogram2d\": [{\"colorbar\": {\"outlinewidth\": 0, \"ticks\": \"\"}, \"colorscale\": [[0.0, \"#0d0887\"], [0.1111111111111111, \"#46039f\"], [0.2222222222222222, \"#7201a8\"], [0.3333333333333333, \"#9c179e\"], [0.4444444444444444, \"#bd3786\"], [0.5555555555555556, \"#d8576b\"], [0.6666666666666666, \"#ed7953\"], [0.7777777777777778, \"#fb9f3a\"], [0.8888888888888888, \"#fdca26\"], [1.0, \"#f0f921\"]], \"type\": \"histogram2d\"}], \"histogram2dcontour\": [{\"colorbar\": {\"outlinewidth\": 0, \"ticks\": \"\"}, \"colorscale\": [[0.0, \"#0d0887\"], [0.1111111111111111, \"#46039f\"], [0.2222222222222222, \"#7201a8\"], [0.3333333333333333, \"#9c179e\"], [0.4444444444444444, \"#bd3786\"], [0.5555555555555556, \"#d8576b\"], [0.6666666666666666, \"#ed7953\"], [0.7777777777777778, \"#fb9f3a\"], [0.8888888888888888, \"#fdca26\"], [1.0, \"#f0f921\"]], \"type\": \"histogram2dcontour\"}], \"mesh3d\": [{\"colorbar\": {\"outlinewidth\": 0, \"ticks\": \"\"}, \"type\": \"mesh3d\"}], \"parcoords\": [{\"line\": {\"colorbar\": {\"outlinewidth\": 0, \"ticks\": \"\"}}, \"type\": \"parcoords\"}], \"pie\": [{\"automargin\": true, \"type\": \"pie\"}], \"scatter\": [{\"marker\": {\"colorbar\": {\"outlinewidth\": 0, \"ticks\": \"\"}}, \"type\": \"scatter\"}], \"scatter3d\": [{\"line\": {\"colorbar\": {\"outlinewidth\": 0, \"ticks\": \"\"}}, \"marker\": {\"colorbar\": {\"outlinewidth\": 0, \"ticks\": \"\"}}, \"type\": \"scatter3d\"}], \"scattercarpet\": [{\"marker\": {\"colorbar\": {\"outlinewidth\": 0, \"ticks\": \"\"}}, \"type\": \"scattercarpet\"}], \"scattergeo\": [{\"marker\": {\"colorbar\": {\"outlinewidth\": 0, \"ticks\": \"\"}}, \"type\": \"scattergeo\"}], \"scattergl\": [{\"marker\": {\"colorbar\": {\"outlinewidth\": 0, \"ticks\": \"\"}}, \"type\": \"scattergl\"}], \"scattermapbox\": [{\"marker\": {\"colorbar\": {\"outlinewidth\": 0, \"ticks\": \"\"}}, \"type\": \"scattermapbox\"}], \"scatterpolar\": [{\"marker\": {\"colorbar\": {\"outlinewidth\": 0, \"ticks\": \"\"}}, \"type\": \"scatterpolar\"}], \"scatterpolargl\": [{\"marker\": {\"colorbar\": {\"outlinewidth\": 0, \"ticks\": \"\"}}, \"type\": \"scatterpolargl\"}], \"scatterternary\": [{\"marker\": {\"colorbar\": {\"outlinewidth\": 0, \"ticks\": \"\"}}, \"type\": \"scatterternary\"}], \"surface\": [{\"colorbar\": {\"outlinewidth\": 0, \"ticks\": \"\"}, \"colorscale\": [[0.0, \"#0d0887\"], [0.1111111111111111, \"#46039f\"], [0.2222222222222222, \"#7201a8\"], [0.3333333333333333, \"#9c179e\"], [0.4444444444444444, \"#bd3786\"], [0.5555555555555556, \"#d8576b\"], [0.6666666666666666, \"#ed7953\"], [0.7777777777777778, \"#fb9f3a\"], [0.8888888888888888, \"#fdca26\"], [1.0, \"#f0f921\"]], \"type\": \"surface\"}], \"table\": [{\"cells\": {\"fill\": {\"color\": \"#EBF0F8\"}, \"line\": {\"color\": \"white\"}}, \"header\": {\"fill\": {\"color\": \"#C8D4E3\"}, \"line\": {\"color\": \"white\"}}, \"type\": \"table\"}]}, \"layout\": {\"annotationdefaults\": {\"arrowcolor\": \"#2a3f5f\", \"arrowhead\": 0, \"arrowwidth\": 1}, \"coloraxis\": {\"colorbar\": {\"outlinewidth\": 0, \"ticks\": \"\"}}, \"colorscale\": {\"diverging\": [[0, \"#8e0152\"], [0.1, \"#c51b7d\"], [0.2, \"#de77ae\"], [0.3, \"#f1b6da\"], [0.4, \"#fde0ef\"], [0.5, \"#f7f7f7\"], [0.6, \"#e6f5d0\"], [0.7, \"#b8e186\"], [0.8, \"#7fbc41\"], [0.9, \"#4d9221\"], [1, \"#276419\"]], \"sequential\": [[0.0, \"#0d0887\"], [0.1111111111111111, \"#46039f\"], [0.2222222222222222, \"#7201a8\"], [0.3333333333333333, \"#9c179e\"], [0.4444444444444444, \"#bd3786\"], [0.5555555555555556, \"#d8576b\"], [0.6666666666666666, \"#ed7953\"], [0.7777777777777778, \"#fb9f3a\"], [0.8888888888888888, \"#fdca26\"], [1.0, \"#f0f921\"]], \"sequentialminus\": [[0.0, \"#0d0887\"], [0.1111111111111111, \"#46039f\"], [0.2222222222222222, \"#7201a8\"], [0.3333333333333333, \"#9c179e\"], [0.4444444444444444, \"#bd3786\"], [0.5555555555555556, \"#d8576b\"], [0.6666666666666666, \"#ed7953\"], [0.7777777777777778, \"#fb9f3a\"], [0.8888888888888888, \"#fdca26\"], [1.0, \"#f0f921\"]]}, \"colorway\": [\"#636efa\", \"#EF553B\", \"#00cc96\", \"#ab63fa\", \"#FFA15A\", \"#19d3f3\", \"#FF6692\", \"#B6E880\", \"#FF97FF\", \"#FECB52\"], \"font\": {\"color\": \"#2a3f5f\"}, \"geo\": {\"bgcolor\": \"white\", \"lakecolor\": \"white\", \"landcolor\": \"#E5ECF6\", \"showlakes\": true, \"showland\": true, \"subunitcolor\": \"white\"}, \"hoverlabel\": {\"align\": \"left\"}, \"hovermode\": \"closest\", \"mapbox\": {\"style\": \"light\"}, \"paper_bgcolor\": \"white\", \"plot_bgcolor\": \"#E5ECF6\", \"polar\": {\"angularaxis\": {\"gridcolor\": \"white\", \"linecolor\": \"white\", \"ticks\": \"\"}, \"bgcolor\": \"#E5ECF6\", \"radialaxis\": {\"gridcolor\": \"white\", \"linecolor\": \"white\", \"ticks\": \"\"}}, \"scene\": {\"xaxis\": {\"backgroundcolor\": \"#E5ECF6\", \"gridcolor\": \"white\", \"gridwidth\": 2, \"linecolor\": \"white\", \"showbackground\": true, \"ticks\": \"\", \"zerolinecolor\": \"white\"}, \"yaxis\": {\"backgroundcolor\": \"#E5ECF6\", \"gridcolor\": \"white\", \"gridwidth\": 2, \"linecolor\": \"white\", \"showbackground\": true, \"ticks\": \"\", \"zerolinecolor\": \"white\"}, \"zaxis\": {\"backgroundcolor\": \"#E5ECF6\", \"gridcolor\": \"white\", \"gridwidth\": 2, \"linecolor\": \"white\", \"showbackground\": true, \"ticks\": \"\", \"zerolinecolor\": \"white\"}}, \"shapedefaults\": {\"line\": {\"color\": \"#2a3f5f\"}}, \"ternary\": {\"aaxis\": {\"gridcolor\": \"white\", \"linecolor\": \"white\", \"ticks\": \"\"}, \"baxis\": {\"gridcolor\": \"white\", \"linecolor\": \"white\", \"ticks\": \"\"}, \"bgcolor\": \"#E5ECF6\", \"caxis\": {\"gridcolor\": \"white\", \"linecolor\": \"white\", \"ticks\": \"\"}}, \"title\": {\"x\": 0.05}, \"xaxis\": {\"automargin\": true, \"gridcolor\": \"white\", \"linecolor\": \"white\", \"ticks\": \"\", \"title\": {\"standoff\": 15}, \"zerolinecolor\": \"white\", \"zerolinewidth\": 2}, \"yaxis\": {\"automargin\": true, \"gridcolor\": \"white\", \"linecolor\": \"white\", \"ticks\": \"\", \"title\": {\"standoff\": 15}, \"zerolinecolor\": \"white\", \"zerolinewidth\": 2}}}},\n",
       "                        {\"responsive\": true}\n",
       "                    ).then(function(){\n",
       "                            \n",
       "var gd = document.getElementById('7d6d9f00-067e-4b1b-8d43-552b24ff9698');\n",
       "var x = new MutationObserver(function (mutations, observer) {{\n",
       "        var display = window.getComputedStyle(gd).display;\n",
       "        if (!display || display === 'none') {{\n",
       "            console.log([gd, 'removed!']);\n",
       "            Plotly.purge(gd);\n",
       "            observer.disconnect();\n",
       "        }}\n",
       "}});\n",
       "\n",
       "// Listen for the removal of the full notebook cells\n",
       "var notebookContainer = gd.closest('#notebook-container');\n",
       "if (notebookContainer) {{\n",
       "    x.observe(notebookContainer, {childList: true});\n",
       "}}\n",
       "\n",
       "// Listen for the clearing of the current output cell\n",
       "var outputEl = gd.closest('.output');\n",
       "if (outputEl) {{\n",
       "    x.observe(outputEl, {childList: true});\n",
       "}}\n",
       "\n",
       "                        })\n",
       "                };\n",
       "                });\n",
       "            </script>\n",
       "        </div>"
      ]
     },
     "metadata": {},
     "output_type": "display_data"
    }
   ],
   "source": [
    "# 3 clusters\n",
    "km2 = KMeans(n_clusters=3).fit(X)\n",
    "\n",
    "# Plotando usando o TSNE\n",
    "X_embedded  = TSNE(n_components=3, perplexity=10, random_state=24).fit_transform( X )\n",
    "colors = np.array([x for x in 'bgrcmykbgrcmykbgrcmykbgrcmyk'])\n",
    "\n",
    "fig = px.scatter_3d(x=X_embedded [:,0],y=X_embedded [:,1],z=X_embedded [:,2],color=colors[km2.labels_])\n",
    "fig.show()"
   ]
  },
  {
   "cell_type": "code",
   "execution_count": 995,
   "metadata": {},
   "outputs": [
    {
     "data": {
      "application/vnd.plotly.v1+json": {
       "config": {
        "plotlyServerURL": "https://plot.ly"
       },
       "data": [
        {
         "hovertemplate": "color=r<br>x=%{x}<br>y=%{y}<br>z=%{z}<extra></extra>",
         "legendgroup": "r",
         "marker": {
          "color": "#636efa",
          "symbol": "circle"
         },
         "mode": "markers",
         "name": "r",
         "scene": "scene",
         "showlegend": true,
         "type": "scatter3d",
         "x": [
          28.30108642578125,
          26.29762077331543,
          5.728934288024902,
          -113.40421295166016,
          106.77649688720703,
          -96.20701599121094,
          78.37213134765625,
          99.11095428466797,
          55.45760726928711,
          1.07832932472229,
          -74.07640838623047,
          -0.4531852602958679,
          -40.19692611694336,
          -14.993268966674805,
          101.69952392578125,
          55.16452407836914,
          29.928075790405273,
          28.610366821289062,
          -21.316509246826172,
          -28.006072998046875,
          -29.29384422302246,
          -51.052040100097656,
          -15.534259796142578,
          107.01024627685547,
          125.0731430053711,
          3.0444579124450684,
          59.57521438598633,
          57.39065170288086,
          54.41204833984375,
          -4.7748308181762695,
          26.932554244995117,
          10.017970085144043
         ],
         "y": [
          -29.335941314697266,
          -46.43716812133789,
          -61.27741241455078,
          -6.468031883239746,
          -24.010103225708008,
          21.411666870117188,
          -23.37006378173828,
          -32.5443115234375,
          -1.1811611652374268,
          -7.184613227844238,
          -125.27983856201172,
          -62.25715255737305,
          -100.20623779296875,
          -108.08892059326172,
          15.41886043548584,
          -149.22537231445312,
          -14.662388801574707,
          -25.072525024414062,
          -21.445436477661133,
          -71.90929412841797,
          -107.25515747070312,
          -69.02371215820312,
          -5.767638683319092,
          3.056763172149658,
          32.961490631103516,
          -141.28150939941406,
          21.030988693237305,
          -39.965030670166016,
          1.5292048454284668,
          -29.10240936279297,
          -6.781584739685059,
          -41.2825813293457
         ],
         "z": [
          139.7051544189453,
          101.4423828125,
          117.693115234375,
          49.24877166748047,
          87.48560333251953,
          23.827926635742188,
          81.76483154296875,
          64.19390106201172,
          133.9805450439453,
          120.75043487548828,
          -80.5418930053711,
          94.0846939086914,
          80.64258575439453,
          82.3208999633789,
          73.35597229003906,
          -71.5427474975586,
          36.25991439819336,
          70.19519805908203,
          96.73627471923828,
          105.37286376953125,
          111.84712219238281,
          86.0837173461914,
          -151.1620330810547,
          37.357666015625,
          38.043914794921875,
          -9.579055786132812,
          90.54266357421875,
          47.073734283447266,
          64.97332763671875,
          52.877933502197266,
          126.49319458007812,
          75.63468170166016
         ]
        },
        {
         "hovertemplate": "color=b<br>x=%{x}<br>y=%{y}<br>z=%{z}<extra></extra>",
         "legendgroup": "b",
         "marker": {
          "color": "#EF553B",
          "symbol": "circle"
         },
         "mode": "markers",
         "name": "b",
         "scene": "scene",
         "showlegend": true,
         "type": "scatter3d",
         "x": [
          18.294273376464844,
          4.381782054901123,
          -48.64336013793945,
          70.91040802001953,
          -37.861572265625,
          61.56956100463867,
          -65.09832763671875,
          5.623311519622803,
          -38.39058303833008,
          -70.7130126953125,
          -73.10366821289062,
          -71.93489074707031,
          -129.9761199951172,
          -90.97917938232422,
          9.25240421295166,
          51.906585693359375,
          -21.401409149169922,
          -84.9556655883789,
          -9.91364860534668,
          0.46612122654914856,
          5.138884544372559,
          -29.544748306274414,
          -125.42972564697266,
          -104.95231628417969,
          -52.966983795166016,
          -50.95798110961914,
          -79.42424774169922,
          148.85203552246094,
          17.58637237548828,
          -87.15564727783203,
          -105.11154174804688,
          -71.521240234375,
          -108.98308563232422,
          7.399081230163574,
          57.884193420410156,
          -16.564910888671875,
          -26.64740753173828,
          -25.52436637878418,
          27.571491241455078,
          -36.04738998413086,
          -96.2090072631836,
          -55.9591178894043,
          -91.31482696533203,
          83.12360382080078,
          -17.96150016784668,
          27.968379974365234
         ],
         "y": [
          2.866222620010376,
          46.2184944152832,
          -66.05235290527344,
          85.13898468017578,
          -18.35761260986328,
          92.49848937988281,
          -74.08952331542969,
          46.50096893310547,
          55.41550064086914,
          93.31732940673828,
          66.21369171142578,
          20.59477996826172,
          -38.551998138427734,
          46.038475036621094,
          -136.60890197753906,
          -18.06233024597168,
          -68.48265075683594,
          -39.64781951904297,
          27.251632690429688,
          -97.1900863647461,
          12.656926155090332,
          76.67964935302734,
          -11.450857162475586,
          -18.8223934173584,
          43.96458053588867,
          20.97907257080078,
          34.94021987915039,
          29.38515853881836,
          -117.70535278320312,
          -4.547524452209473,
          20.837507247924805,
          -22.7823543548584,
          -57.5239372253418,
          -87.11530303955078,
          37.322628021240234,
          -92.24745178222656,
          4.528745651245117,
          -39.92411422729492,
          22.202695846557617,
          15.204238891601562,
          82.29426574707031,
          41.654266357421875,
          -14.619759559631348,
          112.52616882324219,
          -64.44007110595703,
          31.145828247070312
         ],
         "z": [
          -39.826656341552734,
          -33.876991271972656,
          -87.8196029663086,
          -58.56929397583008,
          -17.265701293945312,
          -39.00954818725586,
          -58.05626678466797,
          -68.57613372802734,
          -16.007524490356445,
          -71.52239990234375,
          -73.06127166748047,
          -53.916343688964844,
          -74.5615005493164,
          -55.26541519165039,
          141.69509887695312,
          -125.68080139160156,
          -59.17657470703125,
          20.01532745361328,
          -33.78425979614258,
          -48.99787139892578,
          -64.55409240722656,
          -27.96103286743164,
          -108.86188507080078,
          -71.75180053710938,
          -97.470703125,
          -90.14086151123047,
          -79.02296447753906,
          -57.251953125,
          94.33084869384766,
          -104.72406005859375,
          -66.283935546875,
          -112.97374725341797,
          -87.36990356445312,
          -93.66180419921875,
          -24.213417053222656,
          -74.32865905761719,
          -41.989227294921875,
          -93.71894073486328,
          -58.995182037353516,
          -11.98563003540039,
          -81.09839630126953,
          -60.842193603515625,
          -135.8855743408203,
          -30.331941604614258,
          -91.4361343383789,
          -22.7294921875
         ]
        },
        {
         "hovertemplate": "color=g<br>x=%{x}<br>y=%{y}<br>z=%{z}<extra></extra>",
         "legendgroup": "g",
         "marker": {
          "color": "#00cc96",
          "symbol": "circle"
         },
         "mode": "markers",
         "name": "g",
         "scene": "scene",
         "showlegend": true,
         "type": "scatter3d",
         "x": [
          -26.327735900878906,
          40.81440734863281,
          10.259550094604492,
          10.608201026916504,
          -103.80780029296875,
          11.391904830932617,
          -38.44204330444336,
          -40.91567611694336,
          -41.78425598144531,
          -17.94430923461914,
          -8.155787467956543,
          -13.997639656066895,
          -32.649505615234375,
          -40.0865478515625,
          -48.55593490600586,
          11.686193466186523,
          14.619705200195312,
          -20.973346710205078,
          13.237298011779785,
          -59.73965072631836,
          -43.03049850463867,
          -51.19636917114258,
          -16.610363006591797,
          -33.82715606689453,
          -42.53006362915039,
          -105.51504516601562,
          -84.8836669921875,
          -68.91437530517578,
          -89.5202865600586,
          8.823824882507324,
          -14.398103713989258
         ],
         "y": [
          102.18022918701172,
          78.68073272705078,
          49.92769241333008,
          109.03203582763672,
          106.73690795898438,
          83.64488220214844,
          -13.213740348815918,
          95.6641616821289,
          117.56416320800781,
          105.63690185546875,
          57.14522171020508,
          39.05543518066406,
          69.55807495117188,
          41.7813835144043,
          79.26622009277344,
          81.1339340209961,
          45.86741638183594,
          71.80307006835938,
          89.33545684814453,
          130.75039672851562,
          2.949150800704956,
          -25.66864013671875,
          20.77647590637207,
          46.00465774536133,
          75.09690856933594,
          122.4852523803711,
          131.8226318359375,
          106.84310150146484,
          119.9304428100586,
          117.12848663330078,
          74.33403015136719
         ],
         "z": [
          27.116313934326172,
          111.3680648803711,
          157.01251220703125,
          100.29840850830078,
          48.92349624633789,
          94.57202911376953,
          114.57267761230469,
          76.70952606201172,
          56.434852600097656,
          63.74533462524414,
          61.805335998535156,
          35.36777877807617,
          57.66705322265625,
          46.85639190673828,
          35.39881896972656,
          24.780305862426758,
          28.21385955810547,
          29.814125061035156,
          128.42897033691406,
          -1.6793709993362427,
          60.941184997558594,
          81.8615493774414,
          61.41954803466797,
          74.165771484375,
          122.59669494628906,
          29.542829513549805,
          50.4751091003418,
          4.758296489715576,
          94.78876495361328,
          -102.22391510009766,
          129.1007843017578
         ]
        },
        {
         "hovertemplate": "color=c<br>x=%{x}<br>y=%{y}<br>z=%{z}<extra></extra>",
         "legendgroup": "c",
         "marker": {
          "color": "#ab63fa",
          "symbol": "circle"
         },
         "mode": "markers",
         "name": "c",
         "scene": "scene",
         "showlegend": true,
         "type": "scatter3d",
         "x": [
          111.94042205810547,
          123.41390228271484,
          95.84404754638672,
          94.26802062988281,
          128.97775268554688,
          67.27718353271484,
          52.45640563964844,
          41.97906494140625,
          28.957834243774414,
          82.03409576416016,
          -95.5858154296875,
          76.88330078125,
          -115.86746215820312,
          15.673311233520508,
          80.17227935791016,
          29.326496124267578,
          44.60950469970703,
          -1.625281810760498,
          51.9532356262207,
          118.17196655273438,
          54.63101577758789,
          105.11182403564453,
          78.37376403808594,
          -27.23348617553711,
          65.52946472167969,
          76.15531158447266,
          -2.804884910583496,
          -31.46645164489746,
          58.80546569824219,
          29.57501220703125,
          10.665125846862793,
          39.583892822265625,
          24.39071273803711,
          19.948266983032227,
          44.34986114501953,
          11.916367530822754,
          15.34061336517334,
          104.56343078613281,
          -63.56775665283203,
          84.55433654785156,
          -113.54634094238281
         ],
         "y": [
          -41.590328216552734,
          -21.6508846282959,
          -19.931631088256836,
          -62.754146575927734,
          -27.37866973876953,
          -80.29693603515625,
          -53.02906036376953,
          -70.4402847290039,
          -42.58951950073242,
          -106.51311492919922,
          -14.15266227722168,
          -72.60895538330078,
          41.78904342651367,
          31.4012508392334,
          -101.36802673339844,
          -91.33829498291016,
          -89.45818328857422,
          -42.9495735168457,
          -31.037792205810547,
          50.36984634399414,
          -88.37557220458984,
          -55.80735778808594,
          -32.58287048339844,
          -69.30982208251953,
          -79.40715789794922,
          -88.63074493408203,
          123.20941925048828,
          -97.45651245117188,
          -93.25309753417969,
          -79.3879623413086,
          -13.645501136779785,
          -117.7402572631836,
          -47.73162078857422,
          -67.68379211425781,
          -57.81345748901367,
          -61.66008758544922,
          93.76695251464844,
          68.43672180175781,
          68.59616088867188,
          60.833431243896484,
          -77.73400115966797
         ],
         "z": [
          -30.62385368347168,
          -19.554325103759766,
          -21.96593475341797,
          -7.805119514465332,
          -50.22336196899414,
          22.479522705078125,
          -105.84088134765625,
          45.484046936035156,
          -76.03746032714844,
          22.054569244384766,
          -17.16590118408203,
          -99.18119812011719,
          75.12604522705078,
          -117.0553970336914,
          -21.429935455322266,
          11.622870445251465,
          -80.32598876953125,
          -29.9702205657959,
          -63.928184509277344,
          -2.266155958175659,
          -123.64339447021484,
          -70.57806396484375,
          -42.097042083740234,
          -5.8304548263549805,
          -68.9145736694336,
          -130.74107360839844,
          -22.072265625,
          17.62006187438965,
          41.91120529174805,
          -9.886897087097168,
          -11.697397232055664,
          35.377342224121094,
          -111.95408630371094,
          -89.41258239746094,
          -9.710448265075684,
          -4.134561061859131,
          -52.714683532714844,
          -36.02167892456055,
          -141.43917846679688,
          -7.967667102813721,
          -30.836645126342773
         ]
        }
       ],
       "layout": {
        "legend": {
         "title": {
          "text": "color"
         },
         "tracegroupgap": 0
        },
        "margin": {
         "t": 60
        },
        "scene": {
         "domain": {
          "x": [
           0,
           1
          ],
          "y": [
           0,
           1
          ]
         },
         "xaxis": {
          "title": {
           "text": "x"
          }
         },
         "yaxis": {
          "title": {
           "text": "y"
          }
         },
         "zaxis": {
          "title": {
           "text": "z"
          }
         }
        },
        "template": {
         "data": {
          "bar": [
           {
            "error_x": {
             "color": "#2a3f5f"
            },
            "error_y": {
             "color": "#2a3f5f"
            },
            "marker": {
             "line": {
              "color": "#E5ECF6",
              "width": 0.5
             }
            },
            "type": "bar"
           }
          ],
          "barpolar": [
           {
            "marker": {
             "line": {
              "color": "#E5ECF6",
              "width": 0.5
             }
            },
            "type": "barpolar"
           }
          ],
          "carpet": [
           {
            "aaxis": {
             "endlinecolor": "#2a3f5f",
             "gridcolor": "white",
             "linecolor": "white",
             "minorgridcolor": "white",
             "startlinecolor": "#2a3f5f"
            },
            "baxis": {
             "endlinecolor": "#2a3f5f",
             "gridcolor": "white",
             "linecolor": "white",
             "minorgridcolor": "white",
             "startlinecolor": "#2a3f5f"
            },
            "type": "carpet"
           }
          ],
          "choropleth": [
           {
            "colorbar": {
             "outlinewidth": 0,
             "ticks": ""
            },
            "type": "choropleth"
           }
          ],
          "contour": [
           {
            "colorbar": {
             "outlinewidth": 0,
             "ticks": ""
            },
            "colorscale": [
             [
              0,
              "#0d0887"
             ],
             [
              0.1111111111111111,
              "#46039f"
             ],
             [
              0.2222222222222222,
              "#7201a8"
             ],
             [
              0.3333333333333333,
              "#9c179e"
             ],
             [
              0.4444444444444444,
              "#bd3786"
             ],
             [
              0.5555555555555556,
              "#d8576b"
             ],
             [
              0.6666666666666666,
              "#ed7953"
             ],
             [
              0.7777777777777778,
              "#fb9f3a"
             ],
             [
              0.8888888888888888,
              "#fdca26"
             ],
             [
              1,
              "#f0f921"
             ]
            ],
            "type": "contour"
           }
          ],
          "contourcarpet": [
           {
            "colorbar": {
             "outlinewidth": 0,
             "ticks": ""
            },
            "type": "contourcarpet"
           }
          ],
          "heatmap": [
           {
            "colorbar": {
             "outlinewidth": 0,
             "ticks": ""
            },
            "colorscale": [
             [
              0,
              "#0d0887"
             ],
             [
              0.1111111111111111,
              "#46039f"
             ],
             [
              0.2222222222222222,
              "#7201a8"
             ],
             [
              0.3333333333333333,
              "#9c179e"
             ],
             [
              0.4444444444444444,
              "#bd3786"
             ],
             [
              0.5555555555555556,
              "#d8576b"
             ],
             [
              0.6666666666666666,
              "#ed7953"
             ],
             [
              0.7777777777777778,
              "#fb9f3a"
             ],
             [
              0.8888888888888888,
              "#fdca26"
             ],
             [
              1,
              "#f0f921"
             ]
            ],
            "type": "heatmap"
           }
          ],
          "heatmapgl": [
           {
            "colorbar": {
             "outlinewidth": 0,
             "ticks": ""
            },
            "colorscale": [
             [
              0,
              "#0d0887"
             ],
             [
              0.1111111111111111,
              "#46039f"
             ],
             [
              0.2222222222222222,
              "#7201a8"
             ],
             [
              0.3333333333333333,
              "#9c179e"
             ],
             [
              0.4444444444444444,
              "#bd3786"
             ],
             [
              0.5555555555555556,
              "#d8576b"
             ],
             [
              0.6666666666666666,
              "#ed7953"
             ],
             [
              0.7777777777777778,
              "#fb9f3a"
             ],
             [
              0.8888888888888888,
              "#fdca26"
             ],
             [
              1,
              "#f0f921"
             ]
            ],
            "type": "heatmapgl"
           }
          ],
          "histogram": [
           {
            "marker": {
             "colorbar": {
              "outlinewidth": 0,
              "ticks": ""
             }
            },
            "type": "histogram"
           }
          ],
          "histogram2d": [
           {
            "colorbar": {
             "outlinewidth": 0,
             "ticks": ""
            },
            "colorscale": [
             [
              0,
              "#0d0887"
             ],
             [
              0.1111111111111111,
              "#46039f"
             ],
             [
              0.2222222222222222,
              "#7201a8"
             ],
             [
              0.3333333333333333,
              "#9c179e"
             ],
             [
              0.4444444444444444,
              "#bd3786"
             ],
             [
              0.5555555555555556,
              "#d8576b"
             ],
             [
              0.6666666666666666,
              "#ed7953"
             ],
             [
              0.7777777777777778,
              "#fb9f3a"
             ],
             [
              0.8888888888888888,
              "#fdca26"
             ],
             [
              1,
              "#f0f921"
             ]
            ],
            "type": "histogram2d"
           }
          ],
          "histogram2dcontour": [
           {
            "colorbar": {
             "outlinewidth": 0,
             "ticks": ""
            },
            "colorscale": [
             [
              0,
              "#0d0887"
             ],
             [
              0.1111111111111111,
              "#46039f"
             ],
             [
              0.2222222222222222,
              "#7201a8"
             ],
             [
              0.3333333333333333,
              "#9c179e"
             ],
             [
              0.4444444444444444,
              "#bd3786"
             ],
             [
              0.5555555555555556,
              "#d8576b"
             ],
             [
              0.6666666666666666,
              "#ed7953"
             ],
             [
              0.7777777777777778,
              "#fb9f3a"
             ],
             [
              0.8888888888888888,
              "#fdca26"
             ],
             [
              1,
              "#f0f921"
             ]
            ],
            "type": "histogram2dcontour"
           }
          ],
          "mesh3d": [
           {
            "colorbar": {
             "outlinewidth": 0,
             "ticks": ""
            },
            "type": "mesh3d"
           }
          ],
          "parcoords": [
           {
            "line": {
             "colorbar": {
              "outlinewidth": 0,
              "ticks": ""
             }
            },
            "type": "parcoords"
           }
          ],
          "pie": [
           {
            "automargin": true,
            "type": "pie"
           }
          ],
          "scatter": [
           {
            "marker": {
             "colorbar": {
              "outlinewidth": 0,
              "ticks": ""
             }
            },
            "type": "scatter"
           }
          ],
          "scatter3d": [
           {
            "line": {
             "colorbar": {
              "outlinewidth": 0,
              "ticks": ""
             }
            },
            "marker": {
             "colorbar": {
              "outlinewidth": 0,
              "ticks": ""
             }
            },
            "type": "scatter3d"
           }
          ],
          "scattercarpet": [
           {
            "marker": {
             "colorbar": {
              "outlinewidth": 0,
              "ticks": ""
             }
            },
            "type": "scattercarpet"
           }
          ],
          "scattergeo": [
           {
            "marker": {
             "colorbar": {
              "outlinewidth": 0,
              "ticks": ""
             }
            },
            "type": "scattergeo"
           }
          ],
          "scattergl": [
           {
            "marker": {
             "colorbar": {
              "outlinewidth": 0,
              "ticks": ""
             }
            },
            "type": "scattergl"
           }
          ],
          "scattermapbox": [
           {
            "marker": {
             "colorbar": {
              "outlinewidth": 0,
              "ticks": ""
             }
            },
            "type": "scattermapbox"
           }
          ],
          "scatterpolar": [
           {
            "marker": {
             "colorbar": {
              "outlinewidth": 0,
              "ticks": ""
             }
            },
            "type": "scatterpolar"
           }
          ],
          "scatterpolargl": [
           {
            "marker": {
             "colorbar": {
              "outlinewidth": 0,
              "ticks": ""
             }
            },
            "type": "scatterpolargl"
           }
          ],
          "scatterternary": [
           {
            "marker": {
             "colorbar": {
              "outlinewidth": 0,
              "ticks": ""
             }
            },
            "type": "scatterternary"
           }
          ],
          "surface": [
           {
            "colorbar": {
             "outlinewidth": 0,
             "ticks": ""
            },
            "colorscale": [
             [
              0,
              "#0d0887"
             ],
             [
              0.1111111111111111,
              "#46039f"
             ],
             [
              0.2222222222222222,
              "#7201a8"
             ],
             [
              0.3333333333333333,
              "#9c179e"
             ],
             [
              0.4444444444444444,
              "#bd3786"
             ],
             [
              0.5555555555555556,
              "#d8576b"
             ],
             [
              0.6666666666666666,
              "#ed7953"
             ],
             [
              0.7777777777777778,
              "#fb9f3a"
             ],
             [
              0.8888888888888888,
              "#fdca26"
             ],
             [
              1,
              "#f0f921"
             ]
            ],
            "type": "surface"
           }
          ],
          "table": [
           {
            "cells": {
             "fill": {
              "color": "#EBF0F8"
             },
             "line": {
              "color": "white"
             }
            },
            "header": {
             "fill": {
              "color": "#C8D4E3"
             },
             "line": {
              "color": "white"
             }
            },
            "type": "table"
           }
          ]
         },
         "layout": {
          "annotationdefaults": {
           "arrowcolor": "#2a3f5f",
           "arrowhead": 0,
           "arrowwidth": 1
          },
          "coloraxis": {
           "colorbar": {
            "outlinewidth": 0,
            "ticks": ""
           }
          },
          "colorscale": {
           "diverging": [
            [
             0,
             "#8e0152"
            ],
            [
             0.1,
             "#c51b7d"
            ],
            [
             0.2,
             "#de77ae"
            ],
            [
             0.3,
             "#f1b6da"
            ],
            [
             0.4,
             "#fde0ef"
            ],
            [
             0.5,
             "#f7f7f7"
            ],
            [
             0.6,
             "#e6f5d0"
            ],
            [
             0.7,
             "#b8e186"
            ],
            [
             0.8,
             "#7fbc41"
            ],
            [
             0.9,
             "#4d9221"
            ],
            [
             1,
             "#276419"
            ]
           ],
           "sequential": [
            [
             0,
             "#0d0887"
            ],
            [
             0.1111111111111111,
             "#46039f"
            ],
            [
             0.2222222222222222,
             "#7201a8"
            ],
            [
             0.3333333333333333,
             "#9c179e"
            ],
            [
             0.4444444444444444,
             "#bd3786"
            ],
            [
             0.5555555555555556,
             "#d8576b"
            ],
            [
             0.6666666666666666,
             "#ed7953"
            ],
            [
             0.7777777777777778,
             "#fb9f3a"
            ],
            [
             0.8888888888888888,
             "#fdca26"
            ],
            [
             1,
             "#f0f921"
            ]
           ],
           "sequentialminus": [
            [
             0,
             "#0d0887"
            ],
            [
             0.1111111111111111,
             "#46039f"
            ],
            [
             0.2222222222222222,
             "#7201a8"
            ],
            [
             0.3333333333333333,
             "#9c179e"
            ],
            [
             0.4444444444444444,
             "#bd3786"
            ],
            [
             0.5555555555555556,
             "#d8576b"
            ],
            [
             0.6666666666666666,
             "#ed7953"
            ],
            [
             0.7777777777777778,
             "#fb9f3a"
            ],
            [
             0.8888888888888888,
             "#fdca26"
            ],
            [
             1,
             "#f0f921"
            ]
           ]
          },
          "colorway": [
           "#636efa",
           "#EF553B",
           "#00cc96",
           "#ab63fa",
           "#FFA15A",
           "#19d3f3",
           "#FF6692",
           "#B6E880",
           "#FF97FF",
           "#FECB52"
          ],
          "font": {
           "color": "#2a3f5f"
          },
          "geo": {
           "bgcolor": "white",
           "lakecolor": "white",
           "landcolor": "#E5ECF6",
           "showlakes": true,
           "showland": true,
           "subunitcolor": "white"
          },
          "hoverlabel": {
           "align": "left"
          },
          "hovermode": "closest",
          "mapbox": {
           "style": "light"
          },
          "paper_bgcolor": "white",
          "plot_bgcolor": "#E5ECF6",
          "polar": {
           "angularaxis": {
            "gridcolor": "white",
            "linecolor": "white",
            "ticks": ""
           },
           "bgcolor": "#E5ECF6",
           "radialaxis": {
            "gridcolor": "white",
            "linecolor": "white",
            "ticks": ""
           }
          },
          "scene": {
           "xaxis": {
            "backgroundcolor": "#E5ECF6",
            "gridcolor": "white",
            "gridwidth": 2,
            "linecolor": "white",
            "showbackground": true,
            "ticks": "",
            "zerolinecolor": "white"
           },
           "yaxis": {
            "backgroundcolor": "#E5ECF6",
            "gridcolor": "white",
            "gridwidth": 2,
            "linecolor": "white",
            "showbackground": true,
            "ticks": "",
            "zerolinecolor": "white"
           },
           "zaxis": {
            "backgroundcolor": "#E5ECF6",
            "gridcolor": "white",
            "gridwidth": 2,
            "linecolor": "white",
            "showbackground": true,
            "ticks": "",
            "zerolinecolor": "white"
           }
          },
          "shapedefaults": {
           "line": {
            "color": "#2a3f5f"
           }
          },
          "ternary": {
           "aaxis": {
            "gridcolor": "white",
            "linecolor": "white",
            "ticks": ""
           },
           "baxis": {
            "gridcolor": "white",
            "linecolor": "white",
            "ticks": ""
           },
           "bgcolor": "#E5ECF6",
           "caxis": {
            "gridcolor": "white",
            "linecolor": "white",
            "ticks": ""
           }
          },
          "title": {
           "x": 0.05
          },
          "xaxis": {
           "automargin": true,
           "gridcolor": "white",
           "linecolor": "white",
           "ticks": "",
           "title": {
            "standoff": 15
           },
           "zerolinecolor": "white",
           "zerolinewidth": 2
          },
          "yaxis": {
           "automargin": true,
           "gridcolor": "white",
           "linecolor": "white",
           "ticks": "",
           "title": {
            "standoff": 15
           },
           "zerolinecolor": "white",
           "zerolinewidth": 2
          }
         }
        }
       }
      },
      "text/html": [
       "<div>\n",
       "        \n",
       "        \n",
       "            <div id=\"dd6af190-5174-4496-911e-efae3541a940\" class=\"plotly-graph-div\" style=\"height:525px; width:100%;\"></div>\n",
       "            <script type=\"text/javascript\">\n",
       "                require([\"plotly\"], function(Plotly) {\n",
       "                    window.PLOTLYENV=window.PLOTLYENV || {};\n",
       "                    \n",
       "                if (document.getElementById(\"dd6af190-5174-4496-911e-efae3541a940\")) {\n",
       "                    Plotly.newPlot(\n",
       "                        'dd6af190-5174-4496-911e-efae3541a940',\n",
       "                        [{\"hovertemplate\": \"color=r<br>x=%{x}<br>y=%{y}<br>z=%{z}<extra></extra>\", \"legendgroup\": \"r\", \"marker\": {\"color\": \"#636efa\", \"symbol\": \"circle\"}, \"mode\": \"markers\", \"name\": \"r\", \"scene\": \"scene\", \"showlegend\": true, \"type\": \"scatter3d\", \"x\": [28.30108642578125, 26.29762077331543, 5.728934288024902, -113.40421295166016, 106.77649688720703, -96.20701599121094, 78.37213134765625, 99.11095428466797, 55.45760726928711, 1.07832932472229, -74.07640838623047, -0.4531852602958679, -40.19692611694336, -14.993268966674805, 101.69952392578125, 55.16452407836914, 29.928075790405273, 28.610366821289062, -21.316509246826172, -28.006072998046875, -29.29384422302246, -51.052040100097656, -15.534259796142578, 107.01024627685547, 125.0731430053711, 3.0444579124450684, 59.57521438598633, 57.39065170288086, 54.41204833984375, -4.7748308181762695, 26.932554244995117, 10.017970085144043], \"y\": [-29.335941314697266, -46.43716812133789, -61.27741241455078, -6.468031883239746, -24.010103225708008, 21.411666870117188, -23.37006378173828, -32.5443115234375, -1.1811611652374268, -7.184613227844238, -125.27983856201172, -62.25715255737305, -100.20623779296875, -108.08892059326172, 15.41886043548584, -149.22537231445312, -14.662388801574707, -25.072525024414062, -21.445436477661133, -71.90929412841797, -107.25515747070312, -69.02371215820312, -5.767638683319092, 3.056763172149658, 32.961490631103516, -141.28150939941406, 21.030988693237305, -39.965030670166016, 1.5292048454284668, -29.10240936279297, -6.781584739685059, -41.2825813293457], \"z\": [139.7051544189453, 101.4423828125, 117.693115234375, 49.24877166748047, 87.48560333251953, 23.827926635742188, 81.76483154296875, 64.19390106201172, 133.9805450439453, 120.75043487548828, -80.5418930053711, 94.0846939086914, 80.64258575439453, 82.3208999633789, 73.35597229003906, -71.5427474975586, 36.25991439819336, 70.19519805908203, 96.73627471923828, 105.37286376953125, 111.84712219238281, 86.0837173461914, -151.1620330810547, 37.357666015625, 38.043914794921875, -9.579055786132812, 90.54266357421875, 47.073734283447266, 64.97332763671875, 52.877933502197266, 126.49319458007812, 75.63468170166016]}, {\"hovertemplate\": \"color=b<br>x=%{x}<br>y=%{y}<br>z=%{z}<extra></extra>\", \"legendgroup\": \"b\", \"marker\": {\"color\": \"#EF553B\", \"symbol\": \"circle\"}, \"mode\": \"markers\", \"name\": \"b\", \"scene\": \"scene\", \"showlegend\": true, \"type\": \"scatter3d\", \"x\": [18.294273376464844, 4.381782054901123, -48.64336013793945, 70.91040802001953, -37.861572265625, 61.56956100463867, -65.09832763671875, 5.623311519622803, -38.39058303833008, -70.7130126953125, -73.10366821289062, -71.93489074707031, -129.9761199951172, -90.97917938232422, 9.25240421295166, 51.906585693359375, -21.401409149169922, -84.9556655883789, -9.91364860534668, 0.46612122654914856, 5.138884544372559, -29.544748306274414, -125.42972564697266, -104.95231628417969, -52.966983795166016, -50.95798110961914, -79.42424774169922, 148.85203552246094, 17.58637237548828, -87.15564727783203, -105.11154174804688, -71.521240234375, -108.98308563232422, 7.399081230163574, 57.884193420410156, -16.564910888671875, -26.64740753173828, -25.52436637878418, 27.571491241455078, -36.04738998413086, -96.2090072631836, -55.9591178894043, -91.31482696533203, 83.12360382080078, -17.96150016784668, 27.968379974365234], \"y\": [2.866222620010376, 46.2184944152832, -66.05235290527344, 85.13898468017578, -18.35761260986328, 92.49848937988281, -74.08952331542969, 46.50096893310547, 55.41550064086914, 93.31732940673828, 66.21369171142578, 20.59477996826172, -38.551998138427734, 46.038475036621094, -136.60890197753906, -18.06233024597168, -68.48265075683594, -39.64781951904297, 27.251632690429688, -97.1900863647461, 12.656926155090332, 76.67964935302734, -11.450857162475586, -18.8223934173584, 43.96458053588867, 20.97907257080078, 34.94021987915039, 29.38515853881836, -117.70535278320312, -4.547524452209473, 20.837507247924805, -22.7823543548584, -57.5239372253418, -87.11530303955078, 37.322628021240234, -92.24745178222656, 4.528745651245117, -39.92411422729492, 22.202695846557617, 15.204238891601562, 82.29426574707031, 41.654266357421875, -14.619759559631348, 112.52616882324219, -64.44007110595703, 31.145828247070312], \"z\": [-39.826656341552734, -33.876991271972656, -87.8196029663086, -58.56929397583008, -17.265701293945312, -39.00954818725586, -58.05626678466797, -68.57613372802734, -16.007524490356445, -71.52239990234375, -73.06127166748047, -53.916343688964844, -74.5615005493164, -55.26541519165039, 141.69509887695312, -125.68080139160156, -59.17657470703125, 20.01532745361328, -33.78425979614258, -48.99787139892578, -64.55409240722656, -27.96103286743164, -108.86188507080078, -71.75180053710938, -97.470703125, -90.14086151123047, -79.02296447753906, -57.251953125, 94.33084869384766, -104.72406005859375, -66.283935546875, -112.97374725341797, -87.36990356445312, -93.66180419921875, -24.213417053222656, -74.32865905761719, -41.989227294921875, -93.71894073486328, -58.995182037353516, -11.98563003540039, -81.09839630126953, -60.842193603515625, -135.8855743408203, -30.331941604614258, -91.4361343383789, -22.7294921875]}, {\"hovertemplate\": \"color=g<br>x=%{x}<br>y=%{y}<br>z=%{z}<extra></extra>\", \"legendgroup\": \"g\", \"marker\": {\"color\": \"#00cc96\", \"symbol\": \"circle\"}, \"mode\": \"markers\", \"name\": \"g\", \"scene\": \"scene\", \"showlegend\": true, \"type\": \"scatter3d\", \"x\": [-26.327735900878906, 40.81440734863281, 10.259550094604492, 10.608201026916504, -103.80780029296875, 11.391904830932617, -38.44204330444336, -40.91567611694336, -41.78425598144531, -17.94430923461914, -8.155787467956543, -13.997639656066895, -32.649505615234375, -40.0865478515625, -48.55593490600586, 11.686193466186523, 14.619705200195312, -20.973346710205078, 13.237298011779785, -59.73965072631836, -43.03049850463867, -51.19636917114258, -16.610363006591797, -33.82715606689453, -42.53006362915039, -105.51504516601562, -84.8836669921875, -68.91437530517578, -89.5202865600586, 8.823824882507324, -14.398103713989258], \"y\": [102.18022918701172, 78.68073272705078, 49.92769241333008, 109.03203582763672, 106.73690795898438, 83.64488220214844, -13.213740348815918, 95.6641616821289, 117.56416320800781, 105.63690185546875, 57.14522171020508, 39.05543518066406, 69.55807495117188, 41.7813835144043, 79.26622009277344, 81.1339340209961, 45.86741638183594, 71.80307006835938, 89.33545684814453, 130.75039672851562, 2.949150800704956, -25.66864013671875, 20.77647590637207, 46.00465774536133, 75.09690856933594, 122.4852523803711, 131.8226318359375, 106.84310150146484, 119.9304428100586, 117.12848663330078, 74.33403015136719], \"z\": [27.116313934326172, 111.3680648803711, 157.01251220703125, 100.29840850830078, 48.92349624633789, 94.57202911376953, 114.57267761230469, 76.70952606201172, 56.434852600097656, 63.74533462524414, 61.805335998535156, 35.36777877807617, 57.66705322265625, 46.85639190673828, 35.39881896972656, 24.780305862426758, 28.21385955810547, 29.814125061035156, 128.42897033691406, -1.6793709993362427, 60.941184997558594, 81.8615493774414, 61.41954803466797, 74.165771484375, 122.59669494628906, 29.542829513549805, 50.4751091003418, 4.758296489715576, 94.78876495361328, -102.22391510009766, 129.1007843017578]}, {\"hovertemplate\": \"color=c<br>x=%{x}<br>y=%{y}<br>z=%{z}<extra></extra>\", \"legendgroup\": \"c\", \"marker\": {\"color\": \"#ab63fa\", \"symbol\": \"circle\"}, \"mode\": \"markers\", \"name\": \"c\", \"scene\": \"scene\", \"showlegend\": true, \"type\": \"scatter3d\", \"x\": [111.94042205810547, 123.41390228271484, 95.84404754638672, 94.26802062988281, 128.97775268554688, 67.27718353271484, 52.45640563964844, 41.97906494140625, 28.957834243774414, 82.03409576416016, -95.5858154296875, 76.88330078125, -115.86746215820312, 15.673311233520508, 80.17227935791016, 29.326496124267578, 44.60950469970703, -1.625281810760498, 51.9532356262207, 118.17196655273438, 54.63101577758789, 105.11182403564453, 78.37376403808594, -27.23348617553711, 65.52946472167969, 76.15531158447266, -2.804884910583496, -31.46645164489746, 58.80546569824219, 29.57501220703125, 10.665125846862793, 39.583892822265625, 24.39071273803711, 19.948266983032227, 44.34986114501953, 11.916367530822754, 15.34061336517334, 104.56343078613281, -63.56775665283203, 84.55433654785156, -113.54634094238281], \"y\": [-41.590328216552734, -21.6508846282959, -19.931631088256836, -62.754146575927734, -27.37866973876953, -80.29693603515625, -53.02906036376953, -70.4402847290039, -42.58951950073242, -106.51311492919922, -14.15266227722168, -72.60895538330078, 41.78904342651367, 31.4012508392334, -101.36802673339844, -91.33829498291016, -89.45818328857422, -42.9495735168457, -31.037792205810547, 50.36984634399414, -88.37557220458984, -55.80735778808594, -32.58287048339844, -69.30982208251953, -79.40715789794922, -88.63074493408203, 123.20941925048828, -97.45651245117188, -93.25309753417969, -79.3879623413086, -13.645501136779785, -117.7402572631836, -47.73162078857422, -67.68379211425781, -57.81345748901367, -61.66008758544922, 93.76695251464844, 68.43672180175781, 68.59616088867188, 60.833431243896484, -77.73400115966797], \"z\": [-30.62385368347168, -19.554325103759766, -21.96593475341797, -7.805119514465332, -50.22336196899414, 22.479522705078125, -105.84088134765625, 45.484046936035156, -76.03746032714844, 22.054569244384766, -17.16590118408203, -99.18119812011719, 75.12604522705078, -117.0553970336914, -21.429935455322266, 11.622870445251465, -80.32598876953125, -29.9702205657959, -63.928184509277344, -2.266155958175659, -123.64339447021484, -70.57806396484375, -42.097042083740234, -5.8304548263549805, -68.9145736694336, -130.74107360839844, -22.072265625, 17.62006187438965, 41.91120529174805, -9.886897087097168, -11.697397232055664, 35.377342224121094, -111.95408630371094, -89.41258239746094, -9.710448265075684, -4.134561061859131, -52.714683532714844, -36.02167892456055, -141.43917846679688, -7.967667102813721, -30.836645126342773]}],\n",
       "                        {\"legend\": {\"title\": {\"text\": \"color\"}, \"tracegroupgap\": 0}, \"margin\": {\"t\": 60}, \"scene\": {\"domain\": {\"x\": [0.0, 1.0], \"y\": [0.0, 1.0]}, \"xaxis\": {\"title\": {\"text\": \"x\"}}, \"yaxis\": {\"title\": {\"text\": \"y\"}}, \"zaxis\": {\"title\": {\"text\": \"z\"}}}, \"template\": {\"data\": {\"bar\": [{\"error_x\": {\"color\": \"#2a3f5f\"}, \"error_y\": {\"color\": \"#2a3f5f\"}, \"marker\": {\"line\": {\"color\": \"#E5ECF6\", \"width\": 0.5}}, \"type\": \"bar\"}], \"barpolar\": [{\"marker\": {\"line\": {\"color\": \"#E5ECF6\", \"width\": 0.5}}, \"type\": \"barpolar\"}], \"carpet\": [{\"aaxis\": {\"endlinecolor\": \"#2a3f5f\", \"gridcolor\": \"white\", \"linecolor\": \"white\", \"minorgridcolor\": \"white\", \"startlinecolor\": \"#2a3f5f\"}, \"baxis\": {\"endlinecolor\": \"#2a3f5f\", \"gridcolor\": \"white\", \"linecolor\": \"white\", \"minorgridcolor\": \"white\", \"startlinecolor\": \"#2a3f5f\"}, \"type\": \"carpet\"}], \"choropleth\": [{\"colorbar\": {\"outlinewidth\": 0, \"ticks\": \"\"}, \"type\": \"choropleth\"}], \"contour\": [{\"colorbar\": {\"outlinewidth\": 0, \"ticks\": \"\"}, \"colorscale\": [[0.0, \"#0d0887\"], [0.1111111111111111, \"#46039f\"], [0.2222222222222222, \"#7201a8\"], [0.3333333333333333, \"#9c179e\"], [0.4444444444444444, \"#bd3786\"], [0.5555555555555556, \"#d8576b\"], [0.6666666666666666, \"#ed7953\"], [0.7777777777777778, \"#fb9f3a\"], [0.8888888888888888, \"#fdca26\"], [1.0, \"#f0f921\"]], \"type\": \"contour\"}], \"contourcarpet\": [{\"colorbar\": {\"outlinewidth\": 0, \"ticks\": \"\"}, \"type\": \"contourcarpet\"}], \"heatmap\": [{\"colorbar\": {\"outlinewidth\": 0, \"ticks\": \"\"}, \"colorscale\": [[0.0, \"#0d0887\"], [0.1111111111111111, \"#46039f\"], [0.2222222222222222, \"#7201a8\"], [0.3333333333333333, \"#9c179e\"], [0.4444444444444444, \"#bd3786\"], [0.5555555555555556, \"#d8576b\"], [0.6666666666666666, \"#ed7953\"], [0.7777777777777778, \"#fb9f3a\"], [0.8888888888888888, \"#fdca26\"], [1.0, \"#f0f921\"]], \"type\": \"heatmap\"}], \"heatmapgl\": [{\"colorbar\": {\"outlinewidth\": 0, \"ticks\": \"\"}, \"colorscale\": [[0.0, \"#0d0887\"], [0.1111111111111111, \"#46039f\"], [0.2222222222222222, \"#7201a8\"], [0.3333333333333333, \"#9c179e\"], [0.4444444444444444, \"#bd3786\"], [0.5555555555555556, \"#d8576b\"], [0.6666666666666666, \"#ed7953\"], [0.7777777777777778, \"#fb9f3a\"], [0.8888888888888888, \"#fdca26\"], [1.0, \"#f0f921\"]], \"type\": \"heatmapgl\"}], \"histogram\": [{\"marker\": {\"colorbar\": {\"outlinewidth\": 0, \"ticks\": \"\"}}, \"type\": \"histogram\"}], \"histogram2d\": [{\"colorbar\": {\"outlinewidth\": 0, \"ticks\": \"\"}, \"colorscale\": [[0.0, \"#0d0887\"], [0.1111111111111111, \"#46039f\"], [0.2222222222222222, \"#7201a8\"], [0.3333333333333333, \"#9c179e\"], [0.4444444444444444, \"#bd3786\"], [0.5555555555555556, \"#d8576b\"], [0.6666666666666666, \"#ed7953\"], [0.7777777777777778, \"#fb9f3a\"], [0.8888888888888888, \"#fdca26\"], [1.0, \"#f0f921\"]], \"type\": \"histogram2d\"}], \"histogram2dcontour\": [{\"colorbar\": {\"outlinewidth\": 0, \"ticks\": \"\"}, \"colorscale\": [[0.0, \"#0d0887\"], [0.1111111111111111, \"#46039f\"], [0.2222222222222222, \"#7201a8\"], [0.3333333333333333, \"#9c179e\"], [0.4444444444444444, \"#bd3786\"], [0.5555555555555556, \"#d8576b\"], [0.6666666666666666, \"#ed7953\"], [0.7777777777777778, \"#fb9f3a\"], [0.8888888888888888, \"#fdca26\"], [1.0, \"#f0f921\"]], \"type\": \"histogram2dcontour\"}], \"mesh3d\": [{\"colorbar\": {\"outlinewidth\": 0, \"ticks\": \"\"}, \"type\": \"mesh3d\"}], \"parcoords\": [{\"line\": {\"colorbar\": {\"outlinewidth\": 0, \"ticks\": \"\"}}, \"type\": \"parcoords\"}], \"pie\": [{\"automargin\": true, \"type\": \"pie\"}], \"scatter\": [{\"marker\": {\"colorbar\": {\"outlinewidth\": 0, \"ticks\": \"\"}}, \"type\": \"scatter\"}], \"scatter3d\": [{\"line\": {\"colorbar\": {\"outlinewidth\": 0, \"ticks\": \"\"}}, \"marker\": {\"colorbar\": {\"outlinewidth\": 0, \"ticks\": \"\"}}, \"type\": \"scatter3d\"}], \"scattercarpet\": [{\"marker\": {\"colorbar\": {\"outlinewidth\": 0, \"ticks\": \"\"}}, \"type\": \"scattercarpet\"}], \"scattergeo\": [{\"marker\": {\"colorbar\": {\"outlinewidth\": 0, \"ticks\": \"\"}}, \"type\": \"scattergeo\"}], \"scattergl\": [{\"marker\": {\"colorbar\": {\"outlinewidth\": 0, \"ticks\": \"\"}}, \"type\": \"scattergl\"}], \"scattermapbox\": [{\"marker\": {\"colorbar\": {\"outlinewidth\": 0, \"ticks\": \"\"}}, \"type\": \"scattermapbox\"}], \"scatterpolar\": [{\"marker\": {\"colorbar\": {\"outlinewidth\": 0, \"ticks\": \"\"}}, \"type\": \"scatterpolar\"}], \"scatterpolargl\": [{\"marker\": {\"colorbar\": {\"outlinewidth\": 0, \"ticks\": \"\"}}, \"type\": \"scatterpolargl\"}], \"scatterternary\": [{\"marker\": {\"colorbar\": {\"outlinewidth\": 0, \"ticks\": \"\"}}, \"type\": \"scatterternary\"}], \"surface\": [{\"colorbar\": {\"outlinewidth\": 0, \"ticks\": \"\"}, \"colorscale\": [[0.0, \"#0d0887\"], [0.1111111111111111, \"#46039f\"], [0.2222222222222222, \"#7201a8\"], [0.3333333333333333, \"#9c179e\"], [0.4444444444444444, \"#bd3786\"], [0.5555555555555556, \"#d8576b\"], [0.6666666666666666, \"#ed7953\"], [0.7777777777777778, \"#fb9f3a\"], [0.8888888888888888, \"#fdca26\"], [1.0, \"#f0f921\"]], \"type\": \"surface\"}], \"table\": [{\"cells\": {\"fill\": {\"color\": \"#EBF0F8\"}, \"line\": {\"color\": \"white\"}}, \"header\": {\"fill\": {\"color\": \"#C8D4E3\"}, \"line\": {\"color\": \"white\"}}, \"type\": \"table\"}]}, \"layout\": {\"annotationdefaults\": {\"arrowcolor\": \"#2a3f5f\", \"arrowhead\": 0, \"arrowwidth\": 1}, \"coloraxis\": {\"colorbar\": {\"outlinewidth\": 0, \"ticks\": \"\"}}, \"colorscale\": {\"diverging\": [[0, \"#8e0152\"], [0.1, \"#c51b7d\"], [0.2, \"#de77ae\"], [0.3, \"#f1b6da\"], [0.4, \"#fde0ef\"], [0.5, \"#f7f7f7\"], [0.6, \"#e6f5d0\"], [0.7, \"#b8e186\"], [0.8, \"#7fbc41\"], [0.9, \"#4d9221\"], [1, \"#276419\"]], \"sequential\": [[0.0, \"#0d0887\"], [0.1111111111111111, \"#46039f\"], [0.2222222222222222, \"#7201a8\"], [0.3333333333333333, \"#9c179e\"], [0.4444444444444444, \"#bd3786\"], [0.5555555555555556, \"#d8576b\"], [0.6666666666666666, \"#ed7953\"], [0.7777777777777778, \"#fb9f3a\"], [0.8888888888888888, \"#fdca26\"], [1.0, \"#f0f921\"]], \"sequentialminus\": [[0.0, \"#0d0887\"], [0.1111111111111111, \"#46039f\"], [0.2222222222222222, \"#7201a8\"], [0.3333333333333333, \"#9c179e\"], [0.4444444444444444, \"#bd3786\"], [0.5555555555555556, \"#d8576b\"], [0.6666666666666666, \"#ed7953\"], [0.7777777777777778, \"#fb9f3a\"], [0.8888888888888888, \"#fdca26\"], [1.0, \"#f0f921\"]]}, \"colorway\": [\"#636efa\", \"#EF553B\", \"#00cc96\", \"#ab63fa\", \"#FFA15A\", \"#19d3f3\", \"#FF6692\", \"#B6E880\", \"#FF97FF\", \"#FECB52\"], \"font\": {\"color\": \"#2a3f5f\"}, \"geo\": {\"bgcolor\": \"white\", \"lakecolor\": \"white\", \"landcolor\": \"#E5ECF6\", \"showlakes\": true, \"showland\": true, \"subunitcolor\": \"white\"}, \"hoverlabel\": {\"align\": \"left\"}, \"hovermode\": \"closest\", \"mapbox\": {\"style\": \"light\"}, \"paper_bgcolor\": \"white\", \"plot_bgcolor\": \"#E5ECF6\", \"polar\": {\"angularaxis\": {\"gridcolor\": \"white\", \"linecolor\": \"white\", \"ticks\": \"\"}, \"bgcolor\": \"#E5ECF6\", \"radialaxis\": {\"gridcolor\": \"white\", \"linecolor\": \"white\", \"ticks\": \"\"}}, \"scene\": {\"xaxis\": {\"backgroundcolor\": \"#E5ECF6\", \"gridcolor\": \"white\", \"gridwidth\": 2, \"linecolor\": \"white\", \"showbackground\": true, \"ticks\": \"\", \"zerolinecolor\": \"white\"}, \"yaxis\": {\"backgroundcolor\": \"#E5ECF6\", \"gridcolor\": \"white\", \"gridwidth\": 2, \"linecolor\": \"white\", \"showbackground\": true, \"ticks\": \"\", \"zerolinecolor\": \"white\"}, \"zaxis\": {\"backgroundcolor\": \"#E5ECF6\", \"gridcolor\": \"white\", \"gridwidth\": 2, \"linecolor\": \"white\", \"showbackground\": true, \"ticks\": \"\", \"zerolinecolor\": \"white\"}}, \"shapedefaults\": {\"line\": {\"color\": \"#2a3f5f\"}}, \"ternary\": {\"aaxis\": {\"gridcolor\": \"white\", \"linecolor\": \"white\", \"ticks\": \"\"}, \"baxis\": {\"gridcolor\": \"white\", \"linecolor\": \"white\", \"ticks\": \"\"}, \"bgcolor\": \"#E5ECF6\", \"caxis\": {\"gridcolor\": \"white\", \"linecolor\": \"white\", \"ticks\": \"\"}}, \"title\": {\"x\": 0.05}, \"xaxis\": {\"automargin\": true, \"gridcolor\": \"white\", \"linecolor\": \"white\", \"ticks\": \"\", \"title\": {\"standoff\": 15}, \"zerolinecolor\": \"white\", \"zerolinewidth\": 2}, \"yaxis\": {\"automargin\": true, \"gridcolor\": \"white\", \"linecolor\": \"white\", \"ticks\": \"\", \"title\": {\"standoff\": 15}, \"zerolinecolor\": \"white\", \"zerolinewidth\": 2}}}},\n",
       "                        {\"responsive\": true}\n",
       "                    ).then(function(){\n",
       "                            \n",
       "var gd = document.getElementById('dd6af190-5174-4496-911e-efae3541a940');\n",
       "var x = new MutationObserver(function (mutations, observer) {{\n",
       "        var display = window.getComputedStyle(gd).display;\n",
       "        if (!display || display === 'none') {{\n",
       "            console.log([gd, 'removed!']);\n",
       "            Plotly.purge(gd);\n",
       "            observer.disconnect();\n",
       "        }}\n",
       "}});\n",
       "\n",
       "// Listen for the removal of the full notebook cells\n",
       "var notebookContainer = gd.closest('#notebook-container');\n",
       "if (notebookContainer) {{\n",
       "    x.observe(notebookContainer, {childList: true});\n",
       "}}\n",
       "\n",
       "// Listen for the clearing of the current output cell\n",
       "var outputEl = gd.closest('.output');\n",
       "if (outputEl) {{\n",
       "    x.observe(outputEl, {childList: true});\n",
       "}}\n",
       "\n",
       "                        })\n",
       "                };\n",
       "                });\n",
       "            </script>\n",
       "        </div>"
      ]
     },
     "metadata": {},
     "output_type": "display_data"
    }
   ],
   "source": [
    "# 4 clusters\n",
    "km2 = KMeans(n_clusters=4).fit(X)\n",
    "\n",
    "# plot using tsne \n",
    "X_embedded  = TSNE(n_components=3, perplexity=10, random_state=24).fit_transform( X )\n",
    "colors = np.array([x for x in 'bgrcmykbgrcmykbgrcmykbgrcmyk'])\n",
    "\n",
    "fig = px.scatter_3d(x=X_embedded [:,0],y=X_embedded [:,1],z=X_embedded [:,2],color=colors[km2.labels_])\n",
    "fig.show()"
   ]
  },
  {
   "cell_type": "code",
   "execution_count": 996,
   "metadata": {},
   "outputs": [
    {
     "data": {
      "application/vnd.plotly.v1+json": {
       "config": {
        "plotlyServerURL": "https://plot.ly"
       },
       "data": [
        {
         "hovertemplate": "color=r<br>x=%{x}<br>y=%{y}<br>z=%{z}<extra></extra>",
         "legendgroup": "r",
         "marker": {
          "color": "#636efa",
          "symbol": "circle"
         },
         "mode": "markers",
         "name": "r",
         "scene": "scene",
         "showlegend": true,
         "type": "scatter3d",
         "x": [
          9.06596929606536,
          5.065692020481444,
          5.071380460613197,
          5.0422781394280065,
          2.088255773843835,
          2.047307552651783,
          2.1008094875936996,
          2.109939465040196,
          9.11046943100452,
          9.095736230686944,
          3.121791833349931,
          5.072034055912407,
          3.084852388884799,
          2.086418856960376,
          3.0471596861695973,
          5.059155689905583,
          3.0692546791706596,
          3.0426336695960425,
          9.03470956624886,
          5.145195598647653,
          2.1351253287580385,
          6.112541125389813,
          2.1483143692518154,
          6.067932196928506,
          4.0609135958395575,
          3.040816277458905,
          3.1006170568170512,
          0.08105311067578364,
          2.102498917411735,
          6.069714650378649,
          9.094118238073765,
          5.0464329226218245
         ],
         "y": [
          -0.2824701006257714,
          -0.3061702986497098,
          -1.3045635365785828,
          4.425221904722898,
          3.533239341386199,
          3.4161039894009413,
          3.3846920695888363,
          3.4052066141153983,
          2.4634810444018886,
          1.4187585890158607,
          0.4464556239915593,
          -1.3001938224465175,
          -5.488723886696475,
          -5.481864787539192,
          5.436229742013257,
          4.4902112691973874,
          1.2941038973678898,
          0.5992691552404334,
          -0.3874378466018466,
          -3.6680569070600066,
          -3.7364894429958455,
          -3.7706402772545204,
          -4.686803062424678,
          5.499820117459179,
          4.4867582821858605,
          3.4085741023820018,
          2.388381434680076,
          2.305532461658822,
          1.3977147967536756,
          1.3308432445462133,
          0.4194237663643215,
          -0.38140801928869444
         ],
         "z": [
          0.9941270838729854,
          1.0426574423712385,
          1.0672453778654813,
          -1.9770562117652042,
          2.069609825470334,
          -1.9126774784963383,
          1.1530986878364387,
          2.1457767159010444,
          2.0796314908691813,
          0.11930340381645996,
          2.2045941585690936,
          1.0692408470994577,
          -0.7409649267580739,
          -0.7238526242312326,
          -0.9812237676425444,
          0.012914528007745202,
          -1.8220156499293458,
          -0.9473276846094091,
          -1.9939582726616374,
          1.3460524376291754,
          0.3823799787056749,
          -1.6584698408647693,
          1.4008502211020195,
          0.9732528891531934,
          0.026504574666463252,
          -1.940888033363386,
          1.1572525980096713,
          -0.7984813099150887,
          1.1851020120445666,
          -1.8536091334825484,
          0.130873948739697,
          -0.9476126894659811
         ]
        },
        {
         "hovertemplate": "color=b<br>x=%{x}<br>y=%{y}<br>z=%{z}<extra></extra>",
         "legendgroup": "b",
         "marker": {
          "color": "#EF553B",
          "symbol": "circle"
         },
         "mode": "markers",
         "name": "b",
         "scene": "scene",
         "showlegend": true,
         "type": "scatter3d",
         "x": [
          -5.962283747152965,
          -6.936827325505693,
          -11.935399904315744,
          -1.9282140877969067,
          -6.926206977581896,
          -1.960032331542473,
          -11.914256648112426,
          -6.94249171710363,
          -2.945295852869791,
          -6.845868926604062,
          -6.863354916430131,
          -5.879828642282785,
          -11.877676112064908,
          -6.867515656927749,
          -9.855889901473159,
          -6.927383102071015,
          -6.927383102071015,
          -6.914374922672792,
          -6.925369245912671,
          -6.946193166418348,
          -2.92670978928706,
          -11.93724723309781,
          -2.94213504871177,
          -11.882506982955219,
          -2.903435543245564,
          -5.88251246718242,
          -11.95895560556138,
          -8.96072831957942,
          -2.9159337525372293,
          -6.935557113631841,
          -8.956099004441683,
          -6.946148928205077,
          -2.9262773090824292,
          -9.862835625686417,
          -9.881894430734523,
          -6.8841311704972945,
          -6.8841311704972945,
          -6.881066715926311,
          -9.881278373952217,
          -1.8615159659719775,
          -8.848563933818276,
          -6.877803619303041,
          -8.845315103870293,
          -11.919757847181094,
          -9.960320961344136,
          -5.958263435440135,
          -5.955225652524357,
          -5.941334013152053,
          -4.923742544622398,
          -9.928737789880065,
          -6.904964734339629,
          -9.91087351427645,
          -6.961252142994234,
          -9.961146636698386,
          -6.927640631124901,
          -9.946588628003623,
          -6.946362703302433,
          -6.909004936863846,
          -6.851252367401066,
          -6.883243823799711,
          -9.835592448264865,
          -1.878418350725743,
          -11.913447938309298,
          -2.957952615752297,
          -8.956503150747302,
          -6.947068434854667,
          -8.91407882575323,
          -6.955832364105122,
          -8.944556011169407,
          -8.954660998749238,
          -6.924014120359566,
          -6.913773670746825,
          -2.907836494213591,
          -5.885604657510482,
          -5.926750546491582,
          -2.9064314846187957,
          -11.90304074193956,
          -9.905429172852138,
          -5.884213914590966,
          -6.894110339909026,
          -5.886111657889584,
          -2.878748365245649,
          -5.931716421356097,
          -5.942322502604616,
          -9.939165290707676,
          -2.918019569833845,
          -5.9500365649301745
         ],
         "y": [
          -0.47593191993448125,
          -1.4237422548391372,
          -1.436862006007708,
          -1.3625771836631642,
          -1.3856702624544075,
          -1.4591979911218602,
          -1.3910460325917187,
          -2.4254270623954906,
          -2.4268707336759827,
          -2.731556800862015,
          -3.7841357042954438,
          -4.8172074402987635,
          -4.865875418315951,
          -5.7906977087926705,
          -5.7708284518323705,
          5.443741368413947,
          5.443741368413947,
          4.491155203155128,
          4.452558410391061,
          4.394534395696433,
          4.476828724290309,
          3.365833276023381,
          3.4234987827589354,
          2.3301968398656667,
          2.3356850271320027,
          0.36906927796567524,
          0.47082187808634224,
          -0.47890380188924303,
          -1.3108637642651029,
          -1.4167660910089728,
          -1.493315119597727,
          -1.4431079702633687,
          -1.3544237847249903,
          -2.834472454463513,
          -3.867723418853266,
          -3.862447361060922,
          -3.862447361060922,
          -4.830930693732785,
          -4.856195050224146,
          -4.730313873154427,
          -4.740579986658544,
          -5.824745384173666,
          -5.740259733664595,
          -5.587664737365806,
          5.312217608389044,
          4.354098400298149,
          3.3597748062840207,
          3.401410538170574,
          3.462463192217529,
          2.2108031373727814,
          1.3049036053258238,
          0.2513985028941846,
          -0.49745325026163584,
          -0.521337849735343,
          -0.38776029449228605,
          -1.4768001484141748,
          -1.4456707353576468,
          -2.3537191886958113,
          -3.758890713449588,
          -3.8372562902587624,
          -5.716552620725408,
          -5.7722847815832745,
          4.443148764531668,
          4.379871361223045,
          4.338002698029827,
          4.370314649588389,
          4.466830441308089,
          3.3478983176338817,
          3.3679700965038237,
          3.347793301894887,
          3.444519125092578,
          3.2948389646342386,
          2.307506520843323,
          2.359582713623187,
          1.2518672182030102,
          1.33516996856005,
          1.286040703638728,
          1.2790840983108,
          1.381381104774745,
          1.3485855318323536,
          0.36535137506184,
          0.4179605272286562,
          0.6236163105262559,
          0.5914093747066906,
          -0.45314143822340125,
          -0.3216995626386902,
          -0.44175393190848133
         ],
         "z": [
          -1.8116627458234986,
          0.21666075521005979,
          0.2828125807238829,
          1.1503606937347195,
          1.2138382844047235,
          -1.8392485821673477,
          2.271588278733869,
          -0.7505497010573674,
          -0.8086268105513148,
          2.4633616831852865,
          0.4929481473426546,
          -1.4836534929395282,
          -1.4113510889754035,
          -0.4608778257283305,
          0.5737070513758724,
          1.141976814250524,
          1.141976814250524,
          2.1577264826583806,
          1.1595037862611006,
          -0.8318827932436859,
          1.1096273223817166,
          -0.741754237861004,
          -0.8538476249179093,
          2.340841822341971,
          0.24093464179145072,
          1.325026386882514,
          -1.7495891827516865,
          -1.769103426913834,
          2.166749636213951,
          0.2197470038273636,
          -1.7483876148343225,
          -0.7761483175793495,
          1.1670480691426448,
          0.5153349058016804,
          -1.4577176776762406,
          -1.4997682121427736,
          -1.4997682121427736,
          -1.4781651301844843,
          -1.4447598649379652,
          0.4532032444616401,
          1.5370234815512511,
          -1.4558332249418875,
          1.5587142828998721,
          -1.5426562841834595,
          -1.8203048718922306,
          -1.8442920007349688,
          -1.82566034308695,
          -0.8243773079007655,
          1.1514798168452713,
          -1.6781745969591901,
          0.2997504430335114,
          -0.637538582696986,
          -1.7975301336804572,
          -1.7636339615071395,
          1.1964284463844923,
          -0.7438736972312542,
          -0.776637858583797,
          2.239874968401731,
          1.4911384477349785,
          -1.4938590414018196,
          2.5628834385797092,
          -1.5143211436226214,
          2.2160606090568984,
          -1.8792844641459925,
          -1.80671784580106,
          -0.8375635390620937,
          2.179427855401698,
          -1.8161968736649259,
          -0.7947222164245448,
          -1.7888147551032025,
          1.1734124022371415,
          0.2569415267016816,
          0.23301857667310688,
          2.2641398790779985,
          -1.7057825245724516,
          0.250911166593108,
          0.3639078045760585,
          0.33252360335131553,
          2.2813913651040245,
          1.2980986500275171,
          1.3159361680330284,
          2.2743694957408813,
          1.1629066374883108,
          0.16637021218762188,
          0.23131728882540292,
          2.145800374397052,
          -0.8085812258366998
         ]
        },
        {
         "hovertemplate": "color=g<br>x=%{x}<br>y=%{y}<br>z=%{z}<extra></extra>",
         "legendgroup": "g",
         "marker": {
          "color": "#00cc96",
          "symbol": "circle"
         },
         "mode": "markers",
         "name": "g",
         "scene": "scene",
         "showlegend": true,
         "type": "scatter3d",
         "x": [
          16.10440482991253,
          15.04953286224055,
          16.065367724108224,
          16.094619856748707,
          16.096443577745756,
          16.096489296999795,
          10.058992103862074,
          16.074005850039487,
          16.053094184418867,
          16.05563408809269,
          16.139056923628573,
          16.151802095650737,
          16.129372867597,
          16.15058503009403,
          16.11973559387715,
          15.11486012031362,
          16.156949309464093,
          16.123307344721493,
          16.090903293858418,
          15.066464381279474,
          12.14238005157058,
          10.11170167568411,
          15.155064778202254,
          16.142405401884748,
          15.056164657834712,
          16.0903741855701,
          16.071080120684897,
          16.072404003425543,
          16.014637443771267,
          16.04838993209569,
          16.092433254629007
         ],
         "y": [
          -2.706674316132348,
          4.518104625290583,
          2.36988153686449,
          1.4542716655197299,
          1.4578731268588863,
          1.4513151414878322,
          -1.2949648928243518,
          -2.2604102964864348,
          -2.3201195119548257,
          -2.3036017063153977,
          -2.644508478298836,
          -3.587003691795063,
          -3.6584791845011155,
          -3.5940653128619857,
          -3.666406358048267,
          -4.682150114654764,
          -4.5472547929016915,
          -4.647477061699544,
          3.46184961291778,
          1.379841516697726,
          -3.643606722428161,
          -3.7343398221446433,
          -4.563687465221929,
          -4.608918584844234,
          4.536008311853817,
          1.4591966123549935,
          0.3855436843991974,
          0.39847783246199503,
          6.616064987901752,
          6.518089948679674,
          6.465581103606931
         ],
         "z": [
          -1.806995972771219,
          -1.1052109461629758,
          -1.9949300329432718,
          0.03167942631207761,
          0.03320874285546543,
          0.03301199044486023,
          0.011970595291525311,
          0.9591736445942431,
          -1.0325788408414298,
          -1.0262195343512308,
          1.1876743158863734,
          2.2035899044165443,
          0.2065149711521464,
          2.1995878217535245,
          -0.7822131258209298,
          -1.7470979677416245,
          2.2265786174912865,
          -0.7645599749541697,
          0.9657952719092157,
          -1.9670018550105033,
          1.254225244307904,
          -1.7059024181221218,
          2.2377320254167423,
          1.2222805148611566,
          -0.11534766509801708,
          0.017716384577810086,
          -1.953872279911921,
          -1.9507945633755657,
          -1.2456009219280553,
          -0.17349325265693236,
          1.9031669714578578
         ]
        }
       ],
       "layout": {
        "legend": {
         "title": {
          "text": "color"
         },
         "tracegroupgap": 0
        },
        "margin": {
         "t": 60
        },
        "scene": {
         "domain": {
          "x": [
           0,
           1
          ],
          "y": [
           0,
           1
          ]
         },
         "xaxis": {
          "title": {
           "text": "x"
          }
         },
         "yaxis": {
          "title": {
           "text": "y"
          }
         },
         "zaxis": {
          "title": {
           "text": "z"
          }
         }
        },
        "template": {
         "data": {
          "bar": [
           {
            "error_x": {
             "color": "#2a3f5f"
            },
            "error_y": {
             "color": "#2a3f5f"
            },
            "marker": {
             "line": {
              "color": "#E5ECF6",
              "width": 0.5
             }
            },
            "type": "bar"
           }
          ],
          "barpolar": [
           {
            "marker": {
             "line": {
              "color": "#E5ECF6",
              "width": 0.5
             }
            },
            "type": "barpolar"
           }
          ],
          "carpet": [
           {
            "aaxis": {
             "endlinecolor": "#2a3f5f",
             "gridcolor": "white",
             "linecolor": "white",
             "minorgridcolor": "white",
             "startlinecolor": "#2a3f5f"
            },
            "baxis": {
             "endlinecolor": "#2a3f5f",
             "gridcolor": "white",
             "linecolor": "white",
             "minorgridcolor": "white",
             "startlinecolor": "#2a3f5f"
            },
            "type": "carpet"
           }
          ],
          "choropleth": [
           {
            "colorbar": {
             "outlinewidth": 0,
             "ticks": ""
            },
            "type": "choropleth"
           }
          ],
          "contour": [
           {
            "colorbar": {
             "outlinewidth": 0,
             "ticks": ""
            },
            "colorscale": [
             [
              0,
              "#0d0887"
             ],
             [
              0.1111111111111111,
              "#46039f"
             ],
             [
              0.2222222222222222,
              "#7201a8"
             ],
             [
              0.3333333333333333,
              "#9c179e"
             ],
             [
              0.4444444444444444,
              "#bd3786"
             ],
             [
              0.5555555555555556,
              "#d8576b"
             ],
             [
              0.6666666666666666,
              "#ed7953"
             ],
             [
              0.7777777777777778,
              "#fb9f3a"
             ],
             [
              0.8888888888888888,
              "#fdca26"
             ],
             [
              1,
              "#f0f921"
             ]
            ],
            "type": "contour"
           }
          ],
          "contourcarpet": [
           {
            "colorbar": {
             "outlinewidth": 0,
             "ticks": ""
            },
            "type": "contourcarpet"
           }
          ],
          "heatmap": [
           {
            "colorbar": {
             "outlinewidth": 0,
             "ticks": ""
            },
            "colorscale": [
             [
              0,
              "#0d0887"
             ],
             [
              0.1111111111111111,
              "#46039f"
             ],
             [
              0.2222222222222222,
              "#7201a8"
             ],
             [
              0.3333333333333333,
              "#9c179e"
             ],
             [
              0.4444444444444444,
              "#bd3786"
             ],
             [
              0.5555555555555556,
              "#d8576b"
             ],
             [
              0.6666666666666666,
              "#ed7953"
             ],
             [
              0.7777777777777778,
              "#fb9f3a"
             ],
             [
              0.8888888888888888,
              "#fdca26"
             ],
             [
              1,
              "#f0f921"
             ]
            ],
            "type": "heatmap"
           }
          ],
          "heatmapgl": [
           {
            "colorbar": {
             "outlinewidth": 0,
             "ticks": ""
            },
            "colorscale": [
             [
              0,
              "#0d0887"
             ],
             [
              0.1111111111111111,
              "#46039f"
             ],
             [
              0.2222222222222222,
              "#7201a8"
             ],
             [
              0.3333333333333333,
              "#9c179e"
             ],
             [
              0.4444444444444444,
              "#bd3786"
             ],
             [
              0.5555555555555556,
              "#d8576b"
             ],
             [
              0.6666666666666666,
              "#ed7953"
             ],
             [
              0.7777777777777778,
              "#fb9f3a"
             ],
             [
              0.8888888888888888,
              "#fdca26"
             ],
             [
              1,
              "#f0f921"
             ]
            ],
            "type": "heatmapgl"
           }
          ],
          "histogram": [
           {
            "marker": {
             "colorbar": {
              "outlinewidth": 0,
              "ticks": ""
             }
            },
            "type": "histogram"
           }
          ],
          "histogram2d": [
           {
            "colorbar": {
             "outlinewidth": 0,
             "ticks": ""
            },
            "colorscale": [
             [
              0,
              "#0d0887"
             ],
             [
              0.1111111111111111,
              "#46039f"
             ],
             [
              0.2222222222222222,
              "#7201a8"
             ],
             [
              0.3333333333333333,
              "#9c179e"
             ],
             [
              0.4444444444444444,
              "#bd3786"
             ],
             [
              0.5555555555555556,
              "#d8576b"
             ],
             [
              0.6666666666666666,
              "#ed7953"
             ],
             [
              0.7777777777777778,
              "#fb9f3a"
             ],
             [
              0.8888888888888888,
              "#fdca26"
             ],
             [
              1,
              "#f0f921"
             ]
            ],
            "type": "histogram2d"
           }
          ],
          "histogram2dcontour": [
           {
            "colorbar": {
             "outlinewidth": 0,
             "ticks": ""
            },
            "colorscale": [
             [
              0,
              "#0d0887"
             ],
             [
              0.1111111111111111,
              "#46039f"
             ],
             [
              0.2222222222222222,
              "#7201a8"
             ],
             [
              0.3333333333333333,
              "#9c179e"
             ],
             [
              0.4444444444444444,
              "#bd3786"
             ],
             [
              0.5555555555555556,
              "#d8576b"
             ],
             [
              0.6666666666666666,
              "#ed7953"
             ],
             [
              0.7777777777777778,
              "#fb9f3a"
             ],
             [
              0.8888888888888888,
              "#fdca26"
             ],
             [
              1,
              "#f0f921"
             ]
            ],
            "type": "histogram2dcontour"
           }
          ],
          "mesh3d": [
           {
            "colorbar": {
             "outlinewidth": 0,
             "ticks": ""
            },
            "type": "mesh3d"
           }
          ],
          "parcoords": [
           {
            "line": {
             "colorbar": {
              "outlinewidth": 0,
              "ticks": ""
             }
            },
            "type": "parcoords"
           }
          ],
          "pie": [
           {
            "automargin": true,
            "type": "pie"
           }
          ],
          "scatter": [
           {
            "marker": {
             "colorbar": {
              "outlinewidth": 0,
              "ticks": ""
             }
            },
            "type": "scatter"
           }
          ],
          "scatter3d": [
           {
            "line": {
             "colorbar": {
              "outlinewidth": 0,
              "ticks": ""
             }
            },
            "marker": {
             "colorbar": {
              "outlinewidth": 0,
              "ticks": ""
             }
            },
            "type": "scatter3d"
           }
          ],
          "scattercarpet": [
           {
            "marker": {
             "colorbar": {
              "outlinewidth": 0,
              "ticks": ""
             }
            },
            "type": "scattercarpet"
           }
          ],
          "scattergeo": [
           {
            "marker": {
             "colorbar": {
              "outlinewidth": 0,
              "ticks": ""
             }
            },
            "type": "scattergeo"
           }
          ],
          "scattergl": [
           {
            "marker": {
             "colorbar": {
              "outlinewidth": 0,
              "ticks": ""
             }
            },
            "type": "scattergl"
           }
          ],
          "scattermapbox": [
           {
            "marker": {
             "colorbar": {
              "outlinewidth": 0,
              "ticks": ""
             }
            },
            "type": "scattermapbox"
           }
          ],
          "scatterpolar": [
           {
            "marker": {
             "colorbar": {
              "outlinewidth": 0,
              "ticks": ""
             }
            },
            "type": "scatterpolar"
           }
          ],
          "scatterpolargl": [
           {
            "marker": {
             "colorbar": {
              "outlinewidth": 0,
              "ticks": ""
             }
            },
            "type": "scatterpolargl"
           }
          ],
          "scatterternary": [
           {
            "marker": {
             "colorbar": {
              "outlinewidth": 0,
              "ticks": ""
             }
            },
            "type": "scatterternary"
           }
          ],
          "surface": [
           {
            "colorbar": {
             "outlinewidth": 0,
             "ticks": ""
            },
            "colorscale": [
             [
              0,
              "#0d0887"
             ],
             [
              0.1111111111111111,
              "#46039f"
             ],
             [
              0.2222222222222222,
              "#7201a8"
             ],
             [
              0.3333333333333333,
              "#9c179e"
             ],
             [
              0.4444444444444444,
              "#bd3786"
             ],
             [
              0.5555555555555556,
              "#d8576b"
             ],
             [
              0.6666666666666666,
              "#ed7953"
             ],
             [
              0.7777777777777778,
              "#fb9f3a"
             ],
             [
              0.8888888888888888,
              "#fdca26"
             ],
             [
              1,
              "#f0f921"
             ]
            ],
            "type": "surface"
           }
          ],
          "table": [
           {
            "cells": {
             "fill": {
              "color": "#EBF0F8"
             },
             "line": {
              "color": "white"
             }
            },
            "header": {
             "fill": {
              "color": "#C8D4E3"
             },
             "line": {
              "color": "white"
             }
            },
            "type": "table"
           }
          ]
         },
         "layout": {
          "annotationdefaults": {
           "arrowcolor": "#2a3f5f",
           "arrowhead": 0,
           "arrowwidth": 1
          },
          "coloraxis": {
           "colorbar": {
            "outlinewidth": 0,
            "ticks": ""
           }
          },
          "colorscale": {
           "diverging": [
            [
             0,
             "#8e0152"
            ],
            [
             0.1,
             "#c51b7d"
            ],
            [
             0.2,
             "#de77ae"
            ],
            [
             0.3,
             "#f1b6da"
            ],
            [
             0.4,
             "#fde0ef"
            ],
            [
             0.5,
             "#f7f7f7"
            ],
            [
             0.6,
             "#e6f5d0"
            ],
            [
             0.7,
             "#b8e186"
            ],
            [
             0.8,
             "#7fbc41"
            ],
            [
             0.9,
             "#4d9221"
            ],
            [
             1,
             "#276419"
            ]
           ],
           "sequential": [
            [
             0,
             "#0d0887"
            ],
            [
             0.1111111111111111,
             "#46039f"
            ],
            [
             0.2222222222222222,
             "#7201a8"
            ],
            [
             0.3333333333333333,
             "#9c179e"
            ],
            [
             0.4444444444444444,
             "#bd3786"
            ],
            [
             0.5555555555555556,
             "#d8576b"
            ],
            [
             0.6666666666666666,
             "#ed7953"
            ],
            [
             0.7777777777777778,
             "#fb9f3a"
            ],
            [
             0.8888888888888888,
             "#fdca26"
            ],
            [
             1,
             "#f0f921"
            ]
           ],
           "sequentialminus": [
            [
             0,
             "#0d0887"
            ],
            [
             0.1111111111111111,
             "#46039f"
            ],
            [
             0.2222222222222222,
             "#7201a8"
            ],
            [
             0.3333333333333333,
             "#9c179e"
            ],
            [
             0.4444444444444444,
             "#bd3786"
            ],
            [
             0.5555555555555556,
             "#d8576b"
            ],
            [
             0.6666666666666666,
             "#ed7953"
            ],
            [
             0.7777777777777778,
             "#fb9f3a"
            ],
            [
             0.8888888888888888,
             "#fdca26"
            ],
            [
             1,
             "#f0f921"
            ]
           ]
          },
          "colorway": [
           "#636efa",
           "#EF553B",
           "#00cc96",
           "#ab63fa",
           "#FFA15A",
           "#19d3f3",
           "#FF6692",
           "#B6E880",
           "#FF97FF",
           "#FECB52"
          ],
          "font": {
           "color": "#2a3f5f"
          },
          "geo": {
           "bgcolor": "white",
           "lakecolor": "white",
           "landcolor": "#E5ECF6",
           "showlakes": true,
           "showland": true,
           "subunitcolor": "white"
          },
          "hoverlabel": {
           "align": "left"
          },
          "hovermode": "closest",
          "mapbox": {
           "style": "light"
          },
          "paper_bgcolor": "white",
          "plot_bgcolor": "#E5ECF6",
          "polar": {
           "angularaxis": {
            "gridcolor": "white",
            "linecolor": "white",
            "ticks": ""
           },
           "bgcolor": "#E5ECF6",
           "radialaxis": {
            "gridcolor": "white",
            "linecolor": "white",
            "ticks": ""
           }
          },
          "scene": {
           "xaxis": {
            "backgroundcolor": "#E5ECF6",
            "gridcolor": "white",
            "gridwidth": 2,
            "linecolor": "white",
            "showbackground": true,
            "ticks": "",
            "zerolinecolor": "white"
           },
           "yaxis": {
            "backgroundcolor": "#E5ECF6",
            "gridcolor": "white",
            "gridwidth": 2,
            "linecolor": "white",
            "showbackground": true,
            "ticks": "",
            "zerolinecolor": "white"
           },
           "zaxis": {
            "backgroundcolor": "#E5ECF6",
            "gridcolor": "white",
            "gridwidth": 2,
            "linecolor": "white",
            "showbackground": true,
            "ticks": "",
            "zerolinecolor": "white"
           }
          },
          "shapedefaults": {
           "line": {
            "color": "#2a3f5f"
           }
          },
          "ternary": {
           "aaxis": {
            "gridcolor": "white",
            "linecolor": "white",
            "ticks": ""
           },
           "baxis": {
            "gridcolor": "white",
            "linecolor": "white",
            "ticks": ""
           },
           "bgcolor": "#E5ECF6",
           "caxis": {
            "gridcolor": "white",
            "linecolor": "white",
            "ticks": ""
           }
          },
          "title": {
           "x": 0.05
          },
          "xaxis": {
           "automargin": true,
           "gridcolor": "white",
           "linecolor": "white",
           "ticks": "",
           "title": {
            "standoff": 15
           },
           "zerolinecolor": "white",
           "zerolinewidth": 2
          },
          "yaxis": {
           "automargin": true,
           "gridcolor": "white",
           "linecolor": "white",
           "ticks": "",
           "title": {
            "standoff": 15
           },
           "zerolinecolor": "white",
           "zerolinewidth": 2
          }
         }
        }
       }
      },
      "text/html": [
       "<div>\n",
       "        \n",
       "        \n",
       "            <div id=\"1a94280c-6a4c-43cc-962c-1f4eb5a46934\" class=\"plotly-graph-div\" style=\"height:525px; width:100%;\"></div>\n",
       "            <script type=\"text/javascript\">\n",
       "                require([\"plotly\"], function(Plotly) {\n",
       "                    window.PLOTLYENV=window.PLOTLYENV || {};\n",
       "                    \n",
       "                if (document.getElementById(\"1a94280c-6a4c-43cc-962c-1f4eb5a46934\")) {\n",
       "                    Plotly.newPlot(\n",
       "                        '1a94280c-6a4c-43cc-962c-1f4eb5a46934',\n",
       "                        [{\"hovertemplate\": \"color=r<br>x=%{x}<br>y=%{y}<br>z=%{z}<extra></extra>\", \"legendgroup\": \"r\", \"marker\": {\"color\": \"#636efa\", \"symbol\": \"circle\"}, \"mode\": \"markers\", \"name\": \"r\", \"scene\": \"scene\", \"showlegend\": true, \"type\": \"scatter3d\", \"x\": [9.06596929606536, 5.065692020481444, 5.071380460613197, 5.0422781394280065, 2.088255773843835, 2.047307552651783, 2.1008094875936996, 2.109939465040196, 9.11046943100452, 9.095736230686944, 3.121791833349931, 5.072034055912407, 3.084852388884799, 2.086418856960376, 3.0471596861695973, 5.059155689905583, 3.0692546791706596, 3.0426336695960425, 9.03470956624886, 5.145195598647653, 2.1351253287580385, 6.112541125389813, 2.1483143692518154, 6.067932196928506, 4.0609135958395575, 3.040816277458905, 3.1006170568170512, 0.08105311067578364, 2.102498917411735, 6.069714650378649, 9.094118238073765, 5.0464329226218245], \"y\": [-0.2824701006257714, -0.3061702986497098, -1.3045635365785828, 4.425221904722898, 3.533239341386199, 3.4161039894009413, 3.3846920695888363, 3.4052066141153983, 2.4634810444018886, 1.4187585890158607, 0.4464556239915593, -1.3001938224465175, -5.488723886696475, -5.481864787539192, 5.436229742013257, 4.4902112691973874, 1.2941038973678898, 0.5992691552404334, -0.3874378466018466, -3.6680569070600066, -3.7364894429958455, -3.7706402772545204, -4.686803062424678, 5.499820117459179, 4.4867582821858605, 3.4085741023820018, 2.388381434680076, 2.305532461658822, 1.3977147967536756, 1.3308432445462133, 0.4194237663643215, -0.38140801928869444], \"z\": [0.9941270838729854, 1.0426574423712385, 1.0672453778654813, -1.9770562117652042, 2.069609825470334, -1.9126774784963383, 1.1530986878364387, 2.1457767159010444, 2.0796314908691813, 0.11930340381645996, 2.2045941585690936, 1.0692408470994577, -0.7409649267580739, -0.7238526242312326, -0.9812237676425444, 0.012914528007745202, -1.8220156499293458, -0.9473276846094091, -1.9939582726616374, 1.3460524376291754, 0.3823799787056749, -1.6584698408647693, 1.4008502211020195, 0.9732528891531934, 0.026504574666463252, -1.940888033363386, 1.1572525980096713, -0.7984813099150887, 1.1851020120445666, -1.8536091334825484, 0.130873948739697, -0.9476126894659811]}, {\"hovertemplate\": \"color=b<br>x=%{x}<br>y=%{y}<br>z=%{z}<extra></extra>\", \"legendgroup\": \"b\", \"marker\": {\"color\": \"#EF553B\", \"symbol\": \"circle\"}, \"mode\": \"markers\", \"name\": \"b\", \"scene\": \"scene\", \"showlegend\": true, \"type\": \"scatter3d\", \"x\": [-5.962283747152965, -6.936827325505693, -11.935399904315744, -1.9282140877969067, -6.926206977581896, -1.960032331542473, -11.914256648112426, -6.94249171710363, -2.945295852869791, -6.845868926604062, -6.863354916430131, -5.879828642282785, -11.877676112064908, -6.867515656927749, -9.855889901473159, -6.927383102071015, -6.927383102071015, -6.914374922672792, -6.925369245912671, -6.946193166418348, -2.92670978928706, -11.93724723309781, -2.94213504871177, -11.882506982955219, -2.903435543245564, -5.88251246718242, -11.95895560556138, -8.96072831957942, -2.9159337525372293, -6.935557113631841, -8.956099004441683, -6.946148928205077, -2.9262773090824292, -9.862835625686417, -9.881894430734523, -6.8841311704972945, -6.8841311704972945, -6.881066715926311, -9.881278373952217, -1.8615159659719775, -8.848563933818276, -6.877803619303041, -8.845315103870293, -11.919757847181094, -9.960320961344136, -5.958263435440135, -5.955225652524357, -5.941334013152053, -4.923742544622398, -9.928737789880065, -6.904964734339629, -9.91087351427645, -6.961252142994234, -9.961146636698386, -6.927640631124901, -9.946588628003623, -6.946362703302433, -6.909004936863846, -6.851252367401066, -6.883243823799711, -9.835592448264865, -1.878418350725743, -11.913447938309298, -2.957952615752297, -8.956503150747302, -6.947068434854667, -8.91407882575323, -6.955832364105122, -8.944556011169407, -8.954660998749238, -6.924014120359566, -6.913773670746825, -2.907836494213591, -5.885604657510482, -5.926750546491582, -2.9064314846187957, -11.90304074193956, -9.905429172852138, -5.884213914590966, -6.894110339909026, -5.886111657889584, -2.878748365245649, -5.931716421356097, -5.942322502604616, -9.939165290707676, -2.918019569833845, -5.9500365649301745], \"y\": [-0.47593191993448125, -1.4237422548391372, -1.436862006007708, -1.3625771836631642, -1.3856702624544075, -1.4591979911218602, -1.3910460325917187, -2.4254270623954906, -2.4268707336759827, -2.731556800862015, -3.7841357042954438, -4.8172074402987635, -4.865875418315951, -5.7906977087926705, -5.7708284518323705, 5.443741368413947, 5.443741368413947, 4.491155203155128, 4.452558410391061, 4.394534395696433, 4.476828724290309, 3.365833276023381, 3.4234987827589354, 2.3301968398656667, 2.3356850271320027, 0.36906927796567524, 0.47082187808634224, -0.47890380188924303, -1.3108637642651029, -1.4167660910089728, -1.493315119597727, -1.4431079702633687, -1.3544237847249903, -2.834472454463513, -3.867723418853266, -3.862447361060922, -3.862447361060922, -4.830930693732785, -4.856195050224146, -4.730313873154427, -4.740579986658544, -5.824745384173666, -5.740259733664595, -5.587664737365806, 5.312217608389044, 4.354098400298149, 3.3597748062840207, 3.401410538170574, 3.462463192217529, 2.2108031373727814, 1.3049036053258238, 0.2513985028941846, -0.49745325026163584, -0.521337849735343, -0.38776029449228605, -1.4768001484141748, -1.4456707353576468, -2.3537191886958113, -3.758890713449588, -3.8372562902587624, -5.716552620725408, -5.7722847815832745, 4.443148764531668, 4.379871361223045, 4.338002698029827, 4.370314649588389, 4.466830441308089, 3.3478983176338817, 3.3679700965038237, 3.347793301894887, 3.444519125092578, 3.2948389646342386, 2.307506520843323, 2.359582713623187, 1.2518672182030102, 1.33516996856005, 1.286040703638728, 1.2790840983108, 1.381381104774745, 1.3485855318323536, 0.36535137506184, 0.4179605272286562, 0.6236163105262559, 0.5914093747066906, -0.45314143822340125, -0.3216995626386902, -0.44175393190848133], \"z\": [-1.8116627458234986, 0.21666075521005979, 0.2828125807238829, 1.1503606937347195, 1.2138382844047235, -1.8392485821673477, 2.271588278733869, -0.7505497010573674, -0.8086268105513148, 2.4633616831852865, 0.4929481473426546, -1.4836534929395282, -1.4113510889754035, -0.4608778257283305, 0.5737070513758724, 1.141976814250524, 1.141976814250524, 2.1577264826583806, 1.1595037862611006, -0.8318827932436859, 1.1096273223817166, -0.741754237861004, -0.8538476249179093, 2.340841822341971, 0.24093464179145072, 1.325026386882514, -1.7495891827516865, -1.769103426913834, 2.166749636213951, 0.2197470038273636, -1.7483876148343225, -0.7761483175793495, 1.1670480691426448, 0.5153349058016804, -1.4577176776762406, -1.4997682121427736, -1.4997682121427736, -1.4781651301844843, -1.4447598649379652, 0.4532032444616401, 1.5370234815512511, -1.4558332249418875, 1.5587142828998721, -1.5426562841834595, -1.8203048718922306, -1.8442920007349688, -1.82566034308695, -0.8243773079007655, 1.1514798168452713, -1.6781745969591901, 0.2997504430335114, -0.637538582696986, -1.7975301336804572, -1.7636339615071395, 1.1964284463844923, -0.7438736972312542, -0.776637858583797, 2.239874968401731, 1.4911384477349785, -1.4938590414018196, 2.5628834385797092, -1.5143211436226214, 2.2160606090568984, -1.8792844641459925, -1.80671784580106, -0.8375635390620937, 2.179427855401698, -1.8161968736649259, -0.7947222164245448, -1.7888147551032025, 1.1734124022371415, 0.2569415267016816, 0.23301857667310688, 2.2641398790779985, -1.7057825245724516, 0.250911166593108, 0.3639078045760585, 0.33252360335131553, 2.2813913651040245, 1.2980986500275171, 1.3159361680330284, 2.2743694957408813, 1.1629066374883108, 0.16637021218762188, 0.23131728882540292, 2.145800374397052, -0.8085812258366998]}, {\"hovertemplate\": \"color=g<br>x=%{x}<br>y=%{y}<br>z=%{z}<extra></extra>\", \"legendgroup\": \"g\", \"marker\": {\"color\": \"#00cc96\", \"symbol\": \"circle\"}, \"mode\": \"markers\", \"name\": \"g\", \"scene\": \"scene\", \"showlegend\": true, \"type\": \"scatter3d\", \"x\": [16.10440482991253, 15.04953286224055, 16.065367724108224, 16.094619856748707, 16.096443577745756, 16.096489296999795, 10.058992103862074, 16.074005850039487, 16.053094184418867, 16.05563408809269, 16.139056923628573, 16.151802095650737, 16.129372867597, 16.15058503009403, 16.11973559387715, 15.11486012031362, 16.156949309464093, 16.123307344721493, 16.090903293858418, 15.066464381279474, 12.14238005157058, 10.11170167568411, 15.155064778202254, 16.142405401884748, 15.056164657834712, 16.0903741855701, 16.071080120684897, 16.072404003425543, 16.014637443771267, 16.04838993209569, 16.092433254629007], \"y\": [-2.706674316132348, 4.518104625290583, 2.36988153686449, 1.4542716655197299, 1.4578731268588863, 1.4513151414878322, -1.2949648928243518, -2.2604102964864348, -2.3201195119548257, -2.3036017063153977, -2.644508478298836, -3.587003691795063, -3.6584791845011155, -3.5940653128619857, -3.666406358048267, -4.682150114654764, -4.5472547929016915, -4.647477061699544, 3.46184961291778, 1.379841516697726, -3.643606722428161, -3.7343398221446433, -4.563687465221929, -4.608918584844234, 4.536008311853817, 1.4591966123549935, 0.3855436843991974, 0.39847783246199503, 6.616064987901752, 6.518089948679674, 6.465581103606931], \"z\": [-1.806995972771219, -1.1052109461629758, -1.9949300329432718, 0.03167942631207761, 0.03320874285546543, 0.03301199044486023, 0.011970595291525311, 0.9591736445942431, -1.0325788408414298, -1.0262195343512308, 1.1876743158863734, 2.2035899044165443, 0.2065149711521464, 2.1995878217535245, -0.7822131258209298, -1.7470979677416245, 2.2265786174912865, -0.7645599749541697, 0.9657952719092157, -1.9670018550105033, 1.254225244307904, -1.7059024181221218, 2.2377320254167423, 1.2222805148611566, -0.11534766509801708, 0.017716384577810086, -1.953872279911921, -1.9507945633755657, -1.2456009219280553, -0.17349325265693236, 1.9031669714578578]}],\n",
       "                        {\"legend\": {\"title\": {\"text\": \"color\"}, \"tracegroupgap\": 0}, \"margin\": {\"t\": 60}, \"scene\": {\"domain\": {\"x\": [0.0, 1.0], \"y\": [0.0, 1.0]}, \"xaxis\": {\"title\": {\"text\": \"x\"}}, \"yaxis\": {\"title\": {\"text\": \"y\"}}, \"zaxis\": {\"title\": {\"text\": \"z\"}}}, \"template\": {\"data\": {\"bar\": [{\"error_x\": {\"color\": \"#2a3f5f\"}, \"error_y\": {\"color\": \"#2a3f5f\"}, \"marker\": {\"line\": {\"color\": \"#E5ECF6\", \"width\": 0.5}}, \"type\": \"bar\"}], \"barpolar\": [{\"marker\": {\"line\": {\"color\": \"#E5ECF6\", \"width\": 0.5}}, \"type\": \"barpolar\"}], \"carpet\": [{\"aaxis\": {\"endlinecolor\": \"#2a3f5f\", \"gridcolor\": \"white\", \"linecolor\": \"white\", \"minorgridcolor\": \"white\", \"startlinecolor\": \"#2a3f5f\"}, \"baxis\": {\"endlinecolor\": \"#2a3f5f\", \"gridcolor\": \"white\", \"linecolor\": \"white\", \"minorgridcolor\": \"white\", \"startlinecolor\": \"#2a3f5f\"}, \"type\": \"carpet\"}], \"choropleth\": [{\"colorbar\": {\"outlinewidth\": 0, \"ticks\": \"\"}, \"type\": \"choropleth\"}], \"contour\": [{\"colorbar\": {\"outlinewidth\": 0, \"ticks\": \"\"}, \"colorscale\": [[0.0, \"#0d0887\"], [0.1111111111111111, \"#46039f\"], [0.2222222222222222, \"#7201a8\"], [0.3333333333333333, \"#9c179e\"], [0.4444444444444444, \"#bd3786\"], [0.5555555555555556, \"#d8576b\"], [0.6666666666666666, \"#ed7953\"], [0.7777777777777778, \"#fb9f3a\"], [0.8888888888888888, \"#fdca26\"], [1.0, \"#f0f921\"]], \"type\": \"contour\"}], \"contourcarpet\": [{\"colorbar\": {\"outlinewidth\": 0, \"ticks\": \"\"}, \"type\": \"contourcarpet\"}], \"heatmap\": [{\"colorbar\": {\"outlinewidth\": 0, \"ticks\": \"\"}, \"colorscale\": [[0.0, \"#0d0887\"], [0.1111111111111111, \"#46039f\"], [0.2222222222222222, \"#7201a8\"], [0.3333333333333333, \"#9c179e\"], [0.4444444444444444, \"#bd3786\"], [0.5555555555555556, \"#d8576b\"], [0.6666666666666666, \"#ed7953\"], [0.7777777777777778, \"#fb9f3a\"], [0.8888888888888888, \"#fdca26\"], [1.0, \"#f0f921\"]], \"type\": \"heatmap\"}], \"heatmapgl\": [{\"colorbar\": {\"outlinewidth\": 0, \"ticks\": \"\"}, \"colorscale\": [[0.0, \"#0d0887\"], [0.1111111111111111, \"#46039f\"], [0.2222222222222222, \"#7201a8\"], [0.3333333333333333, \"#9c179e\"], [0.4444444444444444, \"#bd3786\"], [0.5555555555555556, \"#d8576b\"], [0.6666666666666666, \"#ed7953\"], [0.7777777777777778, \"#fb9f3a\"], [0.8888888888888888, \"#fdca26\"], [1.0, \"#f0f921\"]], \"type\": \"heatmapgl\"}], \"histogram\": [{\"marker\": {\"colorbar\": {\"outlinewidth\": 0, \"ticks\": \"\"}}, \"type\": \"histogram\"}], \"histogram2d\": [{\"colorbar\": {\"outlinewidth\": 0, \"ticks\": \"\"}, \"colorscale\": [[0.0, \"#0d0887\"], [0.1111111111111111, \"#46039f\"], [0.2222222222222222, \"#7201a8\"], [0.3333333333333333, \"#9c179e\"], [0.4444444444444444, \"#bd3786\"], [0.5555555555555556, \"#d8576b\"], [0.6666666666666666, \"#ed7953\"], [0.7777777777777778, \"#fb9f3a\"], [0.8888888888888888, \"#fdca26\"], [1.0, \"#f0f921\"]], \"type\": \"histogram2d\"}], \"histogram2dcontour\": [{\"colorbar\": {\"outlinewidth\": 0, \"ticks\": \"\"}, \"colorscale\": [[0.0, \"#0d0887\"], [0.1111111111111111, \"#46039f\"], [0.2222222222222222, \"#7201a8\"], [0.3333333333333333, \"#9c179e\"], [0.4444444444444444, \"#bd3786\"], [0.5555555555555556, \"#d8576b\"], [0.6666666666666666, \"#ed7953\"], [0.7777777777777778, \"#fb9f3a\"], [0.8888888888888888, \"#fdca26\"], [1.0, \"#f0f921\"]], \"type\": \"histogram2dcontour\"}], \"mesh3d\": [{\"colorbar\": {\"outlinewidth\": 0, \"ticks\": \"\"}, \"type\": \"mesh3d\"}], \"parcoords\": [{\"line\": {\"colorbar\": {\"outlinewidth\": 0, \"ticks\": \"\"}}, \"type\": \"parcoords\"}], \"pie\": [{\"automargin\": true, \"type\": \"pie\"}], \"scatter\": [{\"marker\": {\"colorbar\": {\"outlinewidth\": 0, \"ticks\": \"\"}}, \"type\": \"scatter\"}], \"scatter3d\": [{\"line\": {\"colorbar\": {\"outlinewidth\": 0, \"ticks\": \"\"}}, \"marker\": {\"colorbar\": {\"outlinewidth\": 0, \"ticks\": \"\"}}, \"type\": \"scatter3d\"}], \"scattercarpet\": [{\"marker\": {\"colorbar\": {\"outlinewidth\": 0, \"ticks\": \"\"}}, \"type\": \"scattercarpet\"}], \"scattergeo\": [{\"marker\": {\"colorbar\": {\"outlinewidth\": 0, \"ticks\": \"\"}}, \"type\": \"scattergeo\"}], \"scattergl\": [{\"marker\": {\"colorbar\": {\"outlinewidth\": 0, \"ticks\": \"\"}}, \"type\": \"scattergl\"}], \"scattermapbox\": [{\"marker\": {\"colorbar\": {\"outlinewidth\": 0, \"ticks\": \"\"}}, \"type\": \"scattermapbox\"}], \"scatterpolar\": [{\"marker\": {\"colorbar\": {\"outlinewidth\": 0, \"ticks\": \"\"}}, \"type\": \"scatterpolar\"}], \"scatterpolargl\": [{\"marker\": {\"colorbar\": {\"outlinewidth\": 0, \"ticks\": \"\"}}, \"type\": \"scatterpolargl\"}], \"scatterternary\": [{\"marker\": {\"colorbar\": {\"outlinewidth\": 0, \"ticks\": \"\"}}, \"type\": \"scatterternary\"}], \"surface\": [{\"colorbar\": {\"outlinewidth\": 0, \"ticks\": \"\"}, \"colorscale\": [[0.0, \"#0d0887\"], [0.1111111111111111, \"#46039f\"], [0.2222222222222222, \"#7201a8\"], [0.3333333333333333, \"#9c179e\"], [0.4444444444444444, \"#bd3786\"], [0.5555555555555556, \"#d8576b\"], [0.6666666666666666, \"#ed7953\"], [0.7777777777777778, \"#fb9f3a\"], [0.8888888888888888, \"#fdca26\"], [1.0, \"#f0f921\"]], \"type\": \"surface\"}], \"table\": [{\"cells\": {\"fill\": {\"color\": \"#EBF0F8\"}, \"line\": {\"color\": \"white\"}}, \"header\": {\"fill\": {\"color\": \"#C8D4E3\"}, \"line\": {\"color\": \"white\"}}, \"type\": \"table\"}]}, \"layout\": {\"annotationdefaults\": {\"arrowcolor\": \"#2a3f5f\", \"arrowhead\": 0, \"arrowwidth\": 1}, \"coloraxis\": {\"colorbar\": {\"outlinewidth\": 0, \"ticks\": \"\"}}, \"colorscale\": {\"diverging\": [[0, \"#8e0152\"], [0.1, \"#c51b7d\"], [0.2, \"#de77ae\"], [0.3, \"#f1b6da\"], [0.4, \"#fde0ef\"], [0.5, \"#f7f7f7\"], [0.6, \"#e6f5d0\"], [0.7, \"#b8e186\"], [0.8, \"#7fbc41\"], [0.9, \"#4d9221\"], [1, \"#276419\"]], \"sequential\": [[0.0, \"#0d0887\"], [0.1111111111111111, \"#46039f\"], [0.2222222222222222, \"#7201a8\"], [0.3333333333333333, \"#9c179e\"], [0.4444444444444444, \"#bd3786\"], [0.5555555555555556, \"#d8576b\"], [0.6666666666666666, \"#ed7953\"], [0.7777777777777778, \"#fb9f3a\"], [0.8888888888888888, \"#fdca26\"], [1.0, \"#f0f921\"]], \"sequentialminus\": [[0.0, \"#0d0887\"], [0.1111111111111111, \"#46039f\"], [0.2222222222222222, \"#7201a8\"], [0.3333333333333333, \"#9c179e\"], [0.4444444444444444, \"#bd3786\"], [0.5555555555555556, \"#d8576b\"], [0.6666666666666666, \"#ed7953\"], [0.7777777777777778, \"#fb9f3a\"], [0.8888888888888888, \"#fdca26\"], [1.0, \"#f0f921\"]]}, \"colorway\": [\"#636efa\", \"#EF553B\", \"#00cc96\", \"#ab63fa\", \"#FFA15A\", \"#19d3f3\", \"#FF6692\", \"#B6E880\", \"#FF97FF\", \"#FECB52\"], \"font\": {\"color\": \"#2a3f5f\"}, \"geo\": {\"bgcolor\": \"white\", \"lakecolor\": \"white\", \"landcolor\": \"#E5ECF6\", \"showlakes\": true, \"showland\": true, \"subunitcolor\": \"white\"}, \"hoverlabel\": {\"align\": \"left\"}, \"hovermode\": \"closest\", \"mapbox\": {\"style\": \"light\"}, \"paper_bgcolor\": \"white\", \"plot_bgcolor\": \"#E5ECF6\", \"polar\": {\"angularaxis\": {\"gridcolor\": \"white\", \"linecolor\": \"white\", \"ticks\": \"\"}, \"bgcolor\": \"#E5ECF6\", \"radialaxis\": {\"gridcolor\": \"white\", \"linecolor\": \"white\", \"ticks\": \"\"}}, \"scene\": {\"xaxis\": {\"backgroundcolor\": \"#E5ECF6\", \"gridcolor\": \"white\", \"gridwidth\": 2, \"linecolor\": \"white\", \"showbackground\": true, \"ticks\": \"\", \"zerolinecolor\": \"white\"}, \"yaxis\": {\"backgroundcolor\": \"#E5ECF6\", \"gridcolor\": \"white\", \"gridwidth\": 2, \"linecolor\": \"white\", \"showbackground\": true, \"ticks\": \"\", \"zerolinecolor\": \"white\"}, \"zaxis\": {\"backgroundcolor\": \"#E5ECF6\", \"gridcolor\": \"white\", \"gridwidth\": 2, \"linecolor\": \"white\", \"showbackground\": true, \"ticks\": \"\", \"zerolinecolor\": \"white\"}}, \"shapedefaults\": {\"line\": {\"color\": \"#2a3f5f\"}}, \"ternary\": {\"aaxis\": {\"gridcolor\": \"white\", \"linecolor\": \"white\", \"ticks\": \"\"}, \"baxis\": {\"gridcolor\": \"white\", \"linecolor\": \"white\", \"ticks\": \"\"}, \"bgcolor\": \"#E5ECF6\", \"caxis\": {\"gridcolor\": \"white\", \"linecolor\": \"white\", \"ticks\": \"\"}}, \"title\": {\"x\": 0.05}, \"xaxis\": {\"automargin\": true, \"gridcolor\": \"white\", \"linecolor\": \"white\", \"ticks\": \"\", \"title\": {\"standoff\": 15}, \"zerolinecolor\": \"white\", \"zerolinewidth\": 2}, \"yaxis\": {\"automargin\": true, \"gridcolor\": \"white\", \"linecolor\": \"white\", \"ticks\": \"\", \"title\": {\"standoff\": 15}, \"zerolinecolor\": \"white\", \"zerolinewidth\": 2}}}},\n",
       "                        {\"responsive\": true}\n",
       "                    ).then(function(){\n",
       "                            \n",
       "var gd = document.getElementById('1a94280c-6a4c-43cc-962c-1f4eb5a46934');\n",
       "var x = new MutationObserver(function (mutations, observer) {{\n",
       "        var display = window.getComputedStyle(gd).display;\n",
       "        if (!display || display === 'none') {{\n",
       "            console.log([gd, 'removed!']);\n",
       "            Plotly.purge(gd);\n",
       "            observer.disconnect();\n",
       "        }}\n",
       "}});\n",
       "\n",
       "// Listen for the removal of the full notebook cells\n",
       "var notebookContainer = gd.closest('#notebook-container');\n",
       "if (notebookContainer) {{\n",
       "    x.observe(notebookContainer, {childList: true});\n",
       "}}\n",
       "\n",
       "// Listen for the clearing of the current output cell\n",
       "var outputEl = gd.closest('.output');\n",
       "if (outputEl) {{\n",
       "    x.observe(outputEl, {childList: true});\n",
       "}}\n",
       "\n",
       "                        })\n",
       "                };\n",
       "                });\n",
       "            </script>\n",
       "        </div>"
      ]
     },
     "metadata": {},
     "output_type": "display_data"
    }
   ],
   "source": [
    "#K-means com PCA\n",
    "pca = PCA(n_components=3)\n",
    "pca_results = pca.fit_transform(X_selected)\n",
    "\n",
    "#treinando, e plotando.\n",
    "km_pca = KMeans(n_clusters=3).fit(pca_results)\n",
    "fig = px.scatter_3d(x=pca_results [:,0],y=pca_results [:,1],z=pca_results [:,2],color=colors[km_pca.labels_])\n",
    "fig.show()"
   ]
  },
  {
   "cell_type": "code",
   "execution_count": 997,
   "metadata": {},
   "outputs": [],
   "source": [
    "# É mais interessante o uso do t-sne oferece melhor resultado. "
   ]
  },
  {
   "cell_type": "code",
   "execution_count": 998,
   "metadata": {},
   "outputs": [],
   "source": [
    "#========================================= AgglomerativeClustering ============================================="
   ]
  },
  {
   "cell_type": "code",
   "execution_count": 999,
   "metadata": {},
   "outputs": [
    {
     "data": {
      "application/vnd.plotly.v1+json": {
       "config": {
        "plotlyServerURL": "https://plot.ly"
       },
       "data": [
        {
         "hovertemplate": "color=g<br>x=%{x}<br>y=%{y}<br>z=%{z}<extra></extra>",
         "legendgroup": "g",
         "marker": {
          "color": "#636efa",
          "symbol": "circle"
         },
         "mode": "markers",
         "name": "g",
         "scene": "scene",
         "showlegend": true,
         "type": "scatter3d",
         "x": [
          -12.299400329589844,
          -62.1935920715332,
          -58.232486724853516,
          -97.29520416259766,
          -28.65032196044922,
          -86.02203369140625,
          -74.62358093261719,
          -61.180938720703125,
          -21.38738441467285,
          -28.580772399902344,
          -60.11122512817383,
          -47.3629035949707,
          -15.894413948059082,
          -98.741455078125,
          31.398418426513672,
          -69.20292663574219,
          -70.29048156738281,
          -27.51275634765625,
          -97.04116821289062,
          17.32254409790039,
          -3.1574978828430176,
          -59.70427322387695,
          -77.42169189453125,
          -62.292991638183594,
          -51.3290901184082,
          -27.41876220703125,
          -55.22673034667969
         ],
         "y": [
          29.779748916625977,
          5.7616286277771,
          3.9481115341186523,
          21.007001876831055,
          -13.553327560424805,
          41.62580490112305,
          33.936100006103516,
          39.48663330078125,
          34.6947021484375,
          39.09300231933594,
          17.6030216217041,
          3.717561721801758,
          17.542490005493164,
          29.6790771484375,
          -6.615039825439453,
          40.757999420166016,
          24.838436126708984,
          28.448652267456055,
          5.686779975891113,
          -12.417778968811035,
          -11.173171043395996,
          24.22453498840332,
          50.504112243652344,
          33.64669418334961,
          39.187538146972656,
          23.897668838500977,
          20.262939453125
         ],
         "z": [
          30.668704986572266,
          31.217824935913086,
          46.7248649597168,
          23.059833526611328,
          96.91677856445312,
          15.681777000427246,
          -11.496162414550781,
          -19.40822410583496,
          10.934659957885742,
          24.357820510864258,
          7.313816547393799,
          35.77830505371094,
          39.35200500488281,
          5.727210998535156,
          82.0071029663086,
          27.204755783081055,
          34.38387680053711,
          42.370235443115234,
          6.717557907104492,
          83.70662689208984,
          76.89227294921875,
          -9.873091697692871,
          3.082141160964966,
          3.1202316284179688,
          34.21601486206055,
          23.7994441986084,
          39.2083740234375
         ]
        },
        {
         "hovertemplate": "color=b<br>x=%{x}<br>y=%{y}<br>z=%{z}<extra></extra>",
         "legendgroup": "b",
         "marker": {
          "color": "#EF553B",
          "symbol": "circle"
         },
         "mode": "markers",
         "name": "b",
         "scene": "scene",
         "showlegend": true,
         "type": "scatter3d",
         "x": [
          18.02446937561035,
          15.503588676452637,
          78.28884887695312,
          -63.13685607910156,
          19.250377655029297,
          -61.92292785644531,
          87.3088607788086,
          39.68500518798828,
          -68.13856506347656,
          -15.186630249023438,
          -28.881061553955078,
          -26.72496223449707,
          -17.832565307617188,
          -3.6686782836914062,
          -58.425743103027344,
          47.08218002319336,
          -75.70023345947266,
          101.49105072021484,
          -67.81385803222656,
          -38.4328498840332,
          56.11082077026367,
          53.54706954956055,
          -75.87628936767578,
          28.4022216796875,
          44.62787628173828,
          23.904592514038086,
          -78.46631622314453,
          26.17852783203125,
          8.297860145568848,
          3.7043614387512207,
          -9.360079765319824,
          -42.382545471191406,
          39.80165100097656,
          -15.126922607421875,
          54.5181884765625,
          26.182090759277344,
          51.74515914916992,
          4.731957912445068,
          -74.25157165527344,
          29.594501495361328,
          24.710689544677734,
          36.17438507080078,
          -70.93364715576172,
          13.524911880493164,
          0.26454538106918335,
          -9.124977111816406,
          10.102228164672852,
          23.89616584777832,
          23.643796920776367,
          -26.720064163208008,
          -19.140836715698242,
          -73.10448455810547,
          -34.36255645751953,
          -1.5057293176651,
          -77.48959350585938,
          60.689598083496094,
          51.961395263671875,
          -30.046846389770508,
          -29.67795753479004,
          -23.916704177856445,
          -71.6746826171875,
          -9.602643966674805,
          -4.608193874359131,
          67.48712921142578,
          -72.77574920654297,
          9.082175254821777
         ],
         "y": [
          -50.78615188598633,
          -48.80083465576172,
          -39.60928726196289,
          -48.43743896484375,
          -27.689088821411133,
          -63.17776870727539,
          -50.67369079589844,
          -56.06012725830078,
          -51.41437911987305,
          -41.90692138671875,
          -44.73276901245117,
          -26.699474334716797,
          -34.999755859375,
          -55.197662353515625,
          -5.340854644775391,
          -19.786148071289062,
          0.967366099357605,
          51.42548370361328,
          -2.8458521366119385,
          -16.778636932373047,
          -35.97663116455078,
          -57.991085052490234,
          -48.41450500488281,
          -40.793792724609375,
          -67.47455596923828,
          -61.11180877685547,
          -46.28886032104492,
          -9.434627532958984,
          -61.03066635131836,
          -58.03003692626953,
          -57.18893051147461,
          -15.952141761779785,
          -30.7960205078125,
          -30.36261558532715,
          -44.30230712890625,
          -63.897613525390625,
          -53.130859375,
          -32.63566589355469,
          -97.63543701171875,
          -48.08979797363281,
          -22.064807891845703,
          -22.61444664001465,
          12.809253692626953,
          -18.61079216003418,
          -42.66287612915039,
          -21.999855041503906,
          -44.447296142578125,
          -31.95931625366211,
          -24.726028442382812,
          -26.87682342529297,
          -38.102264404296875,
          -15.508854866027832,
          -16.773237228393555,
          -45.406524658203125,
          -13.168793678283691,
          -28.692169189453125,
          -43.83046340942383,
          -9.78190803527832,
          -27.238933563232422,
          -17.189838409423828,
          -27.45794105529785,
          -28.045284271240234,
          -39.83188247680664,
          -56.51117706298828,
          -34.08866500854492,
          -52.46127700805664
         ],
         "z": [
          -9.86011028289795,
          24.56033706665039,
          -36.008792877197266,
          -9.775141716003418,
          17.45149803161621,
          4.024158000946045,
          -32.147891998291016,
          19.264591217041016,
          8.7837495803833,
          -93.50732421875,
          -86.95475769042969,
          -89.09844207763672,
          -77.92327117919922,
          -72.22811126708984,
          -68.64228820800781,
          -75.0750732421875,
          -66.24787902832031,
          0.2150869369506836,
          -50.337158203125,
          -16.185760498046875,
          -32.24458312988281,
          -12.40693187713623,
          -21.85271644592285,
          23.24386215209961,
          -21.65774154663086,
          13.809030532836914,
          -6.060544967651367,
          -68.80961608886719,
          -60.03438186645508,
          -44.228477478027344,
          -53.81800079345703,
          -62.98246765136719,
          -58.4575080871582,
          -30.628812789916992,
          -52.774715423583984,
          -5.028695106506348,
          -28.669710159301758,
          22.59482765197754,
          -13.2689847946167,
          6.818614959716797,
          32.31169509887695,
          -93.76556396484375,
          -73.78402709960938,
          -64.3464126586914,
          -64.64067077636719,
          -91.6521224975586,
          -50.653465270996094,
          -68.18060302734375,
          -54.336448669433594,
          -66.84870910644531,
          -57.806297302246094,
          -57.613277435302734,
          -45.866024017333984,
          -30.605182647705078,
          -43.15814971923828,
          -67.80998229980469,
          -66.7492446899414,
          -32.680973052978516,
          -29.9971866607666,
          -15.368846893310547,
          -32.793521881103516,
          11.05622386932373,
          4.147739887237549,
          -38.017086029052734,
          -16.57342529296875,
          3.437537908554077
         ]
        },
        {
         "hovertemplate": "color=r<br>x=%{x}<br>y=%{y}<br>z=%{z}<extra></extra>",
         "legendgroup": "r",
         "marker": {
          "color": "#00cc96",
          "symbol": "circle"
         },
         "mode": "markers",
         "name": "r",
         "scene": "scene",
         "showlegend": true,
         "type": "scatter3d",
         "x": [
          14.561995506286621,
          6.374387264251709,
          16.352279663085938,
          3.235028028488159,
          -10.007102966308594,
          -21.077796936035156,
          -2.291447401046753,
          -22.668426513671875,
          11.259465217590332,
          8.674043655395508,
          -31.682222366333008,
          -3.0714304447174072,
          -22.848421096801758,
          -23.10307502746582,
          -25.36992073059082,
          -13.463050842285156
         ],
         "y": [
          43.06217956542969,
          51.31207275390625,
          39.4081916809082,
          34.804080963134766,
          70.38758087158203,
          -82.73820495605469,
          62.66200256347656,
          65.45343017578125,
          57.67102813720703,
          43.83286666870117,
          53.00864791870117,
          48.32178497314453,
          27.604793548583984,
          14.264352798461914,
          45.029354095458984,
          51.24105453491211
         ],
         "z": [
          81.13749694824219,
          109.43148803710938,
          104.04641723632812,
          106.26417541503906,
          97.45648193359375,
          33.8443717956543,
          84.44318389892578,
          84.49134063720703,
          75.50263214111328,
          63.488197326660156,
          94.91097259521484,
          73.7974853515625,
          72.2159194946289,
          59.975372314453125,
          80.39667510986328,
          92.6313705444336
         ]
        },
        {
         "hovertemplate": "color=m<br>x=%{x}<br>y=%{y}<br>z=%{z}<extra></extra>",
         "legendgroup": "m",
         "marker": {
          "color": "#ab63fa",
          "symbol": "circle"
         },
         "mode": "markers",
         "name": "m",
         "scene": "scene",
         "showlegend": true,
         "type": "scatter3d",
         "x": [
          61.178619384765625,
          50.76362228393555,
          24.90862274169922,
          78.2477035522461,
          53.11549758911133,
          84.66925811767578,
          75.15996551513672,
          71.4551773071289,
          35.48346710205078,
          31.734901428222656,
          40.99150466918945,
          70.73281860351562,
          76.16160583496094,
          41.10403823852539,
          79.13560485839844,
          92.31268310546875,
          62.94615936279297,
          23.748689651489258,
          92.26290130615234
         ],
         "y": [
          14.256707191467285,
          12.6420259475708,
          25.219879150390625,
          20.836143493652344,
          12.921451568603516,
          15.231657981872559,
          -4.463903427124023,
          6.672524929046631,
          5.646093845367432,
          21.171144485473633,
          23.604869842529297,
          19.596864700317383,
          3.7672035694122314,
          7.576019763946533,
          18.731639862060547,
          18.753128051757812,
          5.784127712249756,
          10.062029838562012,
          8.57872486114502
         ],
         "z": [
          36.86089324951172,
          20.399858474731445,
          -9.307709693908691,
          -34.25767517089844,
          -0.4325539469718933,
          -5.670233249664307,
          -13.983155250549316,
          -25.37808609008789,
          8.978527069091797,
          9.814969062805176,
          -4.828281402587891,
          -19.435115814208984,
          5.65376091003418,
          -11.0327730178833,
          9.354509353637695,
          -27.539600372314453,
          24.8751277923584,
          -1.3867429494857788,
          9.533177375793457
         ]
        },
        {
         "hovertemplate": "color=y<br>x=%{x}<br>y=%{y}<br>z=%{z}<extra></extra>",
         "legendgroup": "y",
         "marker": {
          "color": "#FFA15A",
          "symbol": "circle"
         },
         "mode": "markers",
         "name": "y",
         "scene": "scene",
         "showlegend": true,
         "type": "scatter3d",
         "x": [
          -8.512102127075195,
          11.239941596984863,
          21.873062133789062,
          30.159841537475586,
          20.450834274291992,
          2.992337703704834,
          24.598102569580078,
          -13.922548294067383,
          13.617796897888184,
          28.066328048706055,
          38.70207977294922,
          -23.585102081298828,
          -8.484192848205566,
          -8.391465187072754
         ],
         "y": [
          84.97468566894531,
          91.16632843017578,
          84.43869018554688,
          71.03219604492188,
          68.73725128173828,
          77.84239196777344,
          83.56167602539062,
          79.3060302734375,
          71.70967102050781,
          98.66433715820312,
          87.07014465332031,
          94.6141128540039,
          98.87962341308594,
          91.15093231201172
         ],
         "z": [
          17.79889488220215,
          22.580625534057617,
          6.4247894287109375,
          13.818085670471191,
          0.7215080857276917,
          0.8350491523742676,
          30.542808532714844,
          4.229645252227783,
          16.97151756286621,
          21.099349975585938,
          20.607919692993164,
          8.996302604675293,
          4.463203430175781,
          -10.719525337219238
         ]
        },
        {
         "hovertemplate": "color=c<br>x=%{x}<br>y=%{y}<br>z=%{z}<extra></extra>",
         "legendgroup": "c",
         "marker": {
          "color": "#19d3f3",
          "symbol": "circle"
         },
         "mode": "markers",
         "name": "c",
         "scene": "scene",
         "showlegend": true,
         "type": "scatter3d",
         "x": [
          -61.84843826293945,
          -38.248416900634766,
          -44.66651916503906,
          -44.98002624511719,
          -44.423004150390625,
          -32.58899688720703,
          -55.216182708740234,
          -67.1773452758789
         ],
         "y": [
          -48.448143005371094,
          -31.811368942260742,
          -44.260860443115234,
          -13.818137168884277,
          -31.41246223449707,
          -6.556117534637451,
          -29.631040573120117,
          -55.640716552734375
         ],
         "z": [
          33.30900955200195,
          60.25831985473633,
          55.750244140625,
          49.83743667602539,
          41.82484436035156,
          56.77153778076172,
          51.53465270996094,
          43.07162857055664
         ]
        }
       ],
       "layout": {
        "legend": {
         "title": {
          "text": "color"
         },
         "tracegroupgap": 0
        },
        "margin": {
         "t": 60
        },
        "scene": {
         "domain": {
          "x": [
           0,
           1
          ],
          "y": [
           0,
           1
          ]
         },
         "xaxis": {
          "title": {
           "text": "x"
          }
         },
         "yaxis": {
          "title": {
           "text": "y"
          }
         },
         "zaxis": {
          "title": {
           "text": "z"
          }
         }
        },
        "template": {
         "data": {
          "bar": [
           {
            "error_x": {
             "color": "#2a3f5f"
            },
            "error_y": {
             "color": "#2a3f5f"
            },
            "marker": {
             "line": {
              "color": "#E5ECF6",
              "width": 0.5
             }
            },
            "type": "bar"
           }
          ],
          "barpolar": [
           {
            "marker": {
             "line": {
              "color": "#E5ECF6",
              "width": 0.5
             }
            },
            "type": "barpolar"
           }
          ],
          "carpet": [
           {
            "aaxis": {
             "endlinecolor": "#2a3f5f",
             "gridcolor": "white",
             "linecolor": "white",
             "minorgridcolor": "white",
             "startlinecolor": "#2a3f5f"
            },
            "baxis": {
             "endlinecolor": "#2a3f5f",
             "gridcolor": "white",
             "linecolor": "white",
             "minorgridcolor": "white",
             "startlinecolor": "#2a3f5f"
            },
            "type": "carpet"
           }
          ],
          "choropleth": [
           {
            "colorbar": {
             "outlinewidth": 0,
             "ticks": ""
            },
            "type": "choropleth"
           }
          ],
          "contour": [
           {
            "colorbar": {
             "outlinewidth": 0,
             "ticks": ""
            },
            "colorscale": [
             [
              0,
              "#0d0887"
             ],
             [
              0.1111111111111111,
              "#46039f"
             ],
             [
              0.2222222222222222,
              "#7201a8"
             ],
             [
              0.3333333333333333,
              "#9c179e"
             ],
             [
              0.4444444444444444,
              "#bd3786"
             ],
             [
              0.5555555555555556,
              "#d8576b"
             ],
             [
              0.6666666666666666,
              "#ed7953"
             ],
             [
              0.7777777777777778,
              "#fb9f3a"
             ],
             [
              0.8888888888888888,
              "#fdca26"
             ],
             [
              1,
              "#f0f921"
             ]
            ],
            "type": "contour"
           }
          ],
          "contourcarpet": [
           {
            "colorbar": {
             "outlinewidth": 0,
             "ticks": ""
            },
            "type": "contourcarpet"
           }
          ],
          "heatmap": [
           {
            "colorbar": {
             "outlinewidth": 0,
             "ticks": ""
            },
            "colorscale": [
             [
              0,
              "#0d0887"
             ],
             [
              0.1111111111111111,
              "#46039f"
             ],
             [
              0.2222222222222222,
              "#7201a8"
             ],
             [
              0.3333333333333333,
              "#9c179e"
             ],
             [
              0.4444444444444444,
              "#bd3786"
             ],
             [
              0.5555555555555556,
              "#d8576b"
             ],
             [
              0.6666666666666666,
              "#ed7953"
             ],
             [
              0.7777777777777778,
              "#fb9f3a"
             ],
             [
              0.8888888888888888,
              "#fdca26"
             ],
             [
              1,
              "#f0f921"
             ]
            ],
            "type": "heatmap"
           }
          ],
          "heatmapgl": [
           {
            "colorbar": {
             "outlinewidth": 0,
             "ticks": ""
            },
            "colorscale": [
             [
              0,
              "#0d0887"
             ],
             [
              0.1111111111111111,
              "#46039f"
             ],
             [
              0.2222222222222222,
              "#7201a8"
             ],
             [
              0.3333333333333333,
              "#9c179e"
             ],
             [
              0.4444444444444444,
              "#bd3786"
             ],
             [
              0.5555555555555556,
              "#d8576b"
             ],
             [
              0.6666666666666666,
              "#ed7953"
             ],
             [
              0.7777777777777778,
              "#fb9f3a"
             ],
             [
              0.8888888888888888,
              "#fdca26"
             ],
             [
              1,
              "#f0f921"
             ]
            ],
            "type": "heatmapgl"
           }
          ],
          "histogram": [
           {
            "marker": {
             "colorbar": {
              "outlinewidth": 0,
              "ticks": ""
             }
            },
            "type": "histogram"
           }
          ],
          "histogram2d": [
           {
            "colorbar": {
             "outlinewidth": 0,
             "ticks": ""
            },
            "colorscale": [
             [
              0,
              "#0d0887"
             ],
             [
              0.1111111111111111,
              "#46039f"
             ],
             [
              0.2222222222222222,
              "#7201a8"
             ],
             [
              0.3333333333333333,
              "#9c179e"
             ],
             [
              0.4444444444444444,
              "#bd3786"
             ],
             [
              0.5555555555555556,
              "#d8576b"
             ],
             [
              0.6666666666666666,
              "#ed7953"
             ],
             [
              0.7777777777777778,
              "#fb9f3a"
             ],
             [
              0.8888888888888888,
              "#fdca26"
             ],
             [
              1,
              "#f0f921"
             ]
            ],
            "type": "histogram2d"
           }
          ],
          "histogram2dcontour": [
           {
            "colorbar": {
             "outlinewidth": 0,
             "ticks": ""
            },
            "colorscale": [
             [
              0,
              "#0d0887"
             ],
             [
              0.1111111111111111,
              "#46039f"
             ],
             [
              0.2222222222222222,
              "#7201a8"
             ],
             [
              0.3333333333333333,
              "#9c179e"
             ],
             [
              0.4444444444444444,
              "#bd3786"
             ],
             [
              0.5555555555555556,
              "#d8576b"
             ],
             [
              0.6666666666666666,
              "#ed7953"
             ],
             [
              0.7777777777777778,
              "#fb9f3a"
             ],
             [
              0.8888888888888888,
              "#fdca26"
             ],
             [
              1,
              "#f0f921"
             ]
            ],
            "type": "histogram2dcontour"
           }
          ],
          "mesh3d": [
           {
            "colorbar": {
             "outlinewidth": 0,
             "ticks": ""
            },
            "type": "mesh3d"
           }
          ],
          "parcoords": [
           {
            "line": {
             "colorbar": {
              "outlinewidth": 0,
              "ticks": ""
             }
            },
            "type": "parcoords"
           }
          ],
          "pie": [
           {
            "automargin": true,
            "type": "pie"
           }
          ],
          "scatter": [
           {
            "marker": {
             "colorbar": {
              "outlinewidth": 0,
              "ticks": ""
             }
            },
            "type": "scatter"
           }
          ],
          "scatter3d": [
           {
            "line": {
             "colorbar": {
              "outlinewidth": 0,
              "ticks": ""
             }
            },
            "marker": {
             "colorbar": {
              "outlinewidth": 0,
              "ticks": ""
             }
            },
            "type": "scatter3d"
           }
          ],
          "scattercarpet": [
           {
            "marker": {
             "colorbar": {
              "outlinewidth": 0,
              "ticks": ""
             }
            },
            "type": "scattercarpet"
           }
          ],
          "scattergeo": [
           {
            "marker": {
             "colorbar": {
              "outlinewidth": 0,
              "ticks": ""
             }
            },
            "type": "scattergeo"
           }
          ],
          "scattergl": [
           {
            "marker": {
             "colorbar": {
              "outlinewidth": 0,
              "ticks": ""
             }
            },
            "type": "scattergl"
           }
          ],
          "scattermapbox": [
           {
            "marker": {
             "colorbar": {
              "outlinewidth": 0,
              "ticks": ""
             }
            },
            "type": "scattermapbox"
           }
          ],
          "scatterpolar": [
           {
            "marker": {
             "colorbar": {
              "outlinewidth": 0,
              "ticks": ""
             }
            },
            "type": "scatterpolar"
           }
          ],
          "scatterpolargl": [
           {
            "marker": {
             "colorbar": {
              "outlinewidth": 0,
              "ticks": ""
             }
            },
            "type": "scatterpolargl"
           }
          ],
          "scatterternary": [
           {
            "marker": {
             "colorbar": {
              "outlinewidth": 0,
              "ticks": ""
             }
            },
            "type": "scatterternary"
           }
          ],
          "surface": [
           {
            "colorbar": {
             "outlinewidth": 0,
             "ticks": ""
            },
            "colorscale": [
             [
              0,
              "#0d0887"
             ],
             [
              0.1111111111111111,
              "#46039f"
             ],
             [
              0.2222222222222222,
              "#7201a8"
             ],
             [
              0.3333333333333333,
              "#9c179e"
             ],
             [
              0.4444444444444444,
              "#bd3786"
             ],
             [
              0.5555555555555556,
              "#d8576b"
             ],
             [
              0.6666666666666666,
              "#ed7953"
             ],
             [
              0.7777777777777778,
              "#fb9f3a"
             ],
             [
              0.8888888888888888,
              "#fdca26"
             ],
             [
              1,
              "#f0f921"
             ]
            ],
            "type": "surface"
           }
          ],
          "table": [
           {
            "cells": {
             "fill": {
              "color": "#EBF0F8"
             },
             "line": {
              "color": "white"
             }
            },
            "header": {
             "fill": {
              "color": "#C8D4E3"
             },
             "line": {
              "color": "white"
             }
            },
            "type": "table"
           }
          ]
         },
         "layout": {
          "annotationdefaults": {
           "arrowcolor": "#2a3f5f",
           "arrowhead": 0,
           "arrowwidth": 1
          },
          "coloraxis": {
           "colorbar": {
            "outlinewidth": 0,
            "ticks": ""
           }
          },
          "colorscale": {
           "diverging": [
            [
             0,
             "#8e0152"
            ],
            [
             0.1,
             "#c51b7d"
            ],
            [
             0.2,
             "#de77ae"
            ],
            [
             0.3,
             "#f1b6da"
            ],
            [
             0.4,
             "#fde0ef"
            ],
            [
             0.5,
             "#f7f7f7"
            ],
            [
             0.6,
             "#e6f5d0"
            ],
            [
             0.7,
             "#b8e186"
            ],
            [
             0.8,
             "#7fbc41"
            ],
            [
             0.9,
             "#4d9221"
            ],
            [
             1,
             "#276419"
            ]
           ],
           "sequential": [
            [
             0,
             "#0d0887"
            ],
            [
             0.1111111111111111,
             "#46039f"
            ],
            [
             0.2222222222222222,
             "#7201a8"
            ],
            [
             0.3333333333333333,
             "#9c179e"
            ],
            [
             0.4444444444444444,
             "#bd3786"
            ],
            [
             0.5555555555555556,
             "#d8576b"
            ],
            [
             0.6666666666666666,
             "#ed7953"
            ],
            [
             0.7777777777777778,
             "#fb9f3a"
            ],
            [
             0.8888888888888888,
             "#fdca26"
            ],
            [
             1,
             "#f0f921"
            ]
           ],
           "sequentialminus": [
            [
             0,
             "#0d0887"
            ],
            [
             0.1111111111111111,
             "#46039f"
            ],
            [
             0.2222222222222222,
             "#7201a8"
            ],
            [
             0.3333333333333333,
             "#9c179e"
            ],
            [
             0.4444444444444444,
             "#bd3786"
            ],
            [
             0.5555555555555556,
             "#d8576b"
            ],
            [
             0.6666666666666666,
             "#ed7953"
            ],
            [
             0.7777777777777778,
             "#fb9f3a"
            ],
            [
             0.8888888888888888,
             "#fdca26"
            ],
            [
             1,
             "#f0f921"
            ]
           ]
          },
          "colorway": [
           "#636efa",
           "#EF553B",
           "#00cc96",
           "#ab63fa",
           "#FFA15A",
           "#19d3f3",
           "#FF6692",
           "#B6E880",
           "#FF97FF",
           "#FECB52"
          ],
          "font": {
           "color": "#2a3f5f"
          },
          "geo": {
           "bgcolor": "white",
           "lakecolor": "white",
           "landcolor": "#E5ECF6",
           "showlakes": true,
           "showland": true,
           "subunitcolor": "white"
          },
          "hoverlabel": {
           "align": "left"
          },
          "hovermode": "closest",
          "mapbox": {
           "style": "light"
          },
          "paper_bgcolor": "white",
          "plot_bgcolor": "#E5ECF6",
          "polar": {
           "angularaxis": {
            "gridcolor": "white",
            "linecolor": "white",
            "ticks": ""
           },
           "bgcolor": "#E5ECF6",
           "radialaxis": {
            "gridcolor": "white",
            "linecolor": "white",
            "ticks": ""
           }
          },
          "scene": {
           "xaxis": {
            "backgroundcolor": "#E5ECF6",
            "gridcolor": "white",
            "gridwidth": 2,
            "linecolor": "white",
            "showbackground": true,
            "ticks": "",
            "zerolinecolor": "white"
           },
           "yaxis": {
            "backgroundcolor": "#E5ECF6",
            "gridcolor": "white",
            "gridwidth": 2,
            "linecolor": "white",
            "showbackground": true,
            "ticks": "",
            "zerolinecolor": "white"
           },
           "zaxis": {
            "backgroundcolor": "#E5ECF6",
            "gridcolor": "white",
            "gridwidth": 2,
            "linecolor": "white",
            "showbackground": true,
            "ticks": "",
            "zerolinecolor": "white"
           }
          },
          "shapedefaults": {
           "line": {
            "color": "#2a3f5f"
           }
          },
          "ternary": {
           "aaxis": {
            "gridcolor": "white",
            "linecolor": "white",
            "ticks": ""
           },
           "baxis": {
            "gridcolor": "white",
            "linecolor": "white",
            "ticks": ""
           },
           "bgcolor": "#E5ECF6",
           "caxis": {
            "gridcolor": "white",
            "linecolor": "white",
            "ticks": ""
           }
          },
          "title": {
           "x": 0.05
          },
          "xaxis": {
           "automargin": true,
           "gridcolor": "white",
           "linecolor": "white",
           "ticks": "",
           "title": {
            "standoff": 15
           },
           "zerolinecolor": "white",
           "zerolinewidth": 2
          },
          "yaxis": {
           "automargin": true,
           "gridcolor": "white",
           "linecolor": "white",
           "ticks": "",
           "title": {
            "standoff": 15
           },
           "zerolinecolor": "white",
           "zerolinewidth": 2
          }
         }
        }
       }
      },
      "text/html": [
       "<div>\n",
       "        \n",
       "        \n",
       "            <div id=\"91cef31d-f926-4c68-8eee-7a6451cd28be\" class=\"plotly-graph-div\" style=\"height:525px; width:100%;\"></div>\n",
       "            <script type=\"text/javascript\">\n",
       "                require([\"plotly\"], function(Plotly) {\n",
       "                    window.PLOTLYENV=window.PLOTLYENV || {};\n",
       "                    \n",
       "                if (document.getElementById(\"91cef31d-f926-4c68-8eee-7a6451cd28be\")) {\n",
       "                    Plotly.newPlot(\n",
       "                        '91cef31d-f926-4c68-8eee-7a6451cd28be',\n",
       "                        [{\"hovertemplate\": \"color=g<br>x=%{x}<br>y=%{y}<br>z=%{z}<extra></extra>\", \"legendgroup\": \"g\", \"marker\": {\"color\": \"#636efa\", \"symbol\": \"circle\"}, \"mode\": \"markers\", \"name\": \"g\", \"scene\": \"scene\", \"showlegend\": true, \"type\": \"scatter3d\", \"x\": [-12.299400329589844, -62.1935920715332, -58.232486724853516, -97.29520416259766, -28.65032196044922, -86.02203369140625, -74.62358093261719, -61.180938720703125, -21.38738441467285, -28.580772399902344, -60.11122512817383, -47.3629035949707, -15.894413948059082, -98.741455078125, 31.398418426513672, -69.20292663574219, -70.29048156738281, -27.51275634765625, -97.04116821289062, 17.32254409790039, -3.1574978828430176, -59.70427322387695, -77.42169189453125, -62.292991638183594, -51.3290901184082, -27.41876220703125, -55.22673034667969], \"y\": [29.779748916625977, 5.7616286277771, 3.9481115341186523, 21.007001876831055, -13.553327560424805, 41.62580490112305, 33.936100006103516, 39.48663330078125, 34.6947021484375, 39.09300231933594, 17.6030216217041, 3.717561721801758, 17.542490005493164, 29.6790771484375, -6.615039825439453, 40.757999420166016, 24.838436126708984, 28.448652267456055, 5.686779975891113, -12.417778968811035, -11.173171043395996, 24.22453498840332, 50.504112243652344, 33.64669418334961, 39.187538146972656, 23.897668838500977, 20.262939453125], \"z\": [30.668704986572266, 31.217824935913086, 46.7248649597168, 23.059833526611328, 96.91677856445312, 15.681777000427246, -11.496162414550781, -19.40822410583496, 10.934659957885742, 24.357820510864258, 7.313816547393799, 35.77830505371094, 39.35200500488281, 5.727210998535156, 82.0071029663086, 27.204755783081055, 34.38387680053711, 42.370235443115234, 6.717557907104492, 83.70662689208984, 76.89227294921875, -9.873091697692871, 3.082141160964966, 3.1202316284179688, 34.21601486206055, 23.7994441986084, 39.2083740234375]}, {\"hovertemplate\": \"color=b<br>x=%{x}<br>y=%{y}<br>z=%{z}<extra></extra>\", \"legendgroup\": \"b\", \"marker\": {\"color\": \"#EF553B\", \"symbol\": \"circle\"}, \"mode\": \"markers\", \"name\": \"b\", \"scene\": \"scene\", \"showlegend\": true, \"type\": \"scatter3d\", \"x\": [18.02446937561035, 15.503588676452637, 78.28884887695312, -63.13685607910156, 19.250377655029297, -61.92292785644531, 87.3088607788086, 39.68500518798828, -68.13856506347656, -15.186630249023438, -28.881061553955078, -26.72496223449707, -17.832565307617188, -3.6686782836914062, -58.425743103027344, 47.08218002319336, -75.70023345947266, 101.49105072021484, -67.81385803222656, -38.4328498840332, 56.11082077026367, 53.54706954956055, -75.87628936767578, 28.4022216796875, 44.62787628173828, 23.904592514038086, -78.46631622314453, 26.17852783203125, 8.297860145568848, 3.7043614387512207, -9.360079765319824, -42.382545471191406, 39.80165100097656, -15.126922607421875, 54.5181884765625, 26.182090759277344, 51.74515914916992, 4.731957912445068, -74.25157165527344, 29.594501495361328, 24.710689544677734, 36.17438507080078, -70.93364715576172, 13.524911880493164, 0.26454538106918335, -9.124977111816406, 10.102228164672852, 23.89616584777832, 23.643796920776367, -26.720064163208008, -19.140836715698242, -73.10448455810547, -34.36255645751953, -1.5057293176651, -77.48959350585938, 60.689598083496094, 51.961395263671875, -30.046846389770508, -29.67795753479004, -23.916704177856445, -71.6746826171875, -9.602643966674805, -4.608193874359131, 67.48712921142578, -72.77574920654297, 9.082175254821777], \"y\": [-50.78615188598633, -48.80083465576172, -39.60928726196289, -48.43743896484375, -27.689088821411133, -63.17776870727539, -50.67369079589844, -56.06012725830078, -51.41437911987305, -41.90692138671875, -44.73276901245117, -26.699474334716797, -34.999755859375, -55.197662353515625, -5.340854644775391, -19.786148071289062, 0.967366099357605, 51.42548370361328, -2.8458521366119385, -16.778636932373047, -35.97663116455078, -57.991085052490234, -48.41450500488281, -40.793792724609375, -67.47455596923828, -61.11180877685547, -46.28886032104492, -9.434627532958984, -61.03066635131836, -58.03003692626953, -57.18893051147461, -15.952141761779785, -30.7960205078125, -30.36261558532715, -44.30230712890625, -63.897613525390625, -53.130859375, -32.63566589355469, -97.63543701171875, -48.08979797363281, -22.064807891845703, -22.61444664001465, 12.809253692626953, -18.61079216003418, -42.66287612915039, -21.999855041503906, -44.447296142578125, -31.95931625366211, -24.726028442382812, -26.87682342529297, -38.102264404296875, -15.508854866027832, -16.773237228393555, -45.406524658203125, -13.168793678283691, -28.692169189453125, -43.83046340942383, -9.78190803527832, -27.238933563232422, -17.189838409423828, -27.45794105529785, -28.045284271240234, -39.83188247680664, -56.51117706298828, -34.08866500854492, -52.46127700805664], \"z\": [-9.86011028289795, 24.56033706665039, -36.008792877197266, -9.775141716003418, 17.45149803161621, 4.024158000946045, -32.147891998291016, 19.264591217041016, 8.7837495803833, -93.50732421875, -86.95475769042969, -89.09844207763672, -77.92327117919922, -72.22811126708984, -68.64228820800781, -75.0750732421875, -66.24787902832031, 0.2150869369506836, -50.337158203125, -16.185760498046875, -32.24458312988281, -12.40693187713623, -21.85271644592285, 23.24386215209961, -21.65774154663086, 13.809030532836914, -6.060544967651367, -68.80961608886719, -60.03438186645508, -44.228477478027344, -53.81800079345703, -62.98246765136719, -58.4575080871582, -30.628812789916992, -52.774715423583984, -5.028695106506348, -28.669710159301758, 22.59482765197754, -13.2689847946167, 6.818614959716797, 32.31169509887695, -93.76556396484375, -73.78402709960938, -64.3464126586914, -64.64067077636719, -91.6521224975586, -50.653465270996094, -68.18060302734375, -54.336448669433594, -66.84870910644531, -57.806297302246094, -57.613277435302734, -45.866024017333984, -30.605182647705078, -43.15814971923828, -67.80998229980469, -66.7492446899414, -32.680973052978516, -29.9971866607666, -15.368846893310547, -32.793521881103516, 11.05622386932373, 4.147739887237549, -38.017086029052734, -16.57342529296875, 3.437537908554077]}, {\"hovertemplate\": \"color=r<br>x=%{x}<br>y=%{y}<br>z=%{z}<extra></extra>\", \"legendgroup\": \"r\", \"marker\": {\"color\": \"#00cc96\", \"symbol\": \"circle\"}, \"mode\": \"markers\", \"name\": \"r\", \"scene\": \"scene\", \"showlegend\": true, \"type\": \"scatter3d\", \"x\": [14.561995506286621, 6.374387264251709, 16.352279663085938, 3.235028028488159, -10.007102966308594, -21.077796936035156, -2.291447401046753, -22.668426513671875, 11.259465217590332, 8.674043655395508, -31.682222366333008, -3.0714304447174072, -22.848421096801758, -23.10307502746582, -25.36992073059082, -13.463050842285156], \"y\": [43.06217956542969, 51.31207275390625, 39.4081916809082, 34.804080963134766, 70.38758087158203, -82.73820495605469, 62.66200256347656, 65.45343017578125, 57.67102813720703, 43.83286666870117, 53.00864791870117, 48.32178497314453, 27.604793548583984, 14.264352798461914, 45.029354095458984, 51.24105453491211], \"z\": [81.13749694824219, 109.43148803710938, 104.04641723632812, 106.26417541503906, 97.45648193359375, 33.8443717956543, 84.44318389892578, 84.49134063720703, 75.50263214111328, 63.488197326660156, 94.91097259521484, 73.7974853515625, 72.2159194946289, 59.975372314453125, 80.39667510986328, 92.6313705444336]}, {\"hovertemplate\": \"color=m<br>x=%{x}<br>y=%{y}<br>z=%{z}<extra></extra>\", \"legendgroup\": \"m\", \"marker\": {\"color\": \"#ab63fa\", \"symbol\": \"circle\"}, \"mode\": \"markers\", \"name\": \"m\", \"scene\": \"scene\", \"showlegend\": true, \"type\": \"scatter3d\", \"x\": [61.178619384765625, 50.76362228393555, 24.90862274169922, 78.2477035522461, 53.11549758911133, 84.66925811767578, 75.15996551513672, 71.4551773071289, 35.48346710205078, 31.734901428222656, 40.99150466918945, 70.73281860351562, 76.16160583496094, 41.10403823852539, 79.13560485839844, 92.31268310546875, 62.94615936279297, 23.748689651489258, 92.26290130615234], \"y\": [14.256707191467285, 12.6420259475708, 25.219879150390625, 20.836143493652344, 12.921451568603516, 15.231657981872559, -4.463903427124023, 6.672524929046631, 5.646093845367432, 21.171144485473633, 23.604869842529297, 19.596864700317383, 3.7672035694122314, 7.576019763946533, 18.731639862060547, 18.753128051757812, 5.784127712249756, 10.062029838562012, 8.57872486114502], \"z\": [36.86089324951172, 20.399858474731445, -9.307709693908691, -34.25767517089844, -0.4325539469718933, -5.670233249664307, -13.983155250549316, -25.37808609008789, 8.978527069091797, 9.814969062805176, -4.828281402587891, -19.435115814208984, 5.65376091003418, -11.0327730178833, 9.354509353637695, -27.539600372314453, 24.8751277923584, -1.3867429494857788, 9.533177375793457]}, {\"hovertemplate\": \"color=y<br>x=%{x}<br>y=%{y}<br>z=%{z}<extra></extra>\", \"legendgroup\": \"y\", \"marker\": {\"color\": \"#FFA15A\", \"symbol\": \"circle\"}, \"mode\": \"markers\", \"name\": \"y\", \"scene\": \"scene\", \"showlegend\": true, \"type\": \"scatter3d\", \"x\": [-8.512102127075195, 11.239941596984863, 21.873062133789062, 30.159841537475586, 20.450834274291992, 2.992337703704834, 24.598102569580078, -13.922548294067383, 13.617796897888184, 28.066328048706055, 38.70207977294922, -23.585102081298828, -8.484192848205566, -8.391465187072754], \"y\": [84.97468566894531, 91.16632843017578, 84.43869018554688, 71.03219604492188, 68.73725128173828, 77.84239196777344, 83.56167602539062, 79.3060302734375, 71.70967102050781, 98.66433715820312, 87.07014465332031, 94.6141128540039, 98.87962341308594, 91.15093231201172], \"z\": [17.79889488220215, 22.580625534057617, 6.4247894287109375, 13.818085670471191, 0.7215080857276917, 0.8350491523742676, 30.542808532714844, 4.229645252227783, 16.97151756286621, 21.099349975585938, 20.607919692993164, 8.996302604675293, 4.463203430175781, -10.719525337219238]}, {\"hovertemplate\": \"color=c<br>x=%{x}<br>y=%{y}<br>z=%{z}<extra></extra>\", \"legendgroup\": \"c\", \"marker\": {\"color\": \"#19d3f3\", \"symbol\": \"circle\"}, \"mode\": \"markers\", \"name\": \"c\", \"scene\": \"scene\", \"showlegend\": true, \"type\": \"scatter3d\", \"x\": [-61.84843826293945, -38.248416900634766, -44.66651916503906, -44.98002624511719, -44.423004150390625, -32.58899688720703, -55.216182708740234, -67.1773452758789], \"y\": [-48.448143005371094, -31.811368942260742, -44.260860443115234, -13.818137168884277, -31.41246223449707, -6.556117534637451, -29.631040573120117, -55.640716552734375], \"z\": [33.30900955200195, 60.25831985473633, 55.750244140625, 49.83743667602539, 41.82484436035156, 56.77153778076172, 51.53465270996094, 43.07162857055664]}],\n",
       "                        {\"legend\": {\"title\": {\"text\": \"color\"}, \"tracegroupgap\": 0}, \"margin\": {\"t\": 60}, \"scene\": {\"domain\": {\"x\": [0.0, 1.0], \"y\": [0.0, 1.0]}, \"xaxis\": {\"title\": {\"text\": \"x\"}}, \"yaxis\": {\"title\": {\"text\": \"y\"}}, \"zaxis\": {\"title\": {\"text\": \"z\"}}}, \"template\": {\"data\": {\"bar\": [{\"error_x\": {\"color\": \"#2a3f5f\"}, \"error_y\": {\"color\": \"#2a3f5f\"}, \"marker\": {\"line\": {\"color\": \"#E5ECF6\", \"width\": 0.5}}, \"type\": \"bar\"}], \"barpolar\": [{\"marker\": {\"line\": {\"color\": \"#E5ECF6\", \"width\": 0.5}}, \"type\": \"barpolar\"}], \"carpet\": [{\"aaxis\": {\"endlinecolor\": \"#2a3f5f\", \"gridcolor\": \"white\", \"linecolor\": \"white\", \"minorgridcolor\": \"white\", \"startlinecolor\": \"#2a3f5f\"}, \"baxis\": {\"endlinecolor\": \"#2a3f5f\", \"gridcolor\": \"white\", \"linecolor\": \"white\", \"minorgridcolor\": \"white\", \"startlinecolor\": \"#2a3f5f\"}, \"type\": \"carpet\"}], \"choropleth\": [{\"colorbar\": {\"outlinewidth\": 0, \"ticks\": \"\"}, \"type\": \"choropleth\"}], \"contour\": [{\"colorbar\": {\"outlinewidth\": 0, \"ticks\": \"\"}, \"colorscale\": [[0.0, \"#0d0887\"], [0.1111111111111111, \"#46039f\"], [0.2222222222222222, \"#7201a8\"], [0.3333333333333333, \"#9c179e\"], [0.4444444444444444, \"#bd3786\"], [0.5555555555555556, \"#d8576b\"], [0.6666666666666666, \"#ed7953\"], [0.7777777777777778, \"#fb9f3a\"], [0.8888888888888888, \"#fdca26\"], [1.0, \"#f0f921\"]], \"type\": \"contour\"}], \"contourcarpet\": [{\"colorbar\": {\"outlinewidth\": 0, \"ticks\": \"\"}, \"type\": \"contourcarpet\"}], \"heatmap\": [{\"colorbar\": {\"outlinewidth\": 0, \"ticks\": \"\"}, \"colorscale\": [[0.0, \"#0d0887\"], [0.1111111111111111, \"#46039f\"], [0.2222222222222222, \"#7201a8\"], [0.3333333333333333, \"#9c179e\"], [0.4444444444444444, \"#bd3786\"], [0.5555555555555556, \"#d8576b\"], [0.6666666666666666, \"#ed7953\"], [0.7777777777777778, \"#fb9f3a\"], [0.8888888888888888, \"#fdca26\"], [1.0, \"#f0f921\"]], \"type\": \"heatmap\"}], \"heatmapgl\": [{\"colorbar\": {\"outlinewidth\": 0, \"ticks\": \"\"}, \"colorscale\": [[0.0, \"#0d0887\"], [0.1111111111111111, \"#46039f\"], [0.2222222222222222, \"#7201a8\"], [0.3333333333333333, \"#9c179e\"], [0.4444444444444444, \"#bd3786\"], [0.5555555555555556, \"#d8576b\"], [0.6666666666666666, \"#ed7953\"], [0.7777777777777778, \"#fb9f3a\"], [0.8888888888888888, \"#fdca26\"], [1.0, \"#f0f921\"]], \"type\": \"heatmapgl\"}], \"histogram\": [{\"marker\": {\"colorbar\": {\"outlinewidth\": 0, \"ticks\": \"\"}}, \"type\": \"histogram\"}], \"histogram2d\": [{\"colorbar\": {\"outlinewidth\": 0, \"ticks\": \"\"}, \"colorscale\": [[0.0, \"#0d0887\"], [0.1111111111111111, \"#46039f\"], [0.2222222222222222, \"#7201a8\"], [0.3333333333333333, \"#9c179e\"], [0.4444444444444444, \"#bd3786\"], [0.5555555555555556, \"#d8576b\"], [0.6666666666666666, \"#ed7953\"], [0.7777777777777778, \"#fb9f3a\"], [0.8888888888888888, \"#fdca26\"], [1.0, \"#f0f921\"]], \"type\": \"histogram2d\"}], \"histogram2dcontour\": [{\"colorbar\": {\"outlinewidth\": 0, \"ticks\": \"\"}, \"colorscale\": [[0.0, \"#0d0887\"], [0.1111111111111111, \"#46039f\"], [0.2222222222222222, \"#7201a8\"], [0.3333333333333333, \"#9c179e\"], [0.4444444444444444, \"#bd3786\"], [0.5555555555555556, \"#d8576b\"], [0.6666666666666666, \"#ed7953\"], [0.7777777777777778, \"#fb9f3a\"], [0.8888888888888888, \"#fdca26\"], [1.0, \"#f0f921\"]], \"type\": \"histogram2dcontour\"}], \"mesh3d\": [{\"colorbar\": {\"outlinewidth\": 0, \"ticks\": \"\"}, \"type\": \"mesh3d\"}], \"parcoords\": [{\"line\": {\"colorbar\": {\"outlinewidth\": 0, \"ticks\": \"\"}}, \"type\": \"parcoords\"}], \"pie\": [{\"automargin\": true, \"type\": \"pie\"}], \"scatter\": [{\"marker\": {\"colorbar\": {\"outlinewidth\": 0, \"ticks\": \"\"}}, \"type\": \"scatter\"}], \"scatter3d\": [{\"line\": {\"colorbar\": {\"outlinewidth\": 0, \"ticks\": \"\"}}, \"marker\": {\"colorbar\": {\"outlinewidth\": 0, \"ticks\": \"\"}}, \"type\": \"scatter3d\"}], \"scattercarpet\": [{\"marker\": {\"colorbar\": {\"outlinewidth\": 0, \"ticks\": \"\"}}, \"type\": \"scattercarpet\"}], \"scattergeo\": [{\"marker\": {\"colorbar\": {\"outlinewidth\": 0, \"ticks\": \"\"}}, \"type\": \"scattergeo\"}], \"scattergl\": [{\"marker\": {\"colorbar\": {\"outlinewidth\": 0, \"ticks\": \"\"}}, \"type\": \"scattergl\"}], \"scattermapbox\": [{\"marker\": {\"colorbar\": {\"outlinewidth\": 0, \"ticks\": \"\"}}, \"type\": \"scattermapbox\"}], \"scatterpolar\": [{\"marker\": {\"colorbar\": {\"outlinewidth\": 0, \"ticks\": \"\"}}, \"type\": \"scatterpolar\"}], \"scatterpolargl\": [{\"marker\": {\"colorbar\": {\"outlinewidth\": 0, \"ticks\": \"\"}}, \"type\": \"scatterpolargl\"}], \"scatterternary\": [{\"marker\": {\"colorbar\": {\"outlinewidth\": 0, \"ticks\": \"\"}}, \"type\": \"scatterternary\"}], \"surface\": [{\"colorbar\": {\"outlinewidth\": 0, \"ticks\": \"\"}, \"colorscale\": [[0.0, \"#0d0887\"], [0.1111111111111111, \"#46039f\"], [0.2222222222222222, \"#7201a8\"], [0.3333333333333333, \"#9c179e\"], [0.4444444444444444, \"#bd3786\"], [0.5555555555555556, \"#d8576b\"], [0.6666666666666666, \"#ed7953\"], [0.7777777777777778, \"#fb9f3a\"], [0.8888888888888888, \"#fdca26\"], [1.0, \"#f0f921\"]], \"type\": \"surface\"}], \"table\": [{\"cells\": {\"fill\": {\"color\": \"#EBF0F8\"}, \"line\": {\"color\": \"white\"}}, \"header\": {\"fill\": {\"color\": \"#C8D4E3\"}, \"line\": {\"color\": \"white\"}}, \"type\": \"table\"}]}, \"layout\": {\"annotationdefaults\": {\"arrowcolor\": \"#2a3f5f\", \"arrowhead\": 0, \"arrowwidth\": 1}, \"coloraxis\": {\"colorbar\": {\"outlinewidth\": 0, \"ticks\": \"\"}}, \"colorscale\": {\"diverging\": [[0, \"#8e0152\"], [0.1, \"#c51b7d\"], [0.2, \"#de77ae\"], [0.3, \"#f1b6da\"], [0.4, \"#fde0ef\"], [0.5, \"#f7f7f7\"], [0.6, \"#e6f5d0\"], [0.7, \"#b8e186\"], [0.8, \"#7fbc41\"], [0.9, \"#4d9221\"], [1, \"#276419\"]], \"sequential\": [[0.0, \"#0d0887\"], [0.1111111111111111, \"#46039f\"], [0.2222222222222222, \"#7201a8\"], [0.3333333333333333, \"#9c179e\"], [0.4444444444444444, \"#bd3786\"], [0.5555555555555556, \"#d8576b\"], [0.6666666666666666, \"#ed7953\"], [0.7777777777777778, \"#fb9f3a\"], [0.8888888888888888, \"#fdca26\"], [1.0, \"#f0f921\"]], \"sequentialminus\": [[0.0, \"#0d0887\"], [0.1111111111111111, \"#46039f\"], [0.2222222222222222, \"#7201a8\"], [0.3333333333333333, \"#9c179e\"], [0.4444444444444444, \"#bd3786\"], [0.5555555555555556, \"#d8576b\"], [0.6666666666666666, \"#ed7953\"], [0.7777777777777778, \"#fb9f3a\"], [0.8888888888888888, \"#fdca26\"], [1.0, \"#f0f921\"]]}, \"colorway\": [\"#636efa\", \"#EF553B\", \"#00cc96\", \"#ab63fa\", \"#FFA15A\", \"#19d3f3\", \"#FF6692\", \"#B6E880\", \"#FF97FF\", \"#FECB52\"], \"font\": {\"color\": \"#2a3f5f\"}, \"geo\": {\"bgcolor\": \"white\", \"lakecolor\": \"white\", \"landcolor\": \"#E5ECF6\", \"showlakes\": true, \"showland\": true, \"subunitcolor\": \"white\"}, \"hoverlabel\": {\"align\": \"left\"}, \"hovermode\": \"closest\", \"mapbox\": {\"style\": \"light\"}, \"paper_bgcolor\": \"white\", \"plot_bgcolor\": \"#E5ECF6\", \"polar\": {\"angularaxis\": {\"gridcolor\": \"white\", \"linecolor\": \"white\", \"ticks\": \"\"}, \"bgcolor\": \"#E5ECF6\", \"radialaxis\": {\"gridcolor\": \"white\", \"linecolor\": \"white\", \"ticks\": \"\"}}, \"scene\": {\"xaxis\": {\"backgroundcolor\": \"#E5ECF6\", \"gridcolor\": \"white\", \"gridwidth\": 2, \"linecolor\": \"white\", \"showbackground\": true, \"ticks\": \"\", \"zerolinecolor\": \"white\"}, \"yaxis\": {\"backgroundcolor\": \"#E5ECF6\", \"gridcolor\": \"white\", \"gridwidth\": 2, \"linecolor\": \"white\", \"showbackground\": true, \"ticks\": \"\", \"zerolinecolor\": \"white\"}, \"zaxis\": {\"backgroundcolor\": \"#E5ECF6\", \"gridcolor\": \"white\", \"gridwidth\": 2, \"linecolor\": \"white\", \"showbackground\": true, \"ticks\": \"\", \"zerolinecolor\": \"white\"}}, \"shapedefaults\": {\"line\": {\"color\": \"#2a3f5f\"}}, \"ternary\": {\"aaxis\": {\"gridcolor\": \"white\", \"linecolor\": \"white\", \"ticks\": \"\"}, \"baxis\": {\"gridcolor\": \"white\", \"linecolor\": \"white\", \"ticks\": \"\"}, \"bgcolor\": \"#E5ECF6\", \"caxis\": {\"gridcolor\": \"white\", \"linecolor\": \"white\", \"ticks\": \"\"}}, \"title\": {\"x\": 0.05}, \"xaxis\": {\"automargin\": true, \"gridcolor\": \"white\", \"linecolor\": \"white\", \"ticks\": \"\", \"title\": {\"standoff\": 15}, \"zerolinecolor\": \"white\", \"zerolinewidth\": 2}, \"yaxis\": {\"automargin\": true, \"gridcolor\": \"white\", \"linecolor\": \"white\", \"ticks\": \"\", \"title\": {\"standoff\": 15}, \"zerolinecolor\": \"white\", \"zerolinewidth\": 2}}}},\n",
       "                        {\"responsive\": true}\n",
       "                    ).then(function(){\n",
       "                            \n",
       "var gd = document.getElementById('91cef31d-f926-4c68-8eee-7a6451cd28be');\n",
       "var x = new MutationObserver(function (mutations, observer) {{\n",
       "        var display = window.getComputedStyle(gd).display;\n",
       "        if (!display || display === 'none') {{\n",
       "            console.log([gd, 'removed!']);\n",
       "            Plotly.purge(gd);\n",
       "            observer.disconnect();\n",
       "        }}\n",
       "}});\n",
       "\n",
       "// Listen for the removal of the full notebook cells\n",
       "var notebookContainer = gd.closest('#notebook-container');\n",
       "if (notebookContainer) {{\n",
       "    x.observe(notebookContainer, {childList: true});\n",
       "}}\n",
       "\n",
       "// Listen for the clearing of the current output cell\n",
       "var outputEl = gd.closest('.output');\n",
       "if (outputEl) {{\n",
       "    x.observe(outputEl, {childList: true});\n",
       "}}\n",
       "\n",
       "                        })\n",
       "                };\n",
       "                });\n",
       "            </script>\n",
       "        </div>"
      ]
     },
     "metadata": {},
     "output_type": "display_data"
    }
   ],
   "source": [
    "\n",
    "# 6 clusters\n",
    "agnes6 = AgglomerativeClustering(n_clusters=6, linkage='average').fit(X_selected)\n",
    "\n",
    "# plotagem usando t-sne \n",
    "X_embedded  = TSNE(n_components=3, perplexity=10,random_state=24).fit_transform( X_selected )\n",
    "\n",
    "fig = px.scatter_3d(x=X_embedded [:,0],y=X_embedded [:,1],z=X_embedded [:,2],color=colors[agnes6.labels_])\n",
    "fig.show()"
   ]
  },
  {
   "cell_type": "code",
   "execution_count": 1000,
   "metadata": {},
   "outputs": [],
   "source": [
    "#================================================= DBSCAN ====================================================="
   ]
  },
  {
   "cell_type": "code",
   "execution_count": 1001,
   "metadata": {},
   "outputs": [
    {
     "data": {
      "text/plain": [
       "(5.0, 11)"
      ]
     },
     "execution_count": 1001,
     "metadata": {},
     "output_type": "execute_result"
    }
   ],
   "source": [
    "# Detectar os melhores parâmetros usando: silhouette_score\n",
    "score_list=[]\n",
    "for eps in np.arange(0.5,20,0.5):\n",
    "    for min_samples in range(3,20):\n",
    "        db = DBSCAN(eps=eps, min_samples=min_samples).fit(X_selected)\n",
    "        labels = db.labels_\n",
    "        n = len(np.unique(labels))\n",
    "        if n>1:\n",
    "            score=silhouette_score(X_selected, labels)\n",
    "            score_list.append((score,(eps,min_samples)))\n",
    "     \n",
    "biggest_score = sorted(score_list)[-1]  \n",
    "best_eps, best_min_spamles = biggest_score[1]\n",
    "best_eps, best_min_spamles"
   ]
  },
  {
   "cell_type": "code",
   "execution_count": 1002,
   "metadata": {},
   "outputs": [
    {
     "data": {
      "application/vnd.plotly.v1+json": {
       "config": {
        "plotlyServerURL": "https://plot.ly"
       },
       "data": [
        {
         "hovertemplate": "color=b<br>x=%{x}<br>y=%{y}<br>z=%{z}<extra></extra>",
         "legendgroup": "b",
         "marker": {
          "color": "#636efa",
          "symbol": "circle"
         },
         "mode": "markers",
         "name": "b",
         "scene": "scene",
         "showlegend": true,
         "type": "scatter3d",
         "x": [
          -12.299400329589844,
          18.02446937561035,
          -62.1935920715332,
          15.503588676452637,
          78.28884887695312,
          -63.13685607910156,
          19.250377655029297,
          -61.92292785644531,
          -58.232486724853516,
          87.3088607788086,
          39.68500518798828,
          -68.13856506347656,
          61.178619384765625,
          50.76362228393555,
          24.90862274169922,
          78.2477035522461,
          53.11549758911133,
          84.66925811767578,
          -15.186630249023438,
          -28.881061553955078,
          -26.72496223449707,
          -17.832565307617188,
          -97.29520416259766,
          -3.6686782836914062,
          -58.425743103027344,
          47.08218002319336,
          -75.70023345947266,
          -28.65032196044922,
          -86.02203369140625,
          -74.62358093261719,
          -61.180938720703125,
          101.49105072021484,
          -67.81385803222656,
          -21.38738441467285,
          -28.580772399902344,
          -60.11122512817383,
          -38.4328498840332,
          56.11082077026367,
          53.54706954956055,
          -75.87628936767578,
          28.4022216796875,
          -47.3629035949707,
          44.62787628173828,
          23.904592514038086,
          -78.46631622314453,
          75.15996551513672,
          71.4551773071289,
          35.48346710205078,
          31.734901428222656,
          40.99150466918945,
          70.73281860351562,
          -61.84843826293945,
          76.16160583496094,
          41.10403823852539,
          79.13560485839844,
          -38.248416900634766,
          -44.66651916503906,
          92.31268310546875,
          -98.741455078125,
          26.17852783203125,
          8.297860145568848,
          31.398418426513672,
          3.7043614387512207,
          -9.360079765319824,
          -42.382545471191406,
          39.80165100097656,
          -69.20292663574219,
          -15.126922607421875,
          54.5181884765625,
          -70.29048156738281,
          -27.51275634765625,
          26.182090759277344,
          51.74515914916992,
          4.731957912445068,
          -74.25157165527344,
          29.594501495361328,
          24.710689544677734,
          -44.98002624511719,
          -44.423004150390625,
          62.94615936279297,
          23.748689651489258,
          -32.58899688720703,
          -55.216182708740234,
          92.26290130615234,
          -67.1773452758789,
          -97.04116821289062,
          36.17438507080078,
          -70.93364715576172,
          17.32254409790039,
          13.524911880493164,
          0.26454538106918335,
          -9.124977111816406,
          10.102228164672852,
          23.89616584777832,
          23.643796920776367,
          -3.1574978828430176,
          -26.720064163208008,
          -19.140836715698242,
          -73.10448455810547,
          -59.70427322387695,
          -34.36255645751953,
          -77.42169189453125,
          -1.5057293176651,
          -77.48959350585938,
          60.689598083496094,
          51.961395263671875,
          -62.292991638183594,
          -30.046846389770508,
          -51.3290901184082,
          -29.67795753479004,
          -27.41876220703125,
          -23.916704177856445,
          -71.6746826171875,
          -9.602643966674805,
          -4.608193874359131,
          67.48712921142578,
          -72.77574920654297,
          9.082175254821777,
          -55.22673034667969
         ],
         "y": [
          29.779748916625977,
          -50.78615188598633,
          5.7616286277771,
          -48.80083465576172,
          -39.60928726196289,
          -48.43743896484375,
          -27.689088821411133,
          -63.17776870727539,
          3.9481115341186523,
          -50.67369079589844,
          -56.06012725830078,
          -51.41437911987305,
          14.256707191467285,
          12.6420259475708,
          25.219879150390625,
          20.836143493652344,
          12.921451568603516,
          15.231657981872559,
          -41.90692138671875,
          -44.73276901245117,
          -26.699474334716797,
          -34.999755859375,
          21.007001876831055,
          -55.197662353515625,
          -5.340854644775391,
          -19.786148071289062,
          0.967366099357605,
          -13.553327560424805,
          41.62580490112305,
          33.936100006103516,
          39.48663330078125,
          51.42548370361328,
          -2.8458521366119385,
          34.6947021484375,
          39.09300231933594,
          17.6030216217041,
          -16.778636932373047,
          -35.97663116455078,
          -57.991085052490234,
          -48.41450500488281,
          -40.793792724609375,
          3.717561721801758,
          -67.47455596923828,
          -61.11180877685547,
          -46.28886032104492,
          -4.463903427124023,
          6.672524929046631,
          5.646093845367432,
          21.171144485473633,
          23.604869842529297,
          19.596864700317383,
          -48.448143005371094,
          3.7672035694122314,
          7.576019763946533,
          18.731639862060547,
          -31.811368942260742,
          -44.260860443115234,
          18.753128051757812,
          29.6790771484375,
          -9.434627532958984,
          -61.03066635131836,
          -6.615039825439453,
          -58.03003692626953,
          -57.18893051147461,
          -15.952141761779785,
          -30.7960205078125,
          40.757999420166016,
          -30.36261558532715,
          -44.30230712890625,
          24.838436126708984,
          28.448652267456055,
          -63.897613525390625,
          -53.130859375,
          -32.63566589355469,
          -97.63543701171875,
          -48.08979797363281,
          -22.064807891845703,
          -13.818137168884277,
          -31.41246223449707,
          5.784127712249756,
          10.062029838562012,
          -6.556117534637451,
          -29.631040573120117,
          8.57872486114502,
          -55.640716552734375,
          5.686779975891113,
          -22.61444664001465,
          12.809253692626953,
          -12.417778968811035,
          -18.61079216003418,
          -42.66287612915039,
          -21.999855041503906,
          -44.447296142578125,
          -31.95931625366211,
          -24.726028442382812,
          -11.173171043395996,
          -26.87682342529297,
          -38.102264404296875,
          -15.508854866027832,
          24.22453498840332,
          -16.773237228393555,
          50.504112243652344,
          -45.406524658203125,
          -13.168793678283691,
          -28.692169189453125,
          -43.83046340942383,
          33.64669418334961,
          -9.78190803527832,
          39.187538146972656,
          -27.238933563232422,
          23.897668838500977,
          -17.189838409423828,
          -27.45794105529785,
          -28.045284271240234,
          -39.83188247680664,
          -56.51117706298828,
          -34.08866500854492,
          -52.46127700805664,
          20.262939453125
         ],
         "z": [
          30.668704986572266,
          -9.86011028289795,
          31.217824935913086,
          24.56033706665039,
          -36.008792877197266,
          -9.775141716003418,
          17.45149803161621,
          4.024158000946045,
          46.7248649597168,
          -32.147891998291016,
          19.264591217041016,
          8.7837495803833,
          36.86089324951172,
          20.399858474731445,
          -9.307709693908691,
          -34.25767517089844,
          -0.4325539469718933,
          -5.670233249664307,
          -93.50732421875,
          -86.95475769042969,
          -89.09844207763672,
          -77.92327117919922,
          23.059833526611328,
          -72.22811126708984,
          -68.64228820800781,
          -75.0750732421875,
          -66.24787902832031,
          96.91677856445312,
          15.681777000427246,
          -11.496162414550781,
          -19.40822410583496,
          0.2150869369506836,
          -50.337158203125,
          10.934659957885742,
          24.357820510864258,
          7.313816547393799,
          -16.185760498046875,
          -32.24458312988281,
          -12.40693187713623,
          -21.85271644592285,
          23.24386215209961,
          35.77830505371094,
          -21.65774154663086,
          13.809030532836914,
          -6.060544967651367,
          -13.983155250549316,
          -25.37808609008789,
          8.978527069091797,
          9.814969062805176,
          -4.828281402587891,
          -19.435115814208984,
          33.30900955200195,
          5.65376091003418,
          -11.0327730178833,
          9.354509353637695,
          60.25831985473633,
          55.750244140625,
          -27.539600372314453,
          5.727210998535156,
          -68.80961608886719,
          -60.03438186645508,
          82.0071029663086,
          -44.228477478027344,
          -53.81800079345703,
          -62.98246765136719,
          -58.4575080871582,
          27.204755783081055,
          -30.628812789916992,
          -52.774715423583984,
          34.38387680053711,
          42.370235443115234,
          -5.028695106506348,
          -28.669710159301758,
          22.59482765197754,
          -13.2689847946167,
          6.818614959716797,
          32.31169509887695,
          49.83743667602539,
          41.82484436035156,
          24.8751277923584,
          -1.3867429494857788,
          56.77153778076172,
          51.53465270996094,
          9.533177375793457,
          43.07162857055664,
          6.717557907104492,
          -93.76556396484375,
          -73.78402709960938,
          83.70662689208984,
          -64.3464126586914,
          -64.64067077636719,
          -91.6521224975586,
          -50.653465270996094,
          -68.18060302734375,
          -54.336448669433594,
          76.89227294921875,
          -66.84870910644531,
          -57.806297302246094,
          -57.613277435302734,
          -9.873091697692871,
          -45.866024017333984,
          3.082141160964966,
          -30.605182647705078,
          -43.15814971923828,
          -67.80998229980469,
          -66.7492446899414,
          3.1202316284179688,
          -32.680973052978516,
          34.21601486206055,
          -29.9971866607666,
          23.7994441986084,
          -15.368846893310547,
          -32.793521881103516,
          11.05622386932373,
          4.147739887237549,
          -38.017086029052734,
          -16.57342529296875,
          3.437537908554077,
          39.2083740234375
         ]
        },
        {
         "hovertemplate": "color=g<br>x=%{x}<br>y=%{y}<br>z=%{z}<extra></extra>",
         "legendgroup": "g",
         "marker": {
          "color": "#EF553B",
          "symbol": "circle"
         },
         "mode": "markers",
         "name": "g",
         "scene": "scene",
         "showlegend": true,
         "type": "scatter3d",
         "x": [
          14.561995506286621,
          -8.512102127075195,
          11.239941596984863,
          21.873062133789062,
          30.159841537475586,
          20.450834274291992,
          -15.894413948059082,
          6.374387264251709,
          16.352279663085938,
          3.235028028488159,
          -10.007102966308594,
          -21.077796936035156,
          -2.291447401046753,
          -22.668426513671875,
          11.259465217590332,
          8.674043655395508,
          -31.682222366333008,
          -3.0714304447174072,
          2.992337703704834,
          24.598102569580078,
          -22.848421096801758,
          -23.10307502746582,
          -25.36992073059082,
          -13.463050842285156,
          -13.922548294067383,
          13.617796897888184,
          28.066328048706055,
          38.70207977294922,
          -23.585102081298828,
          -8.484192848205566,
          -8.391465187072754
         ],
         "y": [
          43.06217956542969,
          84.97468566894531,
          91.16632843017578,
          84.43869018554688,
          71.03219604492188,
          68.73725128173828,
          17.542490005493164,
          51.31207275390625,
          39.4081916809082,
          34.804080963134766,
          70.38758087158203,
          -82.73820495605469,
          62.66200256347656,
          65.45343017578125,
          57.67102813720703,
          43.83286666870117,
          53.00864791870117,
          48.32178497314453,
          77.84239196777344,
          83.56167602539062,
          27.604793548583984,
          14.264352798461914,
          45.029354095458984,
          51.24105453491211,
          79.3060302734375,
          71.70967102050781,
          98.66433715820312,
          87.07014465332031,
          94.6141128540039,
          98.87962341308594,
          91.15093231201172
         ],
         "z": [
          81.13749694824219,
          17.79889488220215,
          22.580625534057617,
          6.4247894287109375,
          13.818085670471191,
          0.7215080857276917,
          39.35200500488281,
          109.43148803710938,
          104.04641723632812,
          106.26417541503906,
          97.45648193359375,
          33.8443717956543,
          84.44318389892578,
          84.49134063720703,
          75.50263214111328,
          63.488197326660156,
          94.91097259521484,
          73.7974853515625,
          0.8350491523742676,
          30.542808532714844,
          72.2159194946289,
          59.975372314453125,
          80.39667510986328,
          92.6313705444336,
          4.229645252227783,
          16.97151756286621,
          21.099349975585938,
          20.607919692993164,
          8.996302604675293,
          4.463203430175781,
          -10.719525337219238
         ]
        }
       ],
       "layout": {
        "legend": {
         "title": {
          "text": "color"
         },
         "tracegroupgap": 0
        },
        "margin": {
         "t": 60
        },
        "scene": {
         "domain": {
          "x": [
           0,
           1
          ],
          "y": [
           0,
           1
          ]
         },
         "xaxis": {
          "title": {
           "text": "x"
          }
         },
         "yaxis": {
          "title": {
           "text": "y"
          }
         },
         "zaxis": {
          "title": {
           "text": "z"
          }
         }
        },
        "template": {
         "data": {
          "bar": [
           {
            "error_x": {
             "color": "#2a3f5f"
            },
            "error_y": {
             "color": "#2a3f5f"
            },
            "marker": {
             "line": {
              "color": "#E5ECF6",
              "width": 0.5
             }
            },
            "type": "bar"
           }
          ],
          "barpolar": [
           {
            "marker": {
             "line": {
              "color": "#E5ECF6",
              "width": 0.5
             }
            },
            "type": "barpolar"
           }
          ],
          "carpet": [
           {
            "aaxis": {
             "endlinecolor": "#2a3f5f",
             "gridcolor": "white",
             "linecolor": "white",
             "minorgridcolor": "white",
             "startlinecolor": "#2a3f5f"
            },
            "baxis": {
             "endlinecolor": "#2a3f5f",
             "gridcolor": "white",
             "linecolor": "white",
             "minorgridcolor": "white",
             "startlinecolor": "#2a3f5f"
            },
            "type": "carpet"
           }
          ],
          "choropleth": [
           {
            "colorbar": {
             "outlinewidth": 0,
             "ticks": ""
            },
            "type": "choropleth"
           }
          ],
          "contour": [
           {
            "colorbar": {
             "outlinewidth": 0,
             "ticks": ""
            },
            "colorscale": [
             [
              0,
              "#0d0887"
             ],
             [
              0.1111111111111111,
              "#46039f"
             ],
             [
              0.2222222222222222,
              "#7201a8"
             ],
             [
              0.3333333333333333,
              "#9c179e"
             ],
             [
              0.4444444444444444,
              "#bd3786"
             ],
             [
              0.5555555555555556,
              "#d8576b"
             ],
             [
              0.6666666666666666,
              "#ed7953"
             ],
             [
              0.7777777777777778,
              "#fb9f3a"
             ],
             [
              0.8888888888888888,
              "#fdca26"
             ],
             [
              1,
              "#f0f921"
             ]
            ],
            "type": "contour"
           }
          ],
          "contourcarpet": [
           {
            "colorbar": {
             "outlinewidth": 0,
             "ticks": ""
            },
            "type": "contourcarpet"
           }
          ],
          "heatmap": [
           {
            "colorbar": {
             "outlinewidth": 0,
             "ticks": ""
            },
            "colorscale": [
             [
              0,
              "#0d0887"
             ],
             [
              0.1111111111111111,
              "#46039f"
             ],
             [
              0.2222222222222222,
              "#7201a8"
             ],
             [
              0.3333333333333333,
              "#9c179e"
             ],
             [
              0.4444444444444444,
              "#bd3786"
             ],
             [
              0.5555555555555556,
              "#d8576b"
             ],
             [
              0.6666666666666666,
              "#ed7953"
             ],
             [
              0.7777777777777778,
              "#fb9f3a"
             ],
             [
              0.8888888888888888,
              "#fdca26"
             ],
             [
              1,
              "#f0f921"
             ]
            ],
            "type": "heatmap"
           }
          ],
          "heatmapgl": [
           {
            "colorbar": {
             "outlinewidth": 0,
             "ticks": ""
            },
            "colorscale": [
             [
              0,
              "#0d0887"
             ],
             [
              0.1111111111111111,
              "#46039f"
             ],
             [
              0.2222222222222222,
              "#7201a8"
             ],
             [
              0.3333333333333333,
              "#9c179e"
             ],
             [
              0.4444444444444444,
              "#bd3786"
             ],
             [
              0.5555555555555556,
              "#d8576b"
             ],
             [
              0.6666666666666666,
              "#ed7953"
             ],
             [
              0.7777777777777778,
              "#fb9f3a"
             ],
             [
              0.8888888888888888,
              "#fdca26"
             ],
             [
              1,
              "#f0f921"
             ]
            ],
            "type": "heatmapgl"
           }
          ],
          "histogram": [
           {
            "marker": {
             "colorbar": {
              "outlinewidth": 0,
              "ticks": ""
             }
            },
            "type": "histogram"
           }
          ],
          "histogram2d": [
           {
            "colorbar": {
             "outlinewidth": 0,
             "ticks": ""
            },
            "colorscale": [
             [
              0,
              "#0d0887"
             ],
             [
              0.1111111111111111,
              "#46039f"
             ],
             [
              0.2222222222222222,
              "#7201a8"
             ],
             [
              0.3333333333333333,
              "#9c179e"
             ],
             [
              0.4444444444444444,
              "#bd3786"
             ],
             [
              0.5555555555555556,
              "#d8576b"
             ],
             [
              0.6666666666666666,
              "#ed7953"
             ],
             [
              0.7777777777777778,
              "#fb9f3a"
             ],
             [
              0.8888888888888888,
              "#fdca26"
             ],
             [
              1,
              "#f0f921"
             ]
            ],
            "type": "histogram2d"
           }
          ],
          "histogram2dcontour": [
           {
            "colorbar": {
             "outlinewidth": 0,
             "ticks": ""
            },
            "colorscale": [
             [
              0,
              "#0d0887"
             ],
             [
              0.1111111111111111,
              "#46039f"
             ],
             [
              0.2222222222222222,
              "#7201a8"
             ],
             [
              0.3333333333333333,
              "#9c179e"
             ],
             [
              0.4444444444444444,
              "#bd3786"
             ],
             [
              0.5555555555555556,
              "#d8576b"
             ],
             [
              0.6666666666666666,
              "#ed7953"
             ],
             [
              0.7777777777777778,
              "#fb9f3a"
             ],
             [
              0.8888888888888888,
              "#fdca26"
             ],
             [
              1,
              "#f0f921"
             ]
            ],
            "type": "histogram2dcontour"
           }
          ],
          "mesh3d": [
           {
            "colorbar": {
             "outlinewidth": 0,
             "ticks": ""
            },
            "type": "mesh3d"
           }
          ],
          "parcoords": [
           {
            "line": {
             "colorbar": {
              "outlinewidth": 0,
              "ticks": ""
             }
            },
            "type": "parcoords"
           }
          ],
          "pie": [
           {
            "automargin": true,
            "type": "pie"
           }
          ],
          "scatter": [
           {
            "marker": {
             "colorbar": {
              "outlinewidth": 0,
              "ticks": ""
             }
            },
            "type": "scatter"
           }
          ],
          "scatter3d": [
           {
            "line": {
             "colorbar": {
              "outlinewidth": 0,
              "ticks": ""
             }
            },
            "marker": {
             "colorbar": {
              "outlinewidth": 0,
              "ticks": ""
             }
            },
            "type": "scatter3d"
           }
          ],
          "scattercarpet": [
           {
            "marker": {
             "colorbar": {
              "outlinewidth": 0,
              "ticks": ""
             }
            },
            "type": "scattercarpet"
           }
          ],
          "scattergeo": [
           {
            "marker": {
             "colorbar": {
              "outlinewidth": 0,
              "ticks": ""
             }
            },
            "type": "scattergeo"
           }
          ],
          "scattergl": [
           {
            "marker": {
             "colorbar": {
              "outlinewidth": 0,
              "ticks": ""
             }
            },
            "type": "scattergl"
           }
          ],
          "scattermapbox": [
           {
            "marker": {
             "colorbar": {
              "outlinewidth": 0,
              "ticks": ""
             }
            },
            "type": "scattermapbox"
           }
          ],
          "scatterpolar": [
           {
            "marker": {
             "colorbar": {
              "outlinewidth": 0,
              "ticks": ""
             }
            },
            "type": "scatterpolar"
           }
          ],
          "scatterpolargl": [
           {
            "marker": {
             "colorbar": {
              "outlinewidth": 0,
              "ticks": ""
             }
            },
            "type": "scatterpolargl"
           }
          ],
          "scatterternary": [
           {
            "marker": {
             "colorbar": {
              "outlinewidth": 0,
              "ticks": ""
             }
            },
            "type": "scatterternary"
           }
          ],
          "surface": [
           {
            "colorbar": {
             "outlinewidth": 0,
             "ticks": ""
            },
            "colorscale": [
             [
              0,
              "#0d0887"
             ],
             [
              0.1111111111111111,
              "#46039f"
             ],
             [
              0.2222222222222222,
              "#7201a8"
             ],
             [
              0.3333333333333333,
              "#9c179e"
             ],
             [
              0.4444444444444444,
              "#bd3786"
             ],
             [
              0.5555555555555556,
              "#d8576b"
             ],
             [
              0.6666666666666666,
              "#ed7953"
             ],
             [
              0.7777777777777778,
              "#fb9f3a"
             ],
             [
              0.8888888888888888,
              "#fdca26"
             ],
             [
              1,
              "#f0f921"
             ]
            ],
            "type": "surface"
           }
          ],
          "table": [
           {
            "cells": {
             "fill": {
              "color": "#EBF0F8"
             },
             "line": {
              "color": "white"
             }
            },
            "header": {
             "fill": {
              "color": "#C8D4E3"
             },
             "line": {
              "color": "white"
             }
            },
            "type": "table"
           }
          ]
         },
         "layout": {
          "annotationdefaults": {
           "arrowcolor": "#2a3f5f",
           "arrowhead": 0,
           "arrowwidth": 1
          },
          "coloraxis": {
           "colorbar": {
            "outlinewidth": 0,
            "ticks": ""
           }
          },
          "colorscale": {
           "diverging": [
            [
             0,
             "#8e0152"
            ],
            [
             0.1,
             "#c51b7d"
            ],
            [
             0.2,
             "#de77ae"
            ],
            [
             0.3,
             "#f1b6da"
            ],
            [
             0.4,
             "#fde0ef"
            ],
            [
             0.5,
             "#f7f7f7"
            ],
            [
             0.6,
             "#e6f5d0"
            ],
            [
             0.7,
             "#b8e186"
            ],
            [
             0.8,
             "#7fbc41"
            ],
            [
             0.9,
             "#4d9221"
            ],
            [
             1,
             "#276419"
            ]
           ],
           "sequential": [
            [
             0,
             "#0d0887"
            ],
            [
             0.1111111111111111,
             "#46039f"
            ],
            [
             0.2222222222222222,
             "#7201a8"
            ],
            [
             0.3333333333333333,
             "#9c179e"
            ],
            [
             0.4444444444444444,
             "#bd3786"
            ],
            [
             0.5555555555555556,
             "#d8576b"
            ],
            [
             0.6666666666666666,
             "#ed7953"
            ],
            [
             0.7777777777777778,
             "#fb9f3a"
            ],
            [
             0.8888888888888888,
             "#fdca26"
            ],
            [
             1,
             "#f0f921"
            ]
           ],
           "sequentialminus": [
            [
             0,
             "#0d0887"
            ],
            [
             0.1111111111111111,
             "#46039f"
            ],
            [
             0.2222222222222222,
             "#7201a8"
            ],
            [
             0.3333333333333333,
             "#9c179e"
            ],
            [
             0.4444444444444444,
             "#bd3786"
            ],
            [
             0.5555555555555556,
             "#d8576b"
            ],
            [
             0.6666666666666666,
             "#ed7953"
            ],
            [
             0.7777777777777778,
             "#fb9f3a"
            ],
            [
             0.8888888888888888,
             "#fdca26"
            ],
            [
             1,
             "#f0f921"
            ]
           ]
          },
          "colorway": [
           "#636efa",
           "#EF553B",
           "#00cc96",
           "#ab63fa",
           "#FFA15A",
           "#19d3f3",
           "#FF6692",
           "#B6E880",
           "#FF97FF",
           "#FECB52"
          ],
          "font": {
           "color": "#2a3f5f"
          },
          "geo": {
           "bgcolor": "white",
           "lakecolor": "white",
           "landcolor": "#E5ECF6",
           "showlakes": true,
           "showland": true,
           "subunitcolor": "white"
          },
          "hoverlabel": {
           "align": "left"
          },
          "hovermode": "closest",
          "mapbox": {
           "style": "light"
          },
          "paper_bgcolor": "white",
          "plot_bgcolor": "#E5ECF6",
          "polar": {
           "angularaxis": {
            "gridcolor": "white",
            "linecolor": "white",
            "ticks": ""
           },
           "bgcolor": "#E5ECF6",
           "radialaxis": {
            "gridcolor": "white",
            "linecolor": "white",
            "ticks": ""
           }
          },
          "scene": {
           "xaxis": {
            "backgroundcolor": "#E5ECF6",
            "gridcolor": "white",
            "gridwidth": 2,
            "linecolor": "white",
            "showbackground": true,
            "ticks": "",
            "zerolinecolor": "white"
           },
           "yaxis": {
            "backgroundcolor": "#E5ECF6",
            "gridcolor": "white",
            "gridwidth": 2,
            "linecolor": "white",
            "showbackground": true,
            "ticks": "",
            "zerolinecolor": "white"
           },
           "zaxis": {
            "backgroundcolor": "#E5ECF6",
            "gridcolor": "white",
            "gridwidth": 2,
            "linecolor": "white",
            "showbackground": true,
            "ticks": "",
            "zerolinecolor": "white"
           }
          },
          "shapedefaults": {
           "line": {
            "color": "#2a3f5f"
           }
          },
          "ternary": {
           "aaxis": {
            "gridcolor": "white",
            "linecolor": "white",
            "ticks": ""
           },
           "baxis": {
            "gridcolor": "white",
            "linecolor": "white",
            "ticks": ""
           },
           "bgcolor": "#E5ECF6",
           "caxis": {
            "gridcolor": "white",
            "linecolor": "white",
            "ticks": ""
           }
          },
          "title": {
           "x": 0.05
          },
          "xaxis": {
           "automargin": true,
           "gridcolor": "white",
           "linecolor": "white",
           "ticks": "",
           "title": {
            "standoff": 15
           },
           "zerolinecolor": "white",
           "zerolinewidth": 2
          },
          "yaxis": {
           "automargin": true,
           "gridcolor": "white",
           "linecolor": "white",
           "ticks": "",
           "title": {
            "standoff": 15
           },
           "zerolinecolor": "white",
           "zerolinewidth": 2
          }
         }
        }
       }
      },
      "text/html": [
       "<div>\n",
       "        \n",
       "        \n",
       "            <div id=\"3214d7ac-f121-4660-9d4f-c1e20b5080c5\" class=\"plotly-graph-div\" style=\"height:525px; width:100%;\"></div>\n",
       "            <script type=\"text/javascript\">\n",
       "                require([\"plotly\"], function(Plotly) {\n",
       "                    window.PLOTLYENV=window.PLOTLYENV || {};\n",
       "                    \n",
       "                if (document.getElementById(\"3214d7ac-f121-4660-9d4f-c1e20b5080c5\")) {\n",
       "                    Plotly.newPlot(\n",
       "                        '3214d7ac-f121-4660-9d4f-c1e20b5080c5',\n",
       "                        [{\"hovertemplate\": \"color=b<br>x=%{x}<br>y=%{y}<br>z=%{z}<extra></extra>\", \"legendgroup\": \"b\", \"marker\": {\"color\": \"#636efa\", \"symbol\": \"circle\"}, \"mode\": \"markers\", \"name\": \"b\", \"scene\": \"scene\", \"showlegend\": true, \"type\": \"scatter3d\", \"x\": [-12.299400329589844, 18.02446937561035, -62.1935920715332, 15.503588676452637, 78.28884887695312, -63.13685607910156, 19.250377655029297, -61.92292785644531, -58.232486724853516, 87.3088607788086, 39.68500518798828, -68.13856506347656, 61.178619384765625, 50.76362228393555, 24.90862274169922, 78.2477035522461, 53.11549758911133, 84.66925811767578, -15.186630249023438, -28.881061553955078, -26.72496223449707, -17.832565307617188, -97.29520416259766, -3.6686782836914062, -58.425743103027344, 47.08218002319336, -75.70023345947266, -28.65032196044922, -86.02203369140625, -74.62358093261719, -61.180938720703125, 101.49105072021484, -67.81385803222656, -21.38738441467285, -28.580772399902344, -60.11122512817383, -38.4328498840332, 56.11082077026367, 53.54706954956055, -75.87628936767578, 28.4022216796875, -47.3629035949707, 44.62787628173828, 23.904592514038086, -78.46631622314453, 75.15996551513672, 71.4551773071289, 35.48346710205078, 31.734901428222656, 40.99150466918945, 70.73281860351562, -61.84843826293945, 76.16160583496094, 41.10403823852539, 79.13560485839844, -38.248416900634766, -44.66651916503906, 92.31268310546875, -98.741455078125, 26.17852783203125, 8.297860145568848, 31.398418426513672, 3.7043614387512207, -9.360079765319824, -42.382545471191406, 39.80165100097656, -69.20292663574219, -15.126922607421875, 54.5181884765625, -70.29048156738281, -27.51275634765625, 26.182090759277344, 51.74515914916992, 4.731957912445068, -74.25157165527344, 29.594501495361328, 24.710689544677734, -44.98002624511719, -44.423004150390625, 62.94615936279297, 23.748689651489258, -32.58899688720703, -55.216182708740234, 92.26290130615234, -67.1773452758789, -97.04116821289062, 36.17438507080078, -70.93364715576172, 17.32254409790039, 13.524911880493164, 0.26454538106918335, -9.124977111816406, 10.102228164672852, 23.89616584777832, 23.643796920776367, -3.1574978828430176, -26.720064163208008, -19.140836715698242, -73.10448455810547, -59.70427322387695, -34.36255645751953, -77.42169189453125, -1.5057293176651, -77.48959350585938, 60.689598083496094, 51.961395263671875, -62.292991638183594, -30.046846389770508, -51.3290901184082, -29.67795753479004, -27.41876220703125, -23.916704177856445, -71.6746826171875, -9.602643966674805, -4.608193874359131, 67.48712921142578, -72.77574920654297, 9.082175254821777, -55.22673034667969], \"y\": [29.779748916625977, -50.78615188598633, 5.7616286277771, -48.80083465576172, -39.60928726196289, -48.43743896484375, -27.689088821411133, -63.17776870727539, 3.9481115341186523, -50.67369079589844, -56.06012725830078, -51.41437911987305, 14.256707191467285, 12.6420259475708, 25.219879150390625, 20.836143493652344, 12.921451568603516, 15.231657981872559, -41.90692138671875, -44.73276901245117, -26.699474334716797, -34.999755859375, 21.007001876831055, -55.197662353515625, -5.340854644775391, -19.786148071289062, 0.967366099357605, -13.553327560424805, 41.62580490112305, 33.936100006103516, 39.48663330078125, 51.42548370361328, -2.8458521366119385, 34.6947021484375, 39.09300231933594, 17.6030216217041, -16.778636932373047, -35.97663116455078, -57.991085052490234, -48.41450500488281, -40.793792724609375, 3.717561721801758, -67.47455596923828, -61.11180877685547, -46.28886032104492, -4.463903427124023, 6.672524929046631, 5.646093845367432, 21.171144485473633, 23.604869842529297, 19.596864700317383, -48.448143005371094, 3.7672035694122314, 7.576019763946533, 18.731639862060547, -31.811368942260742, -44.260860443115234, 18.753128051757812, 29.6790771484375, -9.434627532958984, -61.03066635131836, -6.615039825439453, -58.03003692626953, -57.18893051147461, -15.952141761779785, -30.7960205078125, 40.757999420166016, -30.36261558532715, -44.30230712890625, 24.838436126708984, 28.448652267456055, -63.897613525390625, -53.130859375, -32.63566589355469, -97.63543701171875, -48.08979797363281, -22.064807891845703, -13.818137168884277, -31.41246223449707, 5.784127712249756, 10.062029838562012, -6.556117534637451, -29.631040573120117, 8.57872486114502, -55.640716552734375, 5.686779975891113, -22.61444664001465, 12.809253692626953, -12.417778968811035, -18.61079216003418, -42.66287612915039, -21.999855041503906, -44.447296142578125, -31.95931625366211, -24.726028442382812, -11.173171043395996, -26.87682342529297, -38.102264404296875, -15.508854866027832, 24.22453498840332, -16.773237228393555, 50.504112243652344, -45.406524658203125, -13.168793678283691, -28.692169189453125, -43.83046340942383, 33.64669418334961, -9.78190803527832, 39.187538146972656, -27.238933563232422, 23.897668838500977, -17.189838409423828, -27.45794105529785, -28.045284271240234, -39.83188247680664, -56.51117706298828, -34.08866500854492, -52.46127700805664, 20.262939453125], \"z\": [30.668704986572266, -9.86011028289795, 31.217824935913086, 24.56033706665039, -36.008792877197266, -9.775141716003418, 17.45149803161621, 4.024158000946045, 46.7248649597168, -32.147891998291016, 19.264591217041016, 8.7837495803833, 36.86089324951172, 20.399858474731445, -9.307709693908691, -34.25767517089844, -0.4325539469718933, -5.670233249664307, -93.50732421875, -86.95475769042969, -89.09844207763672, -77.92327117919922, 23.059833526611328, -72.22811126708984, -68.64228820800781, -75.0750732421875, -66.24787902832031, 96.91677856445312, 15.681777000427246, -11.496162414550781, -19.40822410583496, 0.2150869369506836, -50.337158203125, 10.934659957885742, 24.357820510864258, 7.313816547393799, -16.185760498046875, -32.24458312988281, -12.40693187713623, -21.85271644592285, 23.24386215209961, 35.77830505371094, -21.65774154663086, 13.809030532836914, -6.060544967651367, -13.983155250549316, -25.37808609008789, 8.978527069091797, 9.814969062805176, -4.828281402587891, -19.435115814208984, 33.30900955200195, 5.65376091003418, -11.0327730178833, 9.354509353637695, 60.25831985473633, 55.750244140625, -27.539600372314453, 5.727210998535156, -68.80961608886719, -60.03438186645508, 82.0071029663086, -44.228477478027344, -53.81800079345703, -62.98246765136719, -58.4575080871582, 27.204755783081055, -30.628812789916992, -52.774715423583984, 34.38387680053711, 42.370235443115234, -5.028695106506348, -28.669710159301758, 22.59482765197754, -13.2689847946167, 6.818614959716797, 32.31169509887695, 49.83743667602539, 41.82484436035156, 24.8751277923584, -1.3867429494857788, 56.77153778076172, 51.53465270996094, 9.533177375793457, 43.07162857055664, 6.717557907104492, -93.76556396484375, -73.78402709960938, 83.70662689208984, -64.3464126586914, -64.64067077636719, -91.6521224975586, -50.653465270996094, -68.18060302734375, -54.336448669433594, 76.89227294921875, -66.84870910644531, -57.806297302246094, -57.613277435302734, -9.873091697692871, -45.866024017333984, 3.082141160964966, -30.605182647705078, -43.15814971923828, -67.80998229980469, -66.7492446899414, 3.1202316284179688, -32.680973052978516, 34.21601486206055, -29.9971866607666, 23.7994441986084, -15.368846893310547, -32.793521881103516, 11.05622386932373, 4.147739887237549, -38.017086029052734, -16.57342529296875, 3.437537908554077, 39.2083740234375]}, {\"hovertemplate\": \"color=g<br>x=%{x}<br>y=%{y}<br>z=%{z}<extra></extra>\", \"legendgroup\": \"g\", \"marker\": {\"color\": \"#EF553B\", \"symbol\": \"circle\"}, \"mode\": \"markers\", \"name\": \"g\", \"scene\": \"scene\", \"showlegend\": true, \"type\": \"scatter3d\", \"x\": [14.561995506286621, -8.512102127075195, 11.239941596984863, 21.873062133789062, 30.159841537475586, 20.450834274291992, -15.894413948059082, 6.374387264251709, 16.352279663085938, 3.235028028488159, -10.007102966308594, -21.077796936035156, -2.291447401046753, -22.668426513671875, 11.259465217590332, 8.674043655395508, -31.682222366333008, -3.0714304447174072, 2.992337703704834, 24.598102569580078, -22.848421096801758, -23.10307502746582, -25.36992073059082, -13.463050842285156, -13.922548294067383, 13.617796897888184, 28.066328048706055, 38.70207977294922, -23.585102081298828, -8.484192848205566, -8.391465187072754], \"y\": [43.06217956542969, 84.97468566894531, 91.16632843017578, 84.43869018554688, 71.03219604492188, 68.73725128173828, 17.542490005493164, 51.31207275390625, 39.4081916809082, 34.804080963134766, 70.38758087158203, -82.73820495605469, 62.66200256347656, 65.45343017578125, 57.67102813720703, 43.83286666870117, 53.00864791870117, 48.32178497314453, 77.84239196777344, 83.56167602539062, 27.604793548583984, 14.264352798461914, 45.029354095458984, 51.24105453491211, 79.3060302734375, 71.70967102050781, 98.66433715820312, 87.07014465332031, 94.6141128540039, 98.87962341308594, 91.15093231201172], \"z\": [81.13749694824219, 17.79889488220215, 22.580625534057617, 6.4247894287109375, 13.818085670471191, 0.7215080857276917, 39.35200500488281, 109.43148803710938, 104.04641723632812, 106.26417541503906, 97.45648193359375, 33.8443717956543, 84.44318389892578, 84.49134063720703, 75.50263214111328, 63.488197326660156, 94.91097259521484, 73.7974853515625, 0.8350491523742676, 30.542808532714844, 72.2159194946289, 59.975372314453125, 80.39667510986328, 92.6313705444336, 4.229645252227783, 16.97151756286621, 21.099349975585938, 20.607919692993164, 8.996302604675293, 4.463203430175781, -10.719525337219238]}],\n",
       "                        {\"legend\": {\"title\": {\"text\": \"color\"}, \"tracegroupgap\": 0}, \"margin\": {\"t\": 60}, \"scene\": {\"domain\": {\"x\": [0.0, 1.0], \"y\": [0.0, 1.0]}, \"xaxis\": {\"title\": {\"text\": \"x\"}}, \"yaxis\": {\"title\": {\"text\": \"y\"}}, \"zaxis\": {\"title\": {\"text\": \"z\"}}}, \"template\": {\"data\": {\"bar\": [{\"error_x\": {\"color\": \"#2a3f5f\"}, \"error_y\": {\"color\": \"#2a3f5f\"}, \"marker\": {\"line\": {\"color\": \"#E5ECF6\", \"width\": 0.5}}, \"type\": \"bar\"}], \"barpolar\": [{\"marker\": {\"line\": {\"color\": \"#E5ECF6\", \"width\": 0.5}}, \"type\": \"barpolar\"}], \"carpet\": [{\"aaxis\": {\"endlinecolor\": \"#2a3f5f\", \"gridcolor\": \"white\", \"linecolor\": \"white\", \"minorgridcolor\": \"white\", \"startlinecolor\": \"#2a3f5f\"}, \"baxis\": {\"endlinecolor\": \"#2a3f5f\", \"gridcolor\": \"white\", \"linecolor\": \"white\", \"minorgridcolor\": \"white\", \"startlinecolor\": \"#2a3f5f\"}, \"type\": \"carpet\"}], \"choropleth\": [{\"colorbar\": {\"outlinewidth\": 0, \"ticks\": \"\"}, \"type\": \"choropleth\"}], \"contour\": [{\"colorbar\": {\"outlinewidth\": 0, \"ticks\": \"\"}, \"colorscale\": [[0.0, \"#0d0887\"], [0.1111111111111111, \"#46039f\"], [0.2222222222222222, \"#7201a8\"], [0.3333333333333333, \"#9c179e\"], [0.4444444444444444, \"#bd3786\"], [0.5555555555555556, \"#d8576b\"], [0.6666666666666666, \"#ed7953\"], [0.7777777777777778, \"#fb9f3a\"], [0.8888888888888888, \"#fdca26\"], [1.0, \"#f0f921\"]], \"type\": \"contour\"}], \"contourcarpet\": [{\"colorbar\": {\"outlinewidth\": 0, \"ticks\": \"\"}, \"type\": \"contourcarpet\"}], \"heatmap\": [{\"colorbar\": {\"outlinewidth\": 0, \"ticks\": \"\"}, \"colorscale\": [[0.0, \"#0d0887\"], [0.1111111111111111, \"#46039f\"], [0.2222222222222222, \"#7201a8\"], [0.3333333333333333, \"#9c179e\"], [0.4444444444444444, \"#bd3786\"], [0.5555555555555556, \"#d8576b\"], [0.6666666666666666, \"#ed7953\"], [0.7777777777777778, \"#fb9f3a\"], [0.8888888888888888, \"#fdca26\"], [1.0, \"#f0f921\"]], \"type\": \"heatmap\"}], \"heatmapgl\": [{\"colorbar\": {\"outlinewidth\": 0, \"ticks\": \"\"}, \"colorscale\": [[0.0, \"#0d0887\"], [0.1111111111111111, \"#46039f\"], [0.2222222222222222, \"#7201a8\"], [0.3333333333333333, \"#9c179e\"], [0.4444444444444444, \"#bd3786\"], [0.5555555555555556, \"#d8576b\"], [0.6666666666666666, \"#ed7953\"], [0.7777777777777778, \"#fb9f3a\"], [0.8888888888888888, \"#fdca26\"], [1.0, \"#f0f921\"]], \"type\": \"heatmapgl\"}], \"histogram\": [{\"marker\": {\"colorbar\": {\"outlinewidth\": 0, \"ticks\": \"\"}}, \"type\": \"histogram\"}], \"histogram2d\": [{\"colorbar\": {\"outlinewidth\": 0, \"ticks\": \"\"}, \"colorscale\": [[0.0, \"#0d0887\"], [0.1111111111111111, \"#46039f\"], [0.2222222222222222, \"#7201a8\"], [0.3333333333333333, \"#9c179e\"], [0.4444444444444444, \"#bd3786\"], [0.5555555555555556, \"#d8576b\"], [0.6666666666666666, \"#ed7953\"], [0.7777777777777778, \"#fb9f3a\"], [0.8888888888888888, \"#fdca26\"], [1.0, \"#f0f921\"]], \"type\": \"histogram2d\"}], \"histogram2dcontour\": [{\"colorbar\": {\"outlinewidth\": 0, \"ticks\": \"\"}, \"colorscale\": [[0.0, \"#0d0887\"], [0.1111111111111111, \"#46039f\"], [0.2222222222222222, \"#7201a8\"], [0.3333333333333333, \"#9c179e\"], [0.4444444444444444, \"#bd3786\"], [0.5555555555555556, \"#d8576b\"], [0.6666666666666666, \"#ed7953\"], [0.7777777777777778, \"#fb9f3a\"], [0.8888888888888888, \"#fdca26\"], [1.0, \"#f0f921\"]], \"type\": \"histogram2dcontour\"}], \"mesh3d\": [{\"colorbar\": {\"outlinewidth\": 0, \"ticks\": \"\"}, \"type\": \"mesh3d\"}], \"parcoords\": [{\"line\": {\"colorbar\": {\"outlinewidth\": 0, \"ticks\": \"\"}}, \"type\": \"parcoords\"}], \"pie\": [{\"automargin\": true, \"type\": \"pie\"}], \"scatter\": [{\"marker\": {\"colorbar\": {\"outlinewidth\": 0, \"ticks\": \"\"}}, \"type\": \"scatter\"}], \"scatter3d\": [{\"line\": {\"colorbar\": {\"outlinewidth\": 0, \"ticks\": \"\"}}, \"marker\": {\"colorbar\": {\"outlinewidth\": 0, \"ticks\": \"\"}}, \"type\": \"scatter3d\"}], \"scattercarpet\": [{\"marker\": {\"colorbar\": {\"outlinewidth\": 0, \"ticks\": \"\"}}, \"type\": \"scattercarpet\"}], \"scattergeo\": [{\"marker\": {\"colorbar\": {\"outlinewidth\": 0, \"ticks\": \"\"}}, \"type\": \"scattergeo\"}], \"scattergl\": [{\"marker\": {\"colorbar\": {\"outlinewidth\": 0, \"ticks\": \"\"}}, \"type\": \"scattergl\"}], \"scattermapbox\": [{\"marker\": {\"colorbar\": {\"outlinewidth\": 0, \"ticks\": \"\"}}, \"type\": \"scattermapbox\"}], \"scatterpolar\": [{\"marker\": {\"colorbar\": {\"outlinewidth\": 0, \"ticks\": \"\"}}, \"type\": \"scatterpolar\"}], \"scatterpolargl\": [{\"marker\": {\"colorbar\": {\"outlinewidth\": 0, \"ticks\": \"\"}}, \"type\": \"scatterpolargl\"}], \"scatterternary\": [{\"marker\": {\"colorbar\": {\"outlinewidth\": 0, \"ticks\": \"\"}}, \"type\": \"scatterternary\"}], \"surface\": [{\"colorbar\": {\"outlinewidth\": 0, \"ticks\": \"\"}, \"colorscale\": [[0.0, \"#0d0887\"], [0.1111111111111111, \"#46039f\"], [0.2222222222222222, \"#7201a8\"], [0.3333333333333333, \"#9c179e\"], [0.4444444444444444, \"#bd3786\"], [0.5555555555555556, \"#d8576b\"], [0.6666666666666666, \"#ed7953\"], [0.7777777777777778, \"#fb9f3a\"], [0.8888888888888888, \"#fdca26\"], [1.0, \"#f0f921\"]], \"type\": \"surface\"}], \"table\": [{\"cells\": {\"fill\": {\"color\": \"#EBF0F8\"}, \"line\": {\"color\": \"white\"}}, \"header\": {\"fill\": {\"color\": \"#C8D4E3\"}, \"line\": {\"color\": \"white\"}}, \"type\": \"table\"}]}, \"layout\": {\"annotationdefaults\": {\"arrowcolor\": \"#2a3f5f\", \"arrowhead\": 0, \"arrowwidth\": 1}, \"coloraxis\": {\"colorbar\": {\"outlinewidth\": 0, \"ticks\": \"\"}}, \"colorscale\": {\"diverging\": [[0, \"#8e0152\"], [0.1, \"#c51b7d\"], [0.2, \"#de77ae\"], [0.3, \"#f1b6da\"], [0.4, \"#fde0ef\"], [0.5, \"#f7f7f7\"], [0.6, \"#e6f5d0\"], [0.7, \"#b8e186\"], [0.8, \"#7fbc41\"], [0.9, \"#4d9221\"], [1, \"#276419\"]], \"sequential\": [[0.0, \"#0d0887\"], [0.1111111111111111, \"#46039f\"], [0.2222222222222222, \"#7201a8\"], [0.3333333333333333, \"#9c179e\"], [0.4444444444444444, \"#bd3786\"], [0.5555555555555556, \"#d8576b\"], [0.6666666666666666, \"#ed7953\"], [0.7777777777777778, \"#fb9f3a\"], [0.8888888888888888, \"#fdca26\"], [1.0, \"#f0f921\"]], \"sequentialminus\": [[0.0, \"#0d0887\"], [0.1111111111111111, \"#46039f\"], [0.2222222222222222, \"#7201a8\"], [0.3333333333333333, \"#9c179e\"], [0.4444444444444444, \"#bd3786\"], [0.5555555555555556, \"#d8576b\"], [0.6666666666666666, \"#ed7953\"], [0.7777777777777778, \"#fb9f3a\"], [0.8888888888888888, \"#fdca26\"], [1.0, \"#f0f921\"]]}, \"colorway\": [\"#636efa\", \"#EF553B\", \"#00cc96\", \"#ab63fa\", \"#FFA15A\", \"#19d3f3\", \"#FF6692\", \"#B6E880\", \"#FF97FF\", \"#FECB52\"], \"font\": {\"color\": \"#2a3f5f\"}, \"geo\": {\"bgcolor\": \"white\", \"lakecolor\": \"white\", \"landcolor\": \"#E5ECF6\", \"showlakes\": true, \"showland\": true, \"subunitcolor\": \"white\"}, \"hoverlabel\": {\"align\": \"left\"}, \"hovermode\": \"closest\", \"mapbox\": {\"style\": \"light\"}, \"paper_bgcolor\": \"white\", \"plot_bgcolor\": \"#E5ECF6\", \"polar\": {\"angularaxis\": {\"gridcolor\": \"white\", \"linecolor\": \"white\", \"ticks\": \"\"}, \"bgcolor\": \"#E5ECF6\", \"radialaxis\": {\"gridcolor\": \"white\", \"linecolor\": \"white\", \"ticks\": \"\"}}, \"scene\": {\"xaxis\": {\"backgroundcolor\": \"#E5ECF6\", \"gridcolor\": \"white\", \"gridwidth\": 2, \"linecolor\": \"white\", \"showbackground\": true, \"ticks\": \"\", \"zerolinecolor\": \"white\"}, \"yaxis\": {\"backgroundcolor\": \"#E5ECF6\", \"gridcolor\": \"white\", \"gridwidth\": 2, \"linecolor\": \"white\", \"showbackground\": true, \"ticks\": \"\", \"zerolinecolor\": \"white\"}, \"zaxis\": {\"backgroundcolor\": \"#E5ECF6\", \"gridcolor\": \"white\", \"gridwidth\": 2, \"linecolor\": \"white\", \"showbackground\": true, \"ticks\": \"\", \"zerolinecolor\": \"white\"}}, \"shapedefaults\": {\"line\": {\"color\": \"#2a3f5f\"}}, \"ternary\": {\"aaxis\": {\"gridcolor\": \"white\", \"linecolor\": \"white\", \"ticks\": \"\"}, \"baxis\": {\"gridcolor\": \"white\", \"linecolor\": \"white\", \"ticks\": \"\"}, \"bgcolor\": \"#E5ECF6\", \"caxis\": {\"gridcolor\": \"white\", \"linecolor\": \"white\", \"ticks\": \"\"}}, \"title\": {\"x\": 0.05}, \"xaxis\": {\"automargin\": true, \"gridcolor\": \"white\", \"linecolor\": \"white\", \"ticks\": \"\", \"title\": {\"standoff\": 15}, \"zerolinecolor\": \"white\", \"zerolinewidth\": 2}, \"yaxis\": {\"automargin\": true, \"gridcolor\": \"white\", \"linecolor\": \"white\", \"ticks\": \"\", \"title\": {\"standoff\": 15}, \"zerolinecolor\": \"white\", \"zerolinewidth\": 2}}}},\n",
       "                        {\"responsive\": true}\n",
       "                    ).then(function(){\n",
       "                            \n",
       "var gd = document.getElementById('3214d7ac-f121-4660-9d4f-c1e20b5080c5');\n",
       "var x = new MutationObserver(function (mutations, observer) {{\n",
       "        var display = window.getComputedStyle(gd).display;\n",
       "        if (!display || display === 'none') {{\n",
       "            console.log([gd, 'removed!']);\n",
       "            Plotly.purge(gd);\n",
       "            observer.disconnect();\n",
       "        }}\n",
       "}});\n",
       "\n",
       "// Listen for the removal of the full notebook cells\n",
       "var notebookContainer = gd.closest('#notebook-container');\n",
       "if (notebookContainer) {{\n",
       "    x.observe(notebookContainer, {childList: true});\n",
       "}}\n",
       "\n",
       "// Listen for the clearing of the current output cell\n",
       "var outputEl = gd.closest('.output');\n",
       "if (outputEl) {{\n",
       "    x.observe(outputEl, {childList: true});\n",
       "}}\n",
       "\n",
       "                        })\n",
       "                };\n",
       "                });\n",
       "            </script>\n",
       "        </div>"
      ]
     },
     "metadata": {},
     "output_type": "display_data"
    }
   ],
   "source": [
    "db_best = DBSCAN(eps=best_eps, min_samples=best_min_spamles).fit(X_selected)\n",
    "\n",
    "# plotar usando t-sne \n",
    "X_embedded  = TSNE(n_components=3, perplexity=10,random_state=24).fit_transform( X_selected )\n",
    "\n",
    "fig = px.scatter_3d(x=X_embedded [:,0],y=X_embedded [:,1],z=X_embedded [:,2],color=colors[db_best.labels_])\n",
    "fig.show()"
   ]
  },
  {
   "cell_type": "code",
   "execution_count": 1003,
   "metadata": {},
   "outputs": [],
   "source": [
    "#============================================== Kmedoids ====================================================="
   ]
  },
  {
   "cell_type": "code",
   "execution_count": 1004,
   "metadata": {},
   "outputs": [
    {
     "data": {
      "application/vnd.plotly.v1+json": {
       "config": {
        "plotlyServerURL": "https://plot.ly"
       },
       "data": [
        {
         "hovertemplate": "color=g<br>x=%{x}<br>y=%{y}<br>z=%{z}<extra></extra>",
         "legendgroup": "g",
         "marker": {
          "color": "#636efa",
          "symbol": "circle"
         },
         "mode": "markers",
         "name": "g",
         "scene": "scene",
         "showlegend": true,
         "type": "scatter3d",
         "x": [
          -12.299400329589844,
          -62.1935920715332,
          -58.232486724853516,
          -97.29520416259766,
          -28.65032196044922,
          -86.02203369140625,
          -74.62358093261719,
          -61.180938720703125,
          -67.81385803222656,
          -21.38738441467285,
          -28.580772399902344,
          -60.11122512817383,
          -47.3629035949707,
          -38.248416900634766,
          -44.66651916503906,
          -98.741455078125,
          31.398418426513672,
          -69.20292663574219,
          -70.29048156738281,
          -27.51275634765625,
          -44.98002624511719,
          -44.423004150390625,
          -55.216182708740234,
          -97.04116821289062,
          17.32254409790039,
          -3.1574978828430176,
          -59.70427322387695,
          -77.42169189453125,
          -62.292991638183594,
          -51.3290901184082,
          -27.41876220703125,
          -71.6746826171875,
          -55.22673034667969
         ],
         "y": [
          29.779748916625977,
          5.7616286277771,
          3.9481115341186523,
          21.007001876831055,
          -13.553327560424805,
          41.62580490112305,
          33.936100006103516,
          39.48663330078125,
          -2.8458521366119385,
          34.6947021484375,
          39.09300231933594,
          17.6030216217041,
          3.717561721801758,
          -31.811368942260742,
          -44.260860443115234,
          29.6790771484375,
          -6.615039825439453,
          40.757999420166016,
          24.838436126708984,
          28.448652267456055,
          -13.818137168884277,
          -31.41246223449707,
          -29.631040573120117,
          5.686779975891113,
          -12.417778968811035,
          -11.173171043395996,
          24.22453498840332,
          50.504112243652344,
          33.64669418334961,
          39.187538146972656,
          23.897668838500977,
          -27.45794105529785,
          20.262939453125
         ],
         "z": [
          30.668704986572266,
          31.217824935913086,
          46.7248649597168,
          23.059833526611328,
          96.91677856445312,
          15.681777000427246,
          -11.496162414550781,
          -19.40822410583496,
          -50.337158203125,
          10.934659957885742,
          24.357820510864258,
          7.313816547393799,
          35.77830505371094,
          60.25831985473633,
          55.750244140625,
          5.727210998535156,
          82.0071029663086,
          27.204755783081055,
          34.38387680053711,
          42.370235443115234,
          49.83743667602539,
          41.82484436035156,
          51.53465270996094,
          6.717557907104492,
          83.70662689208984,
          76.89227294921875,
          -9.873091697692871,
          3.082141160964966,
          3.1202316284179688,
          34.21601486206055,
          23.7994441986084,
          -32.793521881103516,
          39.2083740234375
         ]
        },
        {
         "hovertemplate": "color=c<br>x=%{x}<br>y=%{y}<br>z=%{z}<extra></extra>",
         "legendgroup": "c",
         "marker": {
          "color": "#EF553B",
          "symbol": "circle"
         },
         "mode": "markers",
         "name": "c",
         "scene": "scene",
         "showlegend": true,
         "type": "scatter3d",
         "x": [
          18.02446937561035,
          15.503588676452637,
          78.28884887695312,
          -63.13685607910156,
          19.250377655029297,
          -61.92292785644531,
          87.3088607788086,
          39.68500518798828,
          -68.13856506347656,
          61.178619384765625,
          50.76362228393555,
          24.90862274169922,
          78.2477035522461,
          53.11549758911133,
          84.66925811767578,
          56.11082077026367,
          53.54706954956055,
          -75.87628936767578,
          28.4022216796875,
          44.62787628173828,
          23.904592514038086,
          -78.46631622314453,
          75.15996551513672,
          71.4551773071289,
          35.48346710205078,
          31.734901428222656,
          40.99150466918945,
          70.73281860351562,
          -61.84843826293945,
          76.16160583496094,
          41.10403823852539,
          79.13560485839844,
          92.31268310546875,
          54.5181884765625,
          26.182090759277344,
          51.74515914916992,
          4.731957912445068,
          -74.25157165527344,
          29.594501495361328,
          24.710689544677734,
          62.94615936279297,
          23.748689651489258,
          92.26290130615234,
          -67.1773452758789,
          -1.5057293176651,
          -9.602643966674805,
          -4.608193874359131,
          67.48712921142578,
          -72.77574920654297,
          9.082175254821777
         ],
         "y": [
          -50.78615188598633,
          -48.80083465576172,
          -39.60928726196289,
          -48.43743896484375,
          -27.689088821411133,
          -63.17776870727539,
          -50.67369079589844,
          -56.06012725830078,
          -51.41437911987305,
          14.256707191467285,
          12.6420259475708,
          25.219879150390625,
          20.836143493652344,
          12.921451568603516,
          15.231657981872559,
          -35.97663116455078,
          -57.991085052490234,
          -48.41450500488281,
          -40.793792724609375,
          -67.47455596923828,
          -61.11180877685547,
          -46.28886032104492,
          -4.463903427124023,
          6.672524929046631,
          5.646093845367432,
          21.171144485473633,
          23.604869842529297,
          19.596864700317383,
          -48.448143005371094,
          3.7672035694122314,
          7.576019763946533,
          18.731639862060547,
          18.753128051757812,
          -44.30230712890625,
          -63.897613525390625,
          -53.130859375,
          -32.63566589355469,
          -97.63543701171875,
          -48.08979797363281,
          -22.064807891845703,
          5.784127712249756,
          10.062029838562012,
          8.57872486114502,
          -55.640716552734375,
          -45.406524658203125,
          -28.045284271240234,
          -39.83188247680664,
          -56.51117706298828,
          -34.08866500854492,
          -52.46127700805664
         ],
         "z": [
          -9.86011028289795,
          24.56033706665039,
          -36.008792877197266,
          -9.775141716003418,
          17.45149803161621,
          4.024158000946045,
          -32.147891998291016,
          19.264591217041016,
          8.7837495803833,
          36.86089324951172,
          20.399858474731445,
          -9.307709693908691,
          -34.25767517089844,
          -0.4325539469718933,
          -5.670233249664307,
          -32.24458312988281,
          -12.40693187713623,
          -21.85271644592285,
          23.24386215209961,
          -21.65774154663086,
          13.809030532836914,
          -6.060544967651367,
          -13.983155250549316,
          -25.37808609008789,
          8.978527069091797,
          9.814969062805176,
          -4.828281402587891,
          -19.435115814208984,
          33.30900955200195,
          5.65376091003418,
          -11.0327730178833,
          9.354509353637695,
          -27.539600372314453,
          -52.774715423583984,
          -5.028695106506348,
          -28.669710159301758,
          22.59482765197754,
          -13.2689847946167,
          6.818614959716797,
          32.31169509887695,
          24.8751277923584,
          -1.3867429494857788,
          9.533177375793457,
          43.07162857055664,
          -30.605182647705078,
          11.05622386932373,
          4.147739887237549,
          -38.017086029052734,
          -16.57342529296875,
          3.437537908554077
         ]
        },
        {
         "hovertemplate": "color=b<br>x=%{x}<br>y=%{y}<br>z=%{z}<extra></extra>",
         "legendgroup": "b",
         "marker": {
          "color": "#00cc96",
          "symbol": "circle"
         },
         "mode": "markers",
         "name": "b",
         "scene": "scene",
         "showlegend": true,
         "type": "scatter3d",
         "x": [
          14.561995506286621,
          -8.512102127075195,
          11.239941596984863,
          21.873062133789062,
          30.159841537475586,
          20.450834274291992,
          -15.894413948059082,
          6.374387264251709,
          16.352279663085938,
          3.235028028488159,
          -10.007102966308594,
          -21.077796936035156,
          -2.291447401046753,
          -22.668426513671875,
          11.259465217590332,
          8.674043655395508,
          -31.682222366333008,
          -3.0714304447174072,
          2.992337703704834,
          24.598102569580078,
          -22.848421096801758,
          -23.10307502746582,
          -32.58899688720703,
          -25.36992073059082,
          -13.463050842285156,
          -13.922548294067383,
          13.617796897888184,
          28.066328048706055,
          38.70207977294922,
          -23.585102081298828,
          -8.484192848205566,
          -8.391465187072754
         ],
         "y": [
          43.06217956542969,
          84.97468566894531,
          91.16632843017578,
          84.43869018554688,
          71.03219604492188,
          68.73725128173828,
          17.542490005493164,
          51.31207275390625,
          39.4081916809082,
          34.804080963134766,
          70.38758087158203,
          -82.73820495605469,
          62.66200256347656,
          65.45343017578125,
          57.67102813720703,
          43.83286666870117,
          53.00864791870117,
          48.32178497314453,
          77.84239196777344,
          83.56167602539062,
          27.604793548583984,
          14.264352798461914,
          -6.556117534637451,
          45.029354095458984,
          51.24105453491211,
          79.3060302734375,
          71.70967102050781,
          98.66433715820312,
          87.07014465332031,
          94.6141128540039,
          98.87962341308594,
          91.15093231201172
         ],
         "z": [
          81.13749694824219,
          17.79889488220215,
          22.580625534057617,
          6.4247894287109375,
          13.818085670471191,
          0.7215080857276917,
          39.35200500488281,
          109.43148803710938,
          104.04641723632812,
          106.26417541503906,
          97.45648193359375,
          33.8443717956543,
          84.44318389892578,
          84.49134063720703,
          75.50263214111328,
          63.488197326660156,
          94.91097259521484,
          73.7974853515625,
          0.8350491523742676,
          30.542808532714844,
          72.2159194946289,
          59.975372314453125,
          56.77153778076172,
          80.39667510986328,
          92.6313705444336,
          4.229645252227783,
          16.97151756286621,
          21.099349975585938,
          20.607919692993164,
          8.996302604675293,
          4.463203430175781,
          -10.719525337219238
         ]
        },
        {
         "hovertemplate": "color=r<br>x=%{x}<br>y=%{y}<br>z=%{z}<extra></extra>",
         "legendgroup": "r",
         "marker": {
          "color": "#ab63fa",
          "symbol": "circle"
         },
         "mode": "markers",
         "name": "r",
         "scene": "scene",
         "showlegend": true,
         "type": "scatter3d",
         "x": [
          -15.186630249023438,
          -28.881061553955078,
          -26.72496223449707,
          -17.832565307617188,
          -3.6686782836914062,
          -58.425743103027344,
          47.08218002319336,
          -75.70023345947266,
          101.49105072021484,
          -38.4328498840332,
          26.17852783203125,
          8.297860145568848,
          3.7043614387512207,
          -9.360079765319824,
          -42.382545471191406,
          39.80165100097656,
          -15.126922607421875,
          36.17438507080078,
          -70.93364715576172,
          13.524911880493164,
          0.26454538106918335,
          -9.124977111816406,
          10.102228164672852,
          23.89616584777832,
          23.643796920776367,
          -26.720064163208008,
          -19.140836715698242,
          -73.10448455810547,
          -34.36255645751953,
          -77.48959350585938,
          60.689598083496094,
          51.961395263671875,
          -30.046846389770508,
          -29.67795753479004,
          -23.916704177856445
         ],
         "y": [
          -41.90692138671875,
          -44.73276901245117,
          -26.699474334716797,
          -34.999755859375,
          -55.197662353515625,
          -5.340854644775391,
          -19.786148071289062,
          0.967366099357605,
          51.42548370361328,
          -16.778636932373047,
          -9.434627532958984,
          -61.03066635131836,
          -58.03003692626953,
          -57.18893051147461,
          -15.952141761779785,
          -30.7960205078125,
          -30.36261558532715,
          -22.61444664001465,
          12.809253692626953,
          -18.61079216003418,
          -42.66287612915039,
          -21.999855041503906,
          -44.447296142578125,
          -31.95931625366211,
          -24.726028442382812,
          -26.87682342529297,
          -38.102264404296875,
          -15.508854866027832,
          -16.773237228393555,
          -13.168793678283691,
          -28.692169189453125,
          -43.83046340942383,
          -9.78190803527832,
          -27.238933563232422,
          -17.189838409423828
         ],
         "z": [
          -93.50732421875,
          -86.95475769042969,
          -89.09844207763672,
          -77.92327117919922,
          -72.22811126708984,
          -68.64228820800781,
          -75.0750732421875,
          -66.24787902832031,
          0.2150869369506836,
          -16.185760498046875,
          -68.80961608886719,
          -60.03438186645508,
          -44.228477478027344,
          -53.81800079345703,
          -62.98246765136719,
          -58.4575080871582,
          -30.628812789916992,
          -93.76556396484375,
          -73.78402709960938,
          -64.3464126586914,
          -64.64067077636719,
          -91.6521224975586,
          -50.653465270996094,
          -68.18060302734375,
          -54.336448669433594,
          -66.84870910644531,
          -57.806297302246094,
          -57.613277435302734,
          -45.866024017333984,
          -43.15814971923828,
          -67.80998229980469,
          -66.7492446899414,
          -32.680973052978516,
          -29.9971866607666,
          -15.368846893310547
         ]
        }
       ],
       "layout": {
        "legend": {
         "title": {
          "text": "color"
         },
         "tracegroupgap": 0
        },
        "margin": {
         "t": 60
        },
        "scene": {
         "domain": {
          "x": [
           0,
           1
          ],
          "y": [
           0,
           1
          ]
         },
         "xaxis": {
          "title": {
           "text": "x"
          }
         },
         "yaxis": {
          "title": {
           "text": "y"
          }
         },
         "zaxis": {
          "title": {
           "text": "z"
          }
         }
        },
        "template": {
         "data": {
          "bar": [
           {
            "error_x": {
             "color": "#2a3f5f"
            },
            "error_y": {
             "color": "#2a3f5f"
            },
            "marker": {
             "line": {
              "color": "#E5ECF6",
              "width": 0.5
             }
            },
            "type": "bar"
           }
          ],
          "barpolar": [
           {
            "marker": {
             "line": {
              "color": "#E5ECF6",
              "width": 0.5
             }
            },
            "type": "barpolar"
           }
          ],
          "carpet": [
           {
            "aaxis": {
             "endlinecolor": "#2a3f5f",
             "gridcolor": "white",
             "linecolor": "white",
             "minorgridcolor": "white",
             "startlinecolor": "#2a3f5f"
            },
            "baxis": {
             "endlinecolor": "#2a3f5f",
             "gridcolor": "white",
             "linecolor": "white",
             "minorgridcolor": "white",
             "startlinecolor": "#2a3f5f"
            },
            "type": "carpet"
           }
          ],
          "choropleth": [
           {
            "colorbar": {
             "outlinewidth": 0,
             "ticks": ""
            },
            "type": "choropleth"
           }
          ],
          "contour": [
           {
            "colorbar": {
             "outlinewidth": 0,
             "ticks": ""
            },
            "colorscale": [
             [
              0,
              "#0d0887"
             ],
             [
              0.1111111111111111,
              "#46039f"
             ],
             [
              0.2222222222222222,
              "#7201a8"
             ],
             [
              0.3333333333333333,
              "#9c179e"
             ],
             [
              0.4444444444444444,
              "#bd3786"
             ],
             [
              0.5555555555555556,
              "#d8576b"
             ],
             [
              0.6666666666666666,
              "#ed7953"
             ],
             [
              0.7777777777777778,
              "#fb9f3a"
             ],
             [
              0.8888888888888888,
              "#fdca26"
             ],
             [
              1,
              "#f0f921"
             ]
            ],
            "type": "contour"
           }
          ],
          "contourcarpet": [
           {
            "colorbar": {
             "outlinewidth": 0,
             "ticks": ""
            },
            "type": "contourcarpet"
           }
          ],
          "heatmap": [
           {
            "colorbar": {
             "outlinewidth": 0,
             "ticks": ""
            },
            "colorscale": [
             [
              0,
              "#0d0887"
             ],
             [
              0.1111111111111111,
              "#46039f"
             ],
             [
              0.2222222222222222,
              "#7201a8"
             ],
             [
              0.3333333333333333,
              "#9c179e"
             ],
             [
              0.4444444444444444,
              "#bd3786"
             ],
             [
              0.5555555555555556,
              "#d8576b"
             ],
             [
              0.6666666666666666,
              "#ed7953"
             ],
             [
              0.7777777777777778,
              "#fb9f3a"
             ],
             [
              0.8888888888888888,
              "#fdca26"
             ],
             [
              1,
              "#f0f921"
             ]
            ],
            "type": "heatmap"
           }
          ],
          "heatmapgl": [
           {
            "colorbar": {
             "outlinewidth": 0,
             "ticks": ""
            },
            "colorscale": [
             [
              0,
              "#0d0887"
             ],
             [
              0.1111111111111111,
              "#46039f"
             ],
             [
              0.2222222222222222,
              "#7201a8"
             ],
             [
              0.3333333333333333,
              "#9c179e"
             ],
             [
              0.4444444444444444,
              "#bd3786"
             ],
             [
              0.5555555555555556,
              "#d8576b"
             ],
             [
              0.6666666666666666,
              "#ed7953"
             ],
             [
              0.7777777777777778,
              "#fb9f3a"
             ],
             [
              0.8888888888888888,
              "#fdca26"
             ],
             [
              1,
              "#f0f921"
             ]
            ],
            "type": "heatmapgl"
           }
          ],
          "histogram": [
           {
            "marker": {
             "colorbar": {
              "outlinewidth": 0,
              "ticks": ""
             }
            },
            "type": "histogram"
           }
          ],
          "histogram2d": [
           {
            "colorbar": {
             "outlinewidth": 0,
             "ticks": ""
            },
            "colorscale": [
             [
              0,
              "#0d0887"
             ],
             [
              0.1111111111111111,
              "#46039f"
             ],
             [
              0.2222222222222222,
              "#7201a8"
             ],
             [
              0.3333333333333333,
              "#9c179e"
             ],
             [
              0.4444444444444444,
              "#bd3786"
             ],
             [
              0.5555555555555556,
              "#d8576b"
             ],
             [
              0.6666666666666666,
              "#ed7953"
             ],
             [
              0.7777777777777778,
              "#fb9f3a"
             ],
             [
              0.8888888888888888,
              "#fdca26"
             ],
             [
              1,
              "#f0f921"
             ]
            ],
            "type": "histogram2d"
           }
          ],
          "histogram2dcontour": [
           {
            "colorbar": {
             "outlinewidth": 0,
             "ticks": ""
            },
            "colorscale": [
             [
              0,
              "#0d0887"
             ],
             [
              0.1111111111111111,
              "#46039f"
             ],
             [
              0.2222222222222222,
              "#7201a8"
             ],
             [
              0.3333333333333333,
              "#9c179e"
             ],
             [
              0.4444444444444444,
              "#bd3786"
             ],
             [
              0.5555555555555556,
              "#d8576b"
             ],
             [
              0.6666666666666666,
              "#ed7953"
             ],
             [
              0.7777777777777778,
              "#fb9f3a"
             ],
             [
              0.8888888888888888,
              "#fdca26"
             ],
             [
              1,
              "#f0f921"
             ]
            ],
            "type": "histogram2dcontour"
           }
          ],
          "mesh3d": [
           {
            "colorbar": {
             "outlinewidth": 0,
             "ticks": ""
            },
            "type": "mesh3d"
           }
          ],
          "parcoords": [
           {
            "line": {
             "colorbar": {
              "outlinewidth": 0,
              "ticks": ""
             }
            },
            "type": "parcoords"
           }
          ],
          "pie": [
           {
            "automargin": true,
            "type": "pie"
           }
          ],
          "scatter": [
           {
            "marker": {
             "colorbar": {
              "outlinewidth": 0,
              "ticks": ""
             }
            },
            "type": "scatter"
           }
          ],
          "scatter3d": [
           {
            "line": {
             "colorbar": {
              "outlinewidth": 0,
              "ticks": ""
             }
            },
            "marker": {
             "colorbar": {
              "outlinewidth": 0,
              "ticks": ""
             }
            },
            "type": "scatter3d"
           }
          ],
          "scattercarpet": [
           {
            "marker": {
             "colorbar": {
              "outlinewidth": 0,
              "ticks": ""
             }
            },
            "type": "scattercarpet"
           }
          ],
          "scattergeo": [
           {
            "marker": {
             "colorbar": {
              "outlinewidth": 0,
              "ticks": ""
             }
            },
            "type": "scattergeo"
           }
          ],
          "scattergl": [
           {
            "marker": {
             "colorbar": {
              "outlinewidth": 0,
              "ticks": ""
             }
            },
            "type": "scattergl"
           }
          ],
          "scattermapbox": [
           {
            "marker": {
             "colorbar": {
              "outlinewidth": 0,
              "ticks": ""
             }
            },
            "type": "scattermapbox"
           }
          ],
          "scatterpolar": [
           {
            "marker": {
             "colorbar": {
              "outlinewidth": 0,
              "ticks": ""
             }
            },
            "type": "scatterpolar"
           }
          ],
          "scatterpolargl": [
           {
            "marker": {
             "colorbar": {
              "outlinewidth": 0,
              "ticks": ""
             }
            },
            "type": "scatterpolargl"
           }
          ],
          "scatterternary": [
           {
            "marker": {
             "colorbar": {
              "outlinewidth": 0,
              "ticks": ""
             }
            },
            "type": "scatterternary"
           }
          ],
          "surface": [
           {
            "colorbar": {
             "outlinewidth": 0,
             "ticks": ""
            },
            "colorscale": [
             [
              0,
              "#0d0887"
             ],
             [
              0.1111111111111111,
              "#46039f"
             ],
             [
              0.2222222222222222,
              "#7201a8"
             ],
             [
              0.3333333333333333,
              "#9c179e"
             ],
             [
              0.4444444444444444,
              "#bd3786"
             ],
             [
              0.5555555555555556,
              "#d8576b"
             ],
             [
              0.6666666666666666,
              "#ed7953"
             ],
             [
              0.7777777777777778,
              "#fb9f3a"
             ],
             [
              0.8888888888888888,
              "#fdca26"
             ],
             [
              1,
              "#f0f921"
             ]
            ],
            "type": "surface"
           }
          ],
          "table": [
           {
            "cells": {
             "fill": {
              "color": "#EBF0F8"
             },
             "line": {
              "color": "white"
             }
            },
            "header": {
             "fill": {
              "color": "#C8D4E3"
             },
             "line": {
              "color": "white"
             }
            },
            "type": "table"
           }
          ]
         },
         "layout": {
          "annotationdefaults": {
           "arrowcolor": "#2a3f5f",
           "arrowhead": 0,
           "arrowwidth": 1
          },
          "coloraxis": {
           "colorbar": {
            "outlinewidth": 0,
            "ticks": ""
           }
          },
          "colorscale": {
           "diverging": [
            [
             0,
             "#8e0152"
            ],
            [
             0.1,
             "#c51b7d"
            ],
            [
             0.2,
             "#de77ae"
            ],
            [
             0.3,
             "#f1b6da"
            ],
            [
             0.4,
             "#fde0ef"
            ],
            [
             0.5,
             "#f7f7f7"
            ],
            [
             0.6,
             "#e6f5d0"
            ],
            [
             0.7,
             "#b8e186"
            ],
            [
             0.8,
             "#7fbc41"
            ],
            [
             0.9,
             "#4d9221"
            ],
            [
             1,
             "#276419"
            ]
           ],
           "sequential": [
            [
             0,
             "#0d0887"
            ],
            [
             0.1111111111111111,
             "#46039f"
            ],
            [
             0.2222222222222222,
             "#7201a8"
            ],
            [
             0.3333333333333333,
             "#9c179e"
            ],
            [
             0.4444444444444444,
             "#bd3786"
            ],
            [
             0.5555555555555556,
             "#d8576b"
            ],
            [
             0.6666666666666666,
             "#ed7953"
            ],
            [
             0.7777777777777778,
             "#fb9f3a"
            ],
            [
             0.8888888888888888,
             "#fdca26"
            ],
            [
             1,
             "#f0f921"
            ]
           ],
           "sequentialminus": [
            [
             0,
             "#0d0887"
            ],
            [
             0.1111111111111111,
             "#46039f"
            ],
            [
             0.2222222222222222,
             "#7201a8"
            ],
            [
             0.3333333333333333,
             "#9c179e"
            ],
            [
             0.4444444444444444,
             "#bd3786"
            ],
            [
             0.5555555555555556,
             "#d8576b"
            ],
            [
             0.6666666666666666,
             "#ed7953"
            ],
            [
             0.7777777777777778,
             "#fb9f3a"
            ],
            [
             0.8888888888888888,
             "#fdca26"
            ],
            [
             1,
             "#f0f921"
            ]
           ]
          },
          "colorway": [
           "#636efa",
           "#EF553B",
           "#00cc96",
           "#ab63fa",
           "#FFA15A",
           "#19d3f3",
           "#FF6692",
           "#B6E880",
           "#FF97FF",
           "#FECB52"
          ],
          "font": {
           "color": "#2a3f5f"
          },
          "geo": {
           "bgcolor": "white",
           "lakecolor": "white",
           "landcolor": "#E5ECF6",
           "showlakes": true,
           "showland": true,
           "subunitcolor": "white"
          },
          "hoverlabel": {
           "align": "left"
          },
          "hovermode": "closest",
          "mapbox": {
           "style": "light"
          },
          "paper_bgcolor": "white",
          "plot_bgcolor": "#E5ECF6",
          "polar": {
           "angularaxis": {
            "gridcolor": "white",
            "linecolor": "white",
            "ticks": ""
           },
           "bgcolor": "#E5ECF6",
           "radialaxis": {
            "gridcolor": "white",
            "linecolor": "white",
            "ticks": ""
           }
          },
          "scene": {
           "xaxis": {
            "backgroundcolor": "#E5ECF6",
            "gridcolor": "white",
            "gridwidth": 2,
            "linecolor": "white",
            "showbackground": true,
            "ticks": "",
            "zerolinecolor": "white"
           },
           "yaxis": {
            "backgroundcolor": "#E5ECF6",
            "gridcolor": "white",
            "gridwidth": 2,
            "linecolor": "white",
            "showbackground": true,
            "ticks": "",
            "zerolinecolor": "white"
           },
           "zaxis": {
            "backgroundcolor": "#E5ECF6",
            "gridcolor": "white",
            "gridwidth": 2,
            "linecolor": "white",
            "showbackground": true,
            "ticks": "",
            "zerolinecolor": "white"
           }
          },
          "shapedefaults": {
           "line": {
            "color": "#2a3f5f"
           }
          },
          "ternary": {
           "aaxis": {
            "gridcolor": "white",
            "linecolor": "white",
            "ticks": ""
           },
           "baxis": {
            "gridcolor": "white",
            "linecolor": "white",
            "ticks": ""
           },
           "bgcolor": "#E5ECF6",
           "caxis": {
            "gridcolor": "white",
            "linecolor": "white",
            "ticks": ""
           }
          },
          "title": {
           "x": 0.05
          },
          "xaxis": {
           "automargin": true,
           "gridcolor": "white",
           "linecolor": "white",
           "ticks": "",
           "title": {
            "standoff": 15
           },
           "zerolinecolor": "white",
           "zerolinewidth": 2
          },
          "yaxis": {
           "automargin": true,
           "gridcolor": "white",
           "linecolor": "white",
           "ticks": "",
           "title": {
            "standoff": 15
           },
           "zerolinecolor": "white",
           "zerolinewidth": 2
          }
         }
        }
       }
      },
      "text/html": [
       "<div>\n",
       "        \n",
       "        \n",
       "            <div id=\"4c480c48-cd05-4fff-ba6d-6844e6613c51\" class=\"plotly-graph-div\" style=\"height:525px; width:100%;\"></div>\n",
       "            <script type=\"text/javascript\">\n",
       "                require([\"plotly\"], function(Plotly) {\n",
       "                    window.PLOTLYENV=window.PLOTLYENV || {};\n",
       "                    \n",
       "                if (document.getElementById(\"4c480c48-cd05-4fff-ba6d-6844e6613c51\")) {\n",
       "                    Plotly.newPlot(\n",
       "                        '4c480c48-cd05-4fff-ba6d-6844e6613c51',\n",
       "                        [{\"hovertemplate\": \"color=g<br>x=%{x}<br>y=%{y}<br>z=%{z}<extra></extra>\", \"legendgroup\": \"g\", \"marker\": {\"color\": \"#636efa\", \"symbol\": \"circle\"}, \"mode\": \"markers\", \"name\": \"g\", \"scene\": \"scene\", \"showlegend\": true, \"type\": \"scatter3d\", \"x\": [-12.299400329589844, -62.1935920715332, -58.232486724853516, -97.29520416259766, -28.65032196044922, -86.02203369140625, -74.62358093261719, -61.180938720703125, -67.81385803222656, -21.38738441467285, -28.580772399902344, -60.11122512817383, -47.3629035949707, -38.248416900634766, -44.66651916503906, -98.741455078125, 31.398418426513672, -69.20292663574219, -70.29048156738281, -27.51275634765625, -44.98002624511719, -44.423004150390625, -55.216182708740234, -97.04116821289062, 17.32254409790039, -3.1574978828430176, -59.70427322387695, -77.42169189453125, -62.292991638183594, -51.3290901184082, -27.41876220703125, -71.6746826171875, -55.22673034667969], \"y\": [29.779748916625977, 5.7616286277771, 3.9481115341186523, 21.007001876831055, -13.553327560424805, 41.62580490112305, 33.936100006103516, 39.48663330078125, -2.8458521366119385, 34.6947021484375, 39.09300231933594, 17.6030216217041, 3.717561721801758, -31.811368942260742, -44.260860443115234, 29.6790771484375, -6.615039825439453, 40.757999420166016, 24.838436126708984, 28.448652267456055, -13.818137168884277, -31.41246223449707, -29.631040573120117, 5.686779975891113, -12.417778968811035, -11.173171043395996, 24.22453498840332, 50.504112243652344, 33.64669418334961, 39.187538146972656, 23.897668838500977, -27.45794105529785, 20.262939453125], \"z\": [30.668704986572266, 31.217824935913086, 46.7248649597168, 23.059833526611328, 96.91677856445312, 15.681777000427246, -11.496162414550781, -19.40822410583496, -50.337158203125, 10.934659957885742, 24.357820510864258, 7.313816547393799, 35.77830505371094, 60.25831985473633, 55.750244140625, 5.727210998535156, 82.0071029663086, 27.204755783081055, 34.38387680053711, 42.370235443115234, 49.83743667602539, 41.82484436035156, 51.53465270996094, 6.717557907104492, 83.70662689208984, 76.89227294921875, -9.873091697692871, 3.082141160964966, 3.1202316284179688, 34.21601486206055, 23.7994441986084, -32.793521881103516, 39.2083740234375]}, {\"hovertemplate\": \"color=c<br>x=%{x}<br>y=%{y}<br>z=%{z}<extra></extra>\", \"legendgroup\": \"c\", \"marker\": {\"color\": \"#EF553B\", \"symbol\": \"circle\"}, \"mode\": \"markers\", \"name\": \"c\", \"scene\": \"scene\", \"showlegend\": true, \"type\": \"scatter3d\", \"x\": [18.02446937561035, 15.503588676452637, 78.28884887695312, -63.13685607910156, 19.250377655029297, -61.92292785644531, 87.3088607788086, 39.68500518798828, -68.13856506347656, 61.178619384765625, 50.76362228393555, 24.90862274169922, 78.2477035522461, 53.11549758911133, 84.66925811767578, 56.11082077026367, 53.54706954956055, -75.87628936767578, 28.4022216796875, 44.62787628173828, 23.904592514038086, -78.46631622314453, 75.15996551513672, 71.4551773071289, 35.48346710205078, 31.734901428222656, 40.99150466918945, 70.73281860351562, -61.84843826293945, 76.16160583496094, 41.10403823852539, 79.13560485839844, 92.31268310546875, 54.5181884765625, 26.182090759277344, 51.74515914916992, 4.731957912445068, -74.25157165527344, 29.594501495361328, 24.710689544677734, 62.94615936279297, 23.748689651489258, 92.26290130615234, -67.1773452758789, -1.5057293176651, -9.602643966674805, -4.608193874359131, 67.48712921142578, -72.77574920654297, 9.082175254821777], \"y\": [-50.78615188598633, -48.80083465576172, -39.60928726196289, -48.43743896484375, -27.689088821411133, -63.17776870727539, -50.67369079589844, -56.06012725830078, -51.41437911987305, 14.256707191467285, 12.6420259475708, 25.219879150390625, 20.836143493652344, 12.921451568603516, 15.231657981872559, -35.97663116455078, -57.991085052490234, -48.41450500488281, -40.793792724609375, -67.47455596923828, -61.11180877685547, -46.28886032104492, -4.463903427124023, 6.672524929046631, 5.646093845367432, 21.171144485473633, 23.604869842529297, 19.596864700317383, -48.448143005371094, 3.7672035694122314, 7.576019763946533, 18.731639862060547, 18.753128051757812, -44.30230712890625, -63.897613525390625, -53.130859375, -32.63566589355469, -97.63543701171875, -48.08979797363281, -22.064807891845703, 5.784127712249756, 10.062029838562012, 8.57872486114502, -55.640716552734375, -45.406524658203125, -28.045284271240234, -39.83188247680664, -56.51117706298828, -34.08866500854492, -52.46127700805664], \"z\": [-9.86011028289795, 24.56033706665039, -36.008792877197266, -9.775141716003418, 17.45149803161621, 4.024158000946045, -32.147891998291016, 19.264591217041016, 8.7837495803833, 36.86089324951172, 20.399858474731445, -9.307709693908691, -34.25767517089844, -0.4325539469718933, -5.670233249664307, -32.24458312988281, -12.40693187713623, -21.85271644592285, 23.24386215209961, -21.65774154663086, 13.809030532836914, -6.060544967651367, -13.983155250549316, -25.37808609008789, 8.978527069091797, 9.814969062805176, -4.828281402587891, -19.435115814208984, 33.30900955200195, 5.65376091003418, -11.0327730178833, 9.354509353637695, -27.539600372314453, -52.774715423583984, -5.028695106506348, -28.669710159301758, 22.59482765197754, -13.2689847946167, 6.818614959716797, 32.31169509887695, 24.8751277923584, -1.3867429494857788, 9.533177375793457, 43.07162857055664, -30.605182647705078, 11.05622386932373, 4.147739887237549, -38.017086029052734, -16.57342529296875, 3.437537908554077]}, {\"hovertemplate\": \"color=b<br>x=%{x}<br>y=%{y}<br>z=%{z}<extra></extra>\", \"legendgroup\": \"b\", \"marker\": {\"color\": \"#00cc96\", \"symbol\": \"circle\"}, \"mode\": \"markers\", \"name\": \"b\", \"scene\": \"scene\", \"showlegend\": true, \"type\": \"scatter3d\", \"x\": [14.561995506286621, -8.512102127075195, 11.239941596984863, 21.873062133789062, 30.159841537475586, 20.450834274291992, -15.894413948059082, 6.374387264251709, 16.352279663085938, 3.235028028488159, -10.007102966308594, -21.077796936035156, -2.291447401046753, -22.668426513671875, 11.259465217590332, 8.674043655395508, -31.682222366333008, -3.0714304447174072, 2.992337703704834, 24.598102569580078, -22.848421096801758, -23.10307502746582, -32.58899688720703, -25.36992073059082, -13.463050842285156, -13.922548294067383, 13.617796897888184, 28.066328048706055, 38.70207977294922, -23.585102081298828, -8.484192848205566, -8.391465187072754], \"y\": [43.06217956542969, 84.97468566894531, 91.16632843017578, 84.43869018554688, 71.03219604492188, 68.73725128173828, 17.542490005493164, 51.31207275390625, 39.4081916809082, 34.804080963134766, 70.38758087158203, -82.73820495605469, 62.66200256347656, 65.45343017578125, 57.67102813720703, 43.83286666870117, 53.00864791870117, 48.32178497314453, 77.84239196777344, 83.56167602539062, 27.604793548583984, 14.264352798461914, -6.556117534637451, 45.029354095458984, 51.24105453491211, 79.3060302734375, 71.70967102050781, 98.66433715820312, 87.07014465332031, 94.6141128540039, 98.87962341308594, 91.15093231201172], \"z\": [81.13749694824219, 17.79889488220215, 22.580625534057617, 6.4247894287109375, 13.818085670471191, 0.7215080857276917, 39.35200500488281, 109.43148803710938, 104.04641723632812, 106.26417541503906, 97.45648193359375, 33.8443717956543, 84.44318389892578, 84.49134063720703, 75.50263214111328, 63.488197326660156, 94.91097259521484, 73.7974853515625, 0.8350491523742676, 30.542808532714844, 72.2159194946289, 59.975372314453125, 56.77153778076172, 80.39667510986328, 92.6313705444336, 4.229645252227783, 16.97151756286621, 21.099349975585938, 20.607919692993164, 8.996302604675293, 4.463203430175781, -10.719525337219238]}, {\"hovertemplate\": \"color=r<br>x=%{x}<br>y=%{y}<br>z=%{z}<extra></extra>\", \"legendgroup\": \"r\", \"marker\": {\"color\": \"#ab63fa\", \"symbol\": \"circle\"}, \"mode\": \"markers\", \"name\": \"r\", \"scene\": \"scene\", \"showlegend\": true, \"type\": \"scatter3d\", \"x\": [-15.186630249023438, -28.881061553955078, -26.72496223449707, -17.832565307617188, -3.6686782836914062, -58.425743103027344, 47.08218002319336, -75.70023345947266, 101.49105072021484, -38.4328498840332, 26.17852783203125, 8.297860145568848, 3.7043614387512207, -9.360079765319824, -42.382545471191406, 39.80165100097656, -15.126922607421875, 36.17438507080078, -70.93364715576172, 13.524911880493164, 0.26454538106918335, -9.124977111816406, 10.102228164672852, 23.89616584777832, 23.643796920776367, -26.720064163208008, -19.140836715698242, -73.10448455810547, -34.36255645751953, -77.48959350585938, 60.689598083496094, 51.961395263671875, -30.046846389770508, -29.67795753479004, -23.916704177856445], \"y\": [-41.90692138671875, -44.73276901245117, -26.699474334716797, -34.999755859375, -55.197662353515625, -5.340854644775391, -19.786148071289062, 0.967366099357605, 51.42548370361328, -16.778636932373047, -9.434627532958984, -61.03066635131836, -58.03003692626953, -57.18893051147461, -15.952141761779785, -30.7960205078125, -30.36261558532715, -22.61444664001465, 12.809253692626953, -18.61079216003418, -42.66287612915039, -21.999855041503906, -44.447296142578125, -31.95931625366211, -24.726028442382812, -26.87682342529297, -38.102264404296875, -15.508854866027832, -16.773237228393555, -13.168793678283691, -28.692169189453125, -43.83046340942383, -9.78190803527832, -27.238933563232422, -17.189838409423828], \"z\": [-93.50732421875, -86.95475769042969, -89.09844207763672, -77.92327117919922, -72.22811126708984, -68.64228820800781, -75.0750732421875, -66.24787902832031, 0.2150869369506836, -16.185760498046875, -68.80961608886719, -60.03438186645508, -44.228477478027344, -53.81800079345703, -62.98246765136719, -58.4575080871582, -30.628812789916992, -93.76556396484375, -73.78402709960938, -64.3464126586914, -64.64067077636719, -91.6521224975586, -50.653465270996094, -68.18060302734375, -54.336448669433594, -66.84870910644531, -57.806297302246094, -57.613277435302734, -45.866024017333984, -43.15814971923828, -67.80998229980469, -66.7492446899414, -32.680973052978516, -29.9971866607666, -15.368846893310547]}],\n",
       "                        {\"legend\": {\"title\": {\"text\": \"color\"}, \"tracegroupgap\": 0}, \"margin\": {\"t\": 60}, \"scene\": {\"domain\": {\"x\": [0.0, 1.0], \"y\": [0.0, 1.0]}, \"xaxis\": {\"title\": {\"text\": \"x\"}}, \"yaxis\": {\"title\": {\"text\": \"y\"}}, \"zaxis\": {\"title\": {\"text\": \"z\"}}}, \"template\": {\"data\": {\"bar\": [{\"error_x\": {\"color\": \"#2a3f5f\"}, \"error_y\": {\"color\": \"#2a3f5f\"}, \"marker\": {\"line\": {\"color\": \"#E5ECF6\", \"width\": 0.5}}, \"type\": \"bar\"}], \"barpolar\": [{\"marker\": {\"line\": {\"color\": \"#E5ECF6\", \"width\": 0.5}}, \"type\": \"barpolar\"}], \"carpet\": [{\"aaxis\": {\"endlinecolor\": \"#2a3f5f\", \"gridcolor\": \"white\", \"linecolor\": \"white\", \"minorgridcolor\": \"white\", \"startlinecolor\": \"#2a3f5f\"}, \"baxis\": {\"endlinecolor\": \"#2a3f5f\", \"gridcolor\": \"white\", \"linecolor\": \"white\", \"minorgridcolor\": \"white\", \"startlinecolor\": \"#2a3f5f\"}, \"type\": \"carpet\"}], \"choropleth\": [{\"colorbar\": {\"outlinewidth\": 0, \"ticks\": \"\"}, \"type\": \"choropleth\"}], \"contour\": [{\"colorbar\": {\"outlinewidth\": 0, \"ticks\": \"\"}, \"colorscale\": [[0.0, \"#0d0887\"], [0.1111111111111111, \"#46039f\"], [0.2222222222222222, \"#7201a8\"], [0.3333333333333333, \"#9c179e\"], [0.4444444444444444, \"#bd3786\"], [0.5555555555555556, \"#d8576b\"], [0.6666666666666666, \"#ed7953\"], [0.7777777777777778, \"#fb9f3a\"], [0.8888888888888888, \"#fdca26\"], [1.0, \"#f0f921\"]], \"type\": \"contour\"}], \"contourcarpet\": [{\"colorbar\": {\"outlinewidth\": 0, \"ticks\": \"\"}, \"type\": \"contourcarpet\"}], \"heatmap\": [{\"colorbar\": {\"outlinewidth\": 0, \"ticks\": \"\"}, \"colorscale\": [[0.0, \"#0d0887\"], [0.1111111111111111, \"#46039f\"], [0.2222222222222222, \"#7201a8\"], [0.3333333333333333, \"#9c179e\"], [0.4444444444444444, \"#bd3786\"], [0.5555555555555556, \"#d8576b\"], [0.6666666666666666, \"#ed7953\"], [0.7777777777777778, \"#fb9f3a\"], [0.8888888888888888, \"#fdca26\"], [1.0, \"#f0f921\"]], \"type\": \"heatmap\"}], \"heatmapgl\": [{\"colorbar\": {\"outlinewidth\": 0, \"ticks\": \"\"}, \"colorscale\": [[0.0, \"#0d0887\"], [0.1111111111111111, \"#46039f\"], [0.2222222222222222, \"#7201a8\"], [0.3333333333333333, \"#9c179e\"], [0.4444444444444444, \"#bd3786\"], [0.5555555555555556, \"#d8576b\"], [0.6666666666666666, \"#ed7953\"], [0.7777777777777778, \"#fb9f3a\"], [0.8888888888888888, \"#fdca26\"], [1.0, \"#f0f921\"]], \"type\": \"heatmapgl\"}], \"histogram\": [{\"marker\": {\"colorbar\": {\"outlinewidth\": 0, \"ticks\": \"\"}}, \"type\": \"histogram\"}], \"histogram2d\": [{\"colorbar\": {\"outlinewidth\": 0, \"ticks\": \"\"}, \"colorscale\": [[0.0, \"#0d0887\"], [0.1111111111111111, \"#46039f\"], [0.2222222222222222, \"#7201a8\"], [0.3333333333333333, \"#9c179e\"], [0.4444444444444444, \"#bd3786\"], [0.5555555555555556, \"#d8576b\"], [0.6666666666666666, \"#ed7953\"], [0.7777777777777778, \"#fb9f3a\"], [0.8888888888888888, \"#fdca26\"], [1.0, \"#f0f921\"]], \"type\": \"histogram2d\"}], \"histogram2dcontour\": [{\"colorbar\": {\"outlinewidth\": 0, \"ticks\": \"\"}, \"colorscale\": [[0.0, \"#0d0887\"], [0.1111111111111111, \"#46039f\"], [0.2222222222222222, \"#7201a8\"], [0.3333333333333333, \"#9c179e\"], [0.4444444444444444, \"#bd3786\"], [0.5555555555555556, \"#d8576b\"], [0.6666666666666666, \"#ed7953\"], [0.7777777777777778, \"#fb9f3a\"], [0.8888888888888888, \"#fdca26\"], [1.0, \"#f0f921\"]], \"type\": \"histogram2dcontour\"}], \"mesh3d\": [{\"colorbar\": {\"outlinewidth\": 0, \"ticks\": \"\"}, \"type\": \"mesh3d\"}], \"parcoords\": [{\"line\": {\"colorbar\": {\"outlinewidth\": 0, \"ticks\": \"\"}}, \"type\": \"parcoords\"}], \"pie\": [{\"automargin\": true, \"type\": \"pie\"}], \"scatter\": [{\"marker\": {\"colorbar\": {\"outlinewidth\": 0, \"ticks\": \"\"}}, \"type\": \"scatter\"}], \"scatter3d\": [{\"line\": {\"colorbar\": {\"outlinewidth\": 0, \"ticks\": \"\"}}, \"marker\": {\"colorbar\": {\"outlinewidth\": 0, \"ticks\": \"\"}}, \"type\": \"scatter3d\"}], \"scattercarpet\": [{\"marker\": {\"colorbar\": {\"outlinewidth\": 0, \"ticks\": \"\"}}, \"type\": \"scattercarpet\"}], \"scattergeo\": [{\"marker\": {\"colorbar\": {\"outlinewidth\": 0, \"ticks\": \"\"}}, \"type\": \"scattergeo\"}], \"scattergl\": [{\"marker\": {\"colorbar\": {\"outlinewidth\": 0, \"ticks\": \"\"}}, \"type\": \"scattergl\"}], \"scattermapbox\": [{\"marker\": {\"colorbar\": {\"outlinewidth\": 0, \"ticks\": \"\"}}, \"type\": \"scattermapbox\"}], \"scatterpolar\": [{\"marker\": {\"colorbar\": {\"outlinewidth\": 0, \"ticks\": \"\"}}, \"type\": \"scatterpolar\"}], \"scatterpolargl\": [{\"marker\": {\"colorbar\": {\"outlinewidth\": 0, \"ticks\": \"\"}}, \"type\": \"scatterpolargl\"}], \"scatterternary\": [{\"marker\": {\"colorbar\": {\"outlinewidth\": 0, \"ticks\": \"\"}}, \"type\": \"scatterternary\"}], \"surface\": [{\"colorbar\": {\"outlinewidth\": 0, \"ticks\": \"\"}, \"colorscale\": [[0.0, \"#0d0887\"], [0.1111111111111111, \"#46039f\"], [0.2222222222222222, \"#7201a8\"], [0.3333333333333333, \"#9c179e\"], [0.4444444444444444, \"#bd3786\"], [0.5555555555555556, \"#d8576b\"], [0.6666666666666666, \"#ed7953\"], [0.7777777777777778, \"#fb9f3a\"], [0.8888888888888888, \"#fdca26\"], [1.0, \"#f0f921\"]], \"type\": \"surface\"}], \"table\": [{\"cells\": {\"fill\": {\"color\": \"#EBF0F8\"}, \"line\": {\"color\": \"white\"}}, \"header\": {\"fill\": {\"color\": \"#C8D4E3\"}, \"line\": {\"color\": \"white\"}}, \"type\": \"table\"}]}, \"layout\": {\"annotationdefaults\": {\"arrowcolor\": \"#2a3f5f\", \"arrowhead\": 0, \"arrowwidth\": 1}, \"coloraxis\": {\"colorbar\": {\"outlinewidth\": 0, \"ticks\": \"\"}}, \"colorscale\": {\"diverging\": [[0, \"#8e0152\"], [0.1, \"#c51b7d\"], [0.2, \"#de77ae\"], [0.3, \"#f1b6da\"], [0.4, \"#fde0ef\"], [0.5, \"#f7f7f7\"], [0.6, \"#e6f5d0\"], [0.7, \"#b8e186\"], [0.8, \"#7fbc41\"], [0.9, \"#4d9221\"], [1, \"#276419\"]], \"sequential\": [[0.0, \"#0d0887\"], [0.1111111111111111, \"#46039f\"], [0.2222222222222222, \"#7201a8\"], [0.3333333333333333, \"#9c179e\"], [0.4444444444444444, \"#bd3786\"], [0.5555555555555556, \"#d8576b\"], [0.6666666666666666, \"#ed7953\"], [0.7777777777777778, \"#fb9f3a\"], [0.8888888888888888, \"#fdca26\"], [1.0, \"#f0f921\"]], \"sequentialminus\": [[0.0, \"#0d0887\"], [0.1111111111111111, \"#46039f\"], [0.2222222222222222, \"#7201a8\"], [0.3333333333333333, \"#9c179e\"], [0.4444444444444444, \"#bd3786\"], [0.5555555555555556, \"#d8576b\"], [0.6666666666666666, \"#ed7953\"], [0.7777777777777778, \"#fb9f3a\"], [0.8888888888888888, \"#fdca26\"], [1.0, \"#f0f921\"]]}, \"colorway\": [\"#636efa\", \"#EF553B\", \"#00cc96\", \"#ab63fa\", \"#FFA15A\", \"#19d3f3\", \"#FF6692\", \"#B6E880\", \"#FF97FF\", \"#FECB52\"], \"font\": {\"color\": \"#2a3f5f\"}, \"geo\": {\"bgcolor\": \"white\", \"lakecolor\": \"white\", \"landcolor\": \"#E5ECF6\", \"showlakes\": true, \"showland\": true, \"subunitcolor\": \"white\"}, \"hoverlabel\": {\"align\": \"left\"}, \"hovermode\": \"closest\", \"mapbox\": {\"style\": \"light\"}, \"paper_bgcolor\": \"white\", \"plot_bgcolor\": \"#E5ECF6\", \"polar\": {\"angularaxis\": {\"gridcolor\": \"white\", \"linecolor\": \"white\", \"ticks\": \"\"}, \"bgcolor\": \"#E5ECF6\", \"radialaxis\": {\"gridcolor\": \"white\", \"linecolor\": \"white\", \"ticks\": \"\"}}, \"scene\": {\"xaxis\": {\"backgroundcolor\": \"#E5ECF6\", \"gridcolor\": \"white\", \"gridwidth\": 2, \"linecolor\": \"white\", \"showbackground\": true, \"ticks\": \"\", \"zerolinecolor\": \"white\"}, \"yaxis\": {\"backgroundcolor\": \"#E5ECF6\", \"gridcolor\": \"white\", \"gridwidth\": 2, \"linecolor\": \"white\", \"showbackground\": true, \"ticks\": \"\", \"zerolinecolor\": \"white\"}, \"zaxis\": {\"backgroundcolor\": \"#E5ECF6\", \"gridcolor\": \"white\", \"gridwidth\": 2, \"linecolor\": \"white\", \"showbackground\": true, \"ticks\": \"\", \"zerolinecolor\": \"white\"}}, \"shapedefaults\": {\"line\": {\"color\": \"#2a3f5f\"}}, \"ternary\": {\"aaxis\": {\"gridcolor\": \"white\", \"linecolor\": \"white\", \"ticks\": \"\"}, \"baxis\": {\"gridcolor\": \"white\", \"linecolor\": \"white\", \"ticks\": \"\"}, \"bgcolor\": \"#E5ECF6\", \"caxis\": {\"gridcolor\": \"white\", \"linecolor\": \"white\", \"ticks\": \"\"}}, \"title\": {\"x\": 0.05}, \"xaxis\": {\"automargin\": true, \"gridcolor\": \"white\", \"linecolor\": \"white\", \"ticks\": \"\", \"title\": {\"standoff\": 15}, \"zerolinecolor\": \"white\", \"zerolinewidth\": 2}, \"yaxis\": {\"automargin\": true, \"gridcolor\": \"white\", \"linecolor\": \"white\", \"ticks\": \"\", \"title\": {\"standoff\": 15}, \"zerolinecolor\": \"white\", \"zerolinewidth\": 2}}}},\n",
       "                        {\"responsive\": true}\n",
       "                    ).then(function(){\n",
       "                            \n",
       "var gd = document.getElementById('4c480c48-cd05-4fff-ba6d-6844e6613c51');\n",
       "var x = new MutationObserver(function (mutations, observer) {{\n",
       "        var display = window.getComputedStyle(gd).display;\n",
       "        if (!display || display === 'none') {{\n",
       "            console.log([gd, 'removed!']);\n",
       "            Plotly.purge(gd);\n",
       "            observer.disconnect();\n",
       "        }}\n",
       "}});\n",
       "\n",
       "// Listen for the removal of the full notebook cells\n",
       "var notebookContainer = gd.closest('#notebook-container');\n",
       "if (notebookContainer) {{\n",
       "    x.observe(notebookContainer, {childList: true});\n",
       "}}\n",
       "\n",
       "// Listen for the clearing of the current output cell\n",
       "var outputEl = gd.closest('.output');\n",
       "if (outputEl) {{\n",
       "    x.observe(outputEl, {childList: true});\n",
       "}}\n",
       "\n",
       "                        })\n",
       "                };\n",
       "                });\n",
       "            </script>\n",
       "        </div>"
      ]
     },
     "metadata": {},
     "output_type": "display_data"
    }
   ],
   "source": [
    "# Kmedoids\n",
    "kmedoids = KMedoids(metric=\"manhattan\", n_clusters=4).fit(X_selected)\n",
    "\n",
    "# plotar usando t-sne \n",
    "X_embedded  = TSNE(n_components=3, perplexity=10,random_state=24).fit_transform( X_selected )\n",
    "\n",
    "fig = px.scatter_3d(x=X_embedded [:,0],y=X_embedded [:,1],z=X_embedded [:,2],color=colors[kmedoids.labels_])\n",
    "fig.show()\n"
   ]
  },
  {
   "cell_type": "code",
   "execution_count": 1005,
   "metadata": {},
   "outputs": [],
   "source": [
    "#################################################################################################################\n",
    "###################################### CONCLUSÃO/ANÁLISE DE MÉTRICAS ############################################\n",
    "#################################################################################################################"
   ]
  },
  {
   "cell_type": "code",
   "execution_count": 1006,
   "metadata": {},
   "outputs": [
    {
     "data": {
      "text/plain": [
       "'\\nDiante dos 4 algoritmos de clusterização utilizados. Estaremos analisando algumas métricas, com relação:\\n\\n  1) Na métrica de homogeneidade e completude\\n  2) Ran Index:\\n  3) Métrica de Davies-Bouldin\\n'"
      ]
     },
     "execution_count": 1006,
     "metadata": {},
     "output_type": "execute_result"
    }
   ],
   "source": [
    "'''\n",
    "Diante dos 4 algoritmos de clusterização utilizados. Estaremos analisando algumas métricas, com relação:\n",
    "\n",
    "  1) Na métrica de homogeneidade e completude\n",
    "  2) Ran Index:\n",
    "  3) Métrica de Davies-Bouldin\n",
    "'''\n"
   ]
  },
  {
   "cell_type": "code",
   "execution_count": 1009,
   "metadata": {},
   "outputs": [
    {
     "name": "stdout",
     "output_type": "stream",
     "text": [
      "K-MEANS:\n",
      "Estimando o número de clusters: 4\n",
      "Homogeneidade: 0.157\n",
      "Completude: 0.133\n",
      "V-measure: 0.144\n",
      "Índice de margem ajustada: 0.075\n",
      "Métrica de Davies-Bouldin: 0.982\n",
      "\n",
      "\n",
      "PCA + K-MEANS:\n",
      "Estimando o número de clusters: 3\n",
      "Homogeneidade: 0.147\n",
      "Completude: 0.176\n",
      "V-measure: 0.160\n",
      "Índice de margem ajustada: 0.077\n",
      "Métrica de Davies-Bouldin: 0.742\n",
      "\n",
      "\n",
      "AGGLOMERATIVE-CLUSTERING:\n",
      "Estimando o número de clusters: 6\n",
      "Homogeneidade: 0.211\n",
      "Completude: 0.188\n",
      "V-measure: 0.199\n",
      "Índice de margem ajustada: 0.110\n",
      "Métrica de Davies-Bouldin: 0.903\n",
      "\n",
      "\n",
      "DBSCAN:\n",
      "Estimando o número de clusters: 2\n",
      "Homogeneidade: 0.029\n",
      "Completude: 0.045\n",
      "V-measure: 0.035\n",
      "Índice de margem ajustada: -0.035\n",
      "Métrica de Davies-Bouldin: 0.535\n",
      "\n",
      "\n",
      "KMEDOIDS\n",
      "Estimando o número de clusters: 4\n",
      "Homogeneidade: 0.150\n",
      "Completude: 0.128\n",
      "V-measure: 0.138\n",
      "Índice de margem ajustada: 0.068\n",
      "Métrica de Davies-Bouldin: 0.975\n",
      "\n",
      "\n"
     ]
    }
   ],
   "source": [
    "from sklearn.metrics import davies_bouldin_score as db\n",
    "# Exibir valores das métricas de cada modelo.\n",
    "models = [km2, km_pca, agnes6, db_best, kmedoids] \n",
    "names = [\"K-MEANS:\",\"PCA + K-MEANS:\",\"AGGLOMERATIVE-CLUSTERING:\", \"DBSCAN:\", \"KMEDOIDS\"]\n",
    "\n",
    "for i, model in enumerate(models):\n",
    "    labels = model.labels_\n",
    "    n = len(np.unique(labels))\n",
    "    y = np.round(MinMaxScaler((0,n)).fit_transform(y_original)).ravel()\n",
    "    # Number of clusters in labels, ignoring noise if present.\n",
    "    n_clusters_ = len(set(labels)) - (1 if -1 in labels else 0)\n",
    "    n_noise_ = list(labels).count(-1)\n",
    "    print(names[i])\n",
    "    print('Estimando o número de clusters: %d' % n_clusters_)\n",
    "\n",
    "    #Quanto maior melhor----------------------------------------\n",
    "    print(\"Homogeneidade: %0.3f\" % homogeneity_score(y, labels))\n",
    "    print(\"Completude: %0.3f\" % completeness_score(y, labels))\n",
    "    print(\"V-measure: %0.3f\" % v_measure_score(y, labels))\n",
    "    #-----------------------------------------------------------\n",
    "    \n",
    "    #----------RAND INDEX---------------------------------------\n",
    "    print(\"Índice de margem ajustada: %0.3f\"\n",
    "          % adjusted_rand_score(y, labels))\n",
    "    #-----------------------------------------------------------\n",
    "    \n",
    "    \n",
    "    print(\"Métrica de Davies-Bouldin: %0.3f\"\n",
    "          % db(X_selected, labels))\n",
    "  \n",
    "    print(\"\\n\")\n",
    "    "
   ]
  },
  {
   "cell_type": "code",
   "execution_count": 1010,
   "metadata": {},
   "outputs": [
    {
     "data": {
      "text/plain": [
       "'\\n O termo homogêneo é diferente de completude, no sentido de que, ao falar sobre homogeneidade,\\n o conceito base é do respectivo cluster, que verificamos se em cada cluster cada ponto de dados\\n tem o mesmo rótulo de classe. Ao falar sobre integridade, o conceito base é do respectivo rótulo de classe,\\n que verificamos se os pontos de dados de cada rótulo de classe estão no mesmo cluster.\\n \\n Diante disso quanto maior a pontuação dos dois casos, melhor é a métrica.\\n \\n Concluisse que, o (AGGLOMERATIVE-CLUSTERING) obteve a melhor pontuação seguido por (K-MEANS|PCA),\\n K-MEANS, KMEDOIDS e por último DBSCAN.\\n \\n OBS: Isso denuncia o Cluster DBSCAN ficando óbvio sua pior pontuação nesse quesito,\\n já que não possui muita consistência no quesito completude, justamente porque só há \"dois nós\".\\n'"
      ]
     },
     "execution_count": 1010,
     "metadata": {},
     "output_type": "execute_result"
    }
   ],
   "source": [
    "#Análise: Homogeneidade, Completude e a média(V-measure)\n",
    "'''\n",
    " O termo homogêneo é diferente de completude, no sentido de que, ao falar sobre homogeneidade,\n",
    " o conceito base é do respectivo cluster, que verificamos se em cada cluster cada ponto de dados\n",
    " tem o mesmo rótulo de classe. Ao falar sobre integridade, o conceito base é do respectivo rótulo de classe,\n",
    " que verificamos se os pontos de dados de cada rótulo de classe estão no mesmo cluster.\n",
    " \n",
    " Diante disso quanto maior a pontuação dos dois casos, melhor é a métrica.\n",
    " \n",
    " Concluisse que, o (AGGLOMERATIVE-CLUSTERING) obteve a melhor pontuação seguido por (K-MEANS|PCA),\n",
    " K-MEANS, KMEDOIDS e por último DBSCAN.\n",
    " \n",
    " OBS: Isso denuncia o Cluster DBSCAN ficando óbvio sua pior pontuação nesse quesito,\n",
    " já que não possui muita consistência no quesito completude, justamente porque só há \"dois nós\".\n",
    "'''\n",
    "    "
   ]
  },
  {
   "cell_type": "code",
   "execution_count": 1011,
   "metadata": {},
   "outputs": [
    {
     "data": {
      "text/plain": [
       "'\\nO índice Rand é uma função que calcula uma medida de similaridade entre dois agrupamentos.\\n\\nO índice de Rand sugere que o k- meio de agrupamento dos dados da Absenteeism usando medições de \\nmotivo_ausencia, dia_da_semana, carga_trabalho_media_dia, indice_massa_corporea, atingindo_alvo,\\nestacoes_ano, mes_ausencia, despesas_transporte e ano é semelhante ao real \"agrupamento\" dos dados.\\n\\nA rotulagem perfeita seria pontuada como 1 e a rotulagem ruim ou rotulagem independente será \\npontuada com 0 ou negativo.\\n\\nConcluisse que, o (AGGLOMERATIVE-CLUSTERING) obteve a melhor pontuação no quesito, seguido por K-MEANS|PCA\\n, KMEANS, KMEDOIDS e por último DBSCAN.\\n'"
      ]
     },
     "execution_count": 1011,
     "metadata": {},
     "output_type": "execute_result"
    }
   ],
   "source": [
    "#Análise: Índice de margem ajustada (Adjusted Rand Index)\n",
    "'''\n",
    "O índice Rand é uma função que calcula uma medida de similaridade entre dois agrupamentos.\n",
    "\n",
    "O índice de Rand sugere que o k- meio de agrupamento dos dados da Absenteeism usando medições de \n",
    "motivo_ausencia, dia_da_semana, carga_trabalho_media_dia, indice_massa_corporea, atingindo_alvo,\n",
    "estacoes_ano, mes_ausencia, despesas_transporte e ano é semelhante ao real \"agrupamento\" dos dados.\n",
    "\n",
    "A rotulagem perfeita seria pontuada como 1 e a rotulagem ruim ou rotulagem independente será \n",
    "pontuada com 0 ou negativo.\n",
    "\n",
    "Concluisse que, o (AGGLOMERATIVE-CLUSTERING) obteve a melhor pontuação no quesito, seguido por K-MEANS|PCA\n",
    ", KMEANS, KMEDOIDS e por último DBSCAN.\n",
    "'''\n",
    "    "
   ]
  },
  {
   "cell_type": "code",
   "execution_count": 1012,
   "metadata": {},
   "outputs": [
    {
     "data": {
      "text/plain": [
       "'\\nCom relação a métrica de Davies-Bouldin: (Agrupamentos mais afastados e menos dispersos) resultarão em uma pontuação\\nmelhor. A pontuação mínima é 0, com valores mais baixos, indica melhor agrupamento.\\n\\nConcluisse que, o (DBSCAN) obteve a melhor pontuação no quesito,\\nseguido por K-MEANS|PCA, K-MEANS, AGGLOMERATIVE-CLUSTERING, KMEDOIDS e por último K-MEANS\\n'"
      ]
     },
     "execution_count": 1012,
     "metadata": {},
     "output_type": "execute_result"
    }
   ],
   "source": [
    "#Análise: Métrica de Davies-Bouldin (Davies–Bouldin index)\n",
    "\n",
    "'''\n",
    "Com relação a métrica de Davies-Bouldin: (Agrupamentos mais afastados e menos dispersos) resultarão em uma pontuação\n",
    "melhor. A pontuação mínima é 0, com valores mais baixos, indica melhor agrupamento.\n",
    "\n",
    "Concluisse que, o (DBSCAN) obteve a melhor pontuação no quesito,\n",
    "seguido por K-MEANS|PCA, K-MEANS, AGGLOMERATIVE-CLUSTERING, KMEDOIDS e por último K-MEANS\n",
    "'''"
   ]
  },
  {
   "cell_type": "code",
   "execution_count": 1013,
   "metadata": {},
   "outputs": [],
   "source": [
    "############################################# CONCLUSÃO #####################################################"
   ]
  },
  {
   "cell_type": "code",
   "execution_count": 1014,
   "metadata": {},
   "outputs": [
    {
     "data": {
      "text/plain": [
       "'\\nCom base nas 3 Métricas aferidas, o algoritmo de clusterização que se saíu melhor no agrupamento\\ndeste dataset foi o (AGGLOMERATIVE-CLUSTERING), se saindo vitoriozo em 2 das 3 avalizações.\\n'"
      ]
     },
     "execution_count": 1014,
     "metadata": {},
     "output_type": "execute_result"
    }
   ],
   "source": [
    "'''\n",
    "Com base nas 3 Métricas aferidas, o algoritmo de clusterização que se saíu melhor no agrupamento\n",
    "deste dataset foi o (AGGLOMERATIVE-CLUSTERING), se saindo vitoriozo em 2 das 3 avalizações.\n",
    "'''"
   ]
  },
  {
   "cell_type": "code",
   "execution_count": 1015,
   "metadata": {},
   "outputs": [],
   "source": [
    "#############################################################################################################\n",
    "############################################ REFERÊNCIAS ####################################################\n",
    "#############################################################################################################"
   ]
  },
  {
   "cell_type": "code",
   "execution_count": null,
   "metadata": {},
   "outputs": [],
   "source": [
    "https://www.tutorialspoint.com/scikit_learn/scikit_learn_clustering_performance_evaluation.htm\n",
    "\n",
    "https://www.geeksforgeeks.org/ml-v-measure-for-evaluating-clustering-performance/\n",
    "    \n",
    "https://davetang.org/muse/2017/09/21/the-rand-index/\n",
    "    \n",
    "https://www.tutorialspoint.com/scikit_learn/scikit_learn_clustering_performance_evaluation.htm\n",
    "    \n",
    "https://www.scikit-yb.org/en/latest/api/cluster/elbow.html\n",
    "    \n",
    "https://plotly.com/python/\n",
    "    \n",
    "https://www.kaggle.com/hakkoz/absenteeism-at-work-clustering\n",
    "    \n",
    "https://minerandodados.com.br/algoritmo-k-means-python-passo-passo/\n",
    "    \n",
    "https://medium.com/@plog397/functions-to-plot-kmeans-hierarchical-and-dbscan-clustering-c4146ed69744\n",
    "    \n",
    "https://archive.ics.uci.edu/ml/datasets/Absenteeism+at+work "
   ]
  }
 ],
 "metadata": {
  "kernelspec": {
   "display_name": "Python 3",
   "language": "python",
   "name": "python3"
  },
  "language_info": {
   "codemirror_mode": {
    "name": "ipython",
    "version": 3
   },
   "file_extension": ".py",
   "mimetype": "text/x-python",
   "name": "python",
   "nbconvert_exporter": "python",
   "pygments_lexer": "ipython3",
   "version": "3.7.6"
  }
 },
 "nbformat": 4,
 "nbformat_minor": 4
}
